{
 "cells": [
  {
   "cell_type": "markdown",
   "metadata": {},
   "source": [
    "## Перевантаження операторів\n",
    "\n",
    "### Поліморфізм у дії"
   ]
  },
  {
   "cell_type": "markdown",
   "metadata": {},
   "source": [
    "**Перевантаження операторів** — один із способів реалізації поліморфізму, що полягає в можливості одночасного існування в одній області видимості декількох різних варіантів застосування оператора, що мають одне й те саме ім'я, але різняться типами параметрів, до яких вони застосовуються."
   ]
  },
  {
   "cell_type": "markdown",
   "metadata": {},
   "source": [
    "#### Як перевантажити оператори в Python?\n",
    "Насправді, при виконанні того чи іншого оператора інтерпретатор викликає «магічний метод» для відповідного типу даних. Наприклад, коли використовується оператор \"+\", викликається метод `__add__()` у операнда, який стоїть ліворуч від знака \"+\".\n",
    "Таким чином, для перевизначення операторів екземплярам ваших класів досить просто реалізувати ці «магічні» методи."
   ]
  },
  {
   "cell_type": "markdown",
   "metadata": {},
   "source": [
    "у Python є обмеження на перевантаження операторів:\n",
    "* Заборонено перевантажувати оператори для вбудованих типів\n",
    "* Заборонено створювати нові оператори\n",
    "* Деякі оператори перевантажувати не можна"
   ]
  },
  {
   "cell_type": "code",
   "execution_count": null,
   "metadata": {},
   "outputs": [],
   "source": [
    "%%html\n",
    "<style>\n",
    "table {float:left}\n",
    "table th, table td {text-align:center !important; font-size: 150%;}\n",
    "</style>"
   ]
  },
  {
   "cell_type": "markdown",
   "metadata": {},
   "source": [
    "#### Таблиця відповідностей інфіксних операторів та методів для їх реалізації\n",
    "|Оператор |Прямий |Інверсний |На місці |Опис|\n",
    "| :---: | :---: | :---: | :---: | :---: |\n",
    "|`+` |`__add__`| `__radd__` |`__iadd__` |Складання чи конкатенація|\n",
    "|`-`| `__sub__` |`__rsub__` |`__isub__` |Віднімання|\n",
    "|`*` |`__mul__` |`__rmul__` | `__imul__` |Умноження чи повторення|\n",
    "|`/`| `__truediv__` |`__rtruediv__`| `__itruediv__` |Справжній поділ|\n",
    "|`//` |`__floordiv__`| `__rfloordiv__` |`__ifloordiv__` |Поділ із округленням|\n",
    "|`%` |`__mod__`| `__rmod__` |`__imod__`| Розподіл по модулю |\n",
    "|`**`, `pow()`| `__pow__` |`__rpow__`| `__ipow__` |Зведення на ступінь|"
   ]
  },
  {
   "cell_type": "markdown",
   "metadata": {},
   "source": [
    "Якщо для x визначено метод `__add__`, то викликається метод `x.__add__(y)`. Якщо результат його роботи не дорівнює NotImplemented, то повертається отриманий результат. Це **прямий** оператор.\n",
    "Якщо для x метод `__add__` не реалізований або повернув ***NotImplemented***, то перевіряється, чи реалізований для y метод\n",
    "`__radd__`. Якщо так, то буде викликаний метод `y.__radd__(x)`. Якщо результат його роботи не дорівнює NotImplemented, то повертається отриманий результат. Якщо ж методу немає або повернувся ***NotImplemented***, то збуджується ***TypeError***. \n",
    "\n",
    "\n",
    "Оператор обчислення на місті використовується у виразах виду x + = y. У такому разі буде викликаний метод `__iadd__`. Якщо він є і результат його роботи не дорівнює ***NotImplenented***, то повертається отриманий результат. Це обчислення на місці. Якщо цього методу немає або повернуто **NotImplemented**, то викликається метод **додавання**.\n",
    "\n",
    "**NotImplemented** - це змінна спеціального типу. Вона визначена у стандартній бібліотеці Python і має бути повернута, якщо ваш метод не підтримує потрібний тип об'єктів, для яких викликається цей оператор."
   ]
  },
  {
   "cell_type": "markdown",
   "metadata": {},
   "source": [
    "#### Приклади використання оператора \"+\" з різними типами даних"
   ]
  },
  {
   "cell_type": "code",
   "execution_count": null,
   "metadata": {
    "scrolled": true
   },
   "outputs": [],
   "source": [
    "print(1 + 2.5)"
   ]
  },
  {
   "cell_type": "code",
   "execution_count": null,
   "metadata": {},
   "outputs": [],
   "source": [
    "print([1] + [2])"
   ]
  },
  {
   "cell_type": "code",
   "execution_count": null,
   "metadata": {},
   "outputs": [],
   "source": [
    "print('Hello' + ' world')\n"
   ]
  },
  {
   "cell_type": "markdown",
   "metadata": {},
   "source": [
    "##### А так обчислюється \"сума\" двох рядків насправді\n",
    "Тобто, коли Пайтон-інтерпретатор бачить знак \"+\", він переадресовує потік виконання на метод `__add__`, для операнда який знаходиться зліва"
   ]
  },
  {
   "cell_type": "code",
   "execution_count": null,
   "metadata": {
    "scrolled": true
   },
   "outputs": [],
   "source": [
    "'Hello'.__add__(' world') "
   ]
  },
  {
   "cell_type": "markdown",
   "metadata": {},
   "source": [
    "##### Обчислення суми \"на місці\" (метод `__iadd__` )"
   ]
  },
  {
   "cell_type": "code",
   "execution_count": null,
   "metadata": {},
   "outputs": [],
   "source": [
    "x = 1\n",
    "x += 2\n",
    "print(x)"
   ]
  },
  {
   "cell_type": "markdown",
   "metadata": {},
   "source": [
    "##### Коли жоден з операндів не підтримує потрібну дію, виникає помилка *TypeError*"
   ]
  },
  {
   "cell_type": "code",
   "execution_count": null,
   "metadata": {},
   "outputs": [],
   "source": [
    "1 + '1'"
   ]
  },
  {
   "cell_type": "markdown",
   "metadata": {},
   "source": [
    "#### Розберемося з цими методами з прикладу екземплярів класу Box\n",
    "Поки що у класі немає реалізації жодного з методів дії"
   ]
  },
  {
   "cell_type": "code",
   "execution_count": null,
   "metadata": {
    "pycharm": {
     "name": "#%%\n"
    }
   },
   "outputs": [],
   "source": [
    "class Box:\n",
    "    def __init__(self, x, y, z):\n",
    "        self.x = x\n",
    "        self.y = y\n",
    "        self.z = z\n",
    "\n",
    "    def __str__(self):\n",
    "        return f\"Box [x = {self.x}, y = {self.y}, z = {self.z}]\"\n",
    "\n"
   ]
  },
  {
   "cell_type": "code",
   "execution_count": null,
   "metadata": {},
   "outputs": [],
   "source": [
    "box_a = Box(1, 2, 3)\n",
    "box_b = Box(2, 3, 4)"
   ]
  },
  {
   "cell_type": "markdown",
   "metadata": {},
   "source": [
    "##### Спроби знайти суму двох екземплярів класу, призведуть до виникнення помилок"
   ]
  },
  {
   "cell_type": "code",
   "execution_count": null,
   "metadata": {
    "pycharm": {
     "name": "#%%\n"
    },
    "scrolled": true
   },
   "outputs": [],
   "source": [
    "box_c = box_a + box_b\n",
    "print(box_c)\n",
    "print(box_a)"
   ]
  },
  {
   "cell_type": "code",
   "execution_count": null,
   "metadata": {},
   "outputs": [],
   "source": [
    "box_a += box_b\n",
    "print(box_a)"
   ]
  },
  {
   "cell_type": "markdown",
   "metadata": {},
   "source": [
    "#### Додамо до класу методи знаходження суми - прямої та на місці\n",
    "Принцип пошуку суми, в даному виконанні, трохи не відповідає дійсності. У звичайному житті, коли ми \"складаємо\" дві коробки, у нас збільшується об'єм підсумкової коробки, а не всі сторони одночасно"
   ]
  },
  {
   "cell_type": "markdown",
   "metadata": {},
   "source": [
    "##### Важливо! Всі перераховані вище методи повинні повертати *екземпляр класу*!"
   ]
  },
  {
   "cell_type": "code",
   "execution_count": null,
   "metadata": {},
   "outputs": [],
   "source": [
    "class Box:\n",
    "    def __init__(self, x, y, z):\n",
    "        self.x = x\n",
    "        self.y = y\n",
    "        self.z = z\n",
    "\n",
    "    def __str__(self):\n",
    "        return f\"Box [x = {self.x}, y = {self.y}, z = {self.z}]\"\n",
    "\n",
    "    def __iadd__(self, other):\n",
    "        print(\"iadd\")\n",
    "        return Box(self.x + other.x, self.y + other.y, self.z + other.z)\n",
    "\n",
    "    def __add__(self, other):\n",
    "        print(\"add\")\n",
    "        return Box(self.x + other.x, self.y + other.y, self.z + other.z)"
   ]
  },
  {
   "cell_type": "code",
   "execution_count": null,
   "metadata": {
    "scrolled": true
   },
   "outputs": [],
   "source": [
    "box_a = Box(1, 2, 3)\n",
    "box_b = Box(2, 3, 4)\n",
    "\n",
    "box_a += box_b\n",
    "print(box_a)\n",
    "\n",
    "box_c = box_a + box_b\n",
    "print(box_c)"
   ]
  },
  {
   "cell_type": "markdown",
   "metadata": {},
   "source": [
    "##### Якщо спробуємо знайти суму коробки та цілого числа, то отримаємо помилку"
   ]
  },
  {
   "cell_type": "code",
   "execution_count": null,
   "metadata": {},
   "outputs": [],
   "source": [
    "box_a += 1 # error"
   ]
  },
  {
   "cell_type": "markdown",
   "metadata": {},
   "source": [
    "#### Перевірка типу другого аргументу\n"
   ]
  },
  {
   "cell_type": "code",
   "execution_count": null,
   "metadata": {
    "pycharm": {
     "name": "#%%\n"
    }
   },
   "outputs": [],
   "source": [
    "class Box:\n",
    "    def __init__(self, x, y, z):\n",
    "        self.x = x\n",
    "        self.y = y\n",
    "        self.z = z\n",
    "\n",
    "    def __str__(self):\n",
    "        return \"Box [x = {}, y = {}, z = {}]\".format(self.x, self.y, self.z)\n",
    "\n",
    "    def __iadd__(self, other):\n",
    "        if isinstance(other, Box):\n",
    "            print(\"iadd\")\n",
    "            return Box(self.x + other.x, self.y + other.y, self.z + other.z)\n",
    "        return NotImplemented\n",
    "\n",
    "    def __add__(self, other):\n",
    "        print(type(other))\n",
    "        if isinstance(other, Box):\n",
    "            print(\"add\")\n",
    "            return Box(self.x + other.x, self.y + other.y, self.z + other.z)\n",
    "        return NotImplemented"
   ]
  },
  {
   "cell_type": "code",
   "execution_count": null,
   "metadata": {
    "pycharm": {
     "name": "#%%\n"
    }
   },
   "outputs": [],
   "source": [
    "box_a = Box(1, 2, 3)\n",
    "box_b = Box(2, 3, 4)\n",
    "\n",
    "box_a += box_b\n",
    "print(box_a)\n",
    "\n",
    "box_c = box_a + box_b\n",
    "print(box_a)"
   ]
  },
  {
   "cell_type": "code",
   "execution_count": null,
   "metadata": {
    "pycharm": {
     "name": "#%%\n"
    },
    "scrolled": true
   },
   "outputs": [],
   "source": [
    "box_d = box_a + 1 # TypeError говорить про те, що для даного типу операцій ми не маємо реалізації"
   ]
  },
  {
   "cell_type": "code",
   "execution_count": null,
   "metadata": {
    "scrolled": true
   },
   "outputs": [],
   "source": [
    "# Подібна помилка, коли ми спробуємо знайти суму числа та рядки\n",
    "1 + '1' "
   ]
  },
  {
   "cell_type": "markdown",
   "metadata": {},
   "source": [
    "##### Додамо реалізацію знаходження суми, коли другий операнд, це число"
   ]
  },
  {
   "cell_type": "code",
   "execution_count": null,
   "metadata": {
    "pycharm": {
     "name": "#%%\n"
    }
   },
   "outputs": [],
   "source": [
    "class Box:\n",
    "    def __init__(self, x, y, z):\n",
    "        self.x = x\n",
    "        self.y = y\n",
    "        self.z = z\n",
    "\n",
    "    def __str__(self):\n",
    "        return \"Box [x = {}, y = {}, z = {}]\".format(self.x, self.y, self.z)\n",
    "\n",
    "    def __iadd__(self, other):\n",
    "        \"\"\" Цей метод, з погляду кінцевого результату, \n",
    "        нічим не відрізняється від методу __add__, тому \n",
    "        переадресуємо пошук значення суми, до методу __add__\n",
    "        \"\"\"\n",
    "        return  Box.__add__(self, other)\n",
    "\n",
    "    def __add__(self, other):\n",
    "        if isinstance(other, Box):\n",
    "            print(\"add\")\n",
    "            return Box(self.x + other.x, self.y + other.y, self.z + other.z)\n",
    "        if isinstance(other, (int, float)):\n",
    "            return Box(self.x + other, self.y + other, self.z + other)\n",
    "        return NotImplemented\n"
   ]
  },
  {
   "cell_type": "code",
   "execution_count": null,
   "metadata": {
    "pycharm": {
     "name": "#%%\n"
    }
   },
   "outputs": [],
   "source": [
    "box_a = Box(1, 2, 3)\n",
    "box_d = box_a + 10\n",
    "print(box_d)"
   ]
  },
  {
   "cell_type": "code",
   "execution_count": null,
   "metadata": {
    "pycharm": {
     "name": "#%%\n"
    }
   },
   "outputs": [],
   "source": [
    "box_e = box_a + 10.0 \n",
    "print(box_e)\n"
   ]
  },
  {
   "cell_type": "code",
   "execution_count": null,
   "metadata": {},
   "outputs": [],
   "source": [
    "box_a += 20.0 \n",
    "print(box_a)"
   ]
  },
  {
   "cell_type": "markdown",
   "metadata": {},
   "source": [
    "##### У звичайній математиці, від зміни місць складених, сума не змінюється. Але в даному випадку це не так"
   ]
  },
  {
   "cell_type": "code",
   "execution_count": null,
   "metadata": {},
   "outputs": [],
   "source": [
    "box_d = 10.0 + box_a #  __radd__ not implemented"
   ]
  },
  {
   "cell_type": "code",
   "execution_count": null,
   "metadata": {},
   "outputs": [],
   "source": [
    "class Box:\n",
    "    def __init__(self, x, y, z):\n",
    "        self.x = x\n",
    "        self.y = y\n",
    "        self.z = z\n",
    "\n",
    "    def __str__(self):\n",
    "        return \"Box [x = {}, y = {}, z = {}]\".format(self.x, self.y, self.z)\n",
    "\n",
    "    def __iadd__(self, other):\n",
    "        return  Box.__add__(self, other)\n",
    "\n",
    "    def __radd__(self, other):\n",
    "        \"\"\"Оскільки метод __radd__ викликається у операнда, який знаходиться праворуч від знака +, \n",
    "        то self - це екземпляр класу Box, \n",
    "        а other - це операнд, який знаходиться ліворуч від знака +\"\"\"\n",
    "        print(\"radd\")\n",
    "        return  Box.__add__(self, other)#  Тому ми можемо викликати прямий метод пошуку суми\n",
    "\n",
    "    \n",
    "    def __add__(self, other):\n",
    "        print(\"add\")\n",
    "        if isinstance(other, Box):\n",
    "            return Box(self.x + other.x, self.y + other.y, self.z + other.z)\n",
    "        if isinstance(other, (int, float)):\n",
    "            return Box(self.x + other, self.y + other, self.z + other)\n",
    "        return NotImplemented"
   ]
  },
  {
   "cell_type": "code",
   "execution_count": null,
   "metadata": {},
   "outputs": [],
   "source": [
    "box_a = Box(1, 2, 3)\n",
    "box_b = Box(2, 3, 4)\n",
    "\n",
    "box_c = box_a + box_b"
   ]
  },
  {
   "cell_type": "markdown",
   "metadata": {},
   "source": [
    "##### Коли у лівого операнда немає коректного методу складання `__add__`, тоді шукається метод `__radd__` у правого операнда"
   ]
  },
  {
   "cell_type": "code",
   "execution_count": null,
   "metadata": {},
   "outputs": [],
   "source": [
    "box_d = 10 + box_a"
   ]
  },
  {
   "cell_type": "code",
   "execution_count": null,
   "metadata": {
    "scrolled": true
   },
   "outputs": [],
   "source": [
    "box_d = 1 + box_a #  radd, add\n"
   ]
  },
  {
   "cell_type": "code",
   "execution_count": null,
   "metadata": {},
   "outputs": [],
   "source": [
    "box_d = box_a + 1 # add"
   ]
  },
  {
   "cell_type": "code",
   "execution_count": null,
   "metadata": {},
   "outputs": [],
   "source": [
    "hash(box_d) # Пошук значення hash, реалізовано у методі __hash__ базового класу object"
   ]
  },
  {
   "cell_type": "markdown",
   "metadata": {},
   "source": [
    "Щоб не перевіряти всі варіанти чисел, можна вдатися до абстракції"
   ]
  },
  {
   "cell_type": "code",
   "execution_count": null,
   "metadata": {
    "pycharm": {
     "name": "#%%\n"
    }
   },
   "outputs": [],
   "source": [
    "import numbers\n",
    "\n",
    "class Box:\n",
    "    def __init__(self, x, y, z):\n",
    "        self.x = x\n",
    "        self.y = y\n",
    "        self.z = z\n",
    "\n",
    "    def __str__(self):\n",
    "        return \"Box [x = {}, y = {}, z = {}]\".format(self.x, self.y, self.z)\n",
    "\n",
    "    def __iadd__(self, other):\n",
    "        return  Box.__add__(self, other)\n",
    "    \n",
    "    def __radd__(self, other):\n",
    "        return  Box.__add__(self, other)\n",
    "\n",
    "    def __add__(self, other):\n",
    "        if isinstance(other, Box):\n",
    "            print(\"add\")\n",
    "            return Box(self.x + other.x, self.y + other.y, self.z + other.z)\n",
    "        #  замість int, float перевіряємо приналежність до numbers.Real\n",
    "        if isinstance(other, numbers.Real): \n",
    "            return Box(self.x + other, self.y + other, self.z + other)\n",
    "        return NotImplemented\n",
    "    \n",
    "    # помножити Box на число\n",
    "    def __mul__(self, other):\n",
    "        #  замість int, float перевіряємо приналежність до numbers.Real\n",
    "        if isinstance(other, numbers.Real):\n",
    "            return Box(self.x * other, self.y * other, self.z * other)\n",
    "        return NotImplemented"
   ]
  },
  {
   "cell_type": "code",
   "execution_count": null,
   "metadata": {},
   "outputs": [],
   "source": [
    "box_a = Box(1, 2, 3)\n",
    "b = box_a * 34"
   ]
  },
  {
   "cell_type": "code",
   "execution_count": null,
   "metadata": {},
   "outputs": [],
   "source": [
    "str(b)"
   ]
  },
  {
   "cell_type": "markdown",
   "metadata": {},
   "source": [
    "### Перевантаження операторів порівняння.\n"
   ]
  },
  {
   "cell_type": "code",
   "execution_count": null,
   "metadata": {
    "pycharm": {
     "name": "#%%\n"
    }
   },
   "outputs": [],
   "source": [
    "box_a = Box(1, 2, 3)\n",
    "box_b = Box(1, 2, 3)\n"
   ]
  },
  {
   "cell_type": "markdown",
   "metadata": {},
   "source": [
    "##### Стандартна реалізація оператора == для класів користувача не порівнює значення полів, а порівнює просто посилання екземпляри."
   ]
  },
  {
   "cell_type": "code",
   "execution_count": null,
   "metadata": {},
   "outputs": [],
   "source": [
    "print(box_a == box_b)"
   ]
  },
  {
   "cell_type": "code",
   "execution_count": null,
   "metadata": {},
   "outputs": [],
   "source": [
    "box = box_a\n",
    "print(box_a == box)"
   ]
  },
  {
   "cell_type": "code",
   "execution_count": null,
   "metadata": {
    "pycharm": {
     "name": "#%%\n"
    }
   },
   "outputs": [],
   "source": [
    "print(id(box_a))\n",
    "print(id(box_b))"
   ]
  },
  {
   "cell_type": "markdown",
   "metadata": {},
   "source": [
    "#### Таблиця методів для навантаження операторів порівняння.\n",
    "|Оператор |Прямий |Інверсний |Опис|\n",
    "| :---: | :---: | :---: | :---: |\n",
    "|**x == y**| `x.__eq__(y)` |`y.__eq__(x)` |Рівне|\n",
    "|**x != y** |`x.__ne__(y)` |`y.__ne__(x)` |Не дорівнює|\n",
    "|**x > y**| `x.__gt__(y)` |`y.__lt__(x)`| x більше y|\n",
    "|**x < y** | `x.__lt__(y)` | `y.__gt__(x)` | x менше за y|\n",
    "|**x >= y** |`x.__ge__(y)` | `y.__le__(x)` | x більше чи дорівнює y|\n",
    "|**x <= y**|`x.__le__(y)` | `y.__ge__(x)` |x менше або дорівнює y|"
   ]
  },
  {
   "cell_type": "markdown",
   "metadata": {},
   "source": [
    "#### Реалізуємо порівняння коробок по об'єму\n",
    "##### Методи порівняння повертають булеве значення"
   ]
  },
  {
   "cell_type": "code",
   "execution_count": null,
   "metadata": {
    "pycharm": {
     "name": "#%%\n"
    }
   },
   "outputs": [],
   "source": [
    "class Box:\n",
    "    def __init__(self, x, y, z):\n",
    "        self.x = x\n",
    "        self.y = y\n",
    "        self.z = z\n",
    "\n",
    "    def __str__(self):\n",
    "        return \"Box [x = {}, y = {}, z = {}]\".format(self.x, self.y, self.z)\n",
    "\n",
    "    def __iadd__(self, other):\n",
    "        return  Box.__add__(self, other)\n",
    "    \n",
    "    def __radd__(self, other):\n",
    "        return  Box.__add__(self, other)\n",
    "\n",
    "    def __add__(self, other):\n",
    "        if isinstance(other, Box):\n",
    "            print(\"add\")\n",
    "            return Box(self.x + other.x, self.y + other.y, self.z + other.z)\n",
    "        if isinstance(other, numbers.Real):\n",
    "            return Box(self.x + other, self.y + other, self.z + other)\n",
    "        return NotImplemented\n",
    "\n",
    "    def __mul__(self, other):\n",
    "        if isinstance(other, numbers.Real):\n",
    "            return Box(self.x * other, self.y * other, self.z * other)\n",
    "        return NotImplemented\n",
    "\n",
    "    def volume(self):\n",
    "        return self.x * self.y * self.z\n",
    "\n",
    "    def __eq__(self, other):\n",
    "        if isinstance(other, Box):\n",
    "            # дві коробки вважаються рівними у разі рівності об'ємів\n",
    "            return self.volume() == other.volume()\n",
    "        return NotImplemented\n",
    "\n",
    "    def __gt__(self, other):\n",
    "        if isinstance(other, Box):\n",
    "            return self.volume() > other.volume()\n",
    "        return NotImplemented\n",
    "\n",
    "    def __lt__(self, other):\n",
    "        #if isinstance(other, Box):\n",
    "           # return self.volume(self) < self.volume(other)\n",
    "        #return NotImplemented\n",
    "        return not self > other"
   ]
  },
  {
   "cell_type": "code",
   "execution_count": null,
   "metadata": {
    "pycharm": {
     "name": "#%%\n"
    }
   },
   "outputs": [],
   "source": [
    "box_a = Box(1, 2, 3)\n",
    "box_b = Box(3, 2, 1)\n",
    "print(box_a == box_b)\n"
   ]
  },
  {
   "cell_type": "code",
   "execution_count": null,
   "metadata": {
    "pycharm": {
     "name": "#%%\n"
    },
    "scrolled": true
   },
   "outputs": [],
   "source": [
    "box_c = box_a + box_b\n",
    "print(box_c == box_b)\n",
    "print(box_c > box_b)"
   ]
  },
  {
   "cell_type": "code",
   "execution_count": null,
   "metadata": {},
   "outputs": [],
   "source": [
    "print(box_b < box_c)"
   ]
  },
  {
   "cell_type": "code",
   "execution_count": null,
   "metadata": {
    "pycharm": {
     "name": "#%%\n"
    }
   },
   "outputs": [],
   "source": [
    "print(box_c >= box_b) # TypeError немає реалізації методу більше або дорівнює"
   ]
  },
  {
   "cell_type": "markdown",
   "metadata": {},
   "source": [
    "#### Додамо решту методів порівняння"
   ]
  },
  {
   "cell_type": "code",
   "execution_count": null,
   "metadata": {
    "pycharm": {
     "name": "#%%\n"
    }
   },
   "outputs": [],
   "source": [
    "class Box:\n",
    "    def __init__(self, x, y, z):\n",
    "        self.x = x\n",
    "        self.y = y\n",
    "        self.z = z\n",
    "\n",
    "    def __str__(self):\n",
    "        return \"Box [x = {}, y = {}, z = {}]\".format(self.x, self.y, self.z)\n",
    "\n",
    "    def __iadd__(self, other):\n",
    "        return  Box.__add__(self, other)\n",
    "    \n",
    "    def __radd__(self, other):\n",
    "        return  Box.__add__(self, other)\n",
    "\n",
    "    def __add__(self, other):\n",
    "        if isinstance(other, Box):\n",
    "            print(\"add\")\n",
    "            return Box(self.x + other.x, self.y + other.y, self.z + other.z)\n",
    "        if isinstance(other, numbers.Real):\n",
    "            return Box(self.x + other, self.y + other, self.z + other)\n",
    "        return NotImplemented\n",
    "\n",
    "    def __mul__(self, other):\n",
    "        if isinstance(other, numbers.Real):\n",
    "            return Box(self.x * other, self.y * other, self.z * other)\n",
    "        else:\n",
    "            return NotImplemented\n",
    "\n",
    "    @staticmethod\n",
    "    def volume(box):\n",
    "        return box.x * box.y * box.z\n",
    "\n",
    "    def __eq__(self, other):\n",
    "        if isinstance(other, Box):\n",
    "            return self.volume(self) == self.volume(other)\n",
    "        return NotImplemented\n",
    "\n",
    "    def __gt__(self, other):\n",
    "        if isinstance(other, Box):\n",
    "            return self.volume(self) > self.volume(other)\n",
    "        return NotImplemented\n",
    "\n",
    "    def __lt__(self, other):\n",
    "        if isinstance(other, Box):\n",
    "            return not self > other\n",
    "        return NotImplemented\n",
    "\n",
    "    def __ge__(self, other):\n",
    "        if isinstance(other, Box):\n",
    "            return any((self > other, self == other))\n",
    "        return NotImplemented\n",
    "    \n",
    "    def __le__(self, other):\n",
    "        if isinstance(other, Box):\n",
    "            return  any((self < other, self == other))\n",
    "        return NotImplemented\n",
    "    \n",
    "    def __ne__(self, other):\n",
    "        return not self == other"
   ]
  },
  {
   "cell_type": "code",
   "execution_count": null,
   "metadata": {
    "pycharm": {
     "name": "#%%\n"
    }
   },
   "outputs": [],
   "source": [
    "box_a = Box(1, 2, 3)\n",
    "box_b = Box(1, 2, 3)\n",
    "print(box_a >= box_b)"
   ]
  },
  {
   "cell_type": "code",
   "execution_count": null,
   "metadata": {
    "pycharm": {
     "name": "#%%\n"
    },
    "scrolled": true
   },
   "outputs": [],
   "source": [
    "box_c = box_a + box_b\n",
    "print(box_c >= box_b)"
   ]
  },
  {
   "cell_type": "code",
   "execution_count": null,
   "metadata": {},
   "outputs": [],
   "source": [
    "print(box_a <= box_b)"
   ]
  },
  {
   "cell_type": "code",
   "execution_count": null,
   "metadata": {},
   "outputs": [],
   "source": [
    "all([1, 0, True])"
   ]
  },
  {
   "cell_type": "code",
   "execution_count": null,
   "metadata": {},
   "outputs": [],
   "source": [
    "any([1, 0, True])"
   ]
  }
 ],
 "metadata": {
  "kernelspec": {
   "display_name": "Python 3 (ipykernel)",
   "language": "python",
   "name": "python3"
  },
  "language_info": {
   "codemirror_mode": {
    "name": "ipython",
    "version": 3
   },
   "file_extension": ".py",
   "mimetype": "text/x-python",
   "name": "python",
   "nbconvert_exporter": "python",
   "pygments_lexer": "ipython3",
   "version": "3.10.12"
  }
 },
 "nbformat": 4,
 "nbformat_minor": 4
}
