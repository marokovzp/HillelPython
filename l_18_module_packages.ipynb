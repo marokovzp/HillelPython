{
 "cells": [
  {
   "cell_type": "markdown",
   "metadata": {
    "pycharm": {
     "name": "#%% md\n"
    }
   },
   "source": [
    "## Модулі та пакети"
   ]
  },
  {
   "cell_type": "markdown",
   "metadata": {},
   "source": [
    "У книзі **“Довершений Код”** Стів Макконнелл формулює головний технічний імператив програмування – це управління складністю. Основна суть, якого полягає в тому, що на кожному етапі розробки ПЗ ми повинні докладати максимум зусиль для того, щоб **складність нашого проекту не “вийшла з берегів”**.\n",
    "\n",
    "Показником цього є можливість одночасно пам'ятати основні компоненти проекту на всіх рівнях абстракції. У моделюванні систем (та й не тільки там) виділять такий інструмент як **декомпозиція – поділ цілого на частини** цей принцип є одним з найбільш часто використовуваних способів працювати зі складністю.\n",
    "\n",
    "Декомпозицію можна робити логічно і фізично. Для реалізації останньої мети (декомпозиція фізично) у програмному проекті на Python можуть служити модулі та пакети."
   ]
  },
  {
   "cell_type": "markdown",
   "metadata": {
    "pycharm": {
     "name": "#%%\n"
    }
   },
   "source": [
    "Модулі та пакети є невід'ємною частиною модульного програмування - організації програми як сукупності невеликих незалежних блоків, структура та поведінка яких підпорядковуються певним правилам.\n",
    "\n",
    "Розробка програми як сукупності модулів дозволяє:\n",
    "\n",
    "\n",
    "  - спростити завдання проектування програми та розподілу процесу розробки між групами розробників;\n",
    "\n",
    "\n",
    "  - надати можливість оновлення (заміни) модуля без необхідності зміни решти системи;\n",
    "\n",
    "\n",
    "  - Спростити тестування програми;\n",
    "\n",
    "\n",
    "  - Спростити виявлення помилок.\n",
    "\n",
    "\n",
    "Програмний код часто розбивається на кілька файлів, кожен із яких використовується окремо від інших."
   ]
  },
  {
   "cell_type": "markdown",
   "metadata": {},
   "source": [
    "**Модуль** (англ. *Module*) - спеціальний засіб мови програмування, що дозволяє об'єднати разом дані та функції та використовувати їх як одну функціонально-закінчену одиницю (наприклад, математичний модуль, що містить тригонометричні та інші функції, константи і т.п.). д.)."
   ]
  },
  {
   "cell_type": "markdown",
   "metadata": {},
   "source": [
    "Модуль - окремий файл з кодом на Python, що містить функції та дані:\n",
    "\n",
    "\n",
    "  - має розширення *.py (ім'я файлу є ім'ям модуля);\n",
    "\n",
    "\n",
    "  - може бути імпортований (підключений) (директива import...);\n",
    "\n",
    "\n",
    "  - може бути багаторазово використаний.\n",
    "\n"
   ]
  },
  {
   "cell_type": "code",
   "execution_count": null,
   "metadata": {},
   "outputs": [],
   "source": [
    "import math # Модуль, оскільки все, що є в ньому, міститься в одному файлі."
   ]
  },
  {
   "cell_type": "code",
   "execution_count": null,
   "metadata": {},
   "outputs": [],
   "source": [
    "math.pi"
   ]
  },
  {
   "cell_type": "code",
   "execution_count": null,
   "metadata": {},
   "outputs": [],
   "source": [
    "import simplemath # Імпортуємо модуль повністю\n",
    "\n",
    "# доступ до атрибутів модуля здійснюється через точку. \n",
    "# Спочатку ім'я модуля, через точку, назва атрибута\n",
    "print(simplemath.add(1, 2))\n",
    "print(simplemath.sub(1, 2))\n",
    "print(simplemath.mul(1, 2))\n",
    "print(simplemath.div(1, 2))"
   ]
  },
  {
   "cell_type": "code",
   "execution_count": null,
   "metadata": {},
   "outputs": [],
   "source": [
    "print(simplemath.x)"
   ]
  },
  {
   "cell_type": "code",
   "execution_count": null,
   "metadata": {
    "scrolled": true
   },
   "outputs": [],
   "source": [
    "box = simplemath.Box(2, 4, 7)\n",
    "print(box.get_volume())"
   ]
  },
  {
   "cell_type": "markdown",
   "metadata": {},
   "source": [
    "### Теж дії, але всередині файлу (іншого модуля) use_module.py"
   ]
  },
  {
   "cell_type": "code",
   "execution_count": null,
   "metadata": {},
   "outputs": [],
   "source": [
    "from simplemath import add, div # Якщо нам потрібні не всі атрибути модуля, а лише деякі\n",
    "\n",
    "print(add(1, 2))\n"
   ]
  },
  {
   "cell_type": "code",
   "execution_count": null,
   "metadata": {},
   "outputs": [],
   "source": [
    "print(simplemath.add(3, 2))"
   ]
  },
  {
   "cell_type": "code",
   "execution_count": null,
   "metadata": {},
   "outputs": [],
   "source": [
    "print(sub(1, 2)) # NameError: функцію 'sub' ми не імпортували\n"
   ]
  },
  {
   "cell_type": "markdown",
   "metadata": {},
   "source": [
    "#### Про роботу операторів import і from\n",
    "Як і оператор **import**, так і оператор **from** виконуються один раз. Всі наступні виклики вже не проводять вичитування з файлу з байт кодом, а просто повертають завантажений об'єкт модуля.\n",
    "Також обидва ці оператори є операторами виконання (вони виконуються на момент виконання програми). Тобто, можна викликати операцію імпорту в умовному операторі.\n",
    "Проте правилами оформлення коду наказано розміщувати оператори імпорту на початку файлу."
   ]
  },
  {
   "cell_type": "markdown",
   "metadata": {},
   "source": [
    "#### Розширення операторів import і from за допомогою оператора as\n",
    "Обидва оператори (*import* і *from*) можуть бути доповнені інструкцією **as**. Ця інструкція призначена для того, щоб дати інші імена модулям, що імпортуються.\n",
    "Її синтаксис такий:\n",
    "\n",
    "***import module_name як new_name***\n",
    "\n",
    "Де:\n",
    "\n",
    "**module_name** — Ім'я модуля, що імпортується.\n",
    "\n",
    "**new_name** — Нове ім'я, яке отримає об'єкт імпортованого модуля\n",
    "\n",
    "Цей оператор використовують для скорочення довгих імен модулів у короткі – зручні для подальшого використання імена. Або для випадків, коли з різних модулів потрібно імпортувати щось, що має однакову назву (таке теж буває)"
   ]
  },
  {
   "cell_type": "code",
   "execution_count": null,
   "metadata": {},
   "outputs": [],
   "source": [
    "import datetime as dt"
   ]
  },
  {
   "cell_type": "code",
   "execution_count": null,
   "metadata": {},
   "outputs": [],
   "source": [
    "from math import pi as PI\n",
    "print(PI)"
   ]
  },
  {
   "cell_type": "code",
   "execution_count": null,
   "metadata": {},
   "outputs": [],
   "source": [
    "print(pi)"
   ]
  },
  {
   "cell_type": "markdown",
   "metadata": {},
   "source": [
    "### Пакети\n",
    "**Пакети** у Python - це спосіб структуризації модулів. Пакет є папкою, в якій містяться модулі і можливо інші пакети і обов'язковий файл `__init__.py`, що відповідає за ініціалізацію пакета."
   ]
  },
  {
   "cell_type": "markdown",
   "metadata": {},
   "source": [
    "Подивитися вміст модуля або пакета та довідку по ньому можливо за допомогою функцій dir() та help():"
   ]
  },
  {
   "cell_type": "code",
   "execution_count": null,
   "metadata": {},
   "outputs": [],
   "source": [
    "import math\n",
    "\n",
    "dir(math)"
   ]
  },
  {
   "cell_type": "code",
   "execution_count": null,
   "metadata": {},
   "outputs": [],
   "source": [
    "help(math)"
   ]
  },
  {
   "cell_type": "markdown",
   "metadata": {},
   "source": [
    "Найпростіший пакет\n",
    "\n",
    "Давайте розглянемо приклад найпростішого пакета. Нехай пакет складається з каталогу simple_package та модуля `__init__.py`\n",
    "\n",
    "Файл `__init__.py` містить код:\n",
    "\n",
    "\n",
    "NAME = 'Super_package'"
   ]
  },
  {
   "cell_type": "markdown",
   "metadata": {},
   "source": [
    "Це, хоч і невеликий, але вже повноцінний пакет. Його можна імпортувати так само, як ми імпортували б модуль:"
   ]
  },
  {
   "cell_type": "code",
   "execution_count": null,
   "metadata": {},
   "outputs": [],
   "source": [
    "import simple_package\n",
    "\n",
    "print(simple_package.NAME)\n"
   ]
  },
  {
   "cell_type": "markdown",
   "metadata": {},
   "source": [
    "Зауважте - ми не імпортували файл `__init__.py` безпосередньо. При першому зверненні до Python автоматично імпортує модуль `__init__.py` у цьому пакеті. Тому, очевидно, не можна імпортувати просто каталог - адже каталог без файлу `__init__.py` не буде повноцінним пакетом!"
   ]
  },
  {
   "cell_type": "markdown",
   "metadata": {},
   "source": [
    "Допустимо, ми пишемо пакет модулів для обчислення площ та периметрів фігур. Пакет складатиметься з двох модулів. В одному будуть описані класи двовимірних фігур, в іншому – тривимірні.\n",
    "\n",
    "Каталог-пакет назвемо **geometry**. Один модуль – **planimetry.py**, інший – **stereometry.py**"
   ]
  },
  {
   "cell_type": "code",
   "execution_count": null,
   "metadata": {},
   "outputs": [],
   "source": [
    "import geometry.planimetry as pl\n",
    "import geometry.stereometry as st\n",
    "a = pl.Rectangle(3, 4)\n",
    "b = st.Ball(5)\n",
    "\n",
    "a.square()\n"
   ]
  },
  {
   "cell_type": "code",
   "execution_count": null,
   "metadata": {},
   "outputs": [],
   "source": [
    "b.volume()"
   ]
  },
  {
   "cell_type": "markdown",
   "metadata": {},
   "source": [
    "Якщо зробити імпорт лише пакета, то ми не зможемо звертатися до модулів (Потрібно це зробити в іншому шеллі або оновити ядро)"
   ]
  },
  {
   "cell_type": "code",
   "execution_count": null,
   "metadata": {},
   "outputs": [],
   "source": [
    "import geometry\n",
    "c = geometry.stereometry.Ball(7) # AttributeError: module 'geometry' has no attribute 'stereometry'\n",
    "\n",
    "c.volume()"
   ]
  },
  {
   "cell_type": "markdown",
   "metadata": {},
   "source": [
    "Але можна зробити інакше, додати імпорти в `__init__.py` і змінну `__all__` у кожному модулі (new_geometry)"
   ]
  },
  {
   "cell_type": "code",
   "execution_count": null,
   "metadata": {},
   "outputs": [],
   "source": [
    "from new_geometry import *\n",
    "\n",
    "b = Ball(7)\n",
    "a = Rectangle(3, 4)\n",
    "box = Box(1, 3, 6)"
   ]
  },
  {
   "cell_type": "code",
   "execution_count": null,
   "metadata": {},
   "outputs": [],
   "source": [
    "b.volume()"
   ]
  },
  {
   "cell_type": "code",
   "execution_count": null,
   "metadata": {},
   "outputs": [],
   "source": [
    "a.perimeter()"
   ]
  },
  {
   "cell_type": "code",
   "execution_count": null,
   "metadata": {},
   "outputs": [],
   "source": [
    "box.get_volume()"
   ]
  },
  {
   "cell_type": "code",
   "execution_count": null,
   "metadata": {
    "scrolled": true
   },
   "outputs": [],
   "source": [
    "C  # Якщо цього атрибуту не буде в __all__, його не вийде імпортувати"
   ]
  },
  {
   "cell_type": "code",
   "execution_count": null,
   "metadata": {},
   "outputs": [],
   "source": [
    "from new_geometry.stereometry import C\n",
    "C"
   ]
  },
  {
   "cell_type": "code",
   "execution_count": null,
   "metadata": {},
   "outputs": [],
   "source": [
    "# Після того, як ми імпортували всі модулі у файлі __init__.py, атрибути доступні через назву пакета\n",
    "import new_geometry\n",
    "df = new_geometry.Cuboid(1, 2, 4)"
   ]
  },
  {
   "cell_type": "code",
   "execution_count": null,
   "metadata": {},
   "outputs": [],
   "source": [
    "df.square()"
   ]
  },
  {
   "cell_type": "markdown",
   "metadata": {},
   "source": [
    "### Класифікація\n",
    "\n",
    "Всі модулі/пакети Python можна розділити на 4 категорії:\n",
    "\n"
   ]
  },
  {
   "cell_type": "markdown",
   "metadata": {},
   "source": [
    "#### 1. Вбудовані (англ. Built-in).\n",
    "Модулі, вбудовані в мову та надають базові можливості мови (написані мовою С).\n",
    "\n",
    "До вбудованих відносяться як модулі загального призначення (наприклад, math або random), так і платформозалежні модулі (наприклад, модуль winreg, призначений для роботи з реєстром Windows, встановлюється тільки на відповідній ОС).\n",
    "\n",
    "Список встановлених вбудованих модулів можна переглянути так:"
   ]
  },
  {
   "cell_type": "code",
   "execution_count": null,
   "metadata": {
    "scrolled": true
   },
   "outputs": [],
   "source": [
    "import sys\n",
    "print(sys.builtin_module_names)"
   ]
  },
  {
   "cell_type": "markdown",
   "metadata": {},
   "source": [
    "#### 2. Стандартна бібліотека (англ. Standard Library).\n",
    "\n",
    "Модулі та пакети, написані на Python, що надають розширені можливості, наприклад, **json** або **os**."
   ]
  },
  {
   "cell_type": "markdown",
   "metadata": {},
   "source": [
    "#### 3. Сторонні (англ. 3rd Party).\n",
    "\n",
    "Модулі та пакети, які не входять до дистрибутиву Python, і можуть бути встановлені з каталогу пакетів Python (англ. PyPI - the Python Package Index, більше 90.000 пакетів) за допомогою утиліти pip:"
   ]
  },
  {
   "cell_type": "code",
   "execution_count": null,
   "metadata": {
    "scrolled": true
   },
   "outputs": [],
   "source": [
    "pip list"
   ]
  },
  {
   "cell_type": "markdown",
   "metadata": {},
   "source": [
    "#### 4. Користувальницькі (власні).\n",
    "\n",
    "Модулі та пакети, що створюються розробником."
   ]
  },
  {
   "cell_type": "markdown",
   "metadata": {},
   "source": [
    "У власній програмі рекомендується виконувати імпорт саме так: від вбудованих до власних модулів/пакетів."
   ]
  },
  {
   "cell_type": "markdown",
   "metadata": {},
   "source": [
    "#### Як працює імпорт модулів у Python?\n",
    "\n",
    "Імпорт модуля послідовно виконує такі дії:\n",
    "\n",
    "1) Пошук файлу модуля;\n",
    "\n",
    "2) Компіляція у байт-код. Якщо модуль вже відкомпільований, цей етап пропускається;\n",
    "\n",
    "3) Запуск модуля на виконання для створення та завантаження всього вмісту модуля. Після цього створюється об'єкт модуля з атрибутами, який можна використовувати на ім'я.\n",
    "\n",
    "**Слід зазначити, що така послідовність виконується тільки при першому імпорті модуля!**"
   ]
  },
  {
   "cell_type": "markdown",
   "metadata": {},
   "source": [
    "При імпорті модуля або пакету Python виконує його пошук у такому порядку:\n",
    "\n",
    "- Каталог вашої програми\n",
    "\n",
    "- Каталоги, на які вказує змінна оточення PYTHONPATH (вона може бути невизначена)\n",
    "\n",
    "- Каталоги стандартної бібліотеки\n",
    "\n",
    "\n",
    "Якщо модуль не вдається знайти, збуджується виняток **ModuleNotFoundError**. За помилки завантаження існуючого модуля - **ImportError**."
   ]
  },
  {
   "cell_type": "markdown",
   "metadata": {},
   "source": [
    "Для перевірки вмісту sys.path можна виконати такий код:"
   ]
  },
  {
   "cell_type": "code",
   "execution_count": null,
   "metadata": {},
   "outputs": [],
   "source": [
    "import sys\n",
    "print(sys.path)"
   ]
  },
  {
   "cell_type": "markdown",
   "metadata": {},
   "source": [
    "*Приклад із файлом stat.py*"
   ]
  },
  {
   "cell_type": "markdown",
   "metadata": {},
   "source": [
    "#### Спеціальні атрибути\n",
    "\n",
    "Кожен модуль має спеціальні та додаткові атрибути.\n",
    "\n",
    "Спеціальні атрибути містять системну інформацію про модуль (шлях запуску, ім'я модуля та ін) і доступні завжди. Деякі з них:\n",
    "\n",
    "`__name__` - Повне ім'я модуля.\n"
   ]
  },
  {
   "cell_type": "code",
   "execution_count": null,
   "metadata": {},
   "outputs": [],
   "source": [
    "import math\n",
    "math.__name__"
   ]
  },
  {
   "cell_type": "markdown",
   "metadata": {},
   "source": [
    "`__doc__` - Рядок документації.\n",
    "\n",
    "`__file__` - Повний шлях до файлу, з якого модуль було створено (завантажено)."
   ]
  },
  {
   "cell_type": "code",
   "execution_count": null,
   "metadata": {},
   "outputs": [],
   "source": [
    "import geometry.planimetry as pl\n",
    "pl.__file__"
   ]
  },
  {
   "cell_type": "markdown",
   "metadata": {},
   "source": [
    "### Імпорт кешується"
   ]
  },
  {
   "cell_type": "code",
   "execution_count": null,
   "metadata": {},
   "outputs": [],
   "source": [
    "import fibonacci\n",
    "\n",
    "x = fibonacci.x\n",
    "y = fibonacci.y\n",
    "print(f\"Числа до {x}: {fibonacci.list_le_than(x)}\") # [1, 1, 2, 3, 5, 8, 13]\n",
    "print(f\"{y} входить: {fibonacci.is_in_row(y)}\") # True"
   ]
  },
  {
   "cell_type": "markdown",
   "metadata": {},
   "source": [
    "#### Змінюємо значення y на 20 у модулі fibonacci"
   ]
  },
  {
   "cell_type": "code",
   "execution_count": null,
   "metadata": {
    "scrolled": true
   },
   "outputs": [],
   "source": [
    "print(f\"{y} входить: {fibonacci.is_in_row(y)}\")  # True"
   ]
  },
  {
   "cell_type": "markdown",
   "metadata": {},
   "source": [
    "#### Щоб зміни набули чинності, потрібно перезавантажити пакет"
   ]
  },
  {
   "cell_type": "code",
   "execution_count": null,
   "metadata": {},
   "outputs": [],
   "source": [
    "from importlib import reload\n"
   ]
  },
  {
   "cell_type": "code",
   "execution_count": null,
   "metadata": {},
   "outputs": [],
   "source": [
    "reload(fibonacci)"
   ]
  },
  {
   "cell_type": "code",
   "execution_count": null,
   "metadata": {},
   "outputs": [],
   "source": [
    "y = fibonacci.y\n",
    "print(f\"{y} входит: {fibonacci.is_in_row(y)}\") "
   ]
  },
  {
   "cell_type": "markdown",
   "metadata": {},
   "source": [
    "### Виконання модуля як скрипта\n",
    "\n",
    "У Python звичайний файл-скрипт, або файл-програма, не відрізняється від файла-модуля майже нічим. Немає команд мови, які б \"говорили\", що це - модуль, а це - скрипт. Відмінність полягає лише в тому, що зазвичай модулі не містять команди виклику функцій та створення екземплярів в основній гілці. У модулі зазвичай відбувається лише визначення класів та функцій.\n",
    "\n",
    "\n",
    "\n",
    "- запущено автономно (як скрипт, наприклад, у командному рядку або через IDE);\n",
    "\n",
    "- Імпортований (через import).\n"
   ]
  },
  {
   "cell_type": "markdown",
   "metadata": {},
   "source": [
    "Додам модуль fibonacci1 рядок print(list_le_than(10))"
   ]
  },
  {
   "cell_type": "code",
   "execution_count": null,
   "metadata": {
    "scrolled": true
   },
   "outputs": [],
   "source": [
    "import fibonacci1 # буде \"несподіваний\" висновок на екран: [1, 1, 2, 3, 5, 8]"
   ]
  },
  {
   "cell_type": "markdown",
   "metadata": {},
   "source": [
    "Щоб виконати різний код залежно від того, запущено модуль чи імпортовано, достатньо використовувати спеціальний ідентифікатор `__name__`"
   ]
  },
  {
   "cell_type": "markdown",
   "metadata": {},
   "source": [
    "Запустити у командному рядку\n",
    "\n",
    "`>python fibonacci.py`\n",
    "Тут буде висновок переліку, тобто. виконається print(list_le_than(10))\n",
    "\n",
    "\n",
    "`>python`\n",
    "\n",
    "Python 3.5.2 (v3.5.2:4def2a2901a5, Jun 25 2016, 22:18:55) [MSC v.1900 64 bit (AMD64)] on win32\n",
    "Тип \"help\", \"copyright\", \"кредити\" або \"license\" для більше інформації.\n",
    "\n",
    "`>>> import fibonacci`\n",
    "\n",
    "`>>> fibonacci.list_le_than(20) # Немає висновку як вище`\n"
   ]
  },
  {
   "cell_type": "markdown",
   "metadata": {},
   "source": [
    "#### Коли є потреба імпортувати кілька атрибутів, які не вміщуються в один рядок, тоді можна використовувати круглі дужки або зворотний слеш"
   ]
  },
  {
   "cell_type": "code",
   "execution_count": null,
   "metadata": {},
   "outputs": [],
   "source": [
    "from math import (\n",
    "    pi as PI, \n",
    "    tan, \n",
    "    sqrt\n",
    ")"
   ]
  },
  {
   "cell_type": "code",
   "execution_count": null,
   "metadata": {},
   "outputs": [],
   "source": [
    "from math import pi as PI, \\\n",
    "    tan, \\\n",
    "    sqrt"
   ]
  }
 ],
 "metadata": {
  "kernelspec": {
   "display_name": "Python 3 (ipykernel)",
   "language": "python",
   "name": "python3"
  },
  "language_info": {
   "codemirror_mode": {
    "name": "ipython",
    "version": 3
   },
   "file_extension": ".py",
   "mimetype": "text/x-python",
   "name": "python",
   "nbconvert_exporter": "python",
   "pygments_lexer": "ipython3",
   "version": "3.12.4"
  }
 },
 "nbformat": 4,
 "nbformat_minor": 4
}
