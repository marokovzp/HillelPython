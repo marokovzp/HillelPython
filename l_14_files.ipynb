{
 "cells": [
  {
   "cell_type": "markdown",
   "metadata": {},
   "source": [
    "## Читання та запис даних у файл"
   ]
  },
  {
   "cell_type": "markdown",
   "metadata": {},
   "source": [
    "### Змінні вказівки на файл\n",
    "У Python для читання та запису рядкової інформації у файл спочатку потрібно створити змінну, що вказує на цей файл на\n",
    "диск.\n",
    "Для створення змінних такого типу використовується вбудована функція **open**.\n",
    "Синтаксис її використання такий:\n",
    "\n",
    "***variable_name = open (file_address, access_mode)***\n",
    "\n",
    "Де\n",
    "\n",
    "**variable_name** - ім'я змінної, що вказує на файл\n",
    "\n",
    "**file_address** - абсолютна або відносна адреса файлу на диску\n",
    "\n",
    "**access_mode** - режим доступу у вигляді рядка"
   ]
  },
  {
   "cell_type": "markdown",
   "metadata": {},
   "source": [
    "### Адресація файлу\n",
    "Для вказівки, де на диску розташовано, чи має бути створено файл, використовується його адреса у вигляді рядка.\n",
    "Адреса буває:\n",
    "\n",
    "* Абсолютна — Ви вказуєте розташування файлу щодо верху дискової ієрархії. Наприклад, в ОС Windows може виглядати як **«C:\\temp\\a.txt»**\n",
    "\n",
    "* Відносна — адреса обчислюється щодо місця, з якого запускається програма. Так адреса виду \"a.txt\" вказує на те, що файл **«a.txt»** розташований у тій самій папці, що й ваша програма.\n",
    "\n",
    "***Увага!*** Якщо ви використовуєте ОС **Windows** та абсолютну адресацію, перед рядковим літералом адреси потрібно поставити букву r. Такий\n",
    "запис дозволить Python коректно обробити адресу.\n",
    "\n",
    "Наприклад, **open(r\"C:\\temp\\a.txt\",\"r\"))**"
   ]
  },
  {
   "cell_type": "markdown",
   "metadata": {},
   "source": [
    "### Режим доступу\n",
    "Для вказівки того, із застосуванням яких атрибутів (режимів доступу) буде відкритий файл, використовується рядок, в якому літерою вказується тип атрибута, що застосовується.\n",
    "\n",
    "* \"r\" - Відкриває файл лише для читання. Покажчик стоїть на початку файлу.\n",
    "\n",
    "* w - Відкриває файл тільки для запису. Покажчик стоїть на початку файлу. Створює файл, якщо його немає.\n",
    "\n",
    "\n",
    "* «a» - Відкриває файл, щоб додати інформацію до файлу. Покажчик стоїть наприкінці файлу. Створює файл, якщо його немає.\n",
    "\n",
    "\n",
    "\n",
    "**Увага!** Ці режими використовуються лише для символьних даних! Існують режими для двійкових даних, але в цьому курсі ми їх не розглядаємо."
   ]
  },
  {
   "cell_type": "markdown",
   "metadata": {},
   "source": [
    "#### Вказівник у файлі\n",
    "Ви можете представляти файл як послідовність символів. Кожному символу надається порядковий номер, починаючи з 0, і далі за зростанням з кроком 1."
   ]
  },
  {
   "cell_type": "code",
   "execution_count": null,
   "metadata": {},
   "outputs": [],
   "source": [
    "file_one = open(\"a.txt\",\"w\")"
   ]
  },
  {
   "cell_type": "markdown",
   "metadata": {},
   "source": [
    "У цьому прикладі змінна з іменем file_one вказує на файл з адресою a.txt. Це відносна адреса, отже цей файл з'явиться в тій же папці, з якої запущена ваша програма. Тут обрано режим доступу «w», що означає, що файл відкритий для запису, і якщо такого файлу немає, він буде створено."
   ]
  },
  {
   "cell_type": "markdown",
   "metadata": {},
   "source": [
    "#### Запис даних у файл\n",
    "Для запису даних у файл необхідно виконати таку послідовність действий:\n",
    "\n",
    "1) Відкрити файл у режимі запису\n",
    "\n",
    "2) За допомогою методів ***write*** та ***writelines*** записати необхідні дані у файл\n",
    "\n",
    "3) За допомогою методу ***close*** закрити файл"
   ]
  },
  {
   "cell_type": "code",
   "execution_count": null,
   "metadata": {},
   "outputs": [],
   "source": [
    "file_one.write(\"Hello world\")"
   ]
  },
  {
   "cell_type": "code",
   "execution_count": null,
   "metadata": {
    "scrolled": true
   },
   "outputs": [],
   "source": [
    "file_one.write(\"Hello world\")\n",
    "file_one.write(\"Hello world\")"
   ]
  },
  {
   "cell_type": "markdown",
   "metadata": {},
   "source": [
    "##### Тільки після того, як файл буде закритий у програмі, в ньому з'явиться той вміст, який ми туди додавали"
   ]
  },
  {
   "cell_type": "code",
   "execution_count": null,
   "metadata": {},
   "outputs": [],
   "source": [
    "file_one.close()"
   ]
  },
  {
   "cell_type": "markdown",
   "metadata": {},
   "source": [
    "**write(string)** запише у файл рядок string. Увага! На відміну від **print()**, цей метод не переводить рядок автоматично.\n",
    "Для того щоб відформатувати текст, який додається до файлу, необхідно використовувати спеціальні символи"
   ]
  },
  {
   "cell_type": "code",
   "execution_count": 1,
   "metadata": {},
   "outputs": [],
   "source": [
    "file_one = open(\"a.txt\",\"w\")\n",
    "file_one.write(\"Hello world\\n\")  # \\n - Перехід вказівника на новий рядок\n",
    "file_one.write(\"\\t\\tHello world\\n\")  # \\t - Табуляція\n",
    "file_one.write(\"Hello world\\n\")\n",
    "file_one.close()\n"
   ]
  },
  {
   "cell_type": "code",
   "execution_count": 2,
   "metadata": {},
   "outputs": [],
   "source": [
    "#Додамо у файл елементи списку\n",
    "students_list = [\"Olga\",\"Sergiy\",\"Petr\",\"Lidia\"]\n",
    "file_one = open(\"Students.txt\",\"w\")\n",
    "for i in range(len(students_list)):\n",
    "    file_one.write(f'{i+1})  {students_list[i]}\\n')\n",
    "file_one.close()"
   ]
  },
  {
   "cell_type": "code",
   "execution_count": null,
   "metadata": {
    "scrolled": true
   },
   "outputs": [],
   "source": [
    "file_one = open(\"Students.txt\",\"w\")\n",
    "for i, st in enumerate(students_list, 10):\n",
    "    file_one.write(f'{i})  {st}\\n')\n",
    "file_one.close()"
   ]
  },
  {
   "cell_type": "code",
   "execution_count": null,
   "metadata": {},
   "outputs": [],
   "source": [
    "# Спроба передати для методу write, як аргумент список, замість рядка,  призведе до помилки\n",
    "students_list = [\"Olga\",\"Sergiy\",\"Petr\",\"Lidia\"]\n",
    "file_one = open(\"Students2.txt\",\"w\")\n",
    "file_one.write(students_list) # error\n",
    "file_one.close()"
   ]
  },
  {
   "cell_type": "code",
   "execution_count": null,
   "metadata": {},
   "outputs": [],
   "source": [
    "# Ми можемо перетворити список у рядок. Тоді у файлі він відображатиметься схожим на список\n",
    "students_list = [\"Olga\",\"Sergiy\",\"Petr\",\"Lidia\"]\n",
    "file_one = open(\"Students2.txt\",\"w\")\n",
    "file_one.write(str(students_list))\n",
    "file_one.close()"
   ]
  },
  {
   "cell_type": "code",
   "execution_count": null,
   "metadata": {
    "scrolled": true
   },
   "outputs": [],
   "source": [
    "a = str(students_list)\n",
    "print(a) # рядок, який виглядає як список\n",
    "print(type(a))"
   ]
  },
  {
   "cell_type": "markdown",
   "metadata": {},
   "source": [
    "**writelines(list_str)** запише у файл усі рядки, розташовані у списку *list_str* Проблема лише в тому, що всі елементи списку у файлі будуть розташовані в один рядок"
   ]
  },
  {
   "cell_type": "code",
   "execution_count": 3,
   "metadata": {},
   "outputs": [],
   "source": [
    "students_list = [\"Olga\",\"Sergiy\",\"Petr\",\"Lidia\"]\n",
    "file_one = open(\"Students2.txt\",\"w\")\n",
    "file_one.writelines(students_list)\n",
    "file_one.close()"
   ]
  },
  {
   "cell_type": "markdown",
   "metadata": {},
   "source": [
    "#### Запис у файл із кодуванням «UTF-8»\n",
    "Для того, щоб у явному вигляді вказати, з яким кодуванням потрібно відкривати файл, необхідно використати бібліотеку кодексу. \n",
    "**Це дуже актуально для користувачів ОС Windows**\n",
    "\n",
    "```\n",
    "import codecs\n",
    "\n",
    "\n",
    "data = „unknow codec text“\n",
    "handle = codecs.open('some.txt', \"w\", 'utf-8')\n",
    "handle.write(str(data))\n",
    "handle.close()\n",
    "```"
   ]
  },
  {
   "cell_type": "markdown",
   "metadata": {},
   "source": [
    "### Читання даних із файлу\n",
    "Для читання даних із файлу потрібно виконати таку послідовність дій:\n",
    "\n",
    "1) Відкрити файл у режимі читання\n",
    "\n",
    "2) За допомогою методів **read, readline та readlines** зчитати необхідні дані з файлу\n",
    "\n",
    "3) За допомогою методу **close** закрити файл"
   ]
  },
  {
   "cell_type": "markdown",
   "metadata": {},
   "source": [
    "#### Методи для читання з файлу\n",
    "**read()** - повертає рядок, що містить усі символи, що зберігаються у файлі.\n",
    "\n",
    "**read(N)** - повертає рядок, що містить чергові N символів з файлу.\n",
    "\n",
    "**readline()** - читає вміст файлу до найближчого символу \\n та повертає рядок.\n",
    "\n",
    "**readlines()** - читає файл повністю та повертає список рядків. Поділ на рядки здійснюється за символом перенесення рядка \\n"
   ]
  },
  {
   "cell_type": "code",
   "execution_count": 4,
   "metadata": {
    "scrolled": true
   },
   "outputs": [
    {
     "name": "stdout",
     "output_type": "stream",
     "text": [
      "['Hello world\\n', '\\t\\tHello world\\n', 'Hello world\\n']\n"
     ]
    }
   ],
   "source": [
    "#Отримаємо список рядків\n",
    "file_one = open(\"a.txt\",\"r\")\n",
    "lst = file_one.readlines()\n",
    "file_one.close()\n",
    "print(lst)"
   ]
  },
  {
   "cell_type": "code",
   "execution_count": 5,
   "metadata": {},
   "outputs": [
    {
     "name": "stdout",
     "output_type": "stream",
     "text": [
      "Hello world\n",
      "\n"
     ]
    }
   ],
   "source": [
    "#Отримаємо перший рядок\n",
    "file_one = open(\"a.txt\",\"r\")\n",
    "line = file_one.readline()\n",
    "\n",
    "print(line)"
   ]
  },
  {
   "cell_type": "code",
   "execution_count": 6,
   "metadata": {},
   "outputs": [
    {
     "name": "stdout",
     "output_type": "stream",
     "text": [
      "\t\tHello world\n",
      "\n"
     ]
    }
   ],
   "source": [
    "line = file_one.readline()\n",
    "print(line)"
   ]
  },
  {
   "cell_type": "code",
   "execution_count": 7,
   "metadata": {
    "scrolled": true
   },
   "outputs": [
    {
     "name": "stdout",
     "output_type": "stream",
     "text": [
      "Hello world\n",
      "\n"
     ]
    }
   ],
   "source": [
    "line = file_one.readline()\n",
    "print(line)"
   ]
  },
  {
   "cell_type": "code",
   "execution_count": 8,
   "metadata": {},
   "outputs": [
    {
     "name": "stdout",
     "output_type": "stream",
     "text": [
      "\n"
     ]
    }
   ],
   "source": [
    "# Спроба отримати черговий рядок, поверне порожнечу\n",
    "line = file_one.readline()\n",
    "print(line)"
   ]
  },
  {
   "cell_type": "markdown",
   "metadata": {},
   "source": [
    "##### На відміну від запису, під час читання файлу, нічого з самим файлом не відбувається. Але ОС блокує цей файл  на доступ іншим процесам. Це по-перше. По-друге - будь-яка ОС неспроможна формувати нескінченну кількість покажчиків на файл. Тому, дуже важливо після того, як Ви попрацювали з даними з відкритого на читання файлу, цей файл потрібно закрити"
   ]
  },
  {
   "cell_type": "code",
   "execution_count": 9,
   "metadata": {},
   "outputs": [],
   "source": [
    "file_one.close()\n"
   ]
  },
  {
   "cell_type": "markdown",
   "metadata": {},
   "source": [
    "##### Метод read вичитує вміст файлу повністю, якщо не вказано кількість даних, які потрібно отримати."
   ]
  },
  {
   "cell_type": "code",
   "execution_count": 10,
   "metadata": {},
   "outputs": [
    {
     "name": "stdout",
     "output_type": "stream",
     "text": [
      "Hello world\n",
      "\t\tHello world\n",
      "Hello world\n",
      "\n"
     ]
    }
   ],
   "source": [
    "file_one = open(\"a.txt\",\"r\")\n",
    "lst = file_one.read()\n",
    "print(lst)"
   ]
  },
  {
   "cell_type": "markdown",
   "metadata": {},
   "source": [
    "#### Зручний спосіб читання з файлу\n",
    "У випадку, коли потрібно відчитати текстовий файл, існує зручний спосіб. Для цього потрібно отримати змінну\n",
    "пов'язану з файлом, і використовувати цикл for для рядкової вичитки з файлу."
   ]
  },
  {
   "cell_type": "code",
   "execution_count": 11,
   "metadata": {},
   "outputs": [
    {
     "name": "stdout",
     "output_type": "stream",
     "text": [
      "Hello world\n",
      "\t\tHello world\n",
      "Hello world\n"
     ]
    }
   ],
   "source": [
    "file_one = open(\"a.txt\",\"r\")\n",
    "for text in file_one:\n",
    "    print(text, end='') # Построчное читання даних із файла\n",
    "file_one.close()"
   ]
  },
  {
   "cell_type": "code",
   "execution_count": null,
   "metadata": {},
   "outputs": [],
   "source": []
  },
  {
   "cell_type": "markdown",
   "metadata": {},
   "source": [
    "### Як переміщатися файлом\n",
    "Під час читання або запису, дія завжди починається від поточного положення покажчика. Після запису чи читання з файлу n\n",
    "символів вказівник переміщується на n позиції. Тобто, виходить послідовне просування файлового покажчика від початку\n",
    "файлу та до його кінця.\n",
    "У разі необхідності, ви можете пересунути вказівник. Для цього використовується метод **seek**.\n",
    "Синтаксис його використання:\n",
    "\n",
    "**seek(N)** — встановить покажчик на *N-й* символ від початку файла.\n",
    "\n",
    "Наприклад, **seek(0)** встановить покажчик на початок файлу. **seek(5)** встановить покажчик на **5** символ."
   ]
  },
  {
   "cell_type": "code",
   "execution_count": 12,
   "metadata": {},
   "outputs": [
    {
     "name": "stdout",
     "output_type": "stream",
     "text": [
      "Hell\n",
      "Hello\n"
     ]
    }
   ],
   "source": [
    "file_one = open(\"a.txt\",\"r\")\n",
    "text = file_one.read(4)\n",
    "print(text)\n",
    "file_one.seek(0) #Після читання 4 символів, повернення покажчика на початковий стан\n",
    "\n",
    "text = file_one.read(5)\n",
    "print(text)\n"
   ]
  },
  {
   "cell_type": "code",
   "execution_count": 13,
   "metadata": {},
   "outputs": [
    {
     "name": "stdout",
     "output_type": "stream",
     "text": [
      "d\n",
      "\t\tH\n"
     ]
    }
   ],
   "source": [
    "# коли ми використовуємо метод сик, він веде відлік від початкового значення, а немає від місця, де знаходився покажчик\n",
    "file_one.seek(10)\n",
    "text = file_one.read(5)\n",
    "print(text)"
   ]
  },
  {
   "cell_type": "code",
   "execution_count": 14,
   "metadata": {},
   "outputs": [],
   "source": [
    "file_one.close()"
   ]
  },
  {
   "cell_type": "markdown",
   "metadata": {},
   "source": [
    "### Робота з файлом за допомогою контекстного менеджера *with*"
   ]
  },
  {
   "cell_type": "code",
   "execution_count": 15,
   "metadata": {},
   "outputs": [],
   "source": [
    "# немає необхідності закривати файл у явному вигляді\n",
    "with open('b.txt', 'w') as file_one:\n",
    "    file_one.write(\"Hi there!\")\n",
    "    file_one.write(\"Hi there!\")\n",
    "    file_one.write(\"Hi there!\")\n",
    "    file_one.write(\"Hi there!\")\n"
   ]
  },
  {
   "cell_type": "code",
   "execution_count": 16,
   "metadata": {},
   "outputs": [],
   "source": [
    "##Робота з даними у двійковому форматі (зображення наприклад)\n",
    "# with open('b.txt', 'wb') as file_one: "
   ]
  },
  {
   "cell_type": "markdown",
   "metadata": {},
   "source": [
    "### Як можна прочитати дані з файлу ексель"
   ]
  },
  {
   "cell_type": "code",
   "execution_count": null,
   "metadata": {},
   "outputs": [],
   "source": [
    "# pip install openpyxl\n",
    "import openpyxl\n",
    "\n",
    "book = openpyxl.load_workbook(file_name)\n",
    "sheet = book.active\n",
    "\n",
    "for row in sheet.iter_rows(min_row=3, max_row=sheet.max_row, max_row=3):\n",
    "    code = row[0].value\n",
    "    name = row[1].value\n",
    "    print(code, name)"
   ]
  },
  {
   "cell_type": "markdown",
   "metadata": {},
   "source": [
    "### shelve — збереження об’єкта Python\n",
    "https://docs.python.org/uk/3/library/shelve.html"
   ]
  }
 ],
 "metadata": {
  "kernelspec": {
   "display_name": "Python 3 (ipykernel)",
   "language": "python",
   "name": "python3"
  },
  "language_info": {
   "codemirror_mode": {
    "name": "ipython",
    "version": 3
   },
   "file_extension": ".py",
   "mimetype": "text/x-python",
   "name": "python",
   "nbconvert_exporter": "python",
   "pygments_lexer": "ipython3",
   "version": "3.12.4"
  }
 },
 "nbformat": 4,
 "nbformat_minor": 4
}
