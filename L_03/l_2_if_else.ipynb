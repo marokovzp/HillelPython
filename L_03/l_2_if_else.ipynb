{
 "cells": [
  {
   "cell_type": "markdown",
   "metadata": {
    "pycharm": {
     "name": "#%%\n"
    }
   },
   "source": [
    "## Умовні оператори"
   ]
  },
  {
   "cell_type": "code",
   "execution_count": null,
   "metadata": {
    "pycharm": {
     "name": "#%%\n"
    }
   },
   "outputs": [],
   "source": [
    "%%html\n",
    "<style>\n",
    "table {float:left}\n",
    "table th, table td {text-align:center !important; font-size: 150%;}\n",
    "</style>"
   ]
  },
  {
   "cell_type": "markdown",
   "metadata": {
    "pycharm": {
     "name": "#%% md\n"
    }
   },
   "source": [
    "### Оператори порівняння\n",
    "|Оператор |Опис|\n",
    "| :---: | :---: |\n",
    "|**x == y**|Рівні|\n",
    "|**x != y** | Не однаково |\n",
    "|**x > y**| більше |\n",
    "|**x < y** | менше |\n",
    "|**x >= y** | більше чи однаково |\n",
    "|**x <= y**| менше чи однаково |"
   ]
  },
  {
   "cell_type": "markdown",
   "metadata": {},
   "source": [
    "**True** і **False** в Пайтон - це спеціальні значення, які належать до логічного типу даних *Boolean*. Вони використовуються для представлення істинності або хибності якогось виразу, умови або факту. Наприклад, вираз 2 + 2 == 4 є True, а вираз 2 + 2 == 5 є False.\n",
    "\n",
    "**True** і **False** можуть брати участь у логічних операціях, таких як and, or, not, які повертають нове логічне значення в залежності від правил булевої алгебри. **True і False** також можуть використовуватися в операторах розгалуження, таких як if, elif, else, для виконання різних дій залежно від результату перевірки умови."
   ]
  },
  {
   "cell_type": "code",
   "execution_count": null,
   "metadata": {},
   "outputs": [],
   "source": [
    "print(2 > 3)  # оператор порівняння повертає результат у вигляді булевого значення"
   ]
  },
  {
   "cell_type": "code",
   "execution_count": null,
   "metadata": {},
   "outputs": [],
   "source": [
    "a = 4 < 5\n",
    "print(a)  #  результат дії можна зберігати для подальшого використання"
   ]
  },
  {
   "cell_type": "code",
   "execution_count": null,
   "metadata": {},
   "outputs": [],
   "source": [
    "# Бульові значення відразу завантажуються в пам'ять разом з інтерпретатором\n",
    "print(id(True))\n",
    "print(id(False))\n",
    "print(id(1))"
   ]
  },
  {
   "cell_type": "code",
   "execution_count": null,
   "metadata": {},
   "outputs": [],
   "source": [
    "print(3 == 5)"
   ]
  },
  {
   "cell_type": "code",
   "execution_count": null,
   "metadata": {},
   "outputs": [],
   "source": [
    "print(3 != 5)"
   ]
  },
  {
   "cell_type": "markdown",
   "metadata": {},
   "source": [
    "**Функція bool перетворює передані їй дані на булеве значення**\n",
    "Функція bool в Пайтон - це вбудована функція, яка повертає логічне значення, тобто одне з True або False. Функція bool перетворює свій аргумент за допомогою стандартної процедури перевірки істинності. Якщо аргумент є порожнім, нульовим, None або False, функція bool повертає False. Якщо аргумент є будь-яким іншим значенням, функція bool повертає True. Функція bool також є класом, який є підкласом цілого типу int. Об'єкти bool наслідують всі методи та операції від int, але можуть приймати тільки два значення: 0 (False) або 1 (True)."
   ]
  },
  {
   "cell_type": "code",
   "execution_count": null,
   "metadata": {},
   "outputs": [],
   "source": [
    "# False буде для порожнього значення, None або 0\n",
    "print(bool(0))\n"
   ]
  },
  {
   "cell_type": "code",
   "execution_count": null,
   "metadata": {},
   "outputs": [],
   "source": [
    "print(bool(''))"
   ]
  },
  {
   "cell_type": "markdown",
   "metadata": {},
   "source": [
    "**None** в Пайтон - це спеціальне значення, яке означає відсутність або невизначеність. None може бути присвоєно змінній, повернуто функцією, або використано в якості аргументу. None також є єдиним екземпляром класу NoneType, який належить до логічного типу даних. None може бути перевірено на рівність з допомогою оператора is або функції bool. None вважається хибним значенням в булевому контексті."
   ]
  },
  {
   "cell_type": "code",
   "execution_count": null,
   "metadata": {},
   "outputs": [],
   "source": [
    "x = None # None означає буквально - нічого"
   ]
  },
  {
   "cell_type": "code",
   "execution_count": null,
   "metadata": {},
   "outputs": [],
   "source": [
    "print(bool(x))\n"
   ]
  },
  {
   "cell_type": "code",
   "execution_count": null,
   "metadata": {},
   "outputs": [],
   "source": [
    "x == None # так порівнювати не зовсім правильно."
   ]
  },
  {
   "cell_type": "code",
   "execution_count": null,
   "metadata": {},
   "outputs": [],
   "source": [
    "x is None # так краще"
   ]
  },
  {
   "cell_type": "code",
   "execution_count": null,
   "metadata": {},
   "outputs": [],
   "source": [
    "print(bool(-1)) # ??"
   ]
  },
  {
   "cell_type": "code",
   "execution_count": null,
   "metadata": {},
   "outputs": [],
   "source": [
    "print(int(True))"
   ]
  },
  {
   "cell_type": "code",
   "execution_count": null,
   "metadata": {},
   "outputs": [],
   "source": [
    "print(int(False))"
   ]
  },
  {
   "cell_type": "code",
   "execution_count": null,
   "metadata": {},
   "outputs": [],
   "source": [
    "print(True + True + True)"
   ]
  },
  {
   "cell_type": "markdown",
   "metadata": {
    "pycharm": {
     "name": "#%% md\n"
    }
   },
   "source": [
    "**Умовний оператор** - оператор **if**, конструкція мови програмування, що забезпечує виконання певної команди (набору команд) лише за умови\n",
    "істинності  логічного висловлювання.\n",
    "\n",
    "**True** — умова правдива.\n",
    "\n",
    "**False** — умова хибна.\n",
    "\n",
    "Якщо логічна умова поверне True, то блок операторів, що слідує за двокрапкою, виконається.\n"
   ]
  },
  {
   "cell_type": "code",
   "execution_count": null,
   "metadata": {
    "pycharm": {
     "name": "#%%\n"
    }
   },
   "outputs": [],
   "source": [
    "orange_price = 17.5\n",
    "my_money = 20\n",
    "\n",
    "if my_money > orange_price:\n",
    "    # Цей набір команд буде виконано лише в тому випадку, коли my_money буде більшим, ніж orange_price\n",
    "    my_money -= orange_price\n",
    "    print(\"I bay orange\")\n",
    "    print(my_money)\n",
    "print(\"The end\")"
   ]
  },
  {
   "cell_type": "markdown",
   "metadata": {
    "pycharm": {
     "name": "#%% md\n"
    }
   },
   "source": [
    "#### Про важливість чотирьох пробілів у Python\n",
    "На відміну від інших мов програмування, у Python для опису логічного блоку (набору команд) використовуються відступи у вигляді\n",
    "чотирьох пробілів. Тобто код, віддалений від початку рядка на однакову кількість пробілів, належить до одного і\n",
    "того ж логічного блоку."
   ]
  },
  {
   "cell_type": "markdown",
   "metadata": {
    "pycharm": {
     "name": "#%% md\n"
    }
   },
   "source": [
    "### Оператор if з блоком else\n",
    "Якщо виникає необхідність виконати один блок операторів, коли умова істинна, та інший блок операторів коли воно хибне, можна блок з оператором **if**, доповнити блоком **else**.\n",
    "\n",
    "**В данному випадку завжди буде виконано лише один блок коду - або той, що знаходиться в *if*, або той, що в *else***\n"
   ]
  },
  {
   "cell_type": "code",
   "execution_count": 1,
   "metadata": {},
   "outputs": [
    {
     "name": "stdout",
     "output_type": "stream",
     "text": [
      "I bay apple\n",
      "The end\n"
     ]
    }
   ],
   "source": [
    "orange_price = 7.5\n",
    "my_money = 2\n",
    "\n",
    "if my_money > orange_price:\n",
    "    print(\"I bay orange\")\n",
    "else:\n",
    "    print(\"I bay apple\")\n",
    "print(\"The end\")"
   ]
  },
  {
   "cell_type": "markdown",
   "metadata": {
    "pycharm": {
     "name": "#%% md\n"
    }
   },
   "source": [
    "#### Увага!\n",
    "Блок else для оператора if може бути лише один. Блок else без оператора if не може існувати."
   ]
  },
  {
   "cell_type": "markdown",
   "metadata": {
    "pycharm": {
     "name": "#%% md\n"
    }
   },
   "source": [
    "### Використання вкладених операторів if\n"
   ]
  },
  {
   "cell_type": "code",
   "execution_count": null,
   "metadata": {},
   "outputs": [],
   "source": [
    "orange_price = 17.5\n",
    "my_money = 20\n",
    "tea_price = 14\n",
    "if my_money > orange_price:\n",
    "    print(\"I bay orange\")\n",
    "else:\n",
    "    if my_money > tea_price: # Вкладений умовний оператор if зі своїм блоком else\n",
    "        print(\"Not orange, just tea\")\n",
    "    else:\n",
    "        print(\"I bay apple\")\n",
    "print(\"The end\")"
   ]
  },
  {
   "cell_type": "markdown",
   "metadata": {
    "pycharm": {
     "name": "#%% md\n"
    }
   },
   "source": [
    "### Оператор множинного вибору\n",
    "Іноді потрібно вибрати одну умову із запропонованої безлічі умов. У такому разі можна використовувати оператор множинного вибору, який у Python реалізований за допомогою операторів **if..elif..else**\n",
    "\n",
    "Такий підхід можна розглядати як \"перемикач\" - спрацює перша умова, яка дасть True.\n"
   ]
  },
  {
   "cell_type": "code",
   "execution_count": null,
   "metadata": {},
   "outputs": [],
   "source": [
    "orange_price = 15.5\n",
    "my_money = 13\n",
    "tea_price = 12\n",
    "if my_money > orange_price:\n",
    "    print(\"I bay orange\")\n",
    "elif my_money > tea_price:\n",
    "    print (\"Not orange, just tea\")\n",
    "else:\n",
    "    print(\"I bay apple\")\n",
    "print('OK')"
   ]
  },
  {
   "cell_type": "markdown",
   "metadata": {},
   "source": [
    "**Програма, яка виводить назву дня тижня, відповідно до значення числа, отриманого від користувача**"
   ]
  },
  {
   "cell_type": "code",
   "execution_count": null,
   "metadata": {},
   "outputs": [],
   "source": [
    "\n",
    "day = int(input(\"Enter day please \\n\"))\n",
    "if day == 1:\n",
    "    print(\"Monday\")\n",
    "elif day == 2:\n",
    "    print(\"Tuesday\")\n",
    "elif day == 3:\n",
    "    print(\"Wednesday\")\n",
    "elif day == 4:\n",
    "    print(\"Thursday\")\n",
    "elif day == 5:\n",
    "    print(\"Friday\")\n",
    "elif day == 6:\n",
    "    print(\"Saturday\")\n",
    "elif day == 7:\n",
    "    print(\"Sunday\")\n",
    "else:\n",
    "    # Якщо число більше 7\n",
    "    print('Bad data')\n"
   ]
  },
  {
   "cell_type": "markdown",
   "metadata": {},
   "source": [
    "Більшість структур, пов'язаних із часом, мають циклічність. Після неділі завжди йде понеділок, а після грудня завжди січень. Тому можна нашу програму трохи покращити.\n",
    "Для цього ми використовуватимемо поділ, де повертається цілий залишок"
   ]
  },
  {
   "cell_type": "code",
   "execution_count": null,
   "metadata": {
    "scrolled": true
   },
   "outputs": [],
   "source": [
    "print(8 % 7) #(0, 1, 2, 3, 4, 5, 6)\n"
   ]
  },
  {
   "cell_type": "code",
   "execution_count": null,
   "metadata": {
    "scrolled": true
   },
   "outputs": [],
   "source": [
    "day = int(input(\"Enter day please \\n\"))\n",
    "day = day % 7\n",
    "if day == 1:\n",
    "    print(\"Monday\")\n",
    "elif day == 2:\n",
    "    print(\"Tuesday\")\n",
    "elif day == 3:\n",
    "    print(\"Wednesday\")\n",
    "elif day == 4:\n",
    "    print(\"Thursday\")\n",
    "elif day == 5:\n",
    "    print(\"Friday\")\n",
    "elif day == 6:\n",
    "    print(\"Saturday\")\n",
    "# elif day == 0:\n",
    "#     print(\"Sunday\")\n",
    "else:\n",
    "    print(\"Sunday\")"
   ]
  },
  {
   "cell_type": "code",
   "execution_count": null,
   "metadata": {},
   "outputs": [],
   "source": [
    "print(divmod(235, 60)) # завжди буде значення в діапазоні від 0 до 59 включно\n"
   ]
  },
  {
   "cell_type": "markdown",
   "metadata": {
    "pycharm": {
     "name": "#%% md\n"
    }
   },
   "source": [
    "### Перевірка приналежності до діапазону\n"
   ]
  },
  {
   "cell_type": "code",
   "execution_count": null,
   "metadata": {
    "pycharm": {
     "name": "#%%\n"
    }
   },
   "outputs": [],
   "source": [
    "number = int(input(\"Enter number \"))\n",
    "\n",
    "if 5 <= number <= 10:\n",
    "    print(\"inside (5, 10)\")\n",
    "else:\n",
    "\n",
    "    print(\"outside\")"
   ]
  },
  {
   "cell_type": "markdown",
   "metadata": {
    "pycharm": {
     "name": "#%% md\n"
    }
   },
   "source": [
    "### Використання булевих операторів у Python\n",
    "Булеві оператори Python використовуються для об'єднання кількох логічних умов.\n",
    "У Python існують такі булеві оператори:\n",
    "\n",
    "**and** — Умовний оператор І. Поверне **True** тільки у випадку, якщо обидві умови повернуть **True**. В інших випадках поверне **False**.\n",
    "\n",
    "**or** - Умовний оператор АБО. Поверне **False** тільки у випадку, якщо обидві умови повернуть **False**. В інших випадках поверне **True**.\n",
    "\n",
    "**not** — Умовний оператор НЕ. Інвертує результат умовного оператора.\n",
    "\n"
   ]
  },
  {
   "cell_type": "markdown",
   "metadata": {
    "pycharm": {
     "name": "#%% md\n"
    }
   },
   "source": [
    "### Використання оператора and\n",
    "\n",
    "\n",
    "**if Логічне_умова_1 and Логічне_умова_2:**"
   ]
  },
  {
   "cell_type": "markdown",
   "metadata": {
    "pycharm": {
     "name": "#%% md\n"
    }
   },
   "source": [
    "### оператори\n",
    "| Логічне_умова | Результат умови | Результат умови | Результат умови| Результат умови|\n",
    "| :---: | :---: |:---: | :---: | :---: |\n",
    "| `Логічна_умова_1` | True| False| False | True |\n",
    "|`Логічна_умова_2` |False |True |False| True|\n",
    "|Результат| False | False | False| True|"
   ]
  },
  {
   "cell_type": "code",
   "execution_count": 4,
   "metadata": {
    "pycharm": {
     "name": "#%%\n"
    }
   },
   "outputs": [
    {
     "name": "stdin",
     "output_type": "stream",
     "text": [
      "Enter number  7\n"
     ]
    },
    {
     "name": "stdout",
     "output_type": "stream",
     "text": [
      "Yes\n"
     ]
    }
   ],
   "source": [
    "number = int(input(\"Enter number \"))\n",
    "\n",
    "if number >= 5 & number <= 10:\n",
    "    print(\"Yes\")\n",
    "else:\n",
    "    print(\"No\")"
   ]
  },
  {
   "cell_type": "markdown",
   "metadata": {
    "pycharm": {
     "name": "#%% md\n"
    }
   },
   "source": [
    "### Використання оператора or\n",
    "Булевий оператор **or** використовується для об'єднання логічних умов Результат об'єднання поверне **False**, якщо обидві логічні умови повернуть **False**. В інших випадках результатом буде **True**.\n",
    "\n",
    "| Логічне_умова | Результат умови | Результат умови | Результат умови| Результат умови|\n",
    "| :---: | :---: |:---: | :---: | :---: |\n",
    "| `Логічна_умова_1` | True| False| False | True |\n",
    "|`Логічна_умова_2` |False |True |False| True|\n",
    "|Результат| True | True | False| True|"
   ]
  },
  {
   "cell_type": "code",
   "execution_count": 8,
   "metadata": {
    "pycharm": {
     "name": "#%%\n"
    }
   },
   "outputs": [
    {
     "name": "stdout",
     "output_type": "stream",
     "text": [
      "Yes\n"
     ]
    }
   ],
   "source": [
    "number_a = 17\n",
    "number_b = 21\n",
    "\n",
    "if number_b > 20 or number_a > 20:\n",
    "    if number_a > 20:\n",
    "        print('>20')\n",
    "    print(\"Yes\")\n",
    "else:\n",
    "    print(\"No\")"
   ]
  },
  {
   "cell_type": "markdown",
   "metadata": {
    "pycharm": {
     "name": "#%% md\n"
    }
   },
   "source": [
    "### Використання оператора not\n",
    "Булевий оператор **not** використовується для інвертування логічних умов.\n",
    "\n",
    "| Логічне_умова | Результат умови | Результат умови |\n",
    "| :---: | :---: |:---: |\n",
    "| `Логічна_умова_1` | True| False|\n",
    "|Результат| False | True |"
   ]
  },
  {
   "cell_type": "code",
   "execution_count": null,
   "metadata": {
    "pycharm": {
     "name": "#%%\n"
    }
   },
   "outputs": [],
   "source": [
    "number_a = 171\n",
    "\n",
    "if not number_a > 20:\n",
    "    print(\"Yes\")\n",
    "else:\n",
    "    print(\"No\")"
   ]
  },
  {
   "cell_type": "code",
   "execution_count": null,
   "metadata": {},
   "outputs": [],
   "source": [
    "x = 0\n",
    "if not bool(x): # if x == 0:\n",
    "    print('ok')"
   ]
  },
  {
   "cell_type": "code",
   "execution_count": null,
   "metadata": {},
   "outputs": [],
   "source": [
    "if not x: # x == 0\n",
    "    print('ok')"
   ]
  },
  {
   "cell_type": "code",
   "execution_count": null,
   "metadata": {},
   "outputs": [],
   "source": [
    "if not 7 % 7:\n",
    "    print('Sunday')"
   ]
  },
  {
   "cell_type": "code",
   "execution_count": null,
   "metadata": {
    "scrolled": true
   },
   "outputs": [],
   "source": [
    "if not '':\n",
    "    print(\"Yes\")"
   ]
  },
  {
   "cell_type": "markdown",
   "metadata": {
    "pycharm": {
     "name": "#%% md\n"
    }
   },
   "source": [
    "### Зміна пріоритету\n"
   ]
  },
  {
   "cell_type": "code",
   "execution_count": null,
   "metadata": {
    "pycharm": {
     "name": "#%%\n"
    }
   },
   "outputs": [],
   "source": [
    "number_a = 3\n",
    "number_b = 7\n",
    "if (number_a < 5 and number_b > 0) or number_b < 5:\n",
    "    print(\"Yes\")\n",
    "else:\n",
    "    print(\"No\")"
   ]
  },
  {
   "cell_type": "code",
   "execution_count": null,
   "metadata": {
    "pycharm": {
     "name": "#%%\n"
    }
   },
   "outputs": [],
   "source": [
    "number_a = 3\n",
    "number_b = 7\n",
    "if not (number_a < 5 or number_b > 0) and number_b < 5:\n",
    "    print(\"Yes\")\n",
    "else:\n",
    "    print(\"No\")\n"
   ]
  },
  {
   "cell_type": "code",
   "execution_count": null,
   "metadata": {},
   "outputs": [],
   "source": [
    "number_a = 3\n",
    "number_b = 7\n",
    "if number_a < 5 or number_b > 10 or number_b < 15:\n",
    "    print(\"Yes\")\n",
    "else:\n",
    "    print(\"No\")"
   ]
  },
  {
   "cell_type": "markdown",
   "metadata": {},
   "source": [
    "**Важливо! Намагайтеся максимально уникати варіантів, коли в одному блоці логічних умов, одночасно використовуються оператори and і or! Використання лише одного оператора, надалі набагато спрощує процес пошуку помилки, у разі виникнення.**"
   ]
  },
  {
   "cell_type": "markdown",
   "metadata": {
    "pycharm": {
     "name": "#%% md\n"
    }
   },
   "source": [
    "### Деякі особливості.\n"
   ]
  },
  {
   "cell_type": "code",
   "execution_count": null,
   "metadata": {},
   "outputs": [],
   "source": [
    "a = False\n",
    "b = 0\n",
    "# Якщо дані, які перебувають у b, не можна інтерпретувати як Тру, то буде присвоєно те, на що вказує змінна а. \n",
    "#  При цьому дані зі змінної а не перевіряються.\n",
    "c =  b or a \n",
    "\n",
    "print(c)"
   ]
  },
  {
   "cell_type": "code",
   "execution_count": null,
   "metadata": {},
   "outputs": [],
   "source": [
    "#  Повноцінний аналог коду вище\n",
    "if bool(b):\n",
    "    c = b\n",
    "else:\n",
    "    c = a\n",
    "print(c)"
   ]
  },
  {
   "cell_type": "markdown",
   "metadata": {},
   "source": [
    "Умову \n",
    "\n",
    "**if a != 0:** \n",
    "\n",
    "можна записати як -\n",
    "\n",
    "**if a:**"
   ]
  },
  {
   "cell_type": "markdown",
   "metadata": {},
   "source": []
  },
  {
   "cell_type": "markdown",
   "metadata": {},
   "source": [
    "**if a == 0:**\n",
    "\n",
    "можна записати як\n",
    "\n",
    "**if not a:**"
   ]
  },
  {
   "cell_type": "code",
   "execution_count": null,
   "metadata": {
    "pycharm": {
     "name": "#%%\n"
    }
   },
   "outputs": [],
   "source": [
    "# Повну форму запису:\n",
    "if number_b < 5:\n",
    "    number_a = 10\n",
    "else:\n",
    "    number_a = 20\n",
    "\n",
    "# Можна замінити коротким:\n",
    "number_a = 10 if number_b < 5 else 20\n",
    "print(number_a)"
   ]
  }
 ],
 "metadata": {
  "kernelspec": {
   "display_name": "Python 3 (ipykernel)",
   "language": "python",
   "name": "python3"
  },
  "language_info": {
   "codemirror_mode": {
    "name": "ipython",
    "version": 3
   },
   "file_extension": ".py",
   "mimetype": "text/x-python",
   "name": "python",
   "nbconvert_exporter": "python",
   "pygments_lexer": "ipython3",
   "version": "3.12.4"
  }
 },
 "nbformat": 4,
 "nbformat_minor": 4
}
