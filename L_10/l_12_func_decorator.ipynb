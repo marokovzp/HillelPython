{
 "cells": [
  {
   "cell_type": "markdown",
   "metadata": {},
   "source": [
    "# Декоратори"
   ]
  },
  {
   "cell_type": "markdown",
   "metadata": {},
   "source": [
    "### Замикання (closures)\n",
    "Замикання (*closures*) — функція з розширеною областю видимості, яка охоплює не глобальні, змінні, куди є посилання у тілі функції, хоча у тілі функції вони (змінні) не визначені. Ще раз зверніть увагу на те, що функція повинна мати доступ до неглобальних змінних. Тобто, до змінним оголошеним в іншій (охоплюючій) функції."
   ]
  },
  {
   "cell_type": "code",
   "execution_count": null,
   "metadata": {},
   "outputs": [],
   "source": [
    "def add(q, w):\n",
    "    return q + w\n",
    "\n",
    "a = add # Створення синоніму функції\n",
    "print(a(2, 3))"
   ]
  },
  {
   "cell_type": "code",
   "execution_count": null,
   "metadata": {
    "pycharm": {
     "name": "#%%\n"
    }
   },
   "outputs": [],
   "source": [
    "\"\"\"Область видимості параметра n належить до зовнішньої (охоплюючій) функції, проте\n",
    "вкладена функція може використовувати його. (LEGB)\"\"\"\n",
    "\n",
    "def calculate_pow(n): # охоплююча функція\n",
    "    def calculate(number): # Вкладена функція\n",
    "        print(locals())\n",
    "        \n",
    "        return number ** n # змінна з охоплюючої функції\n",
    "    return calculate # Возврат вложенной функции\n",
    "\n",
    "f = calculate_pow(3) # Виклик охоплюючої функції\n"
   ]
  },
  {
   "cell_type": "code",
   "execution_count": null,
   "metadata": {},
   "outputs": [],
   "source": [
    "print(f) # покажчик на вкладену функцію"
   ]
  },
  {
   "cell_type": "code",
   "execution_count": null,
   "metadata": {},
   "outputs": [],
   "source": [
    "number_one = f(2) # Виклик вкладеної функції\n",
    "number_two = f(5)\n",
    "print(number_one)\n",
    "print(number_two)"
   ]
  },
  {
   "cell_type": "code",
   "execution_count": null,
   "metadata": {
    "scrolled": true
   },
   "outputs": [],
   "source": [
    "func = calculate_pow(5) # Функція з іншими початковими даними"
   ]
  },
  {
   "cell_type": "code",
   "execution_count": null,
   "metadata": {},
   "outputs": [],
   "source": [
    "print(func(3))"
   ]
  },
  {
   "cell_type": "code",
   "execution_count": null,
   "metadata": {},
   "outputs": [],
   "source": [
    "print(f(4))"
   ]
  },
  {
   "cell_type": "markdown",
   "metadata": {
    "pycharm": {
     "name": "#%% md\n"
    }
   },
   "source": [
    "внутрішня функція і є **замиканням**. У Python область видимості охоплюючої функції зберігається для внутрішньої функції. Але не всіх, а тільки для тих змінних, які використовуються у вкладеній функції. Такі змінні охоплюючої функції називаються вільними змінними."
   ]
  },
  {
   "cell_type": "code",
   "execution_count": null,
   "metadata": {
    "pycharm": {
     "name": "#%%\n"
    }
   },
   "outputs": [],
   "source": [
    "# проблеми при побудові функції замикання\n",
    "def fibonacci():\n",
    "    first_number = 0\n",
    "    second_number = 1\n",
    "    def get_next():\n",
    "        next_number = second_number + first_number # змінну, яка не є локальною, не можна змінювати\n",
    "        first_number = second_number\n",
    "        second_number = next_number\n",
    "        return next_number\n",
    "    return get_next"
   ]
  },
  {
   "cell_type": "code",
   "execution_count": null,
   "metadata": {
    "pycharm": {
     "name": "#%%\n"
    }
   },
   "outputs": [],
   "source": [
    "f = fibonacci()\n",
    "\n",
    "for i in range(10):\n",
    "    print(f(), end = \" \")"
   ]
  },
  {
   "cell_type": "markdown",
   "metadata": {},
   "source": [
    "### Використання модифікатора nonlocal"
   ]
  },
  {
   "cell_type": "code",
   "execution_count": null,
   "metadata": {
    "pycharm": {
     "name": "#%%\n"
    }
   },
   "outputs": [],
   "source": [
    "def fibonacci():\n",
    "    first_number = 0\n",
    "    second_number = 1\n",
    "    def get_next():\n",
    "        nonlocal second_number #оголошуємо змінну не локальною\n",
    "        nonlocal first_number\n",
    "        next_number = second_number + first_number\n",
    "        first_number = second_number\n",
    "        second_number = next_number\n",
    "        return next_number\n",
    "    return get_next\n"
   ]
  },
  {
   "cell_type": "code",
   "execution_count": null,
   "metadata": {
    "pycharm": {
     "name": "#%%\n"
    }
   },
   "outputs": [],
   "source": [
    "f = fibonacci()\n",
    "\n",
    "for i in range(10):\n",
    "    print(f(), end = \" \")\n"
   ]
  },
  {
   "cell_type": "markdown",
   "metadata": {
    "collapsed": true,
    "jupyter": {
     "outputs_hidden": true
    },
    "pycharm": {
     "name": "#%% md\n"
    }
   },
   "source": [
    "## Декоратори функцій"
   ]
  },
  {
   "cell_type": "markdown",
   "metadata": {},
   "source": [
    "### Декоратор - це функція, яка дозволяє обернути іншу функцію для розширення її функціональності без безпосередньої зміни її коду."
   ]
  },
  {
   "cell_type": "markdown",
   "metadata": {},
   "source": [
    "**Декоратор** — об'єкт, що викликається, який приймає іншу функцію як аргумент. Декоратор може виконувати\n",
    "якісь операції з функцією, яку отримав як аргумент, і повертати або цю функцію, або\n",
    "іншу, що замінює її функцію, або об'єкт, що викликається.\n",
    "Декоратори функцій пов'язують ім'я функції з іншим об'єктом, що викликається на етапі визначення функції, додаючи додатковий рівень логіки, яка керує функціями та методами або виконує деякі дії у разі їхнього виклику."
   ]
  },
  {
   "cell_type": "markdown",
   "metadata": {},
   "source": [
    "Декоратори функцій можуть бути використані для:\n",
    "\n",
    "* Перехоплення виклику функцій та виконання необхідних операцій з функцією. Наприклад, реєстрація у прикладному компоненті, хронометраж.\n",
    "* Декоратор може повністю замінити об'єкт функції іншою. Або модифікувати об'єкт функції.\n",
    "\n",
    "Тобто, за допомогою декоратора можна доповнювати функцію, що декорується, можна використовувати результати її роботи, а можна повністю її\n",
    "замінити."
   ]
  },
  {
   "cell_type": "markdown",
   "metadata": {},
   "source": [
    "**Що може бути декоратором в Python?**\n",
    "\n",
    "Декоратор сам по собі є об'єктом, що викликається, який повертає об'єкт, що викликається. Тобто, в якості декоратора може бути будь-який об'єкт, який реалізує протокол виклику.\n",
    "Якщо розглянути декоратори з технічного погляду, то декоратори в Python - це синтаксичне спрощення (синтаксичний цукор) при описі об'єкта, який може керувати об'єктом функції.\n",
    "Однак, через свою наочність, вони застосовуються дуже часто."
   ]
  },
  {
   "cell_type": "code",
   "execution_count": null,
   "metadata": {
    "pycharm": {
     "name": "#%%\n"
    }
   },
   "outputs": [],
   "source": [
    "my_function = []\n",
    "\n",
    "def add_function(func):\n",
    "    \"\"\"\n",
    "    Функція приймає на вхід будь-який об'єкт (функцію), додає його до \n",
    "    списку my_function і повертає цей об'єкт.\n",
    "     \"\"\"\n",
    "    my_function.append(func)\n",
    "    return func\n"
   ]
  },
  {
   "cell_type": "markdown",
   "metadata": {},
   "source": [
    "##### Коли ми застосовуємо декоратор для якоїсь функції, Пайтон-інтерпретатор за умовчанням передає цю функцію як аргумент декоратору"
   ]
  },
  {
   "cell_type": "code",
   "execution_count": null,
   "metadata": {},
   "outputs": [],
   "source": [
    "\n",
    "@add_function # Застосування створеної функції як декоратор\n",
    "def summ(x, y): # Декорована функція\n",
    "    return x + y\n",
    "\n",
    "@add_function\n",
    "def mul(x, y): # Декорована функція\n",
    "    return x * y\n",
    "\n",
    "print(my_function) # Список функцій, які ми задекорували"
   ]
  },
  {
   "cell_type": "code",
   "execution_count": null,
   "metadata": {},
   "outputs": [],
   "source": [
    "print(mul(4, 5)) # функція працює так, як і було задумано"
   ]
  },
  {
   "cell_type": "markdown",
   "metadata": {},
   "source": [
    "#### Створимо ще одну функцію і застосуємо до неї декоратор"
   ]
  },
  {
   "cell_type": "code",
   "execution_count": null,
   "metadata": {},
   "outputs": [],
   "source": [
    "def div(q, w):\n",
    "    return q / w\n"
   ]
  },
  {
   "cell_type": "code",
   "execution_count": null,
   "metadata": {},
   "outputs": [],
   "source": [
    "print(div(5, 6))\n"
   ]
  },
  {
   "cell_type": "markdown",
   "metadata": {},
   "source": [
    "##### Розглянемо застосування декоратора з іншим принципом застосування. Функція, яку ми декоруємо, стає тим об'єктом, який повертає як результат декоратор"
   ]
  },
  {
   "cell_type": "code",
   "execution_count": null,
   "metadata": {},
   "outputs": [],
   "source": [
    "div = add_function(div)\n",
    "# @add_function\n",
    "# def div(q, w):\n",
    "#     return q / w\n"
   ]
  },
  {
   "cell_type": "code",
   "execution_count": null,
   "metadata": {},
   "outputs": [],
   "source": [
    "print(my_function)"
   ]
  },
  {
   "cell_type": "markdown",
   "metadata": {},
   "source": [
    "декоратори - лише спрощення синтаксису. Однак, через наочність та зручність використання, їх застосовують досить часто."
   ]
  },
  {
   "cell_type": "markdown",
   "metadata": {
    "pycharm": {
     "name": "#%% md\n"
    }
   },
   "source": [
    "**Увага!** Декоратори виконуються на етапі створення функції. Декоратори не викликаються при виклику функції, що декорується\n"
   ]
  },
  {
   "cell_type": "markdown",
   "metadata": {},
   "source": [
    "### Передача параметрів для функції, що декорується.\n",
    "Приклад декоратора, який використовує результат виклику функції, що декорується"
   ]
  },
  {
   "cell_type": "code",
   "execution_count": null,
   "metadata": {
    "pycharm": {
     "name": "#%%\n"
    }
   },
   "outputs": [],
   "source": [
    "def to_str(func):\n",
    "    #конструкція *args, **kwargs дозволяє приймати будь-які аргументи (позиційні та/або іменовані) та в будь-якій кількості\n",
    "    def get_str(*args, **kwargs): # Функція, яка приймає аргументи для функції, що декорується\n",
    "        \"\"\"from any type to string\"\"\"\n",
    "        return str(func(*args, **kwargs)) \n",
    "    return get_str # Як результат повертається інша функція\n",
    "\n",
    "@to_str\n",
    "def suma(x, y):\n",
    "    return x + y\n",
    "print(\"Summa = \" + suma(3, 4)) #хоча функція suma повертає число, але тут помилка не виникне\n",
    "\n",
    "# suma = to_str(suma)\n",
    "# suma = get_str(*args, **kwargs) -> str(func(*args, **kwargs))"
   ]
  },
  {
   "cell_type": "code",
   "execution_count": null,
   "metadata": {},
   "outputs": [],
   "source": [
    "'h' + 7 # буде помилка"
   ]
  },
  {
   "cell_type": "markdown",
   "metadata": {},
   "source": [
    "**Тобто після того, як декоратор обробить функцію suma, функція suma стане синонімом функції get_str**\n",
    "в результаті виклику функції декоратора повертається вже не декорована функція, а інший об'єкт, що викликається (функція get_str)"
   ]
  },
  {
   "cell_type": "code",
   "execution_count": null,
   "metadata": {
    "pycharm": {
     "name": "#%%\n"
    }
   },
   "outputs": [],
   "source": [
    "print(suma) # бачимо вказівник на функцію get_str"
   ]
  },
  {
   "cell_type": "code",
   "execution_count": null,
   "metadata": {},
   "outputs": [],
   "source": [
    "@to_str # обернемо функцію декоратором\n",
    "def div(q, w):\n",
    "    \"\"\" divide function\"\"\"\n",
    "    return q / w"
   ]
  },
  {
   "cell_type": "code",
   "execution_count": null,
   "metadata": {},
   "outputs": [],
   "source": [
    "print(div) # бачимо так само вказівник на функцію get_str"
   ]
  },
  {
   "cell_type": "code",
   "execution_count": null,
   "metadata": {},
   "outputs": [],
   "source": [
    "print(div(3, 5)) # повертає результат у вигляді рядка"
   ]
  },
  {
   "cell_type": "markdown",
   "metadata": {},
   "source": [
    "### Як можна виправити відображення інформації для функції, яку декоруємо?"
   ]
  },
  {
   "cell_type": "code",
   "execution_count": null,
   "metadata": {},
   "outputs": [],
   "source": [
    "print(div.__doc__) # докстрінг з іншої функції"
   ]
  },
  {
   "cell_type": "code",
   "execution_count": null,
   "metadata": {
    "pycharm": {
     "name": "#%%\n"
    }
   },
   "outputs": [],
   "source": [
    "def trace(func):\n",
    "    \"\"\"Декоратор trace виводить на екран повідомлення з\n",
    "         інформацією про виклик функції, що декорується\"\"\"\n",
    "    def inner(*args, **kwargs):\n",
    "        \"\"\"Inner doc\"\"\"\n",
    "        print(f'name: {func.__name__}, args: {args}, kwargs: {kwargs}')\n",
    "        return func(*args, **kwargs)\n",
    "    return inner"
   ]
  },
  {
   "cell_type": "code",
   "execution_count": null,
   "metadata": {
    "pycharm": {
     "name": "#%%\n"
    },
    "scrolled": true
   },
   "outputs": [],
   "source": [
    "@trace # identity = trace(identity)\n",
    "def identity(x):\n",
    "    \"\"\"I do nothing useful.\"\"\"\n",
    "    return x\n",
    "\n",
    "print(identity(50))\n"
   ]
  },
  {
   "cell_type": "code",
   "execution_count": null,
   "metadata": {},
   "outputs": [],
   "source": [
    "print(identity) # вказівник на функцію inner"
   ]
  },
  {
   "cell_type": "code",
   "execution_count": null,
   "metadata": {
    "pycharm": {
     "name": "#%%\n"
    }
   },
   "outputs": [],
   "source": [
    "help(identity) # Help on function inner"
   ]
  },
  {
   "cell_type": "code",
   "execution_count": null,
   "metadata": {
    "pycharm": {
     "name": "#%%\n"
    }
   },
   "outputs": [],
   "source": [
    "def identity(x):\n",
    "    \"\"\"I do nothing useful.\"\"\"\n",
    "    return x\n",
    "\n",
    "print(identity.__name__, identity.__doc__) ##інформація з оригінальної функції"
   ]
  },
  {
   "cell_type": "code",
   "execution_count": null,
   "metadata": {
    "pycharm": {
     "name": "#%%\n"
    }
   },
   "outputs": [],
   "source": [
    "# Задекоруємо функцію\n",
    "identity = trace(identity)\n"
   ]
  },
  {
   "cell_type": "code",
   "execution_count": null,
   "metadata": {},
   "outputs": [],
   "source": [
    "# Після застосування декоратора, інформація з вкладеної функції\n",
    "identity.__name__, identity.__doc__) "
   ]
  },
  {
   "cell_type": "markdown",
   "metadata": {},
   "source": [
    "##### Будь-яка функція в Python має атрибут __module__ , який містить ім'я модуля, де ця функція була визначена."
   ]
  },
  {
   "cell_type": "code",
   "execution_count": null,
   "metadata": {
    "pycharm": {
     "name": "#%%\n"
    }
   },
   "outputs": [],
   "source": [
    "print(identity.__module__)"
   ]
  },
  {
   "cell_type": "code",
   "execution_count": null,
   "metadata": {},
   "outputs": [],
   "source": [
    "import math\n",
    "print(math.cos.__module__)"
   ]
  },
  {
   "cell_type": "code",
   "execution_count": null,
   "metadata": {
    "pycharm": {
     "name": "#%%\n"
    }
   },
   "outputs": [],
   "source": [
    "# встановимо \"правильні\" значення в атрибути функції, що декорується:\n",
    "def trace(func):\n",
    "    \"\"\"Декоратор trace виводить на екран повідомлення з\n",
    "         інформацією про виклик функції, що декорується\"\"\"\n",
    "    def inner(*args, **kwargs):\n",
    "        \"\"\"Inner doc\"\"\"\n",
    "        print(f'name: {func.__name__}, args: {args}, kwargs: {kwargs}')\n",
    "        return func(*args, **kwargs)\n",
    "    # Встановлюємо для функції inner значення, які були у декорованої функції\n",
    "    inner.__module__ = func.__module__\n",
    "    inner.__name__ = func.__name__\n",
    "    inner.__doc__ = func.__doc__\n",
    "    return inner\n",
    "\n",
    "\n",
    "@trace\n",
    "def identity(x):\n",
    "    \"\"\"I do nothing useful.\"\"\"\n",
    "    return x"
   ]
  },
  {
   "cell_type": "code",
   "execution_count": null,
   "metadata": {
    "pycharm": {
     "name": "#%%\n"
    }
   },
   "outputs": [],
   "source": [
    "# Перевіримо\n",
    "identity.__name__, identity.__doc__"
   ]
  },
  {
   "cell_type": "code",
   "execution_count": null,
   "metadata": {
    "scrolled": true
   },
   "outputs": [],
   "source": [
    "dir(identity)"
   ]
  },
  {
   "cell_type": "markdown",
   "metadata": {},
   "source": [
    "У модулі **functools** із стандартної бібліотеки Python є функція, що реалізує логіку копіювання\n",
    "внутрішніх атрибутів\n"
   ]
  },
  {
   "cell_type": "code",
   "execution_count": null,
   "metadata": {
    "pycharm": {
     "name": "#%%\n"
    }
   },
   "outputs": [],
   "source": [
    "import functools\n",
    "\n",
    "def trace(func):\n",
    "    \"\"\"Декоратор trace виводить на екран повідомлення з\n",
    "         інформацією про виклик функції, що декорується\"\"\"\n",
    "    def inner(*args, **kwargs):\n",
    "        \"\"\"Inner doc\"\"\"\n",
    "        print(f'name: {func.__name__}, args: {args}, kwargs: {kwargs}')\n",
    "        return func(*args, **kwargs)\n",
    "    functools.update_wrapper(inner, func)\n",
    "    return inner\n",
    "\n",
    "@trace\n",
    "def identity(x):\n",
    "    \"\"\"I do nothing useful.\"\"\"\n",
    "    return x\n",
    "\n",
    "identity.__name__, identity.__doc__"
   ]
  },
  {
   "cell_type": "code",
   "execution_count": null,
   "metadata": {
    "pycharm": {
     "name": "#%%\n"
    }
   },
   "outputs": [],
   "source": [
    "# То же самое можно сделать с помощью декоратора wraps\n",
    "\n",
    "def trace(func):\n",
    "    \"\"\"Декоратор trace виводить на екран повідомлення з\n",
    "         інформацією про виклик функції, що декорується\"\"\"\n",
    "    @functools.wraps(func)\n",
    "    def inner(*args, **kwargs):\n",
    "        \"\"\"Inner doc\"\"\"\n",
    "        print(f'name: {func.__name__}, args: {args}, kwargs: {kwargs}')\n",
    "        return func(*args, **kwargs)\n",
    "    return inner\n",
    "\n",
    "@trace\n",
    "def identity(x):\n",
    "    \"\"\"I do nothing useful.\"\"\"\n",
    "    return x\n",
    "\n",
    "print(identity.__name__, identity.__doc__)\n",
    "print(identity(34))"
   ]
  },
  {
   "cell_type": "markdown",
   "metadata": {},
   "source": [
    "### До однієї функції можна застосувати кількох декораторів"
   ]
  },
  {
   "cell_type": "code",
   "execution_count": null,
   "metadata": {
    "pycharm": {
     "name": "#%%\n"
    }
   },
   "outputs": [],
   "source": [
    "def bread(func):\n",
    "    def wrapper():\n",
    "        print()\n",
    "        func()\n",
    "        print(\"<\\______/>\")\n",
    "    return wrapper\n",
    "\n",
    "def ingredients(func):\n",
    "    def wrapper():\n",
    "        print(\"#помидоры#\")\n",
    "        func()\n",
    "        print(\"~салат~\")\n",
    "    return wrapper\n",
    "\n",
    "def sandwich(food=\"--ветчина--\"):\n",
    "    print(food)\n",
    "\n",
    "sandwich()"
   ]
  },
  {
   "cell_type": "code",
   "execution_count": null,
   "metadata": {
    "pycharm": {
     "name": "#%%\n"
    }
   },
   "outputs": [],
   "source": [
    "##Тут ми бачимо правильний порядок виведення значень на екран\n",
    "sandwich = bread(ingredients(sandwich))\n",
    "sandwich()"
   ]
  },
  {
   "cell_type": "code",
   "execution_count": null,
   "metadata": {
    "pycharm": {
     "name": "#%%\n"
    }
   },
   "outputs": [],
   "source": [
    "##Тут ми бачимо правильний порядок виведення значень на екран\n",
    "@bread\n",
    "@ingredients\n",
    "def sandwich(food=\"--ветчина--\"):\n",
    "    print(food)\n",
    "\n",
    "sandwich()"
   ]
  },
  {
   "cell_type": "code",
   "execution_count": null,
   "metadata": {},
   "outputs": [],
   "source": [
    "##Тут порядок виведення на екран порушено\n",
    "@ingredients\n",
    "@bread\n",
    "def sandwich(food=\"--ветчина--\"):\n",
    "    print(food)\n",
    "\n",
    "sandwich()"
   ]
  },
  {
   "cell_type": "code",
   "execution_count": null,
   "metadata": {
    "pycharm": {
     "name": "#%%\n"
    }
   },
   "outputs": [],
   "source": [
    "##Тут порядок виведення на екран порушено\n",
    "@bread\n",
    "@ingredients\n",
    "@ingredients\n",
    "def sandwich(food=\"--ветчина--\"):\n",
    "    print(food)\n",
    "\n",
    "sandwich()\n"
   ]
  },
  {
   "cell_type": "markdown",
   "metadata": {},
   "source": [
    "### Аргументи декораторів\n",
    "Обидва різновиди декораторів (декоратори на основі функцій та декоратори на на основі класів) можуть приймати додаткові аргументи.\n",
    "Цей механізм реалізовано наступним чином: аргументи передані декоратору насправді передаються об'єкту, який поверне декоратор. А вже\n",
    "повернутий декоратор буде застосовано до об'єкта, що декорується.\n",
    "Тобто, якщо використовувати декоратор з параметрами, то, як декоратор, варто використовувати об'єкт, що викликається, який поверне декоратор."
   ]
  },
  {
   "cell_type": "markdown",
   "metadata": {},
   "source": [
    "```\n",
    "@my_decorator\n",
    "def func(*args):\n",
    "    ...\n",
    "```\n",
    "=>\n",
    "\n",
    "`func = my_decorator(func)`\n",
    "\n",
    "Для декоратора з параметрами зберігається логіка, але додається проміжний рівень обробки\n",
    "```\n",
    "@my_decorator(x, y)\n",
    "def func(*args):\n",
    "    ...\n",
    "```\n",
    "=>\n",
    "```\n",
    "deco = my_decorator(x, y)\n",
    "func = deco(func)\n",
    "```"
   ]
  },
  {
   "cell_type": "code",
   "execution_count": null,
   "metadata": {},
   "outputs": [],
   "source": [
    "# Буде помилка\n",
    "@bread('Hi')\n",
    "@ingredients\n",
    "def sandwich(food=\"--ветчина--\"):\n",
    "    print(food)\n",
    "\n",
    "sandwich()"
   ]
  },
  {
   "cell_type": "markdown",
   "metadata": {},
   "source": [
    "#### Додамо ще один рівень обробки до звичайного декоратора"
   ]
  },
  {
   "cell_type": "code",
   "execution_count": null,
   "metadata": {
    "pycharm": {
     "name": "#%%\n"
    }
   },
   "outputs": [],
   "source": [
    "def decorator_with_arguments(deco_arg1, deco_arg2): ##Функція, яка приймає аргументи\n",
    "    print(\"функція, яка приймає зовнішні аргументи:\", deco_arg1, deco_arg2)\n",
    "    def my_decorator(func): ##Старий знайомий декоратор\n",
    "        print(\"декоратор. Аргументи ззовні:\", deco_arg1, deco_arg2)\n",
    "        def wrapped(func_arg1, func_arg2):\n",
    "            print (\"\"\"Всередині функції обгортки доступні всі зовнішні аргументи:\\n {0} {1}\\n\"\n",
    "            {2} {3}\"\"\".format(deco_arg1, deco_arg2, func_arg1, func_arg2))\n",
    "            return func(func_arg1, func_arg2)\n",
    "        return wrapped\n",
    "    return my_decorator\n"
   ]
  },
  {
   "cell_type": "code",
   "execution_count": null,
   "metadata": {
    "pycharm": {
     "name": "#%%\n"
    }
   },
   "outputs": [],
   "source": [
    "@decorator_with_arguments(\"Леонард\", \"Шелдон\")\n",
    "def decorated_function_with_arguments(_arg1, _arg2):\n",
    "    print (\"декорована функція знає лише свої аргументи: {0} {1}\".format(_arg1, _arg2))\n",
    "\n",
    "print('-------------------- start ---------------')\n",
    "decorated_function_with_arguments(\"Раджеш\", \"Говард\")"
   ]
  },
  {
   "cell_type": "code",
   "execution_count": null,
   "metadata": {
    "pycharm": {
     "name": "#%%\n"
    }
   },
   "outputs": [],
   "source": [
    "# Декорування додасть функцію до словника workers.\n",
    "# Ключем буде виступати рядок (параметр декоратора),\n",
    "# а значенням - декорована функція.\n",
    "\n",
    "workers = {}\n",
    "\n",
    "def link(adress=None):\n",
    "    def add_worker(func):\n",
    "        workers[adress] = func\n",
    "        def get_answer(*args, **kwargs):\n",
    "            return str(func(*args, **kwargs))\n",
    "        return get_answer\n",
    "    return add_worker"
   ]
  },
  {
   "cell_type": "code",
   "execution_count": null,
   "metadata": {
    "pycharm": {
     "name": "#%%\n"
    }
   },
   "outputs": [],
   "source": [
    "@link(\"\\main\")\n",
    "def main_page():\n",
    "    return \"Hello word page\"\n",
    "\n",
    "@link(\"\\main\\goods\")\n",
    "def get_goods(list_goods):\n",
    "    return list_goods\n",
    "\n",
    "print(workers)"
   ]
  },
  {
   "cell_type": "code",
   "execution_count": null,
   "metadata": {},
   "outputs": [],
   "source": [
    "@link()\n",
    "def world():\n",
    "    return \"Hello world\"\n",
    "print(workers)"
   ]
  },
  {
   "cell_type": "markdown",
   "metadata": {},
   "source": [
    "### Деякі декоратори стандартної бібліотеки\n",
    "\n",
    "**functools.lru_cache** — Вбудована реалізація мемоізації для рекурсивних функцій користувача\n"
   ]
  },
  {
   "cell_type": "markdown",
   "metadata": {},
   "source": [
    "#### Використання декоратора functools.lru_cache\n",
    "Цей декоратор використовується для реалізації прийому мемоізації («memoization»). Його сенс полягає у збереженні\n",
    "параметра методу та його значення, що повертається в швидкому сховищі (словник). Цей прийом дозволить значно прискорити обчислення деяких рекурсивних функций. Тому що, якщо в цьому словнику вже будуть параметри, з якими викликалася функція, то вона не вираховуватиметься, а відповідь візьметься зі словника.\n",
    "Цей декоратор має два параметри:\n",
    "\n",
    "**maxsize** – скільки результатів зберігати. Для досягнення максимальної продуктивності рекомендується використовувати два ступені. Типово maxsize=128\n",
    "\n",
    "**typed** – по-різному зберігати параметри різних типів. Тобто.\n",
    "integer та float зберігаються по-різному. Наприклад, для чисел 3 і 3.0 дані будуть зберігатися, як різні.\n",
    "\n",
    "**Увага!** Параметри функції повинні бути типу, що хешується."
   ]
  },
  {
   "cell_type": "code",
   "execution_count": null,
   "metadata": {},
   "outputs": [],
   "source": [
    "import time\n",
    "def fibonacci(n):\n",
    "    if n == 0:\n",
    "        return 0\n",
    "    if n == 1:\n",
    "        return 1\n",
    "    return fibonacci(n-1) + fibonacci(n-2)\n",
    "\n",
    "start = time.time()\n",
    "res = fibonacci(20) # 0.001111745834350586\n",
    "print(time.time() - start)\n"
   ]
  },
  {
   "cell_type": "code",
   "execution_count": null,
   "metadata": {},
   "outputs": [],
   "source": [
    "start = time.time()\n",
    "res = fibonacci(30) # 0.1284165382385254\n",
    "print(time.time() - start)"
   ]
  },
  {
   "cell_type": "code",
   "execution_count": null,
   "metadata": {},
   "outputs": [],
   "source": [
    "start = time.time()\n",
    "res = fibonacci(35) # 1.399049997329712 2 у ступені n!\n",
    "print(time.time() - start)"
   ]
  },
  {
   "cell_type": "code",
   "execution_count": null,
   "metadata": {
    "pycharm": {
     "name": "#%%\n"
    }
   },
   "outputs": [],
   "source": [
    "import functools\n",
    "import time\n",
    "\n",
    "@functools.lru_cache() # Додамо декоратор\n",
    "def fibonacci(n):\n",
    "    if n == 0:\n",
    "        return 0\n",
    "    if n == 1:\n",
    "        return 1\n",
    "    return fibonacci(n-1) + fibonacci(n-2)\n",
    "\n",
    "start = time.time()\n",
    "res = fibonacci(250)\n",
    "print(res)  #  На кілька порядків менше!\n",
    "print(time.time() - start)"
   ]
  },
  {
   "cell_type": "markdown",
   "metadata": {
    "pycharm": {
     "name": "#%%\n"
    }
   },
   "source": [
    "##### Якщо додамо print всередину функції, побачимо багаторазові виклики з однаковими параметрами"
   ]
  },
  {
   "cell_type": "code",
   "execution_count": null,
   "metadata": {},
   "outputs": [],
   "source": [
    "\n",
    "def fibonacci(n):\n",
    "    if n == 0:\n",
    "        return 0\n",
    "    if n == 1:\n",
    "        return 1\n",
    "    print(n)\n",
    "    return fibonacci(n-1) + fibonacci(n-2)\n",
    "\n",
    "\n",
    "res = fibonacci(10)"
   ]
  },
  {
   "cell_type": "markdown",
   "metadata": {},
   "source": [
    "#### Свій декоратор для кешування"
   ]
  },
  {
   "cell_type": "code",
   "execution_count": null,
   "metadata": {},
   "outputs": [],
   "source": [
    "def cache(func):\n",
    "    data = {}\n",
    "    def wrapper(*args):\n",
    "        if args in data:\n",
    "            return data[args]\n",
    "        else:\n",
    "            result = func(*args)\n",
    "            data[args] = result\n",
    "            return result\n",
    "    return wrapper\n"
   ]
  },
  {
   "cell_type": "code",
   "execution_count": null,
   "metadata": {},
   "outputs": [],
   "source": [
    "@cache\n",
    "def fibonacci(n):\n",
    "    if n in (0, 1):\n",
    "        return n\n",
    "    else:\n",
    "        return fibonacci(n-1) + fibonacci(n-2)\n",
    "\n",
    "start = time.time()\n",
    "res = fibonacci(250)\n",
    "print(res) # Результат вражає\n",
    "print(time.time() - start)"
   ]
  }
 ],
 "metadata": {
  "kernelspec": {
   "display_name": "Python 3 (ipykernel)",
   "language": "python",
   "name": "python3"
  },
  "language_info": {
   "codemirror_mode": {
    "name": "ipython",
    "version": 3
   },
   "file_extension": ".py",
   "mimetype": "text/x-python",
   "name": "python",
   "nbconvert_exporter": "python",
   "pygments_lexer": "ipython3",
   "version": "3.10.12"
  }
 },
 "nbformat": 4,
 "nbformat_minor": 4
}
