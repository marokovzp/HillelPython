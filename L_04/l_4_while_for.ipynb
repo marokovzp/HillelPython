{
 "cells": [
  {
   "cell_type": "markdown",
   "metadata": {
    "pycharm": {
     "name": "#%% md\n"
    }
   },
   "source": [
    "# Цикли"
   ]
  },
  {
   "cell_type": "markdown",
   "metadata": {
    "pycharm": {
     "name": "#%% md\n"
    }
   },
   "source": [
    "**Цикл** — різновид керуючої конструкції у високорівневих мовах програмування, який використовується для повторного виконання набору  інструкцій.\n",
    "Послідовність інструкцій, призначена для багаторазового виконання, називається тілом циклу. Одиничне виконання тіла циклу називається ітерацією.\n",
    "Вираз, що визначає, чи буде виконуватиметься наступна ітерація, чи цикл завершиться, називається **умовою виходу** або **умовою закінчення циклу** (або умовою продовження залежно від того, як інтерпретується його істинність як ознака необхідності завершення або продовження циклу).\n"
   ]
  },
  {
   "cell_type": "markdown",
   "metadata": {
    "pycharm": {
     "name": "#%% md\n"
    }
   },
   "source": [
    "### Типи циклів у Python\n",
    "У Python існує два види циклів:\n",
    "\n",
    "**while** - використовується в Python для неодноразового виконання певної інструкції до тих пір, поки задана умова залишається істинною.\n",
    "\n",
    "**for** - вузькоспеціалізована версія циклу. Призначений для проходу по послідовностях, що ітеруються."
   ]
  },
  {
   "cell_type": "markdown",
   "metadata": {
    "pycharm": {
     "name": "#%% md\n"
    }
   },
   "source": [
    "### Приклад використання циклу while\n",
    "Припустимо, що перед вами поставили завдання вивести на екран усі числа від 1 до 10. Написати 10 рядків з функцією print() явно не найкращий вихід. Так от коли потрібно повторити якусь послідовність операторів багато разів, і використовуються цикли.\n"
   ]
  },
  {
   "cell_type": "code",
   "execution_count": null,
   "metadata": {},
   "outputs": [],
   "source": [
    "number = 1\n",
    "\n",
    "while number <= 10: # умова циклу\n",
    "    print(number)\n",
    "    number = number + 1\n",
    "print('End')"
   ]
  },
  {
   "cell_type": "code",
   "execution_count": null,
   "metadata": {},
   "outputs": [],
   "source": [
    "print(number)\n"
   ]
  },
  {
   "cell_type": "markdown",
   "metadata": {
    "pycharm": {
     "name": "#%% md\n"
    }
   },
   "source": [
    "**continue** - перериває поточну ітерацію циклу і відразу переходить до наступної."
   ]
  },
  {
   "cell_type": "code",
   "execution_count": null,
   "metadata": {},
   "outputs": [],
   "source": [
    "number = 0\n",
    "\n",
    "while number < 10:\n",
    "    number = number + 1 # До continue !!!!\n",
    "    if number == 5:\n",
    "        continue\n",
    "    print(number)\n",
    "#     number = number + 1"
   ]
  },
  {
   "cell_type": "code",
   "execution_count": null,
   "metadata": {},
   "outputs": [],
   "source": [
    "print(bool([]))"
   ]
  },
  {
   "cell_type": "code",
   "execution_count": null,
   "metadata": {},
   "outputs": [],
   "source": [
    "print(bool([1]))"
   ]
  },
  {
   "cell_type": "code",
   "execution_count": null,
   "metadata": {},
   "outputs": [],
   "source": [
    "lst = [1, 3, 5, 6]\n",
    "\n",
    "while lst: # Буде виконуватися доти, доки у списку є елементи\n",
    "    print(len(lst), '---', lst.pop(0))\n",
    "print('OK')"
   ]
  },
  {
   "cell_type": "markdown",
   "metadata": {
    "pycharm": {
     "name": "#%% md\n"
    }
   },
   "source": [
    "**break** - припиняє виконання циклу."
   ]
  },
  {
   "cell_type": "code",
   "execution_count": null,
   "metadata": {
    "scrolled": true
   },
   "outputs": [],
   "source": [
    "number = 0\n",
    "\n",
    "while number <= 10:\n",
    "    number = number + 1\n",
    "    if number == 5:\n",
    "        break # Цикл завершить свою роботу тоді, коли значення number дорівнюватиме 5\n",
    "    print(number)\n",
    "print('End')"
   ]
  },
  {
   "cell_type": "code",
   "execution_count": null,
   "metadata": {},
   "outputs": [],
   "source": [
    "print(number)  # 5"
   ]
  },
  {
   "cell_type": "code",
   "execution_count": null,
   "metadata": {},
   "outputs": [],
   "source": [
    "number = 0\n",
    "\n",
    "while True: # Якщо є break, то можна робити і так :)\n",
    "    number += 2\n",
    "    if number >= 11:\n",
    "        break\n",
    "    print(number)"
   ]
  },
  {
   "cell_type": "code",
   "execution_count": null,
   "metadata": {
    "pycharm": {
     "name": "#%%\n"
    }
   },
   "outputs": [],
   "source": [
    "number = 0\n",
    "while True: # continue та break в одному циклі\n",
    "    number = number + 1\n",
    "    if number == 5:\n",
    "        continue\n",
    "    if number == 11:\n",
    "        break\n",
    "    print(number)\n"
   ]
  },
  {
   "cell_type": "markdown",
   "metadata": {
    "pycharm": {
     "name": "#%% md\n"
    }
   },
   "source": [
    "### Доповнення блоку while оператором else\n",
    "Як і умовний оператор **if**, так і цикл **while** можна доповнити блоком **else**. Принцип роботи такого оператора є досить цікавим. Блок **else** виконається лише в тому випадку, якщо цикл завершиться нормально. Якщо ж цикл буде перервано за допомогою оператора **break** або ще якимось чином, то цей блок буде пропущено."
   ]
  },
  {
   "cell_type": "code",
   "execution_count": null,
   "metadata": {},
   "outputs": [],
   "source": [
    "# Перевірка того, що число є простим, за допомогою циклу\n",
    "number = int(input(\"input positive number \"))\n",
    "i = 2\n",
    "while i < number: # number // 2 + 1\n",
    "#     print(i)\n",
    "    if number % i == 0:\n",
    "        print(\"It is not a prime number\")\n",
    "        break\n",
    "    i = i + 1\n",
    "else: # виконається тільки якщо break в циклі не буде викликаний.\n",
    "    print(\"It is a prime number\")"
   ]
  },
  {
   "cell_type": "markdown",
   "metadata": {
    "pycharm": {
     "name": "#%% md\n"
    }
   },
   "source": [
    "### Використання вкладених циклів while\n",
    "Як і умовний оператор **if**, так і цикл **while** можна вкласти всередину іншого циклу **while**. Вийде цикл у циклі."
   ]
  },
  {
   "cell_type": "code",
   "execution_count": null,
   "metadata": {
    "scrolled": true
   },
   "outputs": [],
   "source": [
    "# виведе на екран прямокутник із символів «*».\n",
    "a = int(input(\"Input a \"))\n",
    "b = int(input(\"Input b \"))\n",
    "i = 0\n",
    "while i < a: # Висота\n",
    "    j = 0\n",
    "    while j < b: # ширина\n",
    "        print(\"*\", end='') # рядок не буде переведено\n",
    "        j += 1\n",
    "    print()\n",
    "    i += 1"
   ]
  },
  {
   "cell_type": "code",
   "execution_count": null,
   "metadata": {},
   "outputs": [],
   "source": [
    "# Друк в один рядок без перенесення\n",
    "print('ok1',  end='')\n",
    "print('ok2')"
   ]
  },
  {
   "cell_type": "code",
   "execution_count": null,
   "metadata": {},
   "outputs": [],
   "source": [
    "# Друк на кожному новому рядку\n",
    "print('ok1')\n",
    "print('ok2')\n",
    "print('ok3')"
   ]
  },
  {
   "cell_type": "markdown",
   "metadata": {
    "pycharm": {
     "name": "#%% md\n"
    }
   },
   "source": [
    "### Додаткові параметри функції print\n",
    "Функція **print** може приймати кілька необов'язкових параметрів – *end* та *sep*."
   ]
  },
  {
   "cell_type": "code",
   "execution_count": null,
   "metadata": {},
   "outputs": [],
   "source": [
    "print(1, 6, 9, sep=' ', end='\\n') # значення за замовчуванням"
   ]
  },
  {
   "cell_type": "code",
   "execution_count": null,
   "metadata": {
    "scrolled": true
   },
   "outputs": [],
   "source": [
    "# на екрані між цифрами буде пробіл. За це відповідає sep\n",
    "print(1,6,9)"
   ]
  },
  {
   "cell_type": "code",
   "execution_count": null,
   "metadata": {},
   "outputs": [],
   "source": [
    "print(4, 8, 1, sep='') # пробілів між цифрами на екрані не буде"
   ]
  },
  {
   "cell_type": "markdown",
   "metadata": {
    "pycharm": {
     "name": "#%% md\n"
    }
   },
   "source": [
    "### Цикл for в Python\n",
    "\n",
    "**for** *`ім'я_ітераційної_змінної`* **in** *`об'єкт_що_ітерується`*:\n",
    "\n",
    "На кожній ітерації такого циклу, ітераційна змінна приймає значення поточного елемента списку і буде зрушена на наступний елемент під час наступного ітерації. Таким чином, цей цикл по черзі перебере всі елементи. \n",
    "\n",
    "Перекласти цю конструкцію з мови програмування на людську можна так:\n",
    "\n",
    "*для кожного елемента у списку робити те, що вказано у тілі циклу*"
   ]
  },
  {
   "cell_type": "code",
   "execution_count": null,
   "metadata": {},
   "outputs": [],
   "source": [
    "# Доступ до елементів списку за допомогою циклу while\n",
    "lst = [4, 6, 8, 7]\n",
    "i = 0\n",
    "while i < len(lst):\n",
    "    l = lst[i]\n",
    "    print(l)\n",
    "    i += 1"
   ]
  },
  {
   "cell_type": "code",
   "execution_count": null,
   "metadata": {},
   "outputs": [],
   "source": [
    "# Те ж саме, але за допомогою циклу for\n",
    "for l in lst:\n",
    "    print(l)"
   ]
  },
  {
   "cell_type": "code",
   "execution_count": null,
   "metadata": {},
   "outputs": [],
   "source": [
    "print(lst)\n",
    "for el in lst:\n",
    "    el = el + 5\n",
    "    print(el)\n",
    "print(el)"
   ]
  },
  {
   "cell_type": "code",
   "execution_count": null,
   "metadata": {},
   "outputs": [],
   "source": [
    "print(lst) # Значення елементів списку не зміниться"
   ]
  },
  {
   "cell_type": "code",
   "execution_count": null,
   "metadata": {},
   "outputs": [],
   "source": [
    "i = 0\n",
    "for el in lst:\n",
    "    lst[i] = el + 5 # ми у явному вигляді змінюємо значення елемента у списку за індексом\n",
    "    print(el)\n",
    "    i += 1"
   ]
  },
  {
   "cell_type": "code",
   "execution_count": null,
   "metadata": {},
   "outputs": [],
   "source": [
    "print(lst) # Значення елементів списку зміниться"
   ]
  },
  {
   "cell_type": "code",
   "execution_count": null,
   "metadata": {},
   "outputs": [],
   "source": [
    "# Те ж саме, але за допомогою циклу while\n",
    "lst = [4, 6, 8, 7]\n",
    "i = 0\n",
    "while i < len(lst):\n",
    "    lst[i] = lst[i] + 5\n",
    "    i += 1"
   ]
  },
  {
   "cell_type": "code",
   "execution_count": null,
   "metadata": {},
   "outputs": [],
   "source": [
    "print(lst)\n"
   ]
  },
  {
   "cell_type": "markdown",
   "metadata": {},
   "source": [
    "#### Функція enumerate отримує як аргумент об'єкт, що ітерується, і повертає два значення - число з послідовності, яке за замовчуванням починається з 0, і елемент з об'єкта, що ітерується."
   ]
  },
  {
   "cell_type": "code",
   "execution_count": null,
   "metadata": {
    "scrolled": true
   },
   "outputs": [],
   "source": [
    "lst = [4, 6, 8, 7]\n",
    "for i, el in enumerate(lst):\n",
    "    print(i, end=' ')\n",
    "    lst[i] = el + 5\n",
    "    print(el)"
   ]
  },
  {
   "cell_type": "code",
   "execution_count": null,
   "metadata": {},
   "outputs": [],
   "source": [
    "print(lst)"
   ]
  },
  {
   "cell_type": "markdown",
   "metadata": {
    "pycharm": {
     "name": "#%% md\n"
    }
   },
   "source": [
    "### Генератор числової послідовності *range*"
   ]
  },
  {
   "cell_type": "code",
   "execution_count": null,
   "metadata": {},
   "outputs": [],
   "source": [
    "print(range(10))\n"
   ]
  },
  {
   "cell_type": "code",
   "execution_count": null,
   "metadata": {},
   "outputs": [],
   "source": [
    "print(type(range(10)))"
   ]
  },
  {
   "cell_type": "code",
   "execution_count": null,
   "metadata": {
    "scrolled": true
   },
   "outputs": [],
   "source": [
    "# Для того щоб побачити всі елементи послідовності, її необхідно \"розгорнути\"\n",
    "print(list(range(10)))"
   ]
  },
  {
   "cell_type": "code",
   "execution_count": null,
   "metadata": {},
   "outputs": [],
   "source": [
    "import sys\n",
    "print(sys.getsizeof(range(10_000_000))) # обсяг пам'яті, який займає генератор"
   ]
  },
  {
   "cell_type": "code",
   "execution_count": null,
   "metadata": {},
   "outputs": [],
   "source": [
    "# об'єм пам'яті, який займає список, для такого ж кількості елементів\n",
    "print(sys.getsizeof(list(range(10_000_000)))) "
   ]
  },
  {
   "cell_type": "markdown",
   "metadata": {},
   "source": [
    "**Але насправді, в цьому випадку обсяг пам'яті буде в рази більше! Оскільки крім розміру списку, потрібно ще враховувати ту пам'ять, у якій зберігаються всі числа з цієї послідовності. Тобто, коли ми \"розкрили\" генератор, всі числа, які повинні були знаходитися в цій послідовності, були створені в явному вигляді, і кожне з них було поміщено в оперативну пам'ять комп'ютера.**"
   ]
  },
  {
   "cell_type": "code",
   "execution_count": null,
   "metadata": {},
   "outputs": [],
   "source": [
    "# Практичний приклад використання\n",
    "lst = [4, 6, 8, 7]\n",
    "for i in range(len(lst)):\n",
    "    print(i)\n",
    "    lst[i] = lst[i] + 5\n",
    "print(lst)"
   ]
  },
  {
   "cell_type": "markdown",
   "metadata": {},
   "source": [
    "Декілька особливостей використання функції range"
   ]
  },
  {
   "cell_type": "code",
   "execution_count": null,
   "metadata": {},
   "outputs": [],
   "source": [
    "list(range(3, 10)) # Якщо є необхідність, можна вказати значення початку. За промовчанням це 0"
   ]
  },
  {
   "cell_type": "code",
   "execution_count": null,
   "metadata": {
    "scrolled": true
   },
   "outputs": [],
   "source": [
    "list(range(3, 10, 2)) # можна вказати значення кроку. За замовчуванням це 1"
   ]
  },
  {
   "cell_type": "code",
   "execution_count": null,
   "metadata": {},
   "outputs": [],
   "source": [
    "list(range(-13, -10)) # Послідовність може бути негативною у бік збільшення значення"
   ]
  },
  {
   "cell_type": "code",
   "execution_count": null,
   "metadata": {},
   "outputs": [],
   "source": [
    "list(range(0, -10, -1)) # Послідовність може бути негативною у бік зменшення значення"
   ]
  },
  {
   "cell_type": "code",
   "execution_count": null,
   "metadata": {},
   "outputs": [],
   "source": [
    "list(range(0.5, 10.5)) # TypeError: 'float' object cannot be interpreted as an integer"
   ]
  },
  {
   "cell_type": "markdown",
   "metadata": {
    "pycharm": {
     "name": "#%% md\n"
    }
   },
   "source": [
    "#### Заповнити список випадковою кількістю елементів від 6 до 15 та випадковим значенням від 1 до 100, і порахувати їхню суму."
   ]
  },
  {
   "cell_type": "code",
   "execution_count": 2,
   "metadata": {},
   "outputs": [
    {
     "name": "stdout",
     "output_type": "stream",
     "text": [
      "[689, 437, 781, 261, 676, 492, 659, 466, 154, 173, 692, 969, 429, 636]\n",
      "7514\n"
     ]
    }
   ],
   "source": [
    "import random\n",
    "my_list = []\n",
    "# Не найоптимальніший варіант рішення\n",
    "for i in range(random.randint(6, 15)):\n",
    "    my_list.append(random.randint(1, 1000))\n",
    "print(my_list)\n",
    "\n",
    "summa = 0\n",
    "for element in my_list:\n",
    "    summa += element\n",
    "print(summa)"
   ]
  },
  {
   "cell_type": "code",
   "execution_count": null,
   "metadata": {
    "scrolled": true
   },
   "outputs": [],
   "source": [
    "# варіант створення списків за допомогою генератора списків (спискове включення)\n",
    "my_list = [random.randint(1, 100) for i in range(random.randint(6, 15))]\n",
    "print(my_list)"
   ]
  },
  {
   "cell_type": "code",
   "execution_count": null,
   "metadata": {},
   "outputs": [],
   "source": [
    "# Знаходження суми елементів послідовності за допомогою вбудованої функції sum\n",
    "print(sum(my_list))"
   ]
  },
  {
   "cell_type": "code",
   "execution_count": null,
   "metadata": {},
   "outputs": [],
   "source": [
    "# оптимальний варіант рішення\n",
    "my_list = [random.randint(1,100) for i in range(random.randint(6, 15))]\n",
    "print(my_list)\n",
    "print(sum(my_list))"
   ]
  },
  {
   "cell_type": "code",
   "execution_count": null,
   "metadata": {},
   "outputs": [],
   "source": [
    "# варіанти використання генератора списків з іншим списком\n",
    "lst = [88, 13, 6, 79, 1, 19, 79, 17, 1, 70]\n",
    "y = 10\n",
    "my_list = [i + y for i in lst]\n",
    "print(my_list)"
   ]
  },
  {
   "cell_type": "markdown",
   "metadata": {
    "pycharm": {
     "name": "#%% md\n"
    }
   },
   "source": [
    "#### Модуль random\n",
    "Декілька основних методів"
   ]
  },
  {
   "cell_type": "code",
   "execution_count": 1,
   "metadata": {
    "pycharm": {
     "name": "#%%\n"
    }
   },
   "outputs": [
    {
     "name": "stdout",
     "output_type": "stream",
     "text": [
      "Виведення випадкового числа від 0 до 1\n"
     ]
    },
    {
     "ename": "NameError",
     "evalue": "name 'random' is not defined",
     "output_type": "error",
     "traceback": [
      "\u001b[1;31m---------------------------------------------------------------------------\u001b[0m",
      "\u001b[1;31mNameError\u001b[0m                                 Traceback (most recent call last)",
      "Cell \u001b[1;32mIn[1], line 2\u001b[0m\n\u001b[0;32m      1\u001b[0m \u001b[38;5;28mprint\u001b[39m(\u001b[38;5;124m\"\u001b[39m\u001b[38;5;124mВиведення випадкового числа від 0 до 1\u001b[39m\u001b[38;5;124m\"\u001b[39m)\n\u001b[1;32m----> 2\u001b[0m \u001b[38;5;28mprint\u001b[39m(\u001b[43mrandom\u001b[49m\u001b[38;5;241m.\u001b[39mrandom())\n",
      "\u001b[1;31mNameError\u001b[0m: name 'random' is not defined"
     ]
    }
   ],
   "source": [
    "print(\"Виведення випадкового числа від 0 до 1\")\n",
    "print(random.random())"
   ]
  },
  {
   "cell_type": "code",
   "execution_count": null,
   "metadata": {
    "pycharm": {
     "name": "#%%\n"
    },
    "scrolled": true
   },
   "outputs": [],
   "source": [
    "print(\"Виведення випадкового цілого числа randint\")\n",
    "print( random.randint(0, 100))\n",
    "\n",
    "print(\"Виведення випадкового цілого числа randrange\")\n",
    "print(random.randrange(0, 500, 5))\n"
   ]
  },
  {
   "cell_type": "code",
   "execution_count": null,
   "metadata": {
    "pycharm": {
     "name": "#%%\n"
    },
    "scrolled": true
   },
   "outputs": [],
   "source": [
    "city_list = ['New York', 'Los Angeles', 'Chicago', 'Houston', 'Philadelphia']\n",
    "print(\"Вибір випадкового міста зі списку\")\n",
    "print(random.choice(city_list))\n"
   ]
  },
  {
   "cell_type": "code",
   "execution_count": null,
   "metadata": {},
   "outputs": [],
   "source": [
    "lst = [55, 66, 77, 88, 99]\n",
    "print(\"random.choice використовується для вибору випадкового елемента зі списку -\")\n",
    "print(random.choice(lst))"
   ]
  },
  {
   "cell_type": "code",
   "execution_count": null,
   "metadata": {
    "pycharm": {
     "name": "#%%\n"
    },
    "scrolled": true
   },
   "outputs": [],
   "source": [
    "lst = [2, 5, 8, 9, 12, 55, 66, 77, 88, 99]\n",
    "random.shuffle(lst)\n",
    "print (\"Виведення перемішаного списку\", lst)"
   ]
  },
  {
   "cell_type": "code",
   "execution_count": null,
   "metadata": {},
   "outputs": [],
   "source": [
    "random.shuffle(range(15)) # TypeError"
   ]
  },
  {
   "cell_type": "code",
   "execution_count": null,
   "metadata": {},
   "outputs": [],
   "source": [
    "lst = [2, 5, 8, 9, 12, 55, 66, 77, 88, 99]\n",
    "print(\"random.sample повертає список з 5 випадкових елементів зі списку \")\n",
    "random.sample(lst, 5)"
   ]
  },
  {
   "cell_type": "code",
   "execution_count": null,
   "metadata": {},
   "outputs": [],
   "source": [
    "# Приклад створення та заповнення списку списків\n",
    "import random\n",
    "\n",
    "matrix = []\n",
    "for i in range(5):\n",
    "    col = []\n",
    "    for j in range(4):\n",
    "        col.append(random.randint(0, 100))\n",
    "    matrix.append(col)\n",
    "print(matrix)"
   ]
  },
  {
   "cell_type": "code",
   "execution_count": null,
   "metadata": {},
   "outputs": [],
   "source": [
    "for lst in matrix:\n",
    "    print(lst)"
   ]
  },
  {
   "cell_type": "code",
   "execution_count": null,
   "metadata": {},
   "outputs": [],
   "source": [
    "matrix = [[random.randint(0, 100) for i in range(4)] for j in range(5)]\n",
    "print(matrix)\n"
   ]
  },
  {
   "cell_type": "code",
   "execution_count": null,
   "metadata": {},
   "outputs": [],
   "source": [
    "# Погана ідея в циклі проходити елементами списку і змінювати його!\n",
    "lst = [56, 6, 8, 7]\n",
    "for i in range(len(lst)):\n",
    "    print(i , end=' ')\n",
    "    print(' -- ' , lst[i])\n",
    "    if lst[i] == 6:\n",
    "        _ = lst.pop(i)\n",
    "    print(lst[i])\n",
    "print(lst)"
   ]
  },
  {
   "cell_type": "code",
   "execution_count": null,
   "metadata": {
    "scrolled": true
   },
   "outputs": [],
   "source": [
    "# Помилки немає, але цикл все одно пропускає один елемент\n",
    "lst = [56, 6, 8, 7]\n",
    "for el in lst:\n",
    "    if el == 6:\n",
    "        lst.remove(6)\n",
    "    print(el)"
   ]
  },
  {
   "cell_type": "code",
   "execution_count": null,
   "metadata": {},
   "outputs": [],
   "source": [
    "# while and for\n",
    "i = 0\n",
    "lst = [56, 6, 8, 7]\n",
    "while i < 6:\n",
    "    for e in lst:\n",
    "        print(e + i, end=' ')\n",
    "    print()\n",
    "    i += 1\n",
    "    "
   ]
  }
 ],
 "metadata": {
  "kernelspec": {
   "display_name": "Python 3 (ipykernel)",
   "language": "python",
   "name": "python3"
  },
  "language_info": {
   "codemirror_mode": {
    "name": "ipython",
    "version": 3
   },
   "file_extension": ".py",
   "mimetype": "text/x-python",
   "name": "python",
   "nbconvert_exporter": "python",
   "pygments_lexer": "ipython3",
   "version": "3.12.4"
  }
 },
 "nbformat": 4,
 "nbformat_minor": 4
}
