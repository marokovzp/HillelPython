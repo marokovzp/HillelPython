{
 "cells": [
  {
   "cell_type": "markdown",
   "metadata": {
    "collapsed": true,
    "jupyter": {
     "outputs_hidden": true
    },
    "pycharm": {
     "name": "#%% md\n"
    }
   },
   "source": [
    "## Генератори"
   ]
  },
  {
   "cell_type": "markdown",
   "metadata": {},
   "source": [
    "### Генераторні функції в Python\n",
    "Генераторні функції — функції, які автоматично призупиняють та відновлюють своє виконання, зберігаючи при цьому необхідну для генерації\n",
    "значень інформацію.\n",
    "Функції-генератори при зупинці автоматично зберігають інформацію про свій стан, під яким розуміється вся локальна область видимості з усіма\n",
    "локальними змінними, яка стає доступною відразу ж, як тільки функція відновлює роботу. Відмінність генераторної функції від звичайної в тому, що генераторна функція генерує значення, а не повертає його. Для цього в генераторній функції використовується оператор **yield**."
   ]
  },
  {
   "cell_type": "code",
   "execution_count": null,
   "metadata": {
    "pycharm": {
     "name": "#%%\n"
    }
   },
   "outputs": [],
   "source": [
    "gen = range(5) # Вбудований генератор\n",
    "print(gen)\n",
    "print(type(gen))"
   ]
  },
  {
   "cell_type": "code",
   "execution_count": null,
   "metadata": {},
   "outputs": [],
   "source": [
    "import sys\n",
    "print(sys.getsizeof(gen))"
   ]
  },
  {
   "cell_type": "code",
   "execution_count": null,
   "metadata": {},
   "outputs": [],
   "source": [
    "#Розмір займаної генератором пам'яті не залежить від кількості елементів\n",
    "print(sys.getsizeof(range(500000000000000000000000))) "
   ]
  },
  {
   "cell_type": "code",
   "execution_count": null,
   "metadata": {},
   "outputs": [],
   "source": [
    "lst = list(gen)\n",
    "print(lst)"
   ]
  },
  {
   "cell_type": "code",
   "execution_count": null,
   "metadata": {},
   "outputs": [],
   "source": [
    "print(sys.getsizeof(lst)) #Розмір займаної списком пам'яті дуже залежить від кількості елементів"
   ]
  },
  {
   "cell_type": "markdown",
   "metadata": {
    "pycharm": {
     "name": "#%% md\n"
    }
   },
   "source": [
    "#### Для опису генераторних функцій як і звичайних функцій використовується оператор **def**. Проте замість оператора **return** використовується оператор **yield**."
   ]
  },
  {
   "cell_type": "code",
   "execution_count": null,
   "metadata": {
    "pycharm": {
     "name": "#%%\n"
    }
   },
   "outputs": [],
   "source": [
    "# Нескінченний лічильник\n",
    "def add_one(value):\n",
    "    return value + 1\n",
    "\n",
    "\n",
    "def count(start, func):\n",
    "    while True:\n",
    "        yield start\n",
    "        start = func(start)"
   ]
  },
  {
   "cell_type": "code",
   "execution_count": null,
   "metadata": {
    "pycharm": {
     "name": "#%%\n"
    }
   },
   "outputs": [],
   "source": [
    "counter = count(0, add_one) # Ініціалізація генератора\n"
   ]
  },
  {
   "cell_type": "code",
   "execution_count": null,
   "metadata": {},
   "outputs": [],
   "source": [
    "print(counter)"
   ]
  },
  {
   "cell_type": "code",
   "execution_count": null,
   "metadata": {},
   "outputs": [],
   "source": [
    "print(sys.getsizeof(counter))"
   ]
  },
  {
   "cell_type": "code",
   "execution_count": null,
   "metadata": {},
   "outputs": [],
   "source": [
    "print(next(counter)) # Щоб отримати значення з генератора, потрібно зробити запит у явному вигляді\n"
   ]
  },
  {
   "cell_type": "code",
   "execution_count": null,
   "metadata": {},
   "outputs": [],
   "source": [
    "#Після видачі значення, генератор завмирає до наступного до нього звернення\n",
    "print('OK')"
   ]
  },
  {
   "cell_type": "code",
   "execution_count": null,
   "metadata": {},
   "outputs": [],
   "source": [
    "print(next(counter))\n"
   ]
  },
  {
   "cell_type": "code",
   "execution_count": null,
   "metadata": {
    "pycharm": {
     "name": "#%%\n"
    },
    "scrolled": true
   },
   "outputs": [],
   "source": [
    "#отримання наступних 5 значень\n",
    "for i in range(5):\n",
    "    print(next(counter))\n"
   ]
  },
  {
   "cell_type": "code",
   "execution_count": null,
   "metadata": {},
   "outputs": [],
   "source": [
    "print(next(counter))\n"
   ]
  },
  {
   "cell_type": "code",
   "execution_count": null,
   "metadata": {},
   "outputs": [],
   "source": [
    "counter1 = count(0, add_one) # Ініціалізація ще одного генератора\n",
    "next(counter1)"
   ]
  },
  {
   "cell_type": "code",
   "execution_count": null,
   "metadata": {},
   "outputs": [],
   "source": [
    "print(next(counter))"
   ]
  },
  {
   "cell_type": "markdown",
   "metadata": {},
   "source": [
    "##### Генератор не можна використовувати багаторазово"
   ]
  },
  {
   "cell_type": "code",
   "execution_count": null,
   "metadata": {
    "pycharm": {
     "name": "#%%\n"
    },
    "scrolled": true
   },
   "outputs": [],
   "source": [
    "#Генератор, який повертає лише одне значення\n",
    "def g():\n",
    "    yield 42\n",
    "gen = g()\n"
   ]
  },
  {
   "cell_type": "code",
   "execution_count": null,
   "metadata": {},
   "outputs": [],
   "source": [
    "print(list(gen)) # [42]\n"
   ]
  },
  {
   "cell_type": "code",
   "execution_count": null,
   "metadata": {},
   "outputs": [],
   "source": [
    "print(list(gen)) # []"
   ]
  },
  {
   "cell_type": "markdown",
   "metadata": {},
   "source": [
    "#### Дуже важливе зауваження - генератор завмирає в місці, де знаходиться оператор yield"
   ]
  },
  {
   "cell_type": "code",
   "execution_count": null,
   "metadata": {
    "pycharm": {
     "name": "#%%\n"
    }
   },
   "outputs": [],
   "source": [
    "#Переробимо функцію формування чисел Фібоначчі, в генератор\n",
    "def fibonacci(n):\n",
    "    print('start')\n",
    "#     res = []\n",
    "    a, b = 1, 1\n",
    "    for i in range(n):\n",
    "        print('-')\n",
    "        yield a\n",
    "#         res.append(a)\n",
    "        print('*')\n",
    "        a, b = b, a + b\n",
    "#     return res\n",
    "data = fibonacci(10)\n",
    "print(data)"
   ]
  },
  {
   "cell_type": "code",
   "execution_count": null,
   "metadata": {
    "pycharm": {
     "name": "#%%\n"
    }
   },
   "outputs": [],
   "source": [
    "# Оскільки це генераторна функція, вона не формує відразу всі елементи послідовності,\n",
    "# а повертає їх у міру виклику.\n",
    "data = fibonacci(10)\n",
    "\n"
   ]
  },
  {
   "cell_type": "markdown",
   "metadata": {},
   "source": [
    "##### зверніть увагу на те, коли з'являються - та * на екрані"
   ]
  },
  {
   "cell_type": "code",
   "execution_count": null,
   "metadata": {},
   "outputs": [],
   "source": [
    "#Тут ми побачимо start, потім -, а в кінці 1\n",
    "print(next(data))"
   ]
  },
  {
   "cell_type": "code",
   "execution_count": null,
   "metadata": {},
   "outputs": [],
   "source": [
    "print(next(data)) # *, -, 1\n"
   ]
  },
  {
   "cell_type": "code",
   "execution_count": null,
   "metadata": {},
   "outputs": [],
   "source": [
    "print(next(data)) # *, -, 2\n"
   ]
  },
  {
   "cell_type": "code",
   "execution_count": null,
   "metadata": {
    "scrolled": true
   },
   "outputs": [],
   "source": [
    "print(next(data)) # *, -, 3"
   ]
  },
  {
   "cell_type": "code",
   "execution_count": null,
   "metadata": {
    "pycharm": {
     "name": "#%%\n"
    }
   },
   "outputs": [],
   "source": [
    "for i in fibonacci(9):\n",
    "    print(i)"
   ]
  },
  {
   "cell_type": "markdown",
   "metadata": {},
   "source": [
    "### Оператор yield можна використовувати як точку обміну інформацією з генератором"
   ]
  },
  {
   "cell_type": "code",
   "execution_count": null,
   "metadata": {
    "pycharm": {
     "name": "#%%\n"
    }
   },
   "outputs": [],
   "source": [
    "def g():\n",
    "    res = yield 2 # точка входу 1\n",
    "    print(\"Got {}\".format(res))\n",
    "    res = yield 42 # точка входу 2\n",
    "    print(\"Got again {}\".format(res))"
   ]
  },
  {
   "cell_type": "code",
   "execution_count": null,
   "metadata": {
    "pycharm": {
     "name": "#%%\n"
    }
   },
   "outputs": [],
   "source": [
    "gen = g()\n",
    "print(next(gen)) # побачимо 2\n",
    "\n"
   ]
  },
  {
   "cell_type": "code",
   "execution_count": null,
   "metadata": {},
   "outputs": [],
   "source": [
    "print(next(gen)) # побачимо Got None та 42\n"
   ]
  },
  {
   "cell_type": "code",
   "execution_count": null,
   "metadata": {
    "scrolled": true
   },
   "outputs": [],
   "source": [
    "print(next(gen)) # побачимо Got again None та StopIteration"
   ]
  },
  {
   "cell_type": "markdown",
   "metadata": {},
   "source": [
    "##### Тобто, як результат звернення до генератора, yield повертав значення None"
   ]
  },
  {
   "cell_type": "markdown",
   "metadata": {},
   "source": [
    "##### StopIteration - це ознака того, що в генераторі більше немає елементів"
   ]
  },
  {
   "cell_type": "code",
   "execution_count": null,
   "metadata": {},
   "outputs": [],
   "source": [
    "# У циклі ми побачимо ті самі значення\n",
    "new_gen = g()\n",
    "for i in new_gen:\n",
    "    print(i)"
   ]
  },
  {
   "cell_type": "markdown",
   "metadata": {},
   "source": [
    "#### Метод *send()* дає можливість передати в генератор якесь значення"
   ]
  },
  {
   "cell_type": "code",
   "execution_count": null,
   "metadata": {
    "pycharm": {
     "name": "#%%\n"
    }
   },
   "outputs": [],
   "source": [
    "def s_gen():\n",
    "    print('Start Generator')\n",
    "    x = yield 45\n",
    "    print(f'Received: {x}')"
   ]
  },
  {
   "cell_type": "code",
   "execution_count": null,
   "metadata": {
    "pycharm": {
     "name": "#%%\n"
    }
   },
   "outputs": [],
   "source": [
    "new_gen = s_gen()\n",
    "print(next(new_gen)) #запуск генератора (або new_gen.send(None))\n"
   ]
  },
  {
   "cell_type": "code",
   "execution_count": null,
   "metadata": {
    "scrolled": true
   },
   "outputs": [],
   "source": [
    "print(new_gen.send(90)) # передаємо значення всередину генератора"
   ]
  },
  {
   "cell_type": "code",
   "execution_count": null,
   "metadata": {},
   "outputs": [],
   "source": [
    "s = fibonacci(4)\n",
    "print(next(s))\n",
    "print(next(s))\n",
    "print(next(s))\n",
    "print(next(s))"
   ]
  },
  {
   "cell_type": "code",
   "execution_count": null,
   "metadata": {
    "scrolled": true
   },
   "outputs": [],
   "source": [
    "print(next(s)) # StopIteration - це ознака того, що в генераторі більше немає елементів"
   ]
  },
  {
   "cell_type": "code",
   "execution_count": null,
   "metadata": {},
   "outputs": [],
   "source": [
    "#Приклад того, як можна впливати на роботу генератора\n",
    "def s_gen():\n",
    "    x = 1\n",
    "    while x > 0:\n",
    "        print('Start Generator')\n",
    "        x = yield 45 #Якщо в генератор нічого не передавати, то yield поверне None\n",
    "        print(f'Received: {x}')\n",
    "        if x is None:\n",
    "            #Для того, щоб while не зламався, потрібно щоб х був числом а не None\n",
    "            x = 0"
   ]
  },
  {
   "cell_type": "code",
   "execution_count": null,
   "metadata": {},
   "outputs": [],
   "source": [
    "new_gen = s_gen()\n",
    "print(next(new_gen))"
   ]
  },
  {
   "cell_type": "code",
   "execution_count": null,
   "metadata": {
    "scrolled": true
   },
   "outputs": [],
   "source": [
    "print(next(new_gen)) # Нічого не передавали в генератор і отримали StopIteration"
   ]
  },
  {
   "cell_type": "code",
   "execution_count": null,
   "metadata": {},
   "outputs": [],
   "source": [
    "#Знову ініціюємо генератор\n",
    "new_gen = s_gen()\n",
    "print(new_gen.send(None)) #запуск генератора за допомогою send(None)"
   ]
  },
  {
   "cell_type": "code",
   "execution_count": null,
   "metadata": {
    "scrolled": true
   },
   "outputs": [],
   "source": [
    "print(new_gen.send(90))#генератор отримує значення і не зупиняється"
   ]
  },
  {
   "cell_type": "code",
   "execution_count": null,
   "metadata": {
    "scrolled": true
   },
   "outputs": [],
   "source": [
    "print(new_gen.send(10))#генератор отримує значення і не зупиняється"
   ]
  },
  {
   "cell_type": "code",
   "execution_count": null,
   "metadata": {},
   "outputs": [],
   "source": [
    "print(new_gen.send(0)) #передаємо 0 і генератор зупиняється"
   ]
  },
  {
   "cell_type": "markdown",
   "metadata": {},
   "source": [
    "#### Як можна моніторити стан генератора"
   ]
  },
  {
   "cell_type": "code",
   "execution_count": null,
   "metadata": {
    "pycharm": {
     "name": "#%%\n"
    }
   },
   "outputs": [],
   "source": [
    "def g(a):\n",
    "    print(f'Start Generator a={a}')\n",
    "    b = yield a\n",
    "    print(f'Received: {b}')\n",
    "    c = yield a + b\n",
    "    print(f'Received: {c}')\n"
   ]
  },
  {
   "cell_type": "code",
   "execution_count": null,
   "metadata": {
    "pycharm": {
     "name": "#%%\n"
    }
   },
   "outputs": [],
   "source": [
    "from inspect import getgeneratorstate\n",
    "gen = g(14)\n",
    "print(getgeneratorstate(gen))\n",
    "#GEN_CREATED генератор ініціалізований"
   ]
  },
  {
   "cell_type": "code",
   "execution_count": null,
   "metadata": {
    "pycharm": {
     "name": "#%%\n"
    }
   },
   "outputs": [],
   "source": [
    "print(next(gen))\n",
    "print(getgeneratorstate(gen))\n",
    "#GEN_SUSPENDED генератор знаходиться в режимі очікування"
   ]
  },
  {
   "cell_type": "code",
   "execution_count": null,
   "metadata": {
    "pycharm": {
     "name": "#%%\n"
    }
   },
   "outputs": [],
   "source": [
    "print(gen.send(25))\n"
   ]
  },
  {
   "cell_type": "code",
   "execution_count": null,
   "metadata": {},
   "outputs": [],
   "source": [
    "getgeneratorstate(gen)"
   ]
  },
  {
   "cell_type": "code",
   "execution_count": null,
   "metadata": {
    "pycharm": {
     "name": "#%%\n"
    }
   },
   "outputs": [],
   "source": [
    "gen.send(100)"
   ]
  },
  {
   "cell_type": "code",
   "execution_count": null,
   "metadata": {
    "pycharm": {
     "name": "#%%\n"
    }
   },
   "outputs": [],
   "source": [
    "print(getgeneratorstate(gen))\n",
    "#GEN_CLOSED генератор закінчив роботу"
   ]
  },
  {
   "cell_type": "markdown",
   "metadata": {},
   "source": [
    "##### Генератор, який повертає значення числового ряду, зведених у квадрат"
   ]
  },
  {
   "cell_type": "code",
   "execution_count": null,
   "metadata": {
    "pycharm": {
     "name": "#%%\n"
    }
   },
   "outputs": [],
   "source": [
    "def square_gen(n):\n",
    "    i = 0\n",
    "    exponent = 2\n",
    "    while i <= n:\n",
    "        print('number:', i)\n",
    "        temp_exponent = yield i**exponent # повертає значення, зведені у ступінь exponent\n",
    "        i = i + 1\n",
    "        print(f'i = {i}')\n",
    "        if temp_exponent is not None:\n",
    "            # Якщо в генератор було передано щось, змінюємо значення exponent\n",
    "            print('Not None')\n",
    "            exponent = temp_exponent"
   ]
  },
  {
   "cell_type": "code",
   "execution_count": null,
   "metadata": {
    "pycharm": {
     "name": "#%%\n"
    }
   },
   "outputs": [],
   "source": [
    "g = square_gen(8) # Ініціюємо генератор формування послідовності з 8 чисел\n"
   ]
  },
  {
   "cell_type": "code",
   "execution_count": null,
   "metadata": {
    "scrolled": true
   },
   "outputs": [],
   "source": [
    "print(next(g)) # запуск генератора\n",
    "\n"
   ]
  },
  {
   "cell_type": "code",
   "execution_count": null,
   "metadata": {},
   "outputs": [],
   "source": [
    "print(next(g)) # 1\n",
    "print(next(g)) # 4\n",
    "print(next(g)) # 9"
   ]
  },
  {
   "cell_type": "code",
   "execution_count": null,
   "metadata": {},
   "outputs": [],
   "source": [
    "print(g.send(3)) # Передаємо нове значення\n"
   ]
  },
  {
   "cell_type": "code",
   "execution_count": null,
   "metadata": {
    "scrolled": true
   },
   "outputs": [],
   "source": [
    "print(next(g)) # 5**3 = 125 \n",
    "print(next(g)) # 6**3 = 216"
   ]
  },
  {
   "cell_type": "code",
   "execution_count": null,
   "metadata": {
    "scrolled": true
   },
   "outputs": [],
   "source": [
    "print(g.send(2)) # Передаємо нове значення 7**2 = 49"
   ]
  },
  {
   "cell_type": "code",
   "execution_count": null,
   "metadata": {},
   "outputs": [],
   "source": [
    "print(g.send(25)) # Передаємо нове значення"
   ]
  },
  {
   "cell_type": "code",
   "execution_count": null,
   "metadata": {},
   "outputs": [],
   "source": [
    "print(next(g)) # StopIteration"
   ]
  },
  {
   "cell_type": "code",
   "execution_count": null,
   "metadata": {},
   "outputs": [],
   "source": [
    "#цикл for гасить виняток StopIteration\n",
    "g = square_gen(8)\n",
    "for i in g:\n",
    "    print(i)"
   ]
  },
  {
   "cell_type": "markdown",
   "metadata": {},
   "source": [
    "### Генераторні вирази"
   ]
  },
  {
   "cell_type": "code",
   "execution_count": null,
   "metadata": {
    "pycharm": {
     "name": "#%%\n"
    }
   },
   "outputs": [],
   "source": [
    "v_lst = [i * 2 for i in range(10000)]\n",
    "g_lst = (i ** 2 for i in range(10000))\n",
    "# print(v_lst)\n",
    "print(g_lst) #генератор, а не список"
   ]
  },
  {
   "cell_type": "code",
   "execution_count": null,
   "metadata": {
    "pycharm": {
     "name": "#%%\n"
    },
    "scrolled": true
   },
   "outputs": [],
   "source": [
    "for i in g_lst:\n",
    "    print(i, end=' ')\n",
    "    if i == 36:\n",
    "        break"
   ]
  },
  {
   "cell_type": "code",
   "execution_count": null,
   "metadata": {
    "scrolled": true
   },
   "outputs": [],
   "source": [
    "for i in g_lst:\n",
    "    print(i)\n",
    "    if i == 100:\n",
    "        break"
   ]
  },
  {
   "cell_type": "code",
   "execution_count": null,
   "metadata": {},
   "outputs": [],
   "source": [
    "print(next(g_lst))"
   ]
  },
  {
   "cell_type": "code",
   "execution_count": null,
   "metadata": {},
   "outputs": [],
   "source": [
    "v_lst = [i ** 2 for i in range(10000)]\n",
    "g_lst = (i ** 2 for i in range(10000))"
   ]
  },
  {
   "cell_type": "code",
   "execution_count": null,
   "metadata": {
    "scrolled": true
   },
   "outputs": [],
   "source": [
    "# Відрізняються за розміром\n",
    "import sys\n",
    "print(sys.getsizeof(v_lst))\n",
    "print(sys.getsizeof(g_lst))"
   ]
  },
  {
   "cell_type": "code",
   "execution_count": null,
   "metadata": {},
   "outputs": [],
   "source": [
    "g_lst = (i ** 2 for i in range(1_000_000_000_000))"
   ]
  },
  {
   "cell_type": "code",
   "execution_count": null,
   "metadata": {},
   "outputs": [],
   "source": [
    "print(sys.getsizeof(g_lst)) # Ті самі 104 байти"
   ]
  },
  {
   "cell_type": "code",
   "execution_count": null,
   "metadata": {},
   "outputs": [],
   "source": [
    "g_lst = (i ** 2 for i in range(10))"
   ]
  },
  {
   "cell_type": "markdown",
   "metadata": {},
   "source": [
    "##### За допомогою функції list можна отримати всі значення генератора у вигляді списку. Те саме відбувається, коли ми створюємо список за допомогою генератора списку з використанням квадратних дужок"
   ]
  },
  {
   "cell_type": "code",
   "execution_count": null,
   "metadata": {},
   "outputs": [],
   "source": [
    "print(list(g_lst))"
   ]
  },
  {
   "cell_type": "code",
   "execution_count": null,
   "metadata": {
    "pycharm": {
     "name": "#%%\n"
    }
   },
   "outputs": [],
   "source": [
    "#З генератора не можна отримати значення, більше одного разу\n",
    "print(list(g_lst)) \n",
    "print(g_lst)\n",
    "print(sys.getsizeof(g_lst)) #При цьому розмір порожнього генератора ті ж 104 байти"
   ]
  },
  {
   "cell_type": "code",
   "execution_count": null,
   "metadata": {
    "pycharm": {
     "name": "#%%\n"
    }
   },
   "outputs": [],
   "source": [
    "b = [x**2 for x in range(5)]\n",
    "# Еквівалентно\n",
    "a = []\n",
    "for x in range(5):\n",
    "    a.append(x**2)"
   ]
  },
  {
   "cell_type": "markdown",
   "metadata": {
    "pycharm": {
     "name": "#%% md\n"
    }
   },
   "source": [
    "#### генераторний вираз з умовою"
   ]
  },
  {
   "cell_type": "code",
   "execution_count": null,
   "metadata": {
    "pycharm": {
     "name": "#%%\n"
    },
    "scrolled": true
   },
   "outputs": [],
   "source": [
    "lst = [3, 8, 0, 1, 2, 7]\n",
    "b = [x for x in lst if not x % 2]\n",
    "print(b)"
   ]
  },
  {
   "cell_type": "markdown",
   "metadata": {},
   "source": [
    "##### Є нюанс при перевірці вираження генератора на порожнечу"
   ]
  },
  {
   "cell_type": "code",
   "execution_count": null,
   "metadata": {
    "pycharm": {
     "name": "#%%\n"
    }
   },
   "outputs": [],
   "source": [
    "a = [4, 8, 0, 6, 2, 10]\n",
    "\n",
    "b = [x for x in a if x % 2]\n",
    "c = (x for x in a if x % 2)\n",
    "\n",
    "print(b)\n",
    "\n",
    "if b:\n",
    "    print('List exist')\n",
    "\n",
    "if c: #хоча в генераторі немає жодного значення, але перевірку на порожнечу не проходить\n",
    "    print('Gen exist')\n",
    "    print(list(c))"
   ]
  },
  {
   "cell_type": "code",
   "execution_count": null,
   "metadata": {},
   "outputs": [],
   "source": [
    "g_lst = (i * 2 for i in range(100))\n"
   ]
  },
  {
   "cell_type": "code",
   "execution_count": null,
   "metadata": {
    "scrolled": true
   },
   "outputs": [],
   "source": [
    "2 in g_lst # True"
   ]
  },
  {
   "cell_type": "markdown",
   "metadata": {
    "pycharm": {
     "name": "#%% md\n"
    }
   },
   "source": [
    "#### Вираз-генератори. Подвійний цикл."
   ]
  },
  {
   "cell_type": "code",
   "execution_count": null,
   "metadata": {
    "pycharm": {
     "name": "#%%\n"
    }
   },
   "outputs": [],
   "source": [
    "a = [2, 4, 6, 8]\n",
    "\n",
    "b = [x * y for x in a for y in range(3)]\n",
    "\n",
    "c = []\n",
    "for x in a:\n",
    "    for y in range(3):\n",
    "        c.append(x * y)\n",
    "\n",
    "print(b)\n",
    "print(c)"
   ]
  },
  {
   "cell_type": "code",
   "execution_count": null,
   "metadata": {
    "pycharm": {
     "name": "#%%\n"
    }
   },
   "outputs": [],
   "source": [
    "a = [2, 4, 6, 8]\n",
    "\n",
    "b = [[x*y for x in a] for y in range(3)]\n",
    "print(b)"
   ]
  },
  {
   "cell_type": "code",
   "execution_count": null,
   "metadata": {},
   "outputs": [],
   "source": []
  },
  {
   "cell_type": "code",
   "execution_count": null,
   "metadata": {
    "pycharm": {
     "name": "#%%\n"
    }
   },
   "outputs": [],
   "source": [
    "c = []\n",
    "for y in range(3):\n",
    "    tmp = []\n",
    "    for x in a:\n",
    "        tmp.append(x * y)\n",
    "    c.append(tmp)\n",
    "\n",
    "print(c)"
   ]
  },
  {
   "cell_type": "markdown",
   "metadata": {
    "pycharm": {
     "name": "#%% md\n"
    }
   },
   "source": [
    "#### генераторні вирази для dict, set"
   ]
  },
  {
   "cell_type": "code",
   "execution_count": null,
   "metadata": {
    "pycharm": {
     "name": "#%%\n"
    }
   },
   "outputs": [],
   "source": [
    "tmp = [[0, 0, 0, 0], [2, 4, 6, 8], [4, 8, 12, 16]]\n",
    "\n",
    "a_dct = {i: v for i, v in enumerate(tmp)}\n",
    "print(a_dct)\n",
    "\n",
    "b_dct = {i: {} for i in range(5)}\n",
    "print(b_dct)"
   ]
  },
  {
   "cell_type": "code",
   "execution_count": null,
   "metadata": {
    "pycharm": {
     "name": "#%%\n"
    }
   },
   "outputs": [],
   "source": [
    "c_set = {i for t in tmp for i in t}\n",
    "\n",
    "print(c_set)"
   ]
  },
  {
   "cell_type": "markdown",
   "metadata": {
    "pycharm": {
     "name": "#%% md\n"
    }
   },
   "source": [
    "### Що швидше?"
   ]
  },
  {
   "cell_type": "code",
   "execution_count": null,
   "metadata": {
    "pycharm": {
     "name": "#%%\n"
    }
   },
   "outputs": [],
   "source": [
    "import time\n",
    "\n",
    "a = []\n",
    "start = time.time()\n",
    "for i in range(10_000_000):\n",
    "    a.append(i**2)\n",
    "end = time.time()\n",
    "print(\"for cicle t = \", end-start, \" s\")"
   ]
  },
  {
   "cell_type": "code",
   "execution_count": null,
   "metadata": {
    "pycharm": {
     "name": "#%%\n"
    }
   },
   "outputs": [],
   "source": [
    "start = time.time()\n",
    "b = [i**2 for i in range(10_000_000)]\n",
    "end = time.time()\n",
    "print(\"for generator list t = \", end-start, \" s\")"
   ]
  },
  {
   "cell_type": "code",
   "execution_count": null,
   "metadata": {
    "pycharm": {
     "name": "#%%\n"
    }
   },
   "outputs": [],
   "source": [
    "import time\n",
    "start = time.time()\n",
    "c = (i**2 for i in range(10_000_000))\n",
    "end = time.time()\n",
    "print(\"for generator t = \", end-start, \" s\")"
   ]
  },
  {
   "cell_type": "code",
   "execution_count": null,
   "metadata": {
    "pycharm": {
     "name": "#%%\n"
    }
   },
   "outputs": [],
   "source": [
    "#Якщо ми розкриватимемо генератор за допомогою функції list, то всю перевагу за часом ми втратимо\n",
    "start = time.time()\n",
    "c = list(c) \n",
    "end = time.time()\n",
    "print(\"for generator to list t = \", end-start, \" s\")\n"
   ]
  }
 ],
 "metadata": {
  "kernelspec": {
   "display_name": "Python 3 (ipykernel)",
   "language": "python",
   "name": "python3"
  },
  "language_info": {
   "codemirror_mode": {
    "name": "ipython",
    "version": 3
   },
   "file_extension": ".py",
   "mimetype": "text/x-python",
   "name": "python",
   "nbconvert_exporter": "python",
   "pygments_lexer": "ipython3",
   "version": "3.12.4"
  }
 },
 "nbformat": 4,
 "nbformat_minor": 4
}
