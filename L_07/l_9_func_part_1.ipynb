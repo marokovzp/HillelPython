{
 "cells": [
  {
   "cell_type": "markdown",
   "metadata": {},
   "source": [
    "# Функції\n",
    "## За допомогою функцій є можливість використовувати один і той же код, багаторазово"
   ]
  },
  {
   "cell_type": "markdown",
   "metadata": {},
   "source": [
    "### Створення функцій\n",
    "Для того, щоб створити функцію, необхідно використовувати ключове слово ***def***, після якого йде ***назва функції*** (за ним надалі цю функцію можна викликати на виконання) і ***круглі дужки***, в яких можуть бути вказані параметри функції\n",
    "Тіло функції, тобто той набір команд, які повинні бути виконані, коли ми викликаємо функцію на виконання, повинен бути зміщений праворуч на 4 пробіли."
   ]
  },
  {
   "cell_type": "code",
   "execution_count": null,
   "metadata": {},
   "outputs": [],
   "source": [
    "def fun():\n",
    "    pass #  нічого не робити\n",
    "\n",
    "print(id(fun)) # місцезнаходження функції у пам'яті\n",
    "print(type(fun))\n",
    "print(fun) # Адреса функції у шістнадцятковому форматі"
   ]
  },
  {
   "cell_type": "markdown",
   "metadata": {},
   "source": [
    "### Іншими словами - функція, це іменована область пам'яті, де знаходиться код, який можна викликати на виконання по цьому імені\n",
    "\n",
    "1) Намагайтеся описувати функції так, щоб їх довжина не перевищувала 30 рядків. У випадку, коли тіло функції перевищує межу в 30 рядків, найкращим рішенням буде розбиття цієї функції на дві і більше функцій з меншою довжиною.\n",
    "\n",
    "2) Намагайтеся, щоб ваша функція виконувала ***лише одну логічно завершену дію***. Не потрібно поєднувати кілька різних завершених дій. Нехай одна функція зчитує дані з клавіатури, друга шукає введені дані у списку тощо.\n",
    "\n",
    "3) Давайте функціям назви, які максимально точно описували ті дії, які дані функції здійснють. Оскільки більшість фукнцій - це певна дія, то непогано, щоб функція почалася з дієслів - set, get, update...\n",
    "4) Ім'я функції необхідно оформлювати так само, як і ім'я змінної. Тобто в назві з кількох слів, слова потрібно розділяти нижнім підкресленням"
   ]
  },
  {
   "cell_type": "code",
   "execution_count": null,
   "metadata": {},
   "outputs": [],
   "source": [
    "# За допомогою оператора return можна повернути результат роботи функції до точки виклику функції\n",
    "def fun():\n",
    "    return 1\n",
    "    print('Hi') # Цей print ніколи не буде виконаний\n",
    "\n",
    "print(fun()) # Виклик функції на виконання\n"
   ]
  },
  {
   "cell_type": "code",
   "execution_count": null,
   "metadata": {
    "scrolled": true
   },
   "outputs": [],
   "source": [
    "# Ім'я функції без круглих дужок - це вказівник на розташування функції пам'яті\n",
    "print(fun)"
   ]
  },
  {
   "cell_type": "code",
   "execution_count": null,
   "metadata": {},
   "outputs": [],
   "source": [
    "i = id(fun)\n",
    "print(hex(i)) # Адреса функції у шістнадцятковому форматі"
   ]
  },
  {
   "cell_type": "code",
   "execution_count": null,
   "metadata": {},
   "outputs": [],
   "source": [
    "# Отримання результату роботи функції\n",
    "res = fun()\n",
    "print(res)"
   ]
  },
  {
   "cell_type": "code",
   "execution_count": null,
   "metadata": {
    "scrolled": true
   },
   "outputs": [],
   "source": [
    "b = fun # У такий спосіб можна створити синонім для імені функції\n",
    "print(b()) # І потім по цьому синоніму можна викликати функцію на виконання\n"
   ]
  },
  {
   "cell_type": "code",
   "execution_count": null,
   "metadata": {},
   "outputs": [],
   "source": [
    "print(b) # Також дані, що й у функції fun"
   ]
  },
  {
   "cell_type": "code",
   "execution_count": null,
   "metadata": {},
   "outputs": [],
   "source": [
    "# Такий трюк доступний для будь-якої функції\n",
    "a = print\n",
    "a(2, 4)"
   ]
  },
  {
   "cell_type": "code",
   "execution_count": null,
   "metadata": {},
   "outputs": [],
   "source": [
    " # Функцію не можна використовувати доти, доки ви її не оголосите\n",
    "d = add(10, 10)\n",
    "print(d)\n",
    "\n",
    "def add(a, b):\n",
    "    c = a + b\n",
    "    return c"
   ]
  },
  {
   "cell_type": "code",
   "execution_count": null,
   "metadata": {},
   "outputs": [],
   "source": [
    "# Приклад функції розрахунку суми двох чисел\n",
    "def calculate_summa(a, b):\n",
    "    c = b + a\n",
    "    return c\n"
   ]
  },
  {
   "cell_type": "code",
   "execution_count": null,
   "metadata": {},
   "outputs": [],
   "source": [
    "# При виклику функції можна передавати явні значення\n",
    "d = calculate_summa(10, 20)\n",
    "print(d)\n",
    "n = calculate_summa(10333, 20)\n",
    "print(n)"
   ]
  },
  {
   "cell_type": "code",
   "execution_count": null,
   "metadata": {},
   "outputs": [],
   "source": [
    "#або за допомогою змінних\n",
    "x = 2\n",
    "y = 7\n",
    "d = calculate_summa(x, y)\n",
    "print(d)"
   ]
  },
  {
   "cell_type": "markdown",
   "metadata": {},
   "source": [
    "### Оператор assert\n",
    "Часто використовують при налаштуванні програми, або при написанні найпростіших тестів для програми."
   ]
  },
  {
   "cell_type": "code",
   "execution_count": null,
   "metadata": {},
   "outputs": [],
   "source": [
    "assert calculate_summa(20, 10) == 30, \"Перший тест\"\n",
    "assert calculate_summa(20, 40) == 60, \"Другий тест\"\n",
    "print('OK')"
   ]
  },
  {
   "cell_type": "code",
   "execution_count": null,
   "metadata": {},
   "outputs": [],
   "source": [
    "assert calculate_summa(20, 10) == 33, \"Другий тест\""
   ]
  },
  {
   "cell_type": "markdown",
   "metadata": {},
   "source": [
    "### Оператор *return* не обов'язковий"
   ]
  },
  {
   "cell_type": "code",
   "execution_count": null,
   "metadata": {},
   "outputs": [],
   "source": [
    "\n",
    "def add(a, b):\n",
    "    c = a + b\n",
    "    print(c)\n",
    "# Якщо функція надрукує результат на екрані, цей результат більше не вдасться використовувати\n",
    "d = add(10, 10)\n"
   ]
  },
  {
   "cell_type": "code",
   "execution_count": null,
   "metadata": {
    "scrolled": true
   },
   "outputs": [],
   "source": [
    "print(d) # Функція завжди щось повертає - або результат, або None\n"
   ]
  },
  {
   "cell_type": "code",
   "execution_count": null,
   "metadata": {},
   "outputs": [],
   "source": [
    "print(add(20, 10)) # Побачимо на екрані 30 і None"
   ]
  },
  {
   "cell_type": "code",
   "execution_count": null,
   "metadata": {},
   "outputs": [],
   "source": [
    "# Функція може повертати довільну кількість значень.\n",
    "def mul(a, b):\n",
    "    a *= 2\n",
    "    b *= 2\n",
    "    return a, b #  Їх необхідно записати через кому\n",
    "\n",
    "\n"
   ]
  },
  {
   "cell_type": "code",
   "execution_count": null,
   "metadata": {},
   "outputs": [],
   "source": [
    "a = mul(10, 20)\n",
    "print(a) # Побачимо кортеж"
   ]
  },
  {
   "cell_type": "code",
   "execution_count": null,
   "metadata": {},
   "outputs": [],
   "source": [
    "x = 30\n",
    "y = 40\n",
    "a, b = mul(x, y) # Розпаковуємо кортеж у дві змінні\n",
    "print(a, b)"
   ]
  },
  {
   "cell_type": "markdown",
   "metadata": {},
   "source": [
    "Параметри, які використовувалися під час опису функції, називаються **формальними** параметрами.\n",
    "\n",
    "\n",
    "Параметри, які були використані під час виклику функції, називаються **фактичними** параметрами.\n",
    "\n",
    "\n",
    "Змінні, оголошені всередині функції, а також формальні параметри є локальними для цієї функції.\n",
    "\n",
    "\n",
    "Це означає, що за межами функції до цих змінних не можна звернутися.\n",
    "\n",
    "\n",
    "Під час виклику функції спочатку перевіряється відповідність кількості фактичних та формальних параметрів. Після цього формальні параметри надаються фактичними і управління передається в тіло функції. Коли робота функції закінчується, то керування повертається в тіло програми, що викликає."
   ]
  },
  {
   "cell_type": "code",
   "execution_count": null,
   "metadata": {},
   "outputs": [],
   "source": [
    "a, b = mul(1, 5, 8)\n",
    "print(a, b) # Багато аргументів"
   ]
  },
  {
   "cell_type": "code",
   "execution_count": null,
   "metadata": {},
   "outputs": [],
   "source": [
    "a, b = mul(1) #  Недостатньо аргументів"
   ]
  },
  {
   "cell_type": "markdown",
   "metadata": {},
   "source": [
    "### Локальні змінні функції"
   ]
  },
  {
   "cell_type": "code",
   "execution_count": null,
   "metadata": {
    "scrolled": true
   },
   "outputs": [],
   "source": [
    "def calculate_summa(a, b):\n",
    "    summa = a + b # calculate_summa.summa\n",
    "    # print(locals())\n",
    "    return summa\n",
    "\n",
    "summa = 10\n",
    "\n",
    "print(calculate_summa(2, 5))\n",
    "# Змінна, яка знаходиться поза функцією, не змінить свого значення\n",
    "print(summa)\n",
    "# print(locals())"
   ]
  },
  {
   "cell_type": "markdown",
   "metadata": {},
   "source": [
    "#### функція з параметрами незмінного типу даних"
   ]
  },
  {
   "cell_type": "code",
   "execution_count": null,
   "metadata": {},
   "outputs": [],
   "source": [
    "def calculate_summa(a, b):\n",
    "    a = a + 3\n",
    "    summa = a + b\n",
    "    print(locals())\n",
    "    return summa\n",
    "\n",
    "a = 5\n",
    "b = 3\n",
    "\n",
    "print(calculate_summa(a, b))\n",
    "#змінні не змінять свого значення\n",
    "print(a, b)"
   ]
  },
  {
   "cell_type": "markdown",
   "metadata": {},
   "source": [
    "#### функція з параметрами змінного типу даних"
   ]
  },
  {
   "cell_type": "code",
   "execution_count": null,
   "metadata": {},
   "outputs": [],
   "source": [
    "\n",
    "def calculate_summa(a):\n",
    "    a[0] = a[0] + 3\n",
    "    summa = 0\n",
    "    for element in a:\n",
    "        summa = summa + element\n",
    "    return summa\n",
    "\n",
    "a = [3, 5, 10]\n",
    "print(calculate_summa(a))\n",
    "# елементи в оригінальному списку змінять значення\n",
    "print(a)"
   ]
  },
  {
   "cell_type": "code",
   "execution_count": null,
   "metadata": {},
   "outputs": [],
   "source": [
    "# Ім'я змінної не має значення, оскільки функція працює з фактичними даними, на які вказує змінна\n",
    "\n",
    "def calculate_summa(a):\n",
    "    a[0] = a[0] + 3\n",
    "    summa = 0\n",
    "    for element in a:\n",
    "        summa = summa + element\n",
    "    return summa\n",
    "\n",
    "b = [3, 5, 10]\n",
    "print(calculate_summa(b))\n",
    "print(b)"
   ]
  },
  {
   "cell_type": "code",
   "execution_count": null,
   "metadata": {},
   "outputs": [],
   "source": [
    "# Щоб цього не сталося, необхідно \"розірвати\" зв'язок між списком поза функцією та всередині функції\n",
    "import copy\n",
    "\n",
    "def calculate_summa(tmp):\n",
    "    a = copy.deepcopy(tmp)\n",
    "    a[0] = a[0] + 3\n",
    "    summa = 0\n",
    "    for element in a:\n",
    "        summa = summa + element\n",
    "    return summa\n",
    "\n",
    "b = [3, 5, 10]\n",
    "print(calculate_summa(b))\n",
    "print(b)"
   ]
  },
  {
   "cell_type": "markdown",
   "metadata": {},
   "source": [
    "### Доступ до значення змінної поза функцією"
   ]
  },
  {
   "cell_type": "code",
   "execution_count": null,
   "metadata": {},
   "outputs": [],
   "source": [
    "a = [3, 5, 10]\n",
    "\n",
    "def mul():\n",
    "    summa = 0\n",
    "    for i in range(len(a)):\n",
    "        a[i] *= b \n",
    "        summa = summa + a[i]\n",
    "    return summa\n",
    "\n",
    "b = 2\n",
    "print(mul())\n",
    "print(a)"
   ]
  },
  {
   "cell_type": "markdown",
   "metadata": {},
   "source": [
    "#### Правило доступу до змінних LEGB\n",
    "**L** - Local. Включає імена (ідентифікатор / змінні), вказані в функції (з використанням def або lambda), а не оголошуються за допомогою ключового слова global.\n",
    "\n",
    "**E** – Enclosing. Включає ім'я з локальної області видимості об'ємних функцій (наприклад, з використанням def або lambda).\n",
    "\n",
    "**G** – Global. Включає імена, що працюють на верхньому рівні модуля або визначених за допомогою ключового слова global.\n",
    "\n",
    "**B** - Built-in . Вбудовані функції, такі як print, input, open і т.д.\n",
    "\n",
    "Відповідно до LEGB, для пошуку імен у Python визначено наступний порядок: **Local -> Enclosing-> Global -> Built-in**"
   ]
  },
  {
   "cell_type": "code",
   "execution_count": null,
   "metadata": {},
   "outputs": [],
   "source": [
    "# Local\n",
    "pi = 'global'\n",
    "def inner():\n",
    "    pi = 'Local'\n",
    "    print(pi)\n",
    "\n",
    "inner()\n",
    "print(pi)"
   ]
  },
  {
   "cell_type": "code",
   "execution_count": null,
   "metadata": {},
   "outputs": [],
   "source": [
    "# Enclosing\n",
    "pi = 'global'\n",
    "\n",
    "def outer():\n",
    "    pi = 'Enclosing'\n",
    "    def inner():\n",
    "        # pi = 'Local'\n",
    "        print(pi)\n",
    "    inner()\n",
    "\n",
    "outer()\n",
    "print(pi)"
   ]
  },
  {
   "cell_type": "code",
   "execution_count": null,
   "metadata": {},
   "outputs": [],
   "source": [
    "# Global\n",
    "pi = 'global'\n",
    "\n",
    "def inner():\n",
    "#     pi = 'Local' \n",
    "    print(pi)\n",
    "\n",
    "inner()\n",
    "print(pi)"
   ]
  },
  {
   "cell_type": "code",
   "execution_count": null,
   "metadata": {},
   "outputs": [],
   "source": [
    "# Built-in\n",
    "from math import pi\n",
    "\n",
    "# pi = 'global'\n",
    "\n",
    "def outer():\n",
    "    # pi = 'outer'\n",
    "    def inner():\n",
    "        # pi = 'Local'\n",
    "        print(pi)\n",
    "    inner()\n",
    "\n",
    "outer()"
   ]
  },
  {
   "cell_type": "code",
   "execution_count": null,
   "metadata": {},
   "outputs": [],
   "source": [
    "# Помилка. змінної немає в жодній із зон пошуку \n",
    "\n",
    "def inner():\n",
    "    print(pi1)\n",
    "inner()\n",
    "\n"
   ]
  },
  {
   "cell_type": "code",
   "execution_count": null,
   "metadata": {},
   "outputs": [],
   "source": [
    "# No error\n",
    "\n",
    "pi = 5\n",
    "def inner():\n",
    "    a = 10 + pi #Якщо використовувати тільки значення змінної, яка не визначена всередині функції, то помилки не буде\n",
    "    print(a)\n",
    "\n",
    "inner()\n"
   ]
  },
  {
   "cell_type": "markdown",
   "metadata": {},
   "source": [
    "##### Оператор ***nonlocal***"
   ]
  },
  {
   "cell_type": "code",
   "execution_count": null,
   "metadata": {},
   "outputs": [],
   "source": [
    "def outer():\n",
    "    pi = 'Enclosing'\n",
    "    def inner():\n",
    "        # nonlocal pi\n",
    "        pi = pi + 'OUT' # Змінювати змінну, якої немає функції не можна.\n",
    "        print(pi)\n",
    "    inner()\n",
    "\n",
    "outer()\n",
    "print(pi)"
   ]
  },
  {
   "cell_type": "code",
   "execution_count": null,
   "metadata": {},
   "outputs": [],
   "source": [
    "# Оператор nonlocal працює тільки для вкладених функцій\n",
    "pi = 5\n",
    "def inner():\n",
    "    # nonlocal pi # SyntaxError:\n",
    "    a = 10 + pi\n",
    "    print(a)\n",
    "    pi = 3 + 10 # error\n",
    "    print(pi)\n",
    "\n",
    "inner()"
   ]
  },
  {
   "cell_type": "markdown",
   "metadata": {},
   "source": [
    "### Оператор ***global***"
   ]
  },
  {
   "cell_type": "code",
   "execution_count": null,
   "metadata": {
    "scrolled": true
   },
   "outputs": [],
   "source": [
    "\n",
    "def inner():\n",
    "    global pi\n",
    "    a = 60 + pi\n",
    "    pi += 10 # no error!\n",
    "    print(pi)\n",
    "\n",
    "pi = 5\n",
    "inner()\n",
    "print(pi)\n"
   ]
  },
  {
   "cell_type": "code",
   "execution_count": null,
   "metadata": {},
   "outputs": [],
   "source": [
    "# Використання оператора global може призвести до несподіваних результатів\n",
    "for i in range(pi):\n",
    "    print(i, end='')"
   ]
  },
  {
   "cell_type": "markdown",
   "metadata": {
    "pycharm": {
     "name": "#%% md\n"
    }
   },
   "source": [
    "### Увага!! Це хоч і існуюча можливість, але застосування global при написанні функцій вважається не найуспішнішою практикою. Тому використовуйте цю можливість лише у разі, коли інших рішень немає.\n"
   ]
  },
  {
   "cell_type": "markdown",
   "metadata": {},
   "source": [
    "### Калькулятор на основі словника"
   ]
  },
  {
   "cell_type": "code",
   "execution_count": null,
   "metadata": {},
   "outputs": [],
   "source": [
    "import operator\n",
    "actions = {\n",
    "    \"+\": operator.add,\n",
    "    \"-\": operator.sub,\n",
    "    \"*\": operator.mul,\n",
    "    \"/\": operator.truediv,\n",
    "    \"//\": operator.floordiv,\n",
    "    \"%\": operator.mod,\n",
    "    \"**\": operator.pow,\n",
    "}\n",
    "x = float(input('Type X: '))\n",
    "action = input('Type Action: ')\n",
    "y = float(input('Type Y: '))\n",
    "if y == 0.0 and action in ['/', '//', '%']:\n",
    "    print('Error. Division by zero!')\n",
    "else:\n",
    "    func = actions.get(action)\n",
    "    if not func:\n",
    "        print('Not supported action')\n",
    "    else:\n",
    "        print(func(x, y))\n"
   ]
  },
  {
   "cell_type": "markdown",
   "metadata": {},
   "source": [
    "### Продумати алгоритм розв'язання задачі з дод. матеріалів (золотошукач)"
   ]
  }
 ],
 "metadata": {
  "kernelspec": {
   "display_name": "Python 3 (ipykernel)",
   "language": "python",
   "name": "python3"
  },
  "language_info": {
   "codemirror_mode": {
    "name": "ipython",
    "version": 3
   },
   "file_extension": ".py",
   "mimetype": "text/x-python",
   "name": "python",
   "nbconvert_exporter": "python",
   "pygments_lexer": "ipython3",
   "version": "3.12.4"
  }
 },
 "nbformat": 4,
 "nbformat_minor": 4
}
