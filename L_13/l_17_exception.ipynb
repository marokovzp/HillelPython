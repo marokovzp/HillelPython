{
 "cells": [
  {
   "cell_type": "markdown",
   "metadata": {},
   "source": [
    "## Винятки\n",
    "**Виняток** — подія (по суті звичайна змінна), яка збуджується інтерпретатором Python, коли виконується програмний код, що призводить до помилки.\n",
    "Винятки можуть збуджуватися та перехоплюватися самим програмним кодом."
   ]
  },
  {
   "cell_type": "markdown",
   "metadata": {},
   "source": [
    "#### Винятки, які ми вже раніше зустрічали"
   ]
  },
  {
   "cell_type": "code",
   "execution_count": null,
   "metadata": {
    "scrolled": true
   },
   "outputs": [],
   "source": [
    "1 / 0 # ZeroDivisionError"
   ]
  },
  {
   "cell_type": "code",
   "execution_count": null,
   "metadata": {
    "scrolled": true
   },
   "outputs": [],
   "source": [
    "lst = []\n",
    "lst[0] # IndexError"
   ]
  },
  {
   "cell_type": "markdown",
   "metadata": {},
   "source": [
    "### Для чого потрібні винятки?\n",
    "*Обробка помилок*\n",
    "\n",
    "Інтерпретатор збуджує виняток, коли виявляє помилку під час виконання програми. Програма може перехоплювати такі помилки та обробляти їх чи просто ігнорувати. Якщо помилка ігнорується, інтерпретатор зупиняє виконання програми та виводить повідомлення про помилку. Якщо не потрібно завершувати виконання програми, можна додати інструкцію **try**, яка дозволить перехоплювати виявлені помилки та продовжити виконання програми після інструкції **try**."
   ]
  },
  {
   "cell_type": "code",
   "execution_count": null,
   "metadata": {},
   "outputs": [],
   "source": [
    "# Приклад перехоплення виключення\n",
    "index = int(input(\"Input index \"))\n",
    "my_list = [0, 3, 9]\n",
    "try:\n",
    "    # В блок try поміщаємо код, який потенційно може викликати помилку\n",
    "    print(my_list[index])\n",
    "# За допомогою except, ми перехоплюємо вказану помилку\n",
    "except IndexError:\n",
    "    # Тут можна якось відреагувати на помилку\n",
    "    print(\"You input wrong index\")\n",
    "print('Ok')"
   ]
  },
  {
   "cell_type": "markdown",
   "metadata": {},
   "source": [
    "##### Якщо не перехоплювати помилку, код аварійно завершить свою роботу"
   ]
  },
  {
   "cell_type": "code",
   "execution_count": null,
   "metadata": {},
   "outputs": [],
   "source": [
    "index = int(input(\"Input index \"))\n",
    "my_list = [0, 3, 9]\n",
    "print(my_list[index])"
   ]
  },
  {
   "cell_type": "markdown",
   "metadata": {},
   "source": [
    "#### Після оператора except, і це дуже важливо, необхідно вказувати виняток, який потрібно перехопити та обробити. Якщо назва виключення невідома, тоді потрібно використовувати перехоплення Exception"
   ]
  },
  {
   "cell_type": "markdown",
   "metadata": {},
   "source": [
    "##### Поганий код. Перехоплюються всі винятки, включаючи системні"
   ]
  },
  {
   "cell_type": "code",
   "execution_count": null,
   "metadata": {},
   "outputs": [],
   "source": [
    "index = 5\n",
    "try:\n",
    "    print(my_list[index])\n",
    "\n",
    "except:\n",
    "    print(\"You input wrong index\")"
   ]
  },
  {
   "cell_type": "markdown",
   "metadata": {},
   "source": [
    "##### Так набагато краще. Перехоплюються лише ті винятки, які стосуються коду"
   ]
  },
  {
   "cell_type": "code",
   "execution_count": null,
   "metadata": {},
   "outputs": [],
   "source": [
    "index = 5\n",
    "try:\n",
    "    print(my_list[index])\n",
    "\n",
    "except Exception:\n",
    "    print(\"You input wrong index\")"
   ]
  },
  {
   "cell_type": "markdown",
   "metadata": {},
   "source": [
    "#### У блок try, бажано поміщати тільки той код, який потенційно може спричинити помилку"
   ]
  },
  {
   "cell_type": "code",
   "execution_count": null,
   "metadata": {},
   "outputs": [],
   "source": [
    "index = int(input(\"Input index \"))\n",
    "my_list = [0, 3, 9]\n",
    "try:\n",
    "    t = my_list[index]\n",
    "    print(t)\n",
    "    t += 23\n",
    "    print(\"OK\") # if no error!\n",
    "except IndexError:\n",
    "    print(\"You input wrong index\")\n",
    "#Якщо буде помилка IndexError, код її перехопить, але при цьому, змінна t не буде визначена і виникне нова помилка\n",
    "f = 2 + t\n",
    "print(f)"
   ]
  },
  {
   "cell_type": "code",
   "execution_count": null,
   "metadata": {},
   "outputs": [],
   "source": [
    "#У цьому випадку, змінна t має попередньо встановлене значення\n",
    "index = int(input(\"Input index \"))\n",
    "my_list = [0, 3, 9]\n",
    "t = 0\n",
    "try:\n",
    "    t = my_list[index]\n",
    "except IndexError:\n",
    "    print(\"You input wrong index\")\n",
    "\n",
    "print(t)\n",
    "t += 23\n",
    "print(\"OK\") # if no error!\n",
    "f = 2 + t\n",
    "print(f)"
   ]
  },
  {
   "cell_type": "markdown",
   "metadata": {},
   "source": [
    "### Перехоплення кількох винятків"
   ]
  },
  {
   "cell_type": "code",
   "execution_count": null,
   "metadata": {},
   "outputs": [],
   "source": [
    "# Потенційно небезпечна функція\n",
    "def sub100(index):\n",
    "    my_list = [0, 3, 9]\n",
    "    return 100 / my_list[index]\n"
   ]
  },
  {
   "cell_type": "code",
   "execution_count": null,
   "metadata": {},
   "outputs": [],
   "source": [
    "# Перехоплення помилки поділу на нуль не працює\n",
    "index = int(input(\"Input index \"))\n",
    "try:\n",
    "    print(sub100(index))\n",
    "\n",
    "except IndexError: # Перехоплення помилки IndexError\n",
    "    print(\"You input wrong index\")\n"
   ]
  },
  {
   "cell_type": "markdown",
   "metadata": {},
   "source": [
    "#### Якщо потрібно робити перехоплення кількох помилок, тоді значення вказуються як кортеж"
   ]
  },
  {
   "cell_type": "code",
   "execution_count": null,
   "metadata": {},
   "outputs": [],
   "source": [
    "index = int(input(\"Input index \"))\n",
    "try:\n",
    "    print(sub100(index))\n",
    "\n",
    "except (IndexError, ZeroDivisionError):\n",
    "    # Але такий варіант не дуже інформативний - для всіх помилок однакова інформація\n",
    "    print(\"Что-то пошло не так :( \")"
   ]
  },
  {
   "cell_type": "markdown",
   "metadata": {},
   "source": [
    "#### Більш правильний варіант - робити перехоплення для кожного виключення окремо"
   ]
  },
  {
   "cell_type": "code",
   "execution_count": null,
   "metadata": {},
   "outputs": [],
   "source": [
    "index = int(input(\"Input index \"))\n",
    "try:\n",
    "    print(sub100(index))\n",
    "\n",
    "except IndexError:\n",
    "    print(\"Ви не вгадали :Р\")\n",
    "except ZeroDivisionError: # ArithmeticError\n",
    "    print(\"На нуль ділити не можна!\")"
   ]
  },
  {
   "cell_type": "markdown",
   "metadata": {},
   "source": [
    "### Отримання доступу до перехопленого виключення"
   ]
  },
  {
   "cell_type": "code",
   "execution_count": null,
   "metadata": {},
   "outputs": [],
   "source": [
    "index = 5\n",
    "try:\n",
    "    print(sub100(index))\n",
    "except IndexError as err: # Часто використовується з користувальницькими винятками\n",
    "    print(type(err))\n",
    "    print(err)"
   ]
  },
  {
   "cell_type": "markdown",
   "metadata": {},
   "source": [
    "#### Важливо! Змінна err живе тільки всередині блоку except!"
   ]
  },
  {
   "cell_type": "code",
   "execution_count": null,
   "metadata": {},
   "outputs": [],
   "source": [
    "index = 5\n",
    "try:\n",
    "    print(sub100(index))\n",
    "except IndexError as err:\n",
    "    print(type(err))\n",
    "    print(err)\n",
    "print(err) # name 'err' is not defined"
   ]
  },
  {
   "cell_type": "markdown",
   "metadata": {},
   "source": [
    "### Блок else"
   ]
  },
  {
   "cell_type": "code",
   "execution_count": null,
   "metadata": {
    "pycharm": {
     "name": "#%%\n"
    }
   },
   "outputs": [],
   "source": [
    "index = int(input(\"Input index \"))\n",
    "\n",
    "try:\n",
    "    res = sub100(index)\n",
    "except IndexError:\n",
    "    print(\"Ви не вгадали :Р\")\n",
    "except ZeroDivisionError: # ArithmeticError\n",
    "    print(\"На нуль ділити не можна!\")\n",
    "else:\n",
    "    #У блок else ми перейдемо тільки у випадку, коли жодне з виключень не виникне\n",
    "    print(res)\n"
   ]
  },
  {
   "cell_type": "code",
   "execution_count": null,
   "metadata": {},
   "outputs": [],
   "source": [
    "# Без блоку else, потенційно можна отримати помилку!\n",
    "index = 4\n",
    "\n",
    "try:\n",
    "    rez = sub100(index)\n",
    "except IndexError:\n",
    "    print(\"Ви не вгадали :Р\")\n",
    "except ZeroDivisionError: # ArithmeticError\n",
    "    print(\"На нуль ділити не можна!\")\n",
    "print(rez) # NameError: name 'rez' is not defined"
   ]
  },
  {
   "cell_type": "code",
   "execution_count": null,
   "metadata": {},
   "outputs": [],
   "source": [
    "index = 4\n",
    "\n",
    "try:\n",
    "    rez = sub100(index)\n",
    "except IndexError:\n",
    "    print(\"Ви не вгадали :Р\")\n",
    "except ZeroDivisionError:\n",
    "    print(\"На нуль ділити не можна!\")\n",
    "else:\n",
    "    print(rez)"
   ]
  },
  {
   "cell_type": "markdown",
   "metadata": {},
   "source": [
    "### Блок try/finally\n",
    "Блок **try** може бути доповнений блоком **finally**. Можна використовувати його як замість блоку **except**, так і на додаток до нього. Блок **finally** служить для опису коду, який має бути виконаний у будь-якому випадку, незалежно від того, стався виняток у блоці **try** чи ні."
   ]
  },
  {
   "cell_type": "code",
   "execution_count": null,
   "metadata": {
    "scrolled": true
   },
   "outputs": [],
   "source": [
    "#У разі виникнення виключення, спочатку відпрацює код у блоці finally, і тільки після цього, відбудеться випадання помилки\n",
    "index = int(input(\"Input index \"))\n",
    "res = None\n",
    "try:\n",
    "    res = sub100(index)\n",
    "finally:\n",
    "    print('-' * 10, res)"
   ]
  },
  {
   "cell_type": "markdown",
   "metadata": {},
   "source": [
    "### Блок try/except/finally"
   ]
  },
  {
   "cell_type": "code",
   "execution_count": null,
   "metadata": {
    "scrolled": true
   },
   "outputs": [],
   "source": [
    "index = int(input(\"Input index \"))\n",
    "res = None\n",
    "try:\n",
    "    res = sub100(index)\n",
    "except IndexError:\n",
    "    print(\"Ви не вгадали :Р\")\n",
    "except ArithmeticError:\n",
    "    print(\"На нуль ділити не можна!\")\n",
    "else:\n",
    "    print(res)\n",
    "finally:\n",
    "    print('-' * 10, res)"
   ]
  },
  {
   "cell_type": "markdown",
   "metadata": {},
   "source": [
    "#### Варіант перехоплення аварійної зупинки програми. Працює тільки в командному рядку"
   ]
  },
  {
   "cell_type": "code",
   "execution_count": null,
   "metadata": {},
   "outputs": [],
   "source": [
    "text = \"\"\"Beautiful is better than ugly.\n",
    "Explicit is better than implicit.\n",
    "Simple is better than complex.\n",
    "Complex is better than complicated.\n",
    "Flat is better than nested.\n",
    "Sparse is better than dense.\n",
    "Readability counts.\n",
    "Special cases aren't special enough to break the rules.\n",
    "Although practicality beats purity.\n",
    "Errors should never pass silently.\n",
    "Unless explicitly silenced.\n",
    "In the face of ambiguity, refuse the temptation to guess.\n",
    "There should be one-- and preferably only one --obvious way to do it.\n",
    "Although that way may not be obvious at first unless you're Dutch.\n",
    "Now is better than never.\n",
    "Although never is often better than *right* now.\n",
    "If the implementation is hard to explain, it's a bad idea.\n",
    "If the implementation is easy to explain, it may be a good idea.\n",
    "Namespaces are one honking great idea -- let's do more of those!\n",
    "\"\"\"\n",
    "with open('zen.txt', 'w+') as f:\n",
    "    f.write(text)"
   ]
  },
  {
   "cell_type": "markdown",
   "metadata": {},
   "source": [
    "##### У нотебуці, поєднання клавіш *Ctrl - C*, сприймається як спроба копіювання, а не аварійного завершення роботи коду"
   ]
  },
  {
   "cell_type": "code",
   "execution_count": null,
   "metadata": {},
   "outputs": [],
   "source": [
    "import time\n",
    "\n",
    "try:\n",
    "    f = open('zen.txt')\n",
    "    while True: # звичайний спосіб читати файли\n",
    "        line = f.readline()\n",
    "        if len(line) == 0:\n",
    "            break\n",
    "        print(line, end='')\n",
    "        time.sleep(2) # тайм аут\n",
    "except KeyboardInterrupt: \n",
    "    print('!! Ви скасували читання файлу.')\n",
    "finally:\n",
    "    f.close()\n",
    "    print('Очищення: Закриття файлу')"
   ]
  },
  {
   "cell_type": "markdown",
   "metadata": {},
   "source": [
    "### Ієрархія винятків"
   ]
  },
  {
   "cell_type": "markdown",
   "metadata": {},
   "source": [
    "Насправді винятки є екземплярами звичайнісіньких класів. Тобто. існує низка класів створених спеціально для опису типу аварійної ситуації. І коли задана аварійна ситуація виникає, то інтерпретатор Python просто створює екземпляр одного з цих класів. Це дає деякі переваги:\n",
    "\n",
    "* Можливість створювати ієрархії винятків.\n",
    "* Можливість зберігати інформацію у виключенні. Це просто одна з властивостей класу.\n",
    "* Можливість створення власних винятків, використовуючи при цьому механізм успадкування.\n",
    "\n",
    "*https://i.imgur.com/2755APp.png*"
   ]
  },
  {
   "cell_type": "code",
   "execution_count": null,
   "metadata": {
    "pycharm": {
     "name": "#%%\n"
    }
   },
   "outputs": [],
   "source": [
    "issubclass(ArithmeticError, Exception)"
   ]
  },
  {
   "cell_type": "code",
   "execution_count": null,
   "metadata": {
    "pycharm": {
     "name": "#%%\n"
    }
   },
   "outputs": [],
   "source": [
    "issubclass(ZeroDivisionError, BaseException)"
   ]
  },
  {
   "cell_type": "code",
   "execution_count": null,
   "metadata": {
    "pycharm": {
     "name": "#%%\n"
    }
   },
   "outputs": [],
   "source": [
    "IndexError.mro()"
   ]
  },
  {
   "cell_type": "code",
   "execution_count": null,
   "metadata": {
    "pycharm": {
     "name": "#%%\n"
    }
   },
   "outputs": [],
   "source": [
    "ZeroDivisionError.mro()"
   ]
  },
  {
   "cell_type": "markdown",
   "metadata": {},
   "source": [
    "### Використання оператора raise\n",
    "Для явного порушення виключення оператор **raise**. Його синтаксис такий:\n",
    "\n",
    "використовується **raise Класс_исключения** - у разі екземпляр класу винятку створюється неявно.\n",
    "\n",
    "**raise Класс_исключения()** - у разі екземпляр класу винятку створюється явно\n",
    "\n",
    "*Применяется для возбуждения исключений. Т.е. это уже не реакция на аварийную ситуацию, а создание логики реакций на действия вашей программы.*"
   ]
  },
  {
   "cell_type": "code",
   "execution_count": 4,
   "metadata": {},
   "outputs": [
    {
     "name": "stdin",
     "output_type": "stream",
     "text": [
      "Type some integer:  1\n"
     ]
    },
    {
     "name": "stdout",
     "output_type": "stream",
     "text": [
      "This is trouble! x = 1!!!\n"
     ]
    }
   ],
   "source": [
    "def magic_func(x):\n",
    "    if x == 1:\n",
    "        raise ValueError('This is trouble! x = 1!!!')\n",
    "    else:\n",
    "        return [x]\n",
    "\n",
    "\n",
    "y = int(input('Type some integer: '))\n",
    "\n",
    "try:\n",
    "    lst = magic_func(y)\n",
    "except ValueError as e:\n",
    "    print(str(e))\n",
    "except Exception as e:\n",
    "    print(str(e))\n",
    "else:\n",
    "    print(lst)"
   ]
  },
  {
   "cell_type": "markdown",
   "metadata": {},
   "source": [
    "### Виняток користувача\n",
    "Виняток користувача - це клас спадкоємець від базового класу Exception."
   ]
  },
  {
   "cell_type": "markdown",
   "metadata": {},
   "source": [
    "#### Оскільки виняток користувача - це клас, то ми можемо наповнити його тим набором атрибутів, які нам потрібні"
   ]
  },
  {
   "cell_type": "code",
   "execution_count": 1,
   "metadata": {},
   "outputs": [],
   "source": [
    "class UserException(Exception):\n",
    "    \n",
    "    def __init__(self, message, x):\n",
    "        super().__init__()\n",
    "        self.message = message\n",
    "        self.x = x\n",
    "\n",
    "    def get_exception_message(self):\n",
    "        return self.message"
   ]
  },
  {
   "cell_type": "code",
   "execution_count": 2,
   "metadata": {},
   "outputs": [
    {
     "name": "stdin",
     "output_type": "stream",
     "text": [
      "Input positive number:  1\n"
     ]
    }
   ],
   "source": [
    "number = int(input(\"Input positive number: \"))\n",
    "\n",
    "def positiv(num):\n",
    "    if num < 0:\n",
    "        raise UserException(\"Negative number value\", num)\n",
    "    return num\n",
    "\n",
    "try:\n",
    "    a = positiv(number)\n",
    "except UserException as err:\n",
    "    # в даному випадку, err - це екземпляр класу UserException, \n",
    "    # завдяки чому ми маємо доступ до всіх його атрибутів\n",
    "    print(err.get_exception_message())\n",
    "    print(err.x)\n",
    "    # print(err.message)\n",
    "\n",
    "# print(number)"
   ]
  },
  {
   "cell_type": "markdown",
   "metadata": {},
   "source": [
    "### Оператор assert\n",
    "часто використовують при налагодженні програми або при написанні простих тестів для програми."
   ]
  },
  {
   "cell_type": "code",
   "execution_count": null,
   "metadata": {
    "scrolled": true
   },
   "outputs": [],
   "source": [
    "# assert False, \"Some error\" \n",
    "assert 2 == 3, \"Some error\" # Реагує на невиконання умови!"
   ]
  },
  {
   "cell_type": "code",
   "execution_count": null,
   "metadata": {},
   "outputs": [],
   "source": [
    "# Майже аналог assert\n",
    "if not 2 == 3:\n",
    "    raise AssertionError('Some error')"
   ]
  },
  {
   "cell_type": "code",
   "execution_count": null,
   "metadata": {},
   "outputs": [],
   "source": [
    "assert 3 == 3, \"Some error\""
   ]
  },
  {
   "cell_type": "markdown",
   "metadata": {},
   "source": [
    "Створити функцію, яка приймає на вхід кортеж та повертає кортеж із 3 елементів: першого, третього та другого з кінця елементів заданого масиву."
   ]
  },
  {
   "cell_type": "code",
   "execution_count": null,
   "metadata": {},
   "outputs": [],
   "source": [
    "def easy_unpack(elements: tuple) -> tuple:\n",
    "    \"\"\"\n",
    "        returns a tuple with 3 elements - first, third and second to the last\n",
    "    \"\"\"\n",
    "    return elements[0], elements[2], elements[-2]\n"
   ]
  },
  {
   "cell_type": "markdown",
   "metadata": {},
   "source": [
    "###### Набір правильних тестів"
   ]
  },
  {
   "cell_type": "code",
   "execution_count": null,
   "metadata": {
    "scrolled": true
   },
   "outputs": [],
   "source": [
    "assert easy_unpack((1, 2, 3, 4, 5, 6, 7, 9)) == (1, 3, 7)\n",
    "assert easy_unpack((1, 1, 1, 1)) == (1, 1, 1)\n",
    "assert easy_unpack((6, 3, 7)) == (6, 7, 3)\n",
    "print('Ok')"
   ]
  },
  {
   "cell_type": "markdown",
   "metadata": {},
   "source": [
    "###### Набір неправильних тестів"
   ]
  },
  {
   "cell_type": "code",
   "execution_count": null,
   "metadata": {
    "scrolled": true
   },
   "outputs": [],
   "source": [
    "assert easy_unpack((1, 2, 3, 4, 5, 6, 7, 9)) == (1, 3, 7)\n",
    "assert easy_unpack((1, 1, 1, 1)) == (1, 1, 5)\n",
    "assert easy_unpack((6, 3, 7)) == (6, 7, 3)"
   ]
  },
  {
   "cell_type": "markdown",
   "metadata": {},
   "source": [
    "###### Додавання опису до тесту після коми надалі спрощує пошук тесту, який не пройшов"
   ]
  },
  {
   "cell_type": "code",
   "execution_count": null,
   "metadata": {
    "pycharm": {
     "name": "#%%\n"
    }
   },
   "outputs": [],
   "source": [
    "assert easy_unpack((1, 2, 3, 4, 5, 6, 7, 9)) == (1, 3, 7), 'First test'\n",
    "assert easy_unpack((1, 1, 1, 1)) == (1, 1, 1), 'Second test'\n",
    "assert easy_unpack((6, 3, 7)) == (6, 7, 7), 'Third test'\n"
   ]
  }
 ],
 "metadata": {
  "kernelspec": {
   "display_name": "Python 3 (ipykernel)",
   "language": "python",
   "name": "python3"
  },
  "language_info": {
   "codemirror_mode": {
    "name": "ipython",
    "version": 3
   },
   "file_extension": ".py",
   "mimetype": "text/x-python",
   "name": "python",
   "nbconvert_exporter": "python",
   "pygments_lexer": "ipython3",
   "version": "3.12.4"
  }
 },
 "nbformat": 4,
 "nbformat_minor": 4
}
