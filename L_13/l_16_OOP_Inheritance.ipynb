{
 "cells": [
  {
   "cell_type": "markdown",
   "metadata": {},
   "source": [
    "## Наслідування"
   ]
  },
  {
   "cell_type": "markdown",
   "metadata": {},
   "source": [
    "**Наслідування** - концепція об'єктно-орієнтованого програмування, згідно з якою абстрактний тип даних може наслідувати дані та функціональність деякого існуючого типу, сприяючи повторному використанню компонентів програмного забезпечення."
   ]
  },
  {
   "cell_type": "code",
   "execution_count": null,
   "metadata": {},
   "outputs": [],
   "source": [
    "class Animal:\n",
    "    \"\"\"Клас, в якому знаходяться поля, характерні для великої підгрупи. \n",
    "       У всіх тварин є вік, раціон харчування та забарвлення\n",
    "    \"\"\"\n",
    "    def __init__ (self, age, ration, color):\n",
    "        self.age = age\n",
    "        self.ration = ration\n",
    "        self.color = color\n",
    "    \n",
    "    def get_voice(self):\n",
    "        \"\"\"Базовий метод, не прив'язаний до конкретного типу тварин  \"\"\"\n",
    "        return 'Animal'\n",
    "    \n",
    "    def __str__ (self):\n",
    "        return f\"age = {self.age}, ration = {self.ration}, color = {self.color}\""
   ]
  },
  {
   "cell_type": "code",
   "execution_count": null,
   "metadata": {},
   "outputs": [],
   "source": [
    "class Cat(Animal): # клас Cat є спадкоємцем Animal\n",
    "    \n",
    "    def __init__ (self, age, ration, color, name, cat_type):\n",
    "        # Для того, щоб був ініційований екземпляр Animal, необхідно в явному вигляді викликати метод __init__ цього класу\n",
    "        super().__init__(age, ration, color) # функція super \"знає\", хто є батьком цього класу\n",
    "        self.name = name\n",
    "        self.cat_type = cat_type\n",
    "    \n",
    "    def get_voice(self):\n",
    "        # за допомогою функції super, отримаємо результат роботи методу з батьківського класу\n",
    "        res = super().get_voice() \n",
    "        print(res, \"Meow\" )\n",
    "    \n",
    "    def __str__ (self):\n",
    "        return f\"Cat: {super().__str__()} , name = {self.name}, cat_type = {self.cat_type}\"\n",
    "    \n",
    "barsik = Cat(3, 'meat', 'black', 'barsik', 'pers')\n",
    "print(barsik)\n",
    "barsik.get_voice()"
   ]
  },
  {
   "cell_type": "markdown",
   "metadata": {},
   "source": [
    "Клас, який взятий за основу (Animal*), називають **суперкласом**.\n",
    "Клас, створений на основі суперкласу (*Cat*), називають **підкласом**.\n",
    "\n",
    "У Python клас може мати довільну кількість суперкласів. Якщо ви хочете, щоб ваш клас був спадкоємцем одночасно декількох суперкласів, просто перерахуйте їх через кому."
   ]
  },
  {
   "cell_type": "code",
   "execution_count": null,
   "metadata": {},
   "outputs": [],
   "source": [
    "class Dog(Animal):\n",
    "        \n",
    "    def __init__ (self, age, ration, color, name, dog_type):\n",
    "        super().__init__(age, ration, color)\n",
    "        self.name = name\n",
    "        self.dog_type = dog_type"
   ]
  },
  {
   "cell_type": "code",
   "execution_count": null,
   "metadata": {},
   "outputs": [],
   "source": [
    "dog = Dog(3, 'meat', 'black', 'Рes', 'BullDog')\n",
    "print(dog.get_voice()) # побачимо результат роботи методу з батьківського класу"
   ]
  },
  {
   "cell_type": "code",
   "execution_count": null,
   "metadata": {},
   "outputs": [],
   "source": [
    "print(dog.name)"
   ]
  },
  {
   "cell_type": "code",
   "execution_count": null,
   "metadata": {},
   "outputs": [],
   "source": [
    "print(str(dog)) # побачимо результат роботи методу з батьківського класу"
   ]
  },
  {
   "cell_type": "markdown",
   "metadata": {},
   "source": [
    "##### клас Animal є повноцінним класом, для якого є можливість створювати екземпляри"
   ]
  },
  {
   "cell_type": "code",
   "execution_count": null,
   "metadata": {},
   "outputs": [],
   "source": [
    "animal = Animal(3, 'fish', 'black and white')\n",
    "print(animal.color)"
   ]
  },
  {
   "cell_type": "markdown",
   "metadata": {},
   "source": [
    "#### Абстракція\n",
    "У Пайтоні є можливість створювати класи, які будуть призначені тільки для наслідування."
   ]
  },
  {
   "cell_type": "code",
   "execution_count": null,
   "metadata": {},
   "outputs": [],
   "source": [
    "from abc import ABC, abstractmethod\n",
    "\n",
    "class Animal(ABC): # Вказуємо клас ABC як батьківський\n",
    "    \n",
    "    def __init__ (self, age, ration, color):\n",
    "        self.age = age\n",
    "        self.ration = ration\n",
    "        self.color = color\n",
    "    \n",
    "    @abstractmethod # Створюємо метод, який обертаємо за допомогою декоратора\n",
    "    def get_voice(self):  # raise TypeError\n",
    "        pass"
   ]
  },
  {
   "cell_type": "code",
   "execution_count": null,
   "metadata": {},
   "outputs": [],
   "source": [
    "# Тепер не можна створити екземпляр класу Animal\n",
    "animal = Animal(3, 'fish', 'black and white') # TypeError: Can't instantiate abstract class Animal "
   ]
  },
  {
   "cell_type": "markdown",
   "metadata": {},
   "source": [
    "#### Также не можна буде створювати екземпляри будь-яких класів, які наслідуються від Animal, доки не будуть перевизначені всі абстрактні методи"
   ]
  },
  {
   "cell_type": "code",
   "execution_count": null,
   "metadata": {},
   "outputs": [],
   "source": [
    "class Fox(Animal):\n",
    "        \n",
    "    def __init__ (self, age, ration, color, name, fox_type):\n",
    "        super().__init__(age, ration, color)\n",
    "        self.name = name\n",
    "        self.fox_type = fox_type\n",
    "\n",
    "fox = Fox(3, 'meat', 'black', 'fox', 'red_fox') # TypeError: Can't instantiate abstract class Fox with abstract methods get_voice"
   ]
  },
  {
   "cell_type": "code",
   "execution_count": null,
   "metadata": {},
   "outputs": [],
   "source": [
    "class Fox(Animal):\n",
    "        \n",
    "    def __init__ (self, age, ration, color, name, fox_type):\n",
    "        super().__init__(age, ration, color)\n",
    "        self.name = name\n",
    "        self.fox_type = fox_type\n",
    "    \n",
    "    def get_voice(self): # Тепер все працює коректно\n",
    "        print('Fox barking')\n",
    "\n",
    "fox = Fox(3, 'meat', 'black', 'fox', 'red_fox')\n",
    "fox.get_voice()"
   ]
  },
  {
   "cell_type": "markdown",
   "metadata": {},
   "source": [
    "#### Перевірка на спорідненість класів"
   ]
  },
  {
   "cell_type": "code",
   "execution_count": null,
   "metadata": {
    "scrolled": true
   },
   "outputs": [],
   "source": [
    "issubclass(Fox, Animal) # issubclass поверне True, якщо клас Fox, є підкласом класу Animal"
   ]
  },
  {
   "cell_type": "code",
   "execution_count": null,
   "metadata": {},
   "outputs": [],
   "source": [
    "issubclass(Animal, Fox) # у даному випадку клас Fox, не є батьком для класу Animal "
   ]
  },
  {
   "cell_type": "markdown",
   "metadata": {},
   "source": [
    "##### isinstance(object, classinfo)\n",
    "\n",
    "Повертає True, якщо аргумент object є екземпляром classinfo або його (прямого, непрямого чи віртуального) підкласу. Якщо об'єкт не є об'єктом заданого типу, функція завжди повертає значення False."
   ]
  },
  {
   "cell_type": "code",
   "execution_count": null,
   "metadata": {
    "scrolled": true
   },
   "outputs": [],
   "source": [
    "isinstance(barsik, Cat)"
   ]
  },
  {
   "cell_type": "code",
   "execution_count": null,
   "metadata": {},
   "outputs": [],
   "source": [
    "isinstance('cat', str)"
   ]
  },
  {
   "cell_type": "code",
   "execution_count": null,
   "metadata": {},
   "outputs": [],
   "source": [
    "type('cat') == str"
   ]
  },
  {
   "cell_type": "markdown",
   "metadata": {},
   "source": [
    "##### Для перевірки типу об'єкта рекомендується використовувати вбудовану функцію isinstance, оскільки вона враховує підкласи."
   ]
  },
  {
   "cell_type": "code",
   "execution_count": null,
   "metadata": {},
   "outputs": [],
   "source": [
    "isinstance(2.8, (int, float))"
   ]
  },
  {
   "cell_type": "code",
   "execution_count": null,
   "metadata": {},
   "outputs": [],
   "source": [
    "isinstance(2, (int, float))"
   ]
  },
  {
   "cell_type": "code",
   "execution_count": null,
   "metadata": {
    "scrolled": true
   },
   "outputs": [],
   "source": [
    "isinstance('2', (int, float, str))"
   ]
  },
  {
   "cell_type": "markdown",
   "metadata": {},
   "source": [
    "#### **super()** – це вбудована функція мови Python. Вона повертає проксі-об'єкт, який делегує виклики методів класу-батьку поточного класу\n"
   ]
  },
  {
   "cell_type": "markdown",
   "metadata": {},
   "source": [
    "Є якийсь товар у класі Base з базовою ціною 10 одиниць. Нам знадобилося зробити розпродаж та скинути ціну на 20%."
   ]
  },
  {
   "cell_type": "code",
   "execution_count": null,
   "metadata": {},
   "outputs": [],
   "source": [
    "# Неправильне рішення\n",
    "class Base:\n",
    "    def price(self):\n",
    "        return 10\n",
    "\n",
    "class Discount(Base):\n",
    "    \"\"\"Якщо ми викликаємо self.price() у методі price() ми створимо нескінченну рекурсію,\n",
    "     оскільки це і є той самий метод класу Discount! \"\"\"\n",
    "    def price(self):\n",
    "        return self.price() * 0.8\n"
   ]
  },
  {
   "cell_type": "code",
   "execution_count": null,
   "metadata": {},
   "outputs": [],
   "source": [
    "d = Discount()\n",
    "d.price()  # RecursionError!"
   ]
  },
  {
   "cell_type": "code",
   "execution_count": null,
   "metadata": {},
   "outputs": [],
   "source": [
    "class Base:\n",
    "    def price(self):\n",
    "        return 10\n",
    "\n",
    "class Discount(Base):\n",
    "    def price(self):\n",
    "        return Base.price(self) * 0.8 # Тут потрібний метод Base.price()\n",
    "# треба не забути вказати self у явному вигляді, щоб метод був прив'язаний до поточного об'єкта."
   ]
  },
  {
   "cell_type": "code",
   "execution_count": null,
   "metadata": {},
   "outputs": [],
   "source": [
    "d = Discount()\n",
    "d.price()"
   ]
  },
  {
   "cell_type": "markdown",
   "metadata": {},
   "source": [
    "Це буде працювати, але цей код не позбавлений вад, тому що необхідно явно вказувати ім'я предка. Уявіть, якщо ієрархія класів почне розростатися? Наприклад, нам потрібно буде вставити між цими класами ще один клас, тоді доведеться редагувати ім'я класу-батька у методах **Discount**"
   ]
  },
  {
   "cell_type": "code",
   "execution_count": null,
   "metadata": {},
   "outputs": [],
   "source": [
    "class Base:\n",
    "    def price(self):\n",
    "        return 10\n",
    "\n",
    "class InterFoo(Base):\n",
    "    def price(self):\n",
    "        return Base.price(self) * 1.1\n",
    "\n",
    "class Discount(InterFoo):  # <-- \n",
    "    def price(self):\n",
    "        return InterFoo.price(self) * 0.8  # <-- "
   ]
  },
  {
   "cell_type": "markdown",
   "metadata": {},
   "source": [
    "Тут на допомогу приходить **super()**!\n",
    "Через цю функцію можна звертатися до атрибутів класів, які є батьками для даного класу.\n",
    "\n",
    "Будучи викликаним без параметрів усередині будь-якого класу, **super()** поверне проксі-об'єкт, методи якого шукатимуться тільки у класах, які є його батьками. Тобто це буде начебто той самий об'єкт, але він ігноруватиме всі визначення з поточного класу, звертаючись лише до батьківських."
   ]
  },
  {
   "cell_type": "code",
   "execution_count": null,
   "metadata": {},
   "outputs": [],
   "source": [
    "class Base:\n",
    "    def price(self):\n",
    "        return 10\n",
    "\n",
    "class InterFoo(Base):\n",
    "    def price(self):\n",
    "        return super().price() * 1.1 # Тут через super().price() ми звертаємося до методу price у класі Base\n",
    "\n",
    "class Discount(InterFoo):\n",
    "    def price(self):\n",
    "        return super().price() * 0.8 # Тут через super().price() ми звертаємося до методу price у класі InterFoo"
   ]
  },
  {
   "cell_type": "code",
   "execution_count": null,
   "metadata": {},
   "outputs": [],
   "source": [
    "d = Discount()\n",
    "d.price()"
   ]
  },
  {
   "cell_type": "markdown",
   "metadata": {},
   "source": [
    "##### Дуже часто super викликається у методі `__init__`. Метод ініціалізації класу `__init__`, як правило, задає будь-які атрибути екземпляра класу, і якщо в дочірньому класі ми забудемо його викликати, то клас виявиться недоініціалізованим: при спробі доступу до батьківських атрибутів буде помилка"
   ]
  },
  {
   "cell_type": "code",
   "execution_count": null,
   "metadata": {},
   "outputs": [],
   "source": [
    "class A:\n",
    "    def __init__(self):\n",
    "        self.x = 10\n",
    "\n",
    "class B(A):\n",
    "    def __init__(self):\n",
    "        # Намагаємося отримати значення для поля х, яке є атрибутом класу А\n",
    "        self.y = self.x + 5\n",
    "\n",
    "\n"
   ]
  },
  {
   "cell_type": "code",
   "execution_count": null,
   "metadata": {},
   "outputs": [],
   "source": [
    "b = B()  # AttributeError: 'B' object has no attribute 'x'"
   ]
  },
  {
   "cell_type": "code",
   "execution_count": null,
   "metadata": {},
   "outputs": [],
   "source": [
    "# правильно потрібно так\n",
    "\n",
    "class B(A):\n",
    "    def __init__(self):\n",
    "        super().__init__()  # У явному вигляді потрібно провести ініціалізацію об'єкта класу А\n",
    "        self.y = self.x + 5\n",
    "\n",
    "print(B().y)  # 15"
   ]
  },
  {
   "cell_type": "markdown",
   "metadata": {},
   "source": [
    "##### Параметри super\n",
    "\n",
    "Функція може приймати два параметри. `super([type [, object]])`. Перший аргумент – це тип, до предків якого хочемо звернутися. А другий аргумент – це об'єкт, до якого треба приєднатися. Наразі обидва аргументи необов'язкові. У попередніх версіях Python доводилося вказувати їх явно"
   ]
  },
  {
   "cell_type": "code",
   "execution_count": null,
   "metadata": {},
   "outputs": [],
   "source": [
    "class A:\n",
    "    def __init__(self, x):\n",
    "        self.x = x\n",
    "\n",
    "class B(A):\n",
    "    def __init__(self, x):\n",
    "        # Раніше було так\n",
    "        super(B, self).__init__(x) # Зараз: super().__init__(x)"
   ]
  },
  {
   "cell_type": "markdown",
   "metadata": {},
   "source": [
    "#### super() може бути використана поза класом.\n",
    "Але тут обов'язково потрібно передавати параметри! Оскільки функція знаходиться поза контекстом класу"
   ]
  },
  {
   "cell_type": "code",
   "execution_count": null,
   "metadata": {},
   "outputs": [],
   "source": [
    "d = Discount()\n",
    "print(super(Discount, d).price()) # return super().price() * 1.1"
   ]
  },
  {
   "cell_type": "markdown",
   "metadata": {},
   "source": [
    "### Як працює механізм наслідування?\n",
    "Суть ідеї наслідування в Python полягає у побудові вертикальної деревоподібної структури пов'язаних класів, де останнім елементом такої структури виявляється екземпляр класу. Коли ви викликаєте той чи інший метод або намагаєтеся отримати значення поля, то запускається механізм вертикального пошуку (тобто знизу вгору), до першого знайденого результату."
   ]
  },
  {
   "cell_type": "code",
   "execution_count": null,
   "metadata": {},
   "outputs": [],
   "source": [
    "class A: # (object)\n",
    "    def print_smile(self):\n",
    "        print(\":)\")\n",
    "\n",
    "class B(A):\n",
    "    def print_sad_smile(self):\n",
    "        print(\":(\")\n",
    "\n",
    "class C(A):\n",
    "    def print_both_smile(self):\n",
    "        print(\":( :)\")\n",
    "        \n",
    "class D(C):\n",
    "    \n",
    "    def print_sad_smile(self):\n",
    "        print(\"^)\")\n"
   ]
  },
  {
   "cell_type": "markdown",
   "metadata": {},
   "source": [
    "І хоча в класі D немає методів `print_smile()`, `print_both_smile()`, але їхній виклик відбудеться абсолютно коректно. У цьому заслуга механізму наслідування."
   ]
  },
  {
   "cell_type": "code",
   "execution_count": null,
   "metadata": {},
   "outputs": [],
   "source": [
    "example = D()\n",
    "example.print_sad_smile()\n",
    "example.print_smile()\n",
    "example.print_both_smile()"
   ]
  },
  {
   "cell_type": "markdown",
   "metadata": {},
   "source": [
    "### MRO – (Method Resolution Order) порядок вирішення методів у Python"
   ]
  },
  {
   "cell_type": "code",
   "execution_count": null,
   "metadata": {},
   "outputs": [],
   "source": [
    "print(D.mro()) # Отримаємо список класів, у яких потрібно шукати потрібні атрибути\n"
   ]
  },
  {
   "cell_type": "code",
   "execution_count": null,
   "metadata": {
    "scrolled": true
   },
   "outputs": [],
   "source": [
    "# Пошук здійснюється зліва направо\n",
    "print(C.mro())"
   ]
  },
  {
   "cell_type": "code",
   "execution_count": null,
   "metadata": {},
   "outputs": [],
   "source": [
    "print(A.mro())"
   ]
  },
  {
   "cell_type": "code",
   "execution_count": null,
   "metadata": {
    "scrolled": true
   },
   "outputs": [],
   "source": [
    "print(D.__mro__)"
   ]
  },
  {
   "cell_type": "code",
   "execution_count": null,
   "metadata": {},
   "outputs": [],
   "source": [
    "example.name #Атрибута name немає ні в самому класі, ні в класах батьках, тому буде помилка"
   ]
  },
  {
   "cell_type": "code",
   "execution_count": null,
   "metadata": {},
   "outputs": [],
   "source": [
    "example.__hash__() # Метод __hash__ реалізований у класі object"
   ]
  },
  {
   "cell_type": "markdown",
   "metadata": {},
   "source": [
    "##### Функція hash, за фактом, перемикає виклик на метод `__hash__` об'єкта, який був переданий їй як аргумент"
   ]
  },
  {
   "cell_type": "code",
   "execution_count": null,
   "metadata": {},
   "outputs": [],
   "source": [
    "hash(example) "
   ]
  },
  {
   "cell_type": "markdown",
   "metadata": {},
   "source": [
    "#### Розглянемо ситуацію, коли клас успадковується від двох суперкласів, і вони мають методи з однаковими іменами."
   ]
  },
  {
   "cell_type": "code",
   "execution_count": null,
   "metadata": {},
   "outputs": [],
   "source": [
    "\n",
    "class A:\n",
    "    def print_smile(self):\n",
    "        print (\":)\")\n",
    "\n",
    "class B:\n",
    "    def print_smile(self):\n",
    "        print(\":(\")\n",
    "\n",
    "class C(A, B): # C(B, A)\n",
    "    pass\n",
    "\n",
    "my_var = C()\n",
    "my_var.print_smile() # Все залежатиме від того, в якій послідовності вказані класи батьки"
   ]
  },
  {
   "cell_type": "code",
   "execution_count": null,
   "metadata": {},
   "outputs": [],
   "source": [
    "C.mro()"
   ]
  },
  {
   "cell_type": "markdown",
   "metadata": {},
   "source": [
    "#### Проблема «ромба»\n",
    "Це коли один із класів батьків, сам є дочірнім від іншого класу"
   ]
  },
  {
   "cell_type": "code",
   "execution_count": null,
   "metadata": {},
   "outputs": [],
   "source": [
    "class D:\n",
    "    def print_smile(self):\n",
    "        print (\":P)\")\n",
    "\n",
    "class A(D):\n",
    "    pass\n",
    "\n",
    "class B:\n",
    "    def print_smile(self):\n",
    "        print(\":(\")\n",
    "\n",
    "class C(A, B):\n",
    "\n",
    "    pass\n",
    "my_var = C()\n",
    "my_var.print_smile() # Пошук атрибутів у класах батьках, завжди йде зліва направо, і знизу вгору"
   ]
  },
  {
   "cell_type": "markdown",
   "metadata": {},
   "source": [
    "##### Для того, щоб не шукати всіх залежностей класів батьків, простіше викликати метод mro"
   ]
  },
  {
   "cell_type": "code",
   "execution_count": null,
   "metadata": {},
   "outputs": [],
   "source": [
    "C.mro()"
   ]
  },
  {
   "cell_type": "markdown",
   "metadata": {},
   "source": [
    "### Що буде, якщо в підкласі визначити такий самий метод, як у суперкласі?"
   ]
  },
  {
   "cell_type": "code",
   "execution_count": null,
   "metadata": {},
   "outputs": [],
   "source": [
    "class Animal:\n",
    "    \"\"\"Клас, в якому знаходяться поля, характерні для великої підгрупи. \n",
    "       У всіх тварин є вік, раціон харчування та забарвлення\n",
    "    \"\"\"\n",
    "    def __init__ (self, age, ration, color):\n",
    "        self.age = age\n",
    "        self.ration = ration\n",
    "        self.color = color\n",
    "    \n",
    "    def get_voice(self):\n",
    "        \"\"\"Базовий метод, не прив'язаний до конкретного типу тварин  \"\"\"\n",
    "        print('Animal')\n",
    "    \n",
    "    def __str__ (self):\n",
    "        return f\"age = {self.age}, ration = {self.ration}, color = {self.color}\"\n",
    "\n",
    "\n",
    "class Cat(Animal):\n",
    "    \n",
    "    def __init__ (self, age, ration, color, name, cat_type):\n",
    "        super().__init__(age, ration, color)\n",
    "        self.name = name\n",
    "        self.cat_type = cat_type\n",
    "    \n",
    "    def get_voice(self): # Метод, ім'я якого, збігається з ім'ям методу у суперкласі\n",
    "        print(\"Meow\")\n",
    "    \n",
    "    def __str__ (self):\n",
    "        return f\"Cat: {super().__str__()} , name = {self.name}, cat_type = {self.cat_type}\"\n",
    "    \n",
    "    def __repr__(self):\n",
    "        return 'Hi!!'\n",
    "    \n",
    "cat = Cat(3, 'meat', 'black', 'barsik', 'pers')"
   ]
  },
  {
   "cell_type": "code",
   "execution_count": null,
   "metadata": {},
   "outputs": [],
   "source": [
    "cat.get_voice() # Згідно з методом mro, найближче місце для пошуку, це сам клас Cat"
   ]
  },
  {
   "cell_type": "code",
   "execution_count": null,
   "metadata": {},
   "outputs": [],
   "source": [
    "Cat.mro()"
   ]
  },
  {
   "cell_type": "code",
   "execution_count": null,
   "metadata": {},
   "outputs": [],
   "source": [
    "#метод repr - це майже як str, але він призначений для виведення технічної інформації\n",
    "repr(cat) "
   ]
  },
  {
   "cell_type": "markdown",
   "metadata": {},
   "source": [
    "### Створити три класи Car, Engine та Driver.\n",
    "\n",
    "Клас Car описує автомобіль (колір, модель, рік випуску, двигун).\n",
    "У автомобіля двигун – це екземпляр класу Engine.\n",
    "У класі Car необхідно реалізувати кілька методів - додати водія, додати номерний знак (не можна це робити, якщо немає водія),\n",
    "отримати інфу за водієм. При виведенні на друк, дати хар-ку автомобіля.\n",
    "\n",
    "Клас Engine - вид палива, об'єм, турбіна (так\\ні)\n",
    "\n",
    "Клас Driver – Ім'я, прізвище, рік народження, номер вод. посвідчення."
   ]
  },
  {
   "cell_type": "code",
   "execution_count": null,
   "metadata": {},
   "outputs": [],
   "source": [
    "class Engine:\n",
    "\n",
    "    def __init__(self, fuel, volume, turbo=False):\n",
    "         self.fuel = fuel\n",
    "         self.volume = volume\n",
    "         self.turbo = turbo\n",
    "\n",
    "    def __str__(self):\n",
    "        return f'{self.volume}::{self.fuel}'\n",
    "\n",
    "\n",
    "class Driver:\n",
    "\n",
    "    def __init__(self, name, last_name, number, birthday):\n",
    "        self.name = name\n",
    "        self.last_name = last_name\n",
    "        self.number = number\n",
    "        self.birthday = birthday\n",
    "\n",
    "    def __str__(self):\n",
    "        return f'{self.name} {self.last_name}'\n",
    "\n",
    "\n",
    "class Car:\n",
    "\n",
    "    def __init__(self, color, model, year, some_engine):\n",
    "        self.color = color\n",
    "        self.model = model\n",
    "        self.year = year\n",
    "        self.engine = some_engine  # Композиція\n",
    "        self.driver = None\n",
    "        self.number = None\n",
    "\n",
    "    def add_driver(self, some_driver):\n",
    "        \"\"\" метод додавання водія \"\"\"\n",
    "        self.driver = some_driver\n",
    "\n",
    "    def add_number(self, number):\n",
    "        \"\"\" метод додавання номерного знака \"\"\"\n",
    "        if not self.driver:\n",
    "            return 'No!'\n",
    "        else:\n",
    "            self.number = number\n",
    "            return 'Added'\n",
    "\n",
    "    def get_driver_info(self):\n",
    "        \"\"\" метод отримання інформації про водія \"\"\"\n",
    "        if not self.driver:\n",
    "            return 'No driver!'\n",
    "        return str(self.driver)\n",
    "\n",
    "    def __str__(self):\n",
    "        \"\"\" Метод формування інформації про авто \"\"\"\n",
    "        return f'{self.model}: {self.engine.volume}\\n {self.get_driver_info()}'\n"
   ]
  },
  {
   "cell_type": "code",
   "execution_count": null,
   "metadata": {
    "scrolled": true
   },
   "outputs": [],
   "source": [
    "engine = Engine('disel', 2.2, True)\n",
    "\n",
    "print(engine)"
   ]
  },
  {
   "cell_type": "code",
   "execution_count": null,
   "metadata": {},
   "outputs": [],
   "source": [
    "print(engine.volume)"
   ]
  },
  {
   "cell_type": "code",
   "execution_count": null,
   "metadata": {},
   "outputs": [],
   "source": [
    "driver = Driver('Oleg', 'Novikov', '125/789-12', '12-01-1988')\n",
    "print(driver)"
   ]
  },
  {
   "cell_type": "code",
   "execution_count": null,
   "metadata": {},
   "outputs": [],
   "source": [
    "cordoba = Car('red', 'Cordoba', 2020, engine)"
   ]
  },
  {
   "cell_type": "code",
   "execution_count": null,
   "metadata": {
    "scrolled": true
   },
   "outputs": [],
   "source": [
    "print(cordoba)"
   ]
  },
  {
   "cell_type": "code",
   "execution_count": null,
   "metadata": {},
   "outputs": [],
   "source": [
    "print(cordoba.add_number('AA3456OO')) # Поки немає водія, номерний знак не можна додавати"
   ]
  },
  {
   "cell_type": "code",
   "execution_count": null,
   "metadata": {
    "scrolled": true
   },
   "outputs": [],
   "source": [
    "cordoba.add_driver(driver)\n"
   ]
  },
  {
   "cell_type": "code",
   "execution_count": null,
   "metadata": {},
   "outputs": [],
   "source": [
    "print(cordoba.add_number('AA3456OO'))\n"
   ]
  },
  {
   "cell_type": "code",
   "execution_count": null,
   "metadata": {},
   "outputs": [],
   "source": [
    "print(cordoba)"
   ]
  },
  {
   "cell_type": "markdown",
   "metadata": {},
   "source": [
    "### Композиція ще в одному прикладі"
   ]
  },
  {
   "cell_type": "code",
   "execution_count": null,
   "metadata": {},
   "outputs": [],
   "source": [
    "class Salary:\n",
    "    def __init__(self, pay):\n",
    "        self.pay = pay\n",
    "\n",
    "    def get_total(self):\n",
    "        return self.pay * 12\n",
    "\n",
    "\n",
    "class Employee:\n",
    "\n",
    "    def __init__(self, name, pay, bonus):\n",
    "        self.name = name\n",
    "        self.salary = Salary(pay)  # Композиція\n",
    "        self.bonus = bonus\n",
    "\n",
    "    def get_salary(self):\n",
    "        return self.salary.get_total() + self.bonus\n"
   ]
  },
  {
   "cell_type": "code",
   "execution_count": null,
   "metadata": {},
   "outputs": [],
   "source": [
    "employee = Employee('Uncle Sam', 1500, 600)\n",
    "print(employee.get_salary())"
   ]
  },
  {
   "cell_type": "code",
   "execution_count": null,
   "metadata": {},
   "outputs": [],
   "source": [
    "s = Salary(345)\n",
    "s.get_total()"
   ]
  }
 ],
 "metadata": {
  "kernelspec": {
   "display_name": "Python 3 (ipykernel)",
   "language": "python",
   "name": "python3"
  },
  "language_info": {
   "codemirror_mode": {
    "name": "ipython",
    "version": 3
   },
   "file_extension": ".py",
   "mimetype": "text/x-python",
   "name": "python",
   "nbconvert_exporter": "python",
   "pygments_lexer": "ipython3",
   "version": "3.12.4"
  }
 },
 "nbformat": 4,
 "nbformat_minor": 4
}
