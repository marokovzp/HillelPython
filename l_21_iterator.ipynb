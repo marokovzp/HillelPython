{
 "cells": [
  {
   "cell_type": "markdown",
   "metadata": {
    "collapsed": true,
    "jupyter": {
     "outputs_hidden": true
    },
    "pycharm": {
     "name": "#%% md\n"
    }
   },
   "source": [
    "## Ітератори та ітераційний протокол"
   ]
  },
  {
   "cell_type": "markdown",
   "metadata": {
    "pycharm": {
     "name": "#%% md\n"
    }
   },
   "source": [
    "Щоб екземпляр користувальницького класу, міг виконувати роль послідовності, потрібна реалізація наступних методів або, як ще кажуть, реалізувати інтерфейс послідовностей:\n",
    "\n",
    "`__getitem__(self, index)` - \"Магічний\" метод, який перевизначає отримання елемента за індексом\n",
    "\n",
    "`__len__(self)` - \"Магічний\" метод, який повертає довжину послідовності"
   ]
  },
  {
   "cell_type": "code",
   "execution_count": null,
   "metadata": {
    "pycharm": {
     "name": "#%%\n"
    }
   },
   "outputs": [],
   "source": [
    "class UserSequence:\n",
    "    \"\"\"Реалізація послідовності квадратів чисел\n",
    "    \"\"\"\n",
    "    def __init__(self, number):\n",
    "        self.number = number\n",
    "\n",
    "    def __getitem__(self, index):\n",
    "        if index < self.number:\n",
    "            return index ** 2 # поверне квадрат значення index\n",
    "        else:\n",
    "            raise IndexError\n",
    "\n",
    "    def __len__(self):\n",
    "        return self.number"
   ]
  },
  {
   "cell_type": "code",
   "execution_count": null,
   "metadata": {
    "pycharm": {
     "name": "#%%\n"
    },
    "scrolled": true
   },
   "outputs": [],
   "source": [
    "\n",
    "seq = UserSequence(10)\n",
    "# Отримуємо елементи послідовності у циклі\n",
    "for i in range(len(seq)):\n",
    "    print(seq[i])"
   ]
  },
  {
   "cell_type": "code",
   "execution_count": null,
   "metadata": {},
   "outputs": [],
   "source": [
    "# Можемо отримати елемент послідовності за індексом\n",
    "print(seq[9])\n"
   ]
  },
  {
   "cell_type": "code",
   "execution_count": null,
   "metadata": {
    "scrolled": true
   },
   "outputs": [],
   "source": [
    "# Можемо отримати всі елементи послідовності у вигляді списку\n",
    "print(list(seq))"
   ]
  },
  {
   "cell_type": "code",
   "execution_count": null,
   "metadata": {},
   "outputs": [],
   "source": [
    "# Але при цьому для нашої послідовності не працюють зрізи\n",
    "print(seq[2: 4])"
   ]
  },
  {
   "cell_type": "markdown",
   "metadata": {},
   "source": [
    "### Об'єкти зрізу."
   ]
  },
  {
   "cell_type": "code",
   "execution_count": null,
   "metadata": {
    "pycharm": {
     "name": "#%%\n"
    }
   },
   "outputs": [],
   "source": [
    "a = [5, 6, 7, 8, 9]\n",
    "b = a[0: 3]\n",
    "print(b)"
   ]
  },
  {
   "cell_type": "markdown",
   "metadata": {
    "pycharm": {
     "name": "#%% md\n"
    }
   },
   "source": [
    "#### *slice()*\n",
    "Функція slice() в Пайтон - це вбудована функція, яка повертає об'єкт срізу, який можна використовувати для отримання підпослідовностей з рядків, списків, кортежів та інших ітерабельних об'єктів. Функція slice() приймає три параметри: start, stop і step, які визначають початок, кінець і крок срізу. Наприклад, якщо ви маєте рядок s = \"Hello World\", то ви можете отримати сріз s[1:3], який поверне \"el\". \n",
    "\n",
    "Ви також можете використовувати функцію *slice()* для створення об'єкта срізу, який можна передати іншим функціям або зберегти для подальшого використання. Наприклад, ви можете створити об'єкт срізу sl = slice(1, 3) і потім використовувати його для отримання срізів з різних рядків, таких як s[sl] або \"Python\"[sl].\n",
    "\n"
   ]
  },
  {
   "cell_type": "code",
   "execution_count": null,
   "metadata": {
    "pycharm": {
     "name": "#%%\n"
    }
   },
   "outputs": [],
   "source": [
    "slice_ = slice(0, 3)\n",
    "print(slice_.start)  # 0\n",
    "print(slice_.stop)  # 3\n",
    "print(slice_.step)  # None"
   ]
  },
  {
   "cell_type": "code",
   "execution_count": null,
   "metadata": {
    "pycharm": {
     "name": "#%%\n"
    }
   },
   "outputs": [],
   "source": [
    "print(a[slice_])\n",
    "print(a[0:3])\n"
   ]
  },
  {
   "cell_type": "code",
   "execution_count": null,
   "metadata": {
    "pycharm": {
     "name": "#%%\n"
    }
   },
   "outputs": [],
   "source": [
    "print(a[slice(1, None)])\n",
    "print(a[1:])\n",
    "# [6, 7, 8, 9]"
   ]
  },
  {
   "cell_type": "code",
   "execution_count": null,
   "metadata": {
    "pycharm": {
     "name": "#%%\n"
    }
   },
   "outputs": [],
   "source": [
    "print(a[slice(None, -1)])\n",
    "print(a[:-1])\n",
    "# [5, 6, 7, 8]"
   ]
  },
  {
   "cell_type": "code",
   "execution_count": null,
   "metadata": {
    "pycharm": {
     "name": "#%%\n"
    }
   },
   "outputs": [],
   "source": [
    "print(a[slice(None, None, 2)])\n",
    "print(a[::2])\n",
    "# [5, 7, 9]"
   ]
  },
  {
   "cell_type": "code",
   "execution_count": null,
   "metadata": {
    "pycharm": {
     "name": "#%%\n"
    }
   },
   "outputs": [],
   "source": [
    "print(a[slice(None)])\n",
    "print(a[::])\n",
    "# [5, 6, 7, 8, 9]"
   ]
  },
  {
   "cell_type": "code",
   "execution_count": null,
   "metadata": {
    "pycharm": {
     "name": "#%%\n"
    }
   },
   "outputs": [],
   "source": [
    "print(a[slice(2)])\n",
    "print(a[:2:])\n",
    "# [5, 6]"
   ]
  },
  {
   "cell_type": "code",
   "execution_count": null,
   "metadata": {
    "pycharm": {
     "name": "#%%\n"
    }
   },
   "outputs": [],
   "source": [
    "print(a[slice(None, None, -1)])\n",
    "print(a[::-1])\n",
    "# [9, 8, 7, 6, 5]"
   ]
  },
  {
   "cell_type": "code",
   "execution_count": null,
   "metadata": {},
   "outputs": [],
   "source": [
    "sl = slice(None, None, -1)\n",
    "print(sl.start)"
   ]
  },
  {
   "cell_type": "markdown",
   "metadata": {},
   "source": [
    "#### Один важливий момент, None не можна порівнювати на більше або менше з іншими типами даних"
   ]
  },
  {
   "cell_type": "code",
   "execution_count": null,
   "metadata": {},
   "outputs": [],
   "source": [
    "sl.start < -1"
   ]
  },
  {
   "cell_type": "code",
   "execution_count": null,
   "metadata": {
    "pycharm": {
     "name": "#%%\n"
    }
   },
   "outputs": [],
   "source": [
    "\n",
    "class UserSequence:\n",
    "    \"\"\" Реалізація послідовності квадратів чисел, що підтримує звернення за допомогою зрізів\"\"\"\n",
    "    def __init__(self, number):\n",
    "        self.number = number\n",
    "\n",
    "    def __getitem__(self, index):\n",
    "        # перевірка того, що індекс це об'єкт зрізу\n",
    "        if isinstance(index, slice):\n",
    "            # перевірка коректності значень об'єкт зрізу\n",
    "            if index.start  and index.start < 0:\n",
    "                raise IndexError\n",
    "            elif index.stop  and index.stop > self.number:\n",
    "                raise IndexError\n",
    "            result = []\n",
    "            # встановлення конкретних значень зрізу, якщо такі не були задані\n",
    "            start = 0 if index.start is None else index.start\n",
    "            stop = self.number if index.stop is None else index.stop\n",
    "            reverse = False\n",
    "            # якщо значення кроку від'ємне, значить буде перевернута послідовність\n",
    "            if index.step and index.step < 0:\n",
    "                reverse = True\n",
    "                step = index.step * (-1)\n",
    "            else:\n",
    "                step = 1 if index.step is None else index.step\n",
    "            # процес формування послідовності\n",
    "            for i in range(start, stop, step):\n",
    "                result.append(i ** 2)\n",
    "            # перевертаємо послідовність, якщо reverse = True\n",
    "            return list(reversed(result)) if reverse else result\n",
    "        \n",
    "        if isinstance(index, int):\n",
    "            if index < self.number:\n",
    "                return index ** 2\n",
    "            else:\n",
    "                raise IndexError\n",
    "        raise TypeError\n",
    "\n",
    "    def __len__(self):\n",
    "        return self.number"
   ]
  },
  {
   "cell_type": "markdown",
   "metadata": {},
   "source": [
    "##### Тепер послідовність підтримує можливість працювати зі зрізами"
   ]
  },
  {
   "cell_type": "code",
   "execution_count": null,
   "metadata": {
    "pycharm": {
     "name": "#%%\n"
    }
   },
   "outputs": [],
   "source": [
    "seq = UserSequence(10)\n",
    "\n",
    "print(seq[1:8])\n",
    "print(seq[:10:2])\n",
    "print(seq[:])\n",
    "print(seq[::-1])"
   ]
  },
  {
   "cell_type": "markdown",
   "metadata": {
    "pycharm": {
     "name": "#%% md\n"
    }
   },
   "source": [
    "### Ітератори\n",
    "Ітератор (від англ. iterator - перечислювач) - інтерфейс, що надає доступ до елементів колекції (масиву або контейнера) та навігацію по них."
   ]
  },
  {
   "cell_type": "markdown",
   "metadata": {},
   "source": [
    "#### *iter()*, *next()*\n",
    "Функції iter() та next() в Пайтон - це вбудовані функції, які дозволяють працювати з ітераторами. Ітератор - це об'єкт, який може повертати свої елементи по одному за допомогою методу next(). Ітератори використовуються для обходу різних колекцій, таких як списки, рядки, словники, множини тощо.\n",
    "\n",
    "Функція *iter()* приймає якийсь ітерабельний об'єкт, наприклад список, і повертає ітератор для цього об'єкта. \n",
    "\n",
    "Функція *next()* приймає якийсь ітератор і повертає наступний елемент з нього. Якщо елементів більше немає, то функція викликає виняток **StopIteration**. \n",
    "\n",
    "Функції iter() та next() дуже корисні для реалізації власних ітераторів або генераторів, які можуть виробляти послідовності значень за вимогою. Якщо ви хочете дізнатися більше про функції iter() та next() в Пайтон, ви можете прочитати цю статтю https://www.bestprog.net/uk/2021/12/03/python-generator-functions-yield-statement-next-iter-send-methods-ua/, цей урок https://docs.python.org/uk/3.12/howto/functional.html, цей матеріал або цю публікацію https://www.bestprog.net/uk/2019/05/31/objects-iterators-using-of-iterators-and-generators-for-lists-functions-range-next-iter-ua/."
   ]
  },
  {
   "cell_type": "code",
   "execution_count": null,
   "metadata": {
    "pycharm": {
     "name": "#%%\n"
    }
   },
   "outputs": [],
   "source": [
    "lst = [1, 2, 3, 4, 5]\n",
    "it = iter(lst) \n",
    "print(type(it)) # it - це ітератор для списку lst"
   ]
  },
  {
   "cell_type": "code",
   "execution_count": null,
   "metadata": {
    "pycharm": {
     "name": "#%%\n"
    }
   },
   "outputs": [],
   "source": [
    "print(next(it)) # виведе 1\n",
    "a = 3 + 5\n"
   ]
  },
  {
   "cell_type": "code",
   "execution_count": null,
   "metadata": {},
   "outputs": [],
   "source": [
    "print(next(it)) # виведе 2\n",
    "print(next(it)) # виведе 3\n",
    "print(next(it)) # виведе 4\n",
    "print(next(it)) # виведе 5"
   ]
  },
  {
   "cell_type": "code",
   "execution_count": null,
   "metadata": {
    "pycharm": {
     "name": "#%%\n"
    }
   },
   "outputs": [],
   "source": [
    "print(next(it)) # викличе виняток StopIteration\n"
   ]
  },
  {
   "cell_type": "code",
   "execution_count": null,
   "metadata": {
    "pycharm": {
     "name": "#%%\n"
    }
   },
   "outputs": [],
   "source": [
    "print(type(it))\n",
    "print(next(it))"
   ]
  },
  {
   "cell_type": "code",
   "execution_count": null,
   "metadata": {
    "pycharm": {
     "name": "#%%\n"
    }
   },
   "outputs": [],
   "source": [
    "a = \"Hello\"\n",
    "b = a.__iter__()\n",
    "print(type(b))"
   ]
  },
  {
   "cell_type": "code",
   "execution_count": null,
   "metadata": {},
   "outputs": [],
   "source": [
    "a = (2, 4)\n",
    "b = a.__iter__()\n",
    "print(type(b))"
   ]
  },
  {
   "cell_type": "code",
   "execution_count": null,
   "metadata": {},
   "outputs": [],
   "source": [
    "print(b)"
   ]
  },
  {
   "cell_type": "markdown",
   "metadata": {
    "pycharm": {
     "name": "#%% md\n"
    }
   },
   "source": [
    "У об'єкта, що ітерується, немає методу `__next__()`, який використовується при ітерації. Цей метод є у ітератора (механізму, який знає, як послідовно обробляти елементи об'єкта)\n"
   ]
  },
  {
   "cell_type": "code",
   "execution_count": null,
   "metadata": {
    "pycharm": {
     "name": "#%%\n"
    }
   },
   "outputs": [],
   "source": [
    "a.__next__() # AttributeError: 'tuple' object has no attribute '__next__'"
   ]
  },
  {
   "cell_type": "markdown",
   "metadata": {
    "pycharm": {
     "name": "#%% md\n"
    }
   },
   "source": [
    "Ітератор має метод `__next__()`, який витягує з ітератора черговий елемент."
   ]
  },
  {
   "cell_type": "code",
   "execution_count": null,
   "metadata": {
    "pycharm": {
     "name": "#%%\n"
    }
   },
   "outputs": [],
   "source": [
    "print(b.__next__())\n",
    "print(b.__next__())\n"
   ]
  },
  {
   "cell_type": "markdown",
   "metadata": {},
   "source": [
    "У ітераторів, як і у об'єктів, що ітеруються, є метод `__iter__()`. Однак у цьому випадку він повертає сам об'єкт-ітератор"
   ]
  },
  {
   "cell_type": "code",
   "execution_count": null,
   "metadata": {
    "pycharm": {
     "name": "#%%\n"
    }
   },
   "outputs": [],
   "source": [
    "a = \"hi\"\n",
    "b = a.__iter__()\n",
    "\n",
    "print(b)\n"
   ]
  },
  {
   "cell_type": "code",
   "execution_count": null,
   "metadata": {},
   "outputs": [],
   "source": [
    "c = b.__iter__()\n",
    "\n",
    "print(c)"
   ]
  },
  {
   "cell_type": "code",
   "execution_count": null,
   "metadata": {},
   "outputs": [],
   "source": [
    "print(c == b)  # True"
   ]
  },
  {
   "cell_type": "markdown",
   "metadata": {},
   "source": [
    "### Як перетворити клас на ітератор?\n",
    "Для того щоб користувальницький клас міг виступати як ітератор необхідно, щоб у класі було визначено або успадковано такі методи:\n",
    "\n",
    "`__iter__(self)` - Метод, який вказує на те, що клас є ітератором (тобто підтримує ітераційний протокол). Метод має повернути ітератор.\n",
    "\n",
    "`__next__(self)` - Викликається при кожній ітерації і повинен повернути чергове значення із послідовності. Якщо послідовність значень закінчена, генерується виняток StopIteration.\n",
    "\n",
    "Метод `__getitem__(self, index)` викликається лише у разі відсутності зазначених вище. У такому випадку Python сам створює ітератор на основі процедури вилучення індексу, починаючи з 0. Однак цей спосіб не рекомендований."
   ]
  },
  {
   "cell_type": "markdown",
   "metadata": {},
   "source": [
    "**Об'єкт, що ітерується** — будь-який об'єкт, у якого реалізований метод `__iter__`, і який повертає ітератор для цього об'єкта.\n",
    "Саме цей метод і використовує функцію iter() для отримання ітератора.\n",
    "\n",
    "**Ітератор** - об'єкт, що володіє методом `__next__`. Цей метод повинен повертати таке доступне значення. Якщо доступних значень не залишилося, слід порушити виняток StopIteration. Також бажана наявність методу `__iter__`, який має повернути екземпляр ітератора."
   ]
  },
  {
   "cell_type": "markdown",
   "metadata": {
    "pycharm": {
     "name": "#%% md\n"
    }
   },
   "source": [
    "*Приклад створення класу, що ітерується, і ітератора*\n",
    "\n",
    "Клас Товар (назва, ціна) для зберігання переліку товарів.\n",
    "\n",
    "Клас Кошик (список товарів, Ім'я користувача). Клас Кошик зробимо ітерованим для можливості проходу ним за допомогою циклу for."
   ]
  },
  {
   "cell_type": "code",
   "execution_count": null,
   "metadata": {},
   "outputs": [],
   "source": [
    "class Goods:\n",
    "    \n",
    "    def __init__(self, name, price):\n",
    "        self.name = name\n",
    "        self.price = price\n",
    "    \n",
    "    def __str__(self):\n",
    "        return f\"Goods [name = {self.name}, price = {self.price}]\"\n",
    "    \n",
    "    \n",
    "class Basket:\n",
    "    \"\"\" У цій реалізації не можна пройти по елементам Кошика в циклі \"\"\"\n",
    "    def __init__(self, user):\n",
    "        self.user = user\n",
    "        self.goods_list = list()\n",
    "\n",
    "    def add_good(self, good):\n",
    "        self.goods_list.append(good)\n",
    "\n",
    "    def __str__(self):\n",
    "        result = f\"User: {self.user}\\n\"\n",
    "        for good in self.goods_list:\n",
    "            result += str(good)+\"\\n\"\n",
    "        return result\n"
   ]
  },
  {
   "cell_type": "code",
   "execution_count": null,
   "metadata": {
    "scrolled": true
   },
   "outputs": [],
   "source": [
    "basket = Basket(\"Alexander_Ts\")\n",
    "\n",
    "a = Goods(\"Apple\", 35)\n",
    "b = Goods(\"Milk\", 50)\n",
    "\n",
    "basket.add_good(a)\n",
    "basket.add_good(b)\n",
    "\n",
    "print(basket)"
   ]
  },
  {
   "cell_type": "code",
   "execution_count": null,
   "metadata": {},
   "outputs": [],
   "source": [
    "for good in basket:\n",
    "    print(good)"
   ]
  },
  {
   "cell_type": "code",
   "execution_count": null,
   "metadata": {
    "pycharm": {
     "name": "#%%\n"
    }
   },
   "outputs": [],
   "source": [
    "class BasketIterator:\n",
    "    \"\"\" Клас ітератор, який знає як обробляти наповнення Кошика, \n",
    "    щоб віддавати по одному елементу при кожному запиті\n",
    "    \"\"\"\n",
    "    \n",
    "    def __init__(self, goods_list):\n",
    "        \"\"\"При ініціалізації отримує список товарів \n",
    "        і встановлює значення індексу 0\"\"\"\n",
    "        self.goods_list = goods_list\n",
    "        self.index = 0\n",
    "\n",
    "    def __next__(self):\n",
    "        \"\"\" Якщо значення індексу не виходить за межі розміру \n",
    "        списку, надаємо елемент Кошика. \n",
    "        В іншому випадку - викликаємо виняток\"\"\"\n",
    "        if self.index < len(self.goods_list):\n",
    "            res = self.goods_list[self.index]\n",
    "            self.index = self.index + 1\n",
    "            return res\n",
    "        else:\n",
    "            raise StopIteration\n",
    "\n",
    "    def __iter__(self):\n",
    "        return self\n",
    "\n",
    "\n",
    "class Basket:\n",
    "    def __init__(self, user):\n",
    "        self.user = user\n",
    "        self.goods_list = list()\n",
    "\n",
    "    def add_good(self, good):\n",
    "        self.goods_list.append(good)\n",
    "\n",
    "    def __str__(self):\n",
    "        result = f\"User: {self.user}\\n\"\n",
    "        for good in self.goods_list:\n",
    "            result += str(good)+\"\\n\"\n",
    "        return result\n",
    "\n",
    "    def __iter__(self):\n",
    "        \"\"\"Повертаємо екземпляр класу Ітератора\"\"\"\n",
    "        return BasketIterator(self.goods_list)"
   ]
  },
  {
   "cell_type": "code",
   "execution_count": null,
   "metadata": {
    "pycharm": {
     "name": "#%%\n"
    }
   },
   "outputs": [],
   "source": [
    "basket = Basket(\"Alexander_Ts\")\n",
    "\n",
    "a = Goods(\"Apple\", 35)\n",
    "b = Goods(\"Milk\", 50)\n",
    "\n",
    "basket.add_good(a)\n",
    "basket.add_good(b)\n",
    "\n",
    "for good in basket:\n",
    "    print(good)\n",
    "print('**' * 6)\n",
    "c = Goods(\"Oil\", 100)\n",
    "basket.add_good(c)\n",
    "\n",
    "for good in basket:\n",
    "    print(good)"
   ]
  },
  {
   "cell_type": "code",
   "execution_count": null,
   "metadata": {
    "pycharm": {
     "name": "#%%\n"
    },
    "scrolled": true
   },
   "outputs": [],
   "source": [
    "print(basket)"
   ]
  },
  {
   "cell_type": "code",
   "execution_count": null,
   "metadata": {
    "scrolled": true
   },
   "outputs": [],
   "source": [
    "it = iter(basket)\n",
    "print(next(it))\n",
    "print(next(it))\n",
    "print(next(it))"
   ]
  },
  {
   "cell_type": "code",
   "execution_count": null,
   "metadata": {},
   "outputs": [],
   "source": [
    "print(next(it))"
   ]
  },
  {
   "cell_type": "code",
   "execution_count": null,
   "metadata": {
    "pycharm": {
     "name": "#%%\n"
    }
   },
   "outputs": [],
   "source": [
    "itr = iter(basket)\n",
    "# print(itr)\n",
    "while True:\n",
    "    try:\n",
    "        good = next(itr)\n",
    "        print(good)\n",
    "    except StopIteration:\n",
    "        break"
   ]
  },
  {
   "cell_type": "code",
   "execution_count": null,
   "metadata": {},
   "outputs": [],
   "source": [
    "for i in basket:\n",
    "    print(i)"
   ]
  }
 ],
 "metadata": {
  "kernelspec": {
   "display_name": "Python 3 (ipykernel)",
   "language": "python",
   "name": "python3"
  },
  "language_info": {
   "codemirror_mode": {
    "name": "ipython",
    "version": 3
   },
   "file_extension": ".py",
   "mimetype": "text/x-python",
   "name": "python",
   "nbconvert_exporter": "python",
   "pygments_lexer": "ipython3",
   "version": "3.12.4"
  }
 },
 "nbformat": 4,
 "nbformat_minor": 4
}
