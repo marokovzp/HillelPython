{
 "cells": [
  {
   "cell_type": "markdown",
   "metadata": {
    "collapsed": true,
    "jupyter": {
     "outputs_hidden": true
    },
    "pycharm": {
     "name": "#%% md\n"
    }
   },
   "source": [
    "## Управління полями класу. Дескриптори."
   ]
  },
  {
   "cell_type": "markdown",
   "metadata": {},
   "source": [
    "Поля класу найчастіше використовуються елементи програм у Python. Поля використовуються для зберігання стану об'єкта. Поля зазвичай приєднуються одразу до об'єкта або успадковуються від батьківського класу.\n",
    "\n",
    "Зазвичай доступ до полів класу здійснюється через ім'я об'єкта простим зверненням на ім'я поля через точкову нотацію. Однак у ряді\n",
    "випадків потрібно більш повний та тонкий контроль над процесами отримання та зміни значення поля, або видалення поля цілком."
   ]
  },
  {
   "cell_type": "code",
   "execution_count": null,
   "metadata": {
    "pycharm": {
     "name": "#%%\n"
    }
   },
   "outputs": [],
   "source": [
    "# Стандартна реалізація класу\n",
    "class Cat:\n",
    "    def __init__(self, name, age, color):\n",
    "        self.name = name\n",
    "        self.age = age\n",
    "        self.color = color\n",
    "\n",
    "    def __str__(self):\n",
    "        msg = \"Cat [ name = {}, age = {}, color ={}]\"\n",
    "        return msg.format(self.name, self.age, self.color)\n",
    "\n",
    "cat = Cat('Barsik', 3, 'black')\n",
    "print(cat.color)\n"
   ]
  },
  {
   "cell_type": "code",
   "execution_count": null,
   "metadata": {},
   "outputs": [],
   "source": [
    "# Можна без особливих зусиль змінити значення поля\n",
    "cat.color = 'white'\n",
    "print(cat.color)"
   ]
  },
  {
   "cell_type": "markdown",
   "metadata": {},
   "source": [
    "Одне або два нижніх підкреслення в назві поля класу в Пайтон впливають на рівень доступу до цього поля. За звичай, поля класу в Пайтон є публічними, тобто вони можуть бути доступні з будь-якого місця програми. Однак, якщо ви хочете зробити поле приватним, тобто доступним тільки з методів класу, ви можете додати два нижніх підкреслення перед назвою поля. "
   ]
  },
  {
   "cell_type": "code",
   "execution_count": null,
   "metadata": {
    "pycharm": {
     "name": "#%%\n"
    },
    "scrolled": true
   },
   "outputs": [],
   "source": [
    "class Cat:\n",
    "    def __init__(self, name, age, color):\n",
    "        self.name = name\n",
    "        self._age = age # \"захищене\" поле\n",
    "        self.__color = color # приватне поле\n",
    "\n",
    "    def __str__(self):\n",
    "        msg = \"Cat [ name = {}, age = {}, color ={}]\"\n",
    "        return msg.format(self.name, self._age, self.__color)\n",
    "    \n",
    "    def get_color(self):\n",
    "        return self.__color\n",
    "\n",
    "cat = Cat('Barsik', 3, 'black')\n",
    "print(cat._age)\n"
   ]
  },
  {
   "cell_type": "code",
   "execution_count": null,
   "metadata": {},
   "outputs": [],
   "source": [
    "# В даному випадку, це поле нічим не відрізняється від звичайного\n",
    "cat._age = 5\n",
    "print(cat._age)"
   ]
  },
  {
   "cell_type": "markdown",
   "metadata": {},
   "source": [
    "При цьому, поле __color буде доступне тільки з методів класу Cat, а не з інших частин програми. Якщо ви спробуєте отримати доступ до нього ззовні, ви отримаєте помилку AttributeError. "
   ]
  },
  {
   "cell_type": "code",
   "execution_count": null,
   "metadata": {},
   "outputs": [],
   "source": [
    "print(cat.color) # Такого поля немає взагалі AttributeError"
   ]
  },
  {
   "cell_type": "code",
   "execution_count": null,
   "metadata": {},
   "outputs": [],
   "source": [
    "print(cat.__color) # AttributeError"
   ]
  },
  {
   "cell_type": "markdown",
   "metadata": {},
   "source": [
    "Однак, якщо ви додасте метод get_color() до класу Cat, який повертає значення поля __color, ви зможете отримати доступ до нього через цей метод."
   ]
  },
  {
   "cell_type": "code",
   "execution_count": null,
   "metadata": {},
   "outputs": [],
   "source": [
    "print(cat.get_color())"
   ]
  },
  {
   "cell_type": "code",
   "execution_count": null,
   "metadata": {},
   "outputs": [],
   "source": [
    "# Лайфхак, як можна отримати доступ до закритого поля ззовні\n",
    "print(cat._Cat__color)"
   ]
  },
  {
   "cell_type": "code",
   "execution_count": null,
   "metadata": {
    "pycharm": {
     "name": "#%%\n"
    },
    "scrolled": true
   },
   "outputs": [],
   "source": [
    "\n",
    "cat._Cat__color = 'white'\n",
    "print(cat._Cat__color)\n",
    "print(cat._age)\n",
    "cat._age = 4\n",
    "print(cat._age)\n",
    "print(cat)"
   ]
  },
  {
   "cell_type": "markdown",
   "metadata": {},
   "source": [
    "Варто зауважити, що одне або два нижніх підкреслення в назві поля класу в Пайтон не є суворими обмеженнями доступу, а лише угодами між програмістами, які слідують посібнику з написання коду Python (PEP 8). Технічно, ви все ще можете отримати доступ до приватних або захищених полів ззовні, але це не рекомендується, оскільки це порушує принцип інкапсуляції та може призвести до помилок або несподіваної поведінки. "
   ]
  },
  {
   "cell_type": "markdown",
   "metadata": {},
   "source": [
    "#### Як поля зберігаються в об'єкті?\n",
    "Для зберігання полів в об'єкті використовуються два способи:\n",
    "\n",
    "* Кожен об'єкт має вбудований словник з назвою `__dict__` в якому і зберігаються поля. Ключі цього словника це\n",
    "рядки з назвою полів, а значення значення полів. Дозволяє додавати нові поля до об'єкта.\n",
    "\n",
    "* Можна використовувати `__slots__` - поле класу, в якому поля також описуються у вигляді рядків. За замовчуванням вимикає\n",
    "`__dict__`. Не дозволяє додавати до об'єкта поля, крім зазначених у `__slots__`. Це пов'язано з тим, що `__slots__`, по факту,\n",
    "це кортеж!"
   ]
  },
  {
   "cell_type": "code",
   "execution_count": null,
   "metadata": {
    "pycharm": {
     "name": "#%%\n"
    }
   },
   "outputs": [],
   "source": [
    "# Кортеж займає менше пам'яті, ніж словник\n",
    "from sys import  getsizeof\n",
    "dct = {'name':'Barsik', 'age': 3, 'color': 'black'}\n",
    "tpl = ('Barsik', 3, 'black')\n",
    "print(getsizeof(dct))\n",
    "print(getsizeof(tpl))"
   ]
  },
  {
   "cell_type": "code",
   "execution_count": null,
   "metadata": {},
   "outputs": [],
   "source": [
    "# Для словника, Пайтон резервує більше пам'яті, ніж це потрібно насправді\n",
    "dct = {'name':'Barsik', 'age': 3, 'color': 'black', 1: 8, 3: 766}\n",
    "print(getsizeof(dct))"
   ]
  },
  {
   "cell_type": "code",
   "execution_count": null,
   "metadata": {
    "pycharm": {
     "name": "#%%\n"
    }
   },
   "outputs": [],
   "source": [
    "class Cat:\n",
    "    def __init__(self, name, age, color):\n",
    "        self.name = name\n",
    "        self.age = age\n",
    "        self.color = color\n",
    "\n",
    "    def __str__(self):\n",
    "        msg = \"Cat [ name = {}, age = {}, color ={}]\"\n",
    "        return msg.format(self.name, self.age, self.color)\n",
    "\n",
    "cat = Cat('Barsik', 3, 'black')\n"
   ]
  },
  {
   "cell_type": "code",
   "execution_count": null,
   "metadata": {},
   "outputs": [],
   "source": [
    "# За замовчуванням, всі поля екземпляра зберігаються у словнику\n",
    "print(cat.__dict__)"
   ]
  },
  {
   "cell_type": "code",
   "execution_count": null,
   "metadata": {},
   "outputs": [],
   "source": [
    "print(getsizeof(cat))"
   ]
  },
  {
   "cell_type": "code",
   "execution_count": null,
   "metadata": {},
   "outputs": [],
   "source": [
    "# За необхідності можна додавати нові поля\n",
    "cat.type = \"Home cat\"\n",
    "print(cat.__dict__)"
   ]
  },
  {
   "cell_type": "code",
   "execution_count": null,
   "metadata": {
    "pycharm": {
     "name": "#%%\n"
    },
    "scrolled": true
   },
   "outputs": [],
   "source": [
    "class Cat:\n",
    "    __slots__ = (\"name\", \"age\", \"color\")\n",
    "    def __init__(self, name, age, color):\n",
    "        self.name = name\n",
    "        self.age = age\n",
    "        self.color = color\n",
    "\n",
    "    def __str__(self):\n",
    "        msg = \"Cat [ name = {}, age = {}, color ={}]\"\n",
    "        return msg.format(self.name, self.age, self.color)\n",
    "\n",
    "cat = Cat('Barsik', 3, 'black')\n",
    "print(cat.__slots__)\n",
    "print(cat.age)"
   ]
  },
  {
   "cell_type": "code",
   "execution_count": null,
   "metadata": {},
   "outputs": [],
   "source": [
    "print(getsizeof(cat))"
   ]
  },
  {
   "cell_type": "code",
   "execution_count": null,
   "metadata": {
    "pycharm": {
     "name": "#%%\n"
    }
   },
   "outputs": [],
   "source": [
    "# Якщо вказали __slots__, як набір полів, що зберігаються, то __dict__ у об'єкта видаляється\n",
    "print(cat.__dict__) # AttributeError\n"
   ]
  },
  {
   "cell_type": "code",
   "execution_count": null,
   "metadata": {},
   "outputs": [],
   "source": [
    "cat.__slots__"
   ]
  },
  {
   "cell_type": "code",
   "execution_count": null,
   "metadata": {},
   "outputs": [],
   "source": [
    "# У __slots__ не можна додавати нові поля\n",
    "cat.type = \"Home cat\"\n"
   ]
  },
  {
   "cell_type": "markdown",
   "metadata": {},
   "source": [
    "#### Чи існують можливість одночасного використання `__slots__` та `__dict__`?\n",
    "Так. Але це позбавлене сенсу!\n",
    "\n",
    "`__slots__ = (\"name\", \"age\", \"color\", \"__dict__\")`"
   ]
  },
  {
   "cell_type": "markdown",
   "metadata": {},
   "source": [
    "### У Python існують такі способи керування доступом до полів класу:\n",
    "* #### Методи `__getattr__`, `__setattr__`, `__getattribute__`, `__delattr__`\n",
    "* #### Вбудована функція *property*\n",
    "* #### Протокол дескрипторів"
   ]
  },
  {
   "cell_type": "markdown",
   "metadata": {},
   "source": [
    "### Робота з методами `__getattribute__`, `__getattr__`, `__setattr__` та `__delattr__`\n",
    "Метод `__getattribute__` - викликається автоматично при спробі набути значення **певного** або\n",
    "**невизначеного** (відсутнього) поля класу.\n",
    "\n",
    "Метод `__getattr__` - викликається автоматично при спробі отримати значення **невизначеного** поля класу.\n",
    "\n",
    "Метод `__setattr__` - викликається при спробі надати значення будь-якому полю класу (певного та невизначеного)\n",
    "\n",
    "Метод `__delattr__` – викликається при видаленні поля."
   ]
  },
  {
   "cell_type": "markdown",
   "metadata": {
    "pycharm": {
     "name": "#%% md\n"
    }
   },
   "source": [
    "#### Метод `__getattr__`\n",
    "Метод `__getattr__` - автоматично викликається інтерпретатором під час спроби одержати значення невизначених полів класу. Тобто, полів, які відсутні у класі і були прикріплені до об'єкту після його створення. Для певних полів класу (тобто ті які можуть бути виявлені інтерпретатором у результаті висхідного пошуку) цей метод не викликається.\n",
    "Синтаксис його реалізації такий:\n",
    "\n",
    "`__getattr__ (self, attrname)`\n",
    "\n",
    "де: **self** — посилання на об'єкт для якого відбувається звернення до невизначеного поля, а **attrname** — назва поля."
   ]
  },
  {
   "cell_type": "markdown",
   "metadata": {},
   "source": [
    "##### Стандартна поведінка. При зверненні до поля якого немає код викликає помилку AttributeError"
   ]
  },
  {
   "cell_type": "code",
   "execution_count": null,
   "metadata": {
    "pycharm": {
     "name": "#%%\n"
    }
   },
   "outputs": [],
   "source": [
    "\n",
    "class Cat:\n",
    "    def __init__(self, name, age, color):\n",
    "        self.name = name\n",
    "        self.age = age\n",
    "        self.color = color\n",
    "\n",
    "    def __str__(self):\n",
    "        msg = \"Cat [ name = {}, age = {}, color ={}]\"\n",
    "        return msg.format(self.name, self.age, self.color)\n",
    "\n",
    "\n",
    "cat = Cat('Barsik', 3, 'black')\n",
    "print(cat.name)\n",
    "print(cat.type) # Звернення до поля, якого немає\n"
   ]
  },
  {
   "cell_type": "markdown",
   "metadata": {},
   "source": [
    "##### Якщо ми перевизначимо метод `__getattr__`, то зможемо погасити помилку"
   ]
  },
  {
   "cell_type": "code",
   "execution_count": null,
   "metadata": {},
   "outputs": [],
   "source": [
    "class Cat:\n",
    "    def __init__(self, name, age, color):\n",
    "        self.name = name\n",
    "        self.age = age\n",
    "        self.color = color\n",
    "\n",
    "    def __str__(self):\n",
    "        msg = \"Cat [ name = {}, age = {}, color ={}]\"\n",
    "        return msg.format(self.name, self.age, self.color)\n",
    "\n",
    "    def __getattr__(self, atr_name):\n",
    "        print(atr_name)\n",
    "        return None # pass\n",
    "\n",
    "cat = Cat('Barsik', 3, 'black')\n",
    "print(cat.type) # Звернення до поля, якого немає\n",
    "print(cat.name)"
   ]
  },
  {
   "cell_type": "code",
   "execution_count": null,
   "metadata": {},
   "outputs": [],
   "source": [
    "# Тепер звернення до будь-якого поля, якого немає у екземпляра, буде повертати нам None\n",
    "cat.namedflkgdflkgfdsklg\n"
   ]
  },
  {
   "cell_type": "markdown",
   "metadata": {},
   "source": [
    "#### Функція `getattr(object, attribute)` - повертає значення (об'єкт) з об'єкта (клас, модуль) за заданим атрибутом."
   ]
  },
  {
   "cell_type": "code",
   "execution_count": null,
   "metadata": {
    "pycharm": {
     "name": "#%%\n"
    }
   },
   "outputs": [],
   "source": [
    "print(getattr(cat, 'age')) # 3\n"
   ]
  },
  {
   "cell_type": "code",
   "execution_count": null,
   "metadata": {
    "pycharm": {
     "name": "#%%\n"
    }
   },
   "outputs": [],
   "source": [
    "print(getattr(cat, 'type')) # None\n"
   ]
  },
  {
   "cell_type": "code",
   "execution_count": null,
   "metadata": {},
   "outputs": [],
   "source": [
    "print(getattr(cat, 'x'))  # None"
   ]
  },
  {
   "cell_type": "markdown",
   "metadata": {},
   "source": [
    "##### Також можна отримати значення (функцію) з будь-якого модуля (пакета)"
   ]
  },
  {
   "cell_type": "code",
   "execution_count": null,
   "metadata": {
    "pycharm": {
     "name": "#%%\n"
    }
   },
   "outputs": [],
   "source": [
    "import math\n",
    "PI = getattr(math, 'pi')\n",
    "print(PI)  # 3.141592653589793"
   ]
  },
  {
   "cell_type": "code",
   "execution_count": null,
   "metadata": {},
   "outputs": [],
   "source": [
    "pow_math = getattr(math, 'pow')\n",
    "print(pow_math)"
   ]
  },
  {
   "cell_type": "code",
   "execution_count": null,
   "metadata": {},
   "outputs": [],
   "source": [
    "print(pow_math(4, 2))"
   ]
  },
  {
   "cell_type": "markdown",
   "metadata": {},
   "source": [
    "##### Такий підхід дозволяє динамічно отримувати значення з об'єкта, не вдаючись до точкової нотації."
   ]
  },
  {
   "cell_type": "code",
   "execution_count": null,
   "metadata": {
    "scrolled": true
   },
   "outputs": [],
   "source": [
    "fields = ['age', 'name', 'color']\n",
    "for field in fields:\n",
    "    print(getattr(cat, field))"
   ]
  },
  {
   "cell_type": "markdown",
   "metadata": {},
   "source": [
    "##### Якщо такого атрибуту немає, виклик функції getattr призведе до виникнення помилки.\n",
    "Можна або вказати значення за промовчанням для цієї функції, або зробити перевірку наявності, за допомогою функції hasattr"
   ]
  },
  {
   "cell_type": "code",
   "execution_count": null,
   "metadata": {},
   "outputs": [],
   "source": [
    "print(getattr(math, 'okras'))"
   ]
  },
  {
   "cell_type": "code",
   "execution_count": null,
   "metadata": {},
   "outputs": [],
   "source": [
    "print(getattr(math, 'piii', None)) # None"
   ]
  },
  {
   "cell_type": "code",
   "execution_count": null,
   "metadata": {
    "scrolled": true
   },
   "outputs": [],
   "source": [
    "print(hasattr(math, 'okras'))"
   ]
  },
  {
   "cell_type": "code",
   "execution_count": null,
   "metadata": {},
   "outputs": [],
   "source": [
    "print(hasattr(math, 'pow'))"
   ]
  },
  {
   "cell_type": "markdown",
   "metadata": {},
   "source": [
    "#### Використання методу `__getattribute__`\n",
    "Метод повинен повернути обчислене значення для зазначеного атрибуту, або підняти виняток **AttributeError**.\n",
    "Метод `__getattribute__` автоматично викликається інтерпретатором при отриманні будь-якого поля. Через\n",
    "цього працювати з таким методом особливо складно, оскільки великий ризик попадання у нескінченний рекурсивний виклик. Це\n",
    "відбувається тому, що спроба звернення з цього методу до будь-якого з полів (навіть до `__dict__`) призводить до його повторного\n",
    "виклику."
   ]
  },
  {
   "cell_type": "code",
   "execution_count": null,
   "metadata": {
    "pycharm": {
     "name": "#%%\n"
    }
   },
   "outputs": [],
   "source": [
    "# KeyError ніколи не спрацює, тому що self.__dict__[attr]\n",
    "# викличе __getattribute__(self, attr) і це призведе до зациклювання\n",
    "class Foo(object):\n",
    "    def __init__(self, a):\n",
    "        self.a = 1\n",
    "    # Викликається для пошуку всіх атрибутів\n",
    "    def __getattribute__(self, attr):\n",
    "        try:\n",
    "            return self.__dict__[attr]# Спроба отримати значення за ключем\n",
    "        except KeyError:\n",
    "            return 'default'"
   ]
  },
  {
   "cell_type": "markdown",
   "metadata": {},
   "source": [
    "Щоб уникнути методу нескінченної рекурсії, замість прямого доступу до своїх атрибутів, він повинен звернутися до однойменного методу базового класу, наприклад: `object.__getattribute__(self, name)`."
   ]
  },
  {
   "cell_type": "code",
   "execution_count": null,
   "metadata": {
    "pycharm": {
     "name": "#%%\n"
    }
   },
   "outputs": [],
   "source": [
    "class Cat:\n",
    "    def __init__(self, name, age, color):\n",
    "        self.name = name\n",
    "        self.age = age\n",
    "        self.color = color\n",
    "\n",
    "    def __str__(self):\n",
    "        msg = \"Cat [ name = {}, age = {}, color ={}]\"\n",
    "        return msg.format(self.name, self.age, self.color)\n",
    "\n",
    "    def __getattribute__(self, atr_name):\n",
    "        \"\"\" Робити перехоплення винятку у цьому методі, не зовсім коректно. \n",
    "        Більш правильний підхід - реалізувати роботу з полями, \n",
    "        яких немає, у методі гетатр\"\"\"\n",
    "        try:\n",
    "            return object.__getattribute__(self, atr_name)\n",
    "        except AttributeError:\n",
    "            if atr_name == \"type\":\n",
    "                return \"Home Cat\"\n",
    "            print(atr_name)\n",
    "            return None\n",
    "\n",
    "cat = Cat('Barsik', 3, 'black')\n",
    "print(cat.type) # Звернення до поля, якого немає\n",
    "print(cat.name)\n",
    "print(cat.okras)"
   ]
  },
  {
   "cell_type": "markdown",
   "metadata": {},
   "source": [
    "Якщо крім цього методу для класу також визначено `__getattr__`, він буде викликаний у двох випадках:\n",
    "* Якщо `__getattribute__` підніме виняток **AttributeError**;\n",
    "* Якщо `__getattribute__` викличе його явно."
   ]
  },
  {
   "cell_type": "code",
   "execution_count": null,
   "metadata": {
    "pycharm": {
     "name": "#%%\n"
    }
   },
   "outputs": [],
   "source": [
    "class Cat:\n",
    "    def __init__(self, name, age, color):\n",
    "        self.name = name\n",
    "        self.age = age\n",
    "        self.color = color\n",
    "\n",
    "    def __str__(self):\n",
    "        msg = \"Cat [ name = {}, age = {}, color ={}]\"\n",
    "        return msg.format(self.name, self.age, self.color)\n",
    "\n",
    "    def __getattr__(self, atr_name):\n",
    "        if atr_name == \"type\":\n",
    "                return \"Home Cat\"\n",
    "        return None\n",
    "\n",
    "    def __getattribute__(self, atr_name):\n",
    "#         if atr_name == 'type':\n",
    "#         print(f'----{atr_name}----')\n",
    "        return object.__getattribute__(self, atr_name)\n",
    "\n",
    "cat = Cat('Barsik', 3, 'black')\n",
    "print(cat.type) # Звернення до поля, якого немає\n",
    "print(cat.name)\n"
   ]
  },
  {
   "cell_type": "code",
   "execution_count": null,
   "metadata": {},
   "outputs": [],
   "source": [
    "cat.x # Звернення до поля, якого немає"
   ]
  },
  {
   "cell_type": "markdown",
   "metadata": {},
   "source": [
    "#### Метод встановлення значень поля `__setattr__`\n",
    "Метод `__setattr__` автоматично викликається інтерпретатором під час встановлення значення будь-якого поля. Робота з таким методом також може бути проблематичною тому, що цей метод викликається при спробі встановлення будь-якого поля. Як і у випадку з методом `__getattribute__`, це може призвести до нескінченного рекурсивного виклику. Однак, ця проблема вирішується набагато простіше - достатньо виконати запис у вже існуюче поле `__dict__`\n",
    "\n",
    "Примітним фактом є те, що цей метод викликається навіть під час роботи конструктора (метод `__init__`). Таким чином цей метод викликається і при ініціалізації об'єкта та при спробі присвоєння значення будь-якому полю."
   ]
  },
  {
   "cell_type": "code",
   "execution_count": null,
   "metadata": {
    "pycharm": {
     "name": "#%%\n"
    },
    "scrolled": true
   },
   "outputs": [],
   "source": [
    "class Cat:\n",
    "    def __init__(self, name, age, color):\n",
    "        self.name = name\n",
    "        self.age = age\n",
    "        self.color = color\n",
    "\n",
    "    def __str__(self):\n",
    "        msg = \"Cat [ name = {}, age = {}, color ={}]\"\n",
    "        return msg.format(self.name, self.age, self.color)\n",
    "\n",
    "    def __getattr__(self, atr_name):\n",
    "        if atr_name == \"type\":\n",
    "                return \"Home Cat\"\n",
    "        print(atr_name)\n",
    "        return \"11\"\n",
    "\n",
    "    def __getattribute__(self, atr_name):\n",
    "        return object.__getattribute__(self, atr_name)\n",
    "\n",
    "    def __setattr__(self, attr_name, attr_value):\n",
    "        print(\"set field -> \", attr_name)\n",
    "        # self.attr_name = attr_value Нескінченна рекурсія,\n",
    "        # спроба встановити значення для поля,\n",
    "        # знову викличе __setattr__(self, attr_name, attr_value)\n",
    "        self.__dict__[attr_name] = attr_value\n",
    "\n",
    "cat = Cat('Barsik', 3, 'black')\n"
   ]
  },
  {
   "cell_type": "code",
   "execution_count": null,
   "metadata": {},
   "outputs": [],
   "source": [
    "cat.type =  \"Devil\"\n",
    "print(cat.type)"
   ]
  },
  {
   "cell_type": "markdown",
   "metadata": {},
   "source": [
    "##### функція setattr дозволяє встановити значення для будь-якого поля"
   ]
  },
  {
   "cell_type": "code",
   "execution_count": null,
   "metadata": {},
   "outputs": [],
   "source": [
    "import math\n",
    "setattr(math, 'piii', 1254)"
   ]
  },
  {
   "cell_type": "code",
   "execution_count": null,
   "metadata": {
    "scrolled": true
   },
   "outputs": [],
   "source": [
    "print(math.piii)"
   ]
  },
  {
   "cell_type": "code",
   "execution_count": null,
   "metadata": {},
   "outputs": [],
   "source": [
    "cat.name = 'Bob'"
   ]
  },
  {
   "cell_type": "code",
   "execution_count": null,
   "metadata": {},
   "outputs": [],
   "source": [
    "dct = {'name': \"Voland\", \"age\": 45}\n",
    "for key in dct:\n",
    "    # Отримаємо значення полів об'єкта\n",
    "    print(getattr(cat, key))"
   ]
  },
  {
   "cell_type": "code",
   "execution_count": null,
   "metadata": {
    "scrolled": true
   },
   "outputs": [],
   "source": [
    "for key, val in dct.items():\n",
    "    # Встановимо нові значення для полів об'єкта\n",
    "    setattr(cat, key, val)"
   ]
  },
  {
   "cell_type": "code",
   "execution_count": null,
   "metadata": {},
   "outputs": [],
   "source": [
    "print(cat)"
   ]
  },
  {
   "cell_type": "markdown",
   "metadata": {},
   "source": [
    "#### Метод `__delattr__`\n",
    "Метод `__delattr__` викликається у разі спроби видалення будь-якого поля. Як і в у разі методу `__setattr__` потрібно вжити заходів щодо запобігання нескінченному рекурсивний виклик. Це можна реалізувати або за допомогою делегування цієї операції суперкласу, або використовуючи словник `__dict__`.\n",
    "Сигнатура методу `__delattr__` така:\n",
    "\n",
    "`__delattr__ (self, attr_name)`\n",
    "\n",
    "**self** — посилання на об'єкт\n",
    "\n",
    "**attr_name** — ім'я поля у вигляді рядка"
   ]
  },
  {
   "cell_type": "code",
   "execution_count": null,
   "metadata": {
    "pycharm": {
     "name": "#%%\n"
    }
   },
   "outputs": [],
   "source": [
    "class Cat:\n",
    "    def __init__(self, name, age, color):\n",
    "        self.name = name\n",
    "        self.age = age\n",
    "        self.color = color\n",
    "\n",
    "    def __str__(self):\n",
    "        msg = \"Cat [ name = {}, age = {}, color ={}]\"\n",
    "        return msg.format(self.name, self.age, self.color)\n",
    "\n",
    "    def __getattr__(self, atr_name):\n",
    "        if atr_name == \"type\":\n",
    "                return \"Home Cat\"\n",
    "        print(atr_name)\n",
    "        return \"11\"\n",
    "\n",
    "    def __getattribute__(self, atr_name):\n",
    "        return object.__getattribute__(self, atr_name)\n",
    "\n",
    "    def __setattr__(self, attr_name, attr_value):\n",
    "        print(\"set field -> \", attr_name)\n",
    "        self.__dict__[attr_name] = attr_value\n",
    "\n",
    "    def __delattr__(self, attr_name):\n",
    "        # Видаляємо поле з внутрішньої структури об'єкта\n",
    "        print(\"remove field \", attr_name)\n",
    "        del self.__dict__[attr_name]\n",
    "\n",
    "cat = Cat('Barsik', 3, 'black')\n",
    "cat.type =  \"Devil\"\n",
    "del cat.type"
   ]
  },
  {
   "cell_type": "markdown",
   "metadata": {},
   "source": [
    "### Властивості property\n",
    "Вищеописані методи дозволяють керувати загальним доступом до полів класу. Тобто,вони викликаються під час звернення до будь-якого полю. Якщо ж потрібно керувати доступом к кожному полю індивідуально, то для цього може використовувати протокол властивостей.\n",
    "\n",
    "**Протокол властивостей** дозволяє спрямовувати операції читання та запису для окремих полів, функціям та методам, що дозволяє додавати програмний код, який буде викликатись автоматично при спробах звернення до поля.\n",
    "\n",
    "З погляду інформатики властивість - спосіб доступу до внутрішнього стану об'єкта, що імітує змінну певного типу. Звернення до властивості об'єкта виглядає так само, як і звернення до звичайного поля, але насправді реалізовано через виклик функції. При спробі поставити\n",
    "значення цієї властивості викликається один метод, а при спробі отримати значення цієї властивості — інший.\n",
    "\n",
    "В Python властивості створюються за допомогою вбудованої функції **property** і надаються атрибутам класів, так само, як виконується\n",
    "надання функцій методам."
   ]
  },
  {
   "cell_type": "markdown",
   "metadata": {},
   "source": [
    "**Вбудована функція property**\n",
    "\n",
    "Властивість створюється шляхом надання полю класу результату повертається вбудованою функцією property.\n",
    "Сигнатура цієї функції така:\n",
    "\n",
    "**property(f_get, f_set, f_del, doc)**\n",
    "\n",
    "* f_get - функція або метод викликана при читанні значення поля\n",
    "* f_set — функція або метод, що викликається при встановленні значення поля\n",
    "* f_del — функція або метод, що викликається при видаленні поля\n",
    "* doc - рядок документування з описом поля\n",
    "\n",
    "Всі ці параметри можуть бути опущені і за промовчанням дорівнюють **None**."
   ]
  },
  {
   "cell_type": "code",
   "execution_count": null,
   "metadata": {
    "pycharm": {
     "name": "#%%\n"
    }
   },
   "outputs": [],
   "source": [
    "class Cat:\n",
    "    def __init__(self, _name, age):\n",
    "        self.__name = _name   # захищене поле\n",
    "        self.age = age\n",
    "\n",
    "    def get_name(self): # Метод для читання\n",
    "        print(\"call get name\")\n",
    "        return self.__name\n",
    "\n",
    "    def set_name(self, name_value): # Метод для запису\n",
    "        print(\"call set name\")\n",
    "        self.__name = name_value\n",
    "\n",
    "    def del_name(self): # Метод видалення\n",
    "        print(\"call remove name\")\n",
    "        del self.__name\n",
    "\n",
    "    # Створення властивості name\n",
    "    name = property(get_name, set_name, del_name, \" Cat name\")\n",
    "\n",
    "    def __str__(self):\n",
    "        msg = \"Cat [ name = {}, age = {}]\"\n",
    "        return msg.format(self.name, self.age)"
   ]
  },
  {
   "cell_type": "code",
   "execution_count": null,
   "metadata": {
    "pycharm": {
     "name": "#%%\n"
    }
   },
   "outputs": [],
   "source": [
    "cat1 = Cat(\"Vaska\", 6)\n",
    "cat1.name = \"Barsic\"\n",
    "print(cat1.name)\n",
    "print(cat1)"
   ]
  },
  {
   "cell_type": "markdown",
   "metadata": {},
   "source": [
    "#### Визначення властивостей за допомогою декораторів\n",
    "Функція **property** може приймати лише один перший аргумент (Інші за замовчуванням None) і повертати властивість. Властивість у свою\n",
    "чергу є об'єктом, що викликається, оскільки при зверненні до нього викликаються функції. Це означає, що функцію **property** можна\n",
    "використовувати як декоратор визначення функції отримання значення поля. У свою чергу об'єкти властивостей мають методи `getter, setter,\n",
    "deleter`. Які у свою чергу повертають також властивість додавши до ньому методи доступу.\n",
    "\n",
    "Як наслідок, ці методи також можна використовувати як декоратори.\n",
    "* getter - отримання значення поля\n",
    "* setter - встановлення значення поля\n",
    "* deleter - видалення поля\n",
    "\n",
    "Увага! Важливо, щоб усі методи до яких ви хочете застосувати перераховані вище декоратори носили ім'я властивості."
   ]
  },
  {
   "cell_type": "code",
   "execution_count": null,
   "metadata": {
    "pycharm": {
     "name": "#%%\n"
    }
   },
   "outputs": [],
   "source": [
    "class Cat:\n",
    "    def __init__(self, _name, age):\n",
    "        self.__name = _name\n",
    "        self.age = age\n",
    "\n",
    "    name = property() # Створення властивості name без методів контролю\n",
    "\n",
    "    @name.getter\n",
    "    def name(self):\n",
    "        print(\"call get name\")\n",
    "        return self.__name\n",
    "\n",
    "    @name.setter\n",
    "    def name(self, name_value):\n",
    "        print(\"call set name\")\n",
    "        self.__name = name_value\n",
    "\n",
    "    @name.deleter\n",
    "    def name(self):\n",
    "        print(\"call remove name\")\n",
    "        del self.__name"
   ]
  },
  {
   "cell_type": "code",
   "execution_count": null,
   "metadata": {
    "pycharm": {
     "name": "#%%\n"
    }
   },
   "outputs": [],
   "source": [
    "cat = Cat('Barsik', 3)\n",
    "print(cat.name )\n",
    "cat.name =  \"Devil\"\n",
    "del cat.name"
   ]
  },
  {
   "cell_type": "code",
   "execution_count": null,
   "metadata": {
    "pycharm": {
     "name": "#%%\n"
    }
   },
   "outputs": [],
   "source": [
    "\n",
    "class Cat:\n",
    "    def __init__(self, _name, age):\n",
    "        self.__name = _name\n",
    "        self.age = age\n",
    "\n",
    "    @property\n",
    "    def name(self):\n",
    "        return self.__name\n",
    "    \n",
    "    # @name.setter\n",
    "    # def name(self, value):\n",
    "        # self.__name = value"
   ]
  },
  {
   "cell_type": "code",
   "execution_count": null,
   "metadata": {
    "pycharm": {
     "name": "#%%\n"
    }
   },
   "outputs": [],
   "source": [
    "cat = Cat('Barsik', 3)\n",
    "print(cat.name )\n"
   ]
  },
  {
   "cell_type": "markdown",
   "metadata": {},
   "source": [
    "##### Відсутність методів встановлення та видалення, буде викликати помилку"
   ]
  },
  {
   "cell_type": "code",
   "execution_count": null,
   "metadata": {},
   "outputs": [],
   "source": [
    "cat.name =  \"Devil\" # AttributeError: can't set attribute"
   ]
  },
  {
   "cell_type": "code",
   "execution_count": null,
   "metadata": {
    "pycharm": {
     "name": "#%%\n"
    }
   },
   "outputs": [],
   "source": [
    "del cat.name # AttributeError: can't delete attribute"
   ]
  },
  {
   "cell_type": "markdown",
   "metadata": {},
   "source": [
    "##### Спрощений варіант застосування property"
   ]
  },
  {
   "cell_type": "code",
   "execution_count": null,
   "metadata": {
    "pycharm": {
     "name": "#%%\n"
    }
   },
   "outputs": [],
   "source": [
    "\n",
    "# Перетворення функції (методу) у звичайне поле\n",
    "class Human:\n",
    "\n",
    "    def __init__(self, last_name, first_name, patronymic, gender, age, height, weight):\n",
    "        self.last_name = last_name\n",
    "        self.first_name = first_name\n",
    "        self.patronymic = patronymic\n",
    "        self.gender = gender\n",
    "        self.age = age\n",
    "        self.height = height\n",
    "        self.weight = weight\n",
    "\n",
    "    def show_inform(self):\n",
    "        full_name = f'Full Name: {self.full_name}\\n'\n",
    "        gender_age = f'Gender: {self.gender}\\nAge: {self.age}\\n'\n",
    "        height_weight = f'Height: {self.height} cm\\nWeight: {self.weight} kg'\n",
    "        all_info = full_name + gender_age + height_weight\n",
    "        return all_info\n",
    "\n",
    "    @property  #cashed_property\n",
    "    def full_name(self):\n",
    "        # Перетворення функції (методу) у звичайне поле\n",
    "        return f'{self.last_name} {self.first_name} {self.patronymic}'\n",
    "\n",
    "    @property\n",
    "    def short_full_name(self):\n",
    "        return f'{self.last_name} {self.first_name[0].title()}.{self.patronymic[0].title()}.'\n",
    "\n",
    "h = Human('Лучко', 'Петро', 'Петрович', 'male', 25, 185, 91)\n",
    "\n",
    "print(h.full_name)\n",
    "print(h.short_full_name)\n",
    "print(h.last_name)"
   ]
  },
  {
   "cell_type": "code",
   "execution_count": null,
   "metadata": {
    "scrolled": true
   },
   "outputs": [],
   "source": [
    "print(h.show_inform)"
   ]
  },
  {
   "cell_type": "code",
   "execution_count": null,
   "metadata": {},
   "outputs": [],
   "source": [
    "print(h.show_inform())"
   ]
  },
  {
   "cell_type": "markdown",
   "metadata": {},
   "source": [
    "### Дескриптори"
   ]
  },
  {
   "cell_type": "markdown",
   "metadata": {},
   "source": [
    "Дескриптори забезпечують альтернативний варіант управління полями. І хоча схожий механізм надають property, дескриптори,\n",
    "здатні надати багатший функціонал. З технічної точки зору властивості є окремим випадком дескрипторів. Функція **property**\n",
    "просто спрощує процес створення дескриптора певного типу.\n",
    "\n",
    "Дескриптори здатні передати виконання операцій отримання та встановлення значень, окремим методам об'єктів спеціально створених для\n",
    "цього класів. Дескриптори створюються як окремі класи. Об'єкти цих класів присвоюються під час створення керованих полів класів. Це\n",
    "має певну перевагу, тому що об'єкти класів дескрипторів здатні зберігати значення, яких немає в класах, в яких вони будуть\n",
    "використані. Однак це ж додає найбільш складний аспект при їх використанні, необхідність передачі посилання на об'єкт\n",
    "використовує дескриптори та посилання на сам об'єкт дескриптора."
   ]
  },
  {
   "cell_type": "markdown",
   "metadata": {},
   "source": [
    "#### Створення дескриптора\n",
    "Для створення дескриптора потрібно створити клас, в якому будуть реалізовані такі методи:\n",
    "* Для отримання значення `__get__(self, instance_self, instance_class)`\n",
    "*self* — посилання на об'єкт дескриптора\n",
    "*instance_self* — посилання на об'єкт, який використовує поля керовані дескриптором\n",
    "*instance_class* — клас до якого прикріплено поле кероване дескриптором\n",
    "\n",
    "* Для встановлення значення `__set__(self, instance_self, value)` *value* - нове значення\n",
    "  \n",
    "* Для видалення `__delete__(self, instance_self)`\n",
    "\n",
    "Будь-який клас, де реалізовані ці методи є дескриптором.\n",
    "\n",
    "У разі відсутності реалізації того чи іншого методу, ця операція просто не підтримуватиметься."
   ]
  },
  {
   "cell_type": "markdown",
   "metadata": {},
   "source": [
    "#### Про реалізацію методу __get__ дескриптора\n",
    "Метод `__get__` приймає наступний ряд параметрів `__get__(self, instance_self, instance_class)`\n",
    "\n",
    "* **self** — посилання на об'єкт дескриптора\n",
    "* **instance_self** — посилання на об'єкт, який використовує поля керовані дескриптором. Якщо до поля виконано звернення через ім'я класу, цей параметр дорівнює None\n",
    "* **instance_class** — клас до якого прикріплено поле кероване дескриптором"
   ]
  },
  {
   "cell_type": "code",
   "execution_count": null,
   "metadata": {
    "pycharm": {
     "name": "#%%\n"
    }
   },
   "outputs": [],
   "source": [
    "class MyDescriptor:\n",
    "    def __init__(self, n):\n",
    "        self.n = n\n",
    "\n",
    "    def __get__(self, instance_self, instance_class):\n",
    "        print(self)\n",
    "        print(instance_self)\n",
    "        print(instance_class)\n",
    "        return self.n * instance_self.p\n",
    "\n",
    "\n",
    "class Box:\n",
    "    volume = MyDescriptor(2) # Створення поля керованого дескриптором\n",
    "    \n",
    "    def __init__(self, x, y, z):\n",
    "        self.p = x * y * z\n",
    "\n",
    "box1 = Box(1, 2, 3)\n",
    "print(box1.volume)"
   ]
  },
  {
   "cell_type": "code",
   "execution_count": null,
   "metadata": {},
   "outputs": [],
   "source": [
    "#Дескриптор буде перезаписано новим значенням тому, що не реалізовано метод встановлення значення дескриптора\n",
    "box1.volume = 4\n",
    "print(box1.volume) "
   ]
  },
  {
   "cell_type": "code",
   "execution_count": null,
   "metadata": {
    "pycharm": {
     "name": "#%%\n"
    }
   },
   "outputs": [],
   "source": [
    "class ProtectedField:\n",
    "    def __init__(self, field):\n",
    "        self.field = field\n",
    "\n",
    "    def __get__(self, instance_self, instance_class):\n",
    "        field = f'_{instance_class.__name__}{self.field}' # _Cat__name\n",
    "        return getattr(instance_self, field)\n",
    "\n",
    "class Cat:\n",
    "    name = ProtectedField('__name')\n",
    "    age = ProtectedField('__age')\n",
    "    \n",
    "    def __init__(self, _name, _age):\n",
    "        self.__name = _name\n",
    "        self.__age = _age\n",
    "\n",
    "cat = Cat('Barsik', 3)\n"
   ]
  },
  {
   "cell_type": "code",
   "execution_count": null,
   "metadata": {},
   "outputs": [],
   "source": [
    "print(cat.__name )  # буде помилка"
   ]
  },
  {
   "cell_type": "code",
   "execution_count": null,
   "metadata": {},
   "outputs": [],
   "source": [
    "print(cat._Cat__name ) # Доступ до захищеного поля"
   ]
  },
  {
   "cell_type": "code",
   "execution_count": null,
   "metadata": {},
   "outputs": [],
   "source": [
    "# Доступ до захищених полів через дескриптор\n",
    "print(cat.name )\n",
    "print(cat.age )"
   ]
  },
  {
   "cell_type": "markdown",
   "metadata": {},
   "source": [
    "#### Про реалізацію методу __set__ дескриптора\n",
    "\n",
    "Метод __set__ приймає наступний ряд параметрів `__set__(self, instance_self, value)`\n",
    "* **self** — посилання на об'єкт дескриптора\n",
    "* **instance_self** — посилання на об'єкт, який використовує поля керовані дескриптором. Якщо до поля виконано звернення через ім'я класу, цей параметр дорівнює None\n",
    "* **value** — значення, яке потрібно привласнити полю\n",
    "\n",
    "У разі відсутності реалізації методу `__set__` перша спроба встановити значення такого поля просто замінить дескриптор. По суті, просто відключить його."
   ]
  },
  {
   "cell_type": "code",
   "execution_count": null,
   "metadata": {
    "pycharm": {
     "name": "#%%\n"
    }
   },
   "outputs": [],
   "source": [
    "# Перезаписуємо дескриптор\n",
    "print(cat.name )\n",
    "cat.name = \"Devil\""
   ]
  },
  {
   "cell_type": "markdown",
   "metadata": {},
   "source": [
    "##### дескриптор втратив зв'язок із внутрішнім станом об'єкта, оскільки немає методу встановлення значення для дескриптора"
   ]
  },
  {
   "cell_type": "code",
   "execution_count": null,
   "metadata": {
    "pycharm": {
     "name": "#%%\n"
    }
   },
   "outputs": [],
   "source": [
    "print(cat._Cat__name )\n",
    "print(cat.name )"
   ]
  },
  {
   "cell_type": "markdown",
   "metadata": {},
   "source": [
    "Щоб зробити поле доступним лише для читання з використанням дескриптора, потрібно реалізувати метод `__set__` дескриптора в кототорм, порушити виняток. У такому разі при спробі зміни поля буде порушено виняток."
   ]
  },
  {
   "cell_type": "code",
   "execution_count": null,
   "metadata": {
    "pycharm": {
     "name": "#%%\n"
    },
    "scrolled": true
   },
   "outputs": [],
   "source": [
    "class MyDescriptor:\n",
    "    def __init__(self, n):\n",
    "        self.n = n\n",
    "\n",
    "    def __get__(self, instance_self, instance_class):\n",
    "        return self.n * instance_self.p\n",
    "\n",
    "    def __set__(self, instance_self, value):\n",
    "        raise AttributeError(\"field is read-only\")\n",
    "\n",
    "\n",
    "class Box:\n",
    "    volume = MyDescriptor(2)\n",
    "    def __init__(self, x, y, z):\n",
    "        self.p = x * y * z\n",
    "\n",
    "box1 = Box(1, 2, 3)\n",
    "print(box1.volume)\n",
    "box1.volume = 50 # AttributeError: field is read-only"
   ]
  },
  {
   "cell_type": "code",
   "execution_count": null,
   "metadata": {},
   "outputs": [],
   "source": [
    "box1.volume "
   ]
  },
  {
   "cell_type": "code",
   "execution_count": null,
   "metadata": {
    "pycharm": {
     "name": "#%%\n"
    }
   },
   "outputs": [],
   "source": [
    "# метод сет для дескриптора ProtectedField\n",
    "class ProtectedField:\n",
    "    def __init__(self, field):\n",
    "        self.field = field\n",
    "\n",
    "    def __get__(self, instance_self, instance_class):\n",
    "        field = f'_{instance_class.__name__}{self.field}'  # _Cat__name\n",
    "        return getattr(instance_self, field)\n",
    "\n",
    "    def __set__(self, instance_self, value):\n",
    "        # instance_class у метод __set__ не передається, тому отримуємо його з об'єкта\n",
    "        instance_class = instance_self.__class__\n",
    "        field = f'_{instance_class.__name__}{self.field}'\n",
    "        setattr(instance_self, field, value)\n",
    "    \n",
    "    # def __set__(self, instance_self, value):\n",
    "    #     raise AttributeError(\"cannot set field\")\n",
    "\n",
    "\n",
    "class Cat:\n",
    "    name = ProtectedField('__name')\n",
    "    age = ProtectedField('__age')\n",
    "\n",
    "    def __init__(self, _name, _age):\n",
    "        self.__name = _name\n",
    "        self.__age = _age\n",
    "\n",
    "cat = Cat('Barsik', 3)\n",
    "print(cat.name )"
   ]
  },
  {
   "cell_type": "code",
   "execution_count": null,
   "metadata": {},
   "outputs": [],
   "source": [
    "cat.name = \"Devil\"\n",
    "print(cat.name )"
   ]
  },
  {
   "cell_type": "markdown",
   "metadata": {},
   "source": [
    "#### Про реалізацію методу `__delete__` дескриптора\n",
    "Метод `__delete__` приймає наступний ряд параметрів `__delete__(self, instance_self)`\n",
    "* **self** — посилання на об'єкт дескриптора\n",
    "* **instance_self** — посилання на об'єкт, який використовує поля керовані дескриптором. Якщо до поля виконано звернення через ім'я класу, цей параметр дорівнює None"
   ]
  },
  {
   "cell_type": "code",
   "execution_count": null,
   "metadata": {
    "pycharm": {
     "name": "#%%\n"
    }
   },
   "outputs": [],
   "source": [
    "class ProtectedField:\n",
    "    \n",
    "    def __init__(self, field):\n",
    "        self.field = field\n",
    "\n",
    "    def __get__(self, instance_self, instance_class):\n",
    "        field = f'_{instance_class.__name__}{self.field}'  # _Cat__name\n",
    "        return getattr(instance_self, field)\n",
    "\n",
    "    def __set__(self, instance_self, value):\n",
    "        # instance_class у метод __set__ не передається, тому отримуємо його з об'єкта\n",
    "        instance_class = instance_self.__class__\n",
    "        field = f'_{instance_class.__name__}{self.field}'\n",
    "        setattr(instance_self, field, value)\n",
    "    \n",
    "    # def __delete__(self, instance_self):\n",
    "    #     instance_class = instance_self.__class__\n",
    "    #     field = f'_{instance_class.__name__}{self.field}'\n",
    "    #     delattr(instance_self, field)\n",
    "\n",
    "    def __delete__(self, instance_self):\n",
    "        raise AttributeError(\"cannot delete field\")\n",
    "\n",
    "\n",
    "cat = Cat('Barsik', 3)\n",
    "print(cat.name )\n",
    "del cat.name # AttributeError: cannot delete field\n"
   ]
  },
  {
   "cell_type": "markdown",
   "metadata": {},
   "source": [
    "#### Приклад реалізації дескриптора для поля, яке має бути більше за 0"
   ]
  },
  {
   "cell_type": "code",
   "execution_count": null,
   "metadata": {},
   "outputs": [],
   "source": [
    "class PositiveValue:\n",
    "\n",
    "    def __init__(self):\n",
    "        self.val = None\n",
    "\n",
    "    def __get__(self, instance_self, instance_class):\n",
    "        return self.val\n",
    "\n",
    "    def __set__(self, instance_self, value):\n",
    "        if value < 0:\n",
    "            raise ValueError('Value must be greater than zero')\n",
    "        self.val = value\n",
    "\n",
    "\n",
    "class Box:\n",
    "    x = PositiveValue()\n",
    "    y = PositiveValue()\n",
    "    z = PositiveValue()\n",
    "\n",
    "    def __init__(self, x, y, z):\n",
    "        self.x = x\n",
    "        self.y = y\n",
    "        self.z = z"
   ]
  },
  {
   "cell_type": "code",
   "execution_count": null,
   "metadata": {},
   "outputs": [],
   "source": [
    "box = Box(1, 2, 3)\n",
    "print(box.x)"
   ]
  },
  {
   "cell_type": "code",
   "execution_count": null,
   "metadata": {},
   "outputs": [],
   "source": [
    "box.x = -1  # ValueError"
   ]
  },
  {
   "cell_type": "code",
   "execution_count": null,
   "metadata": {},
   "outputs": [],
   "source": [
    "box = Box(1, 2, -3)  # ValueError"
   ]
  }
 ],
 "metadata": {
  "kernelspec": {
   "display_name": "Python 3 (ipykernel)",
   "language": "python",
   "name": "python3"
  },
  "language_info": {
   "codemirror_mode": {
    "name": "ipython",
    "version": 3
   },
   "file_extension": ".py",
   "mimetype": "text/x-python",
   "name": "python",
   "nbconvert_exporter": "python",
   "pygments_lexer": "ipython3",
   "version": "3.10.12"
  }
 },
 "nbformat": 4,
 "nbformat_minor": 4
}
