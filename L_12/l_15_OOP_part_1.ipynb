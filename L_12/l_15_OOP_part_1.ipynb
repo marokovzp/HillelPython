{
 "cells": [
  {
   "cell_type": "markdown",
   "metadata": {},
   "source": [
    "## Знайомство з об'єктно-орієнтованим програмуванням"
   ]
  },
  {
   "cell_type": "markdown",
   "metadata": {},
   "source": [
    "**Парадигма програмування** - це сукупність ідей та понять, що визначають стиль написання комп'ютерних\n",
    "програм (підхід до програмування). Сучасні мови програмування можуть реалізовувати кілька парадигм\n",
    "програмування одночасно.\n",
    "\n",
    "\n",
    "Python реалізує наступні парадигми програмування:\n",
    "\n",
    "1) Імперативне програмування;\n",
    "\n",
    "2) структурне програмування;\n",
    "\n",
    "3) Об'єктно-орієнтоване програмування;\n",
    "\n",
    "4) Функціональне програмування.\n"
   ]
  },
  {
   "cell_type": "markdown",
   "metadata": {},
   "source": [
    "**Імперативне програмування**, для якого характерне наступне:\n",
    "* у вихідному коді програми записуються інструкції (команди);\n",
    "* інструкції повинні виконуватися послідовно;\n",
    "* під час виконання інструкції дані, отримані під час виконання попередніх інструкцій, можуть читатися з пам'яті;\n",
    "* Дані, отримані при виконанні інструкції, можуть записуватися в пам'ять.\n",
    "\n",
    "**В основному застосовується при використанні мов програмування низького рівня (Ассемблер)**"
   ]
  },
  {
   "cell_type": "markdown",
   "metadata": {},
   "source": [
    "**Структурне програмування** (процедурне), для якого характерне таке:\n",
    "* Розбиття програми на ієрархічну структуру блоків. Такими блоками виступали: умовні оператори, цикли та функції."
   ]
  },
  {
   "cell_type": "markdown",
   "metadata": {},
   "source": [
    "**Об'єктно-орієнтоване програмування (ООП)** - методологія програмування, заснована на представленні програми у вигляді сукупності об'єктів, кожен із яких є екземпляром певного класу, а класи утворюють ієрархію спадкування.\n",
    "\n",
    "**Клас** - універсальний, комплексний тип даних, що складається з набору «полів» (змінних більш елементарних типів) та методів (функцій для роботи з цими полями). Він є моделлю сутності з внутрішнім та зовнішнім інтерфейсами для оперування своїм вмістом.\n",
    "\n",
    "**Об'єкт** - екземпляр класу. Тобто, змінна створена на основі класу."
   ]
  },
  {
   "cell_type": "markdown",
   "metadata": {},
   "source": [
    "### Створення класу"
   ]
  },
  {
   "cell_type": "markdown",
   "metadata": {},
   "source": [
    "Для створення класу використовується оператор **class**, після якого йде **ім'я** для цього класу. І для створення цього класу вже достатньо.\n",
    "\n",
    "\n",
    "Якщо клас, який створюється, повинен успадковуватись від класу-батька, тоді такий клас-батько (класи) вказується у круглих дужках після імені. Ще можна зустріти запис, коли під час створення класу використовується успадкування від object. Це спадщина часів, коли в Пайтон з'явилися класи нового стилю (використовуються зараз) і їх потрібно було якось відрізняти від класів старого типу.\n",
    "\n",
    "\n",
    "Відповідно до РЕР8, назву для класів необхідно писати в кемел-кейс стилі. Це коли кожне нове слово в назві починається з великої літери"
   ]
  },
  {
   "cell_type": "code",
   "execution_count": null,
   "metadata": {},
   "outputs": [],
   "source": [
    "class Car: # class Car(object):\n",
    "    # це атрибути класу\n",
    "    color = 'red'\n",
    "    engine = 2.0\n",
    "    brand = \"Ford\"\n"
   ]
  },
  {
   "cell_type": "code",
   "execution_count": null,
   "metadata": {},
   "outputs": [],
   "source": [
    "print(Car.color) # доступ до атрибуту класу"
   ]
  },
  {
   "cell_type": "code",
   "execution_count": null,
   "metadata": {},
   "outputs": [],
   "source": [
    "print(type(Car)) #class 'type' - це клас найвищого рівня"
   ]
  },
  {
   "cell_type": "code",
   "execution_count": null,
   "metadata": {},
   "outputs": [],
   "source": [
    "print(type(object))"
   ]
  },
  {
   "cell_type": "code",
   "execution_count": null,
   "metadata": {},
   "outputs": [],
   "source": [
    "print(type('')) #порожній рядок, це екземпляр класу str"
   ]
  },
  {
   "cell_type": "code",
   "execution_count": null,
   "metadata": {},
   "outputs": [],
   "source": [
    "# Створення екземпляра класу\n",
    "c1 = Car()\n",
    "\n",
    "print(c1)\n",
    "print(c1.color) # доступ до атрибуту екземпляра"
   ]
  },
  {
   "cell_type": "code",
   "execution_count": null,
   "metadata": {},
   "outputs": [],
   "source": [
    "#можна змінювати значення атрибута в екземплярі\n",
    "c1.color = 'blue'\n",
    "print(c1.color)\n",
    "print(c1.engine)\n",
    "print(c1.brand)"
   ]
  },
  {
   "cell_type": "code",
   "execution_count": null,
   "metadata": {
    "scrolled": true
   },
   "outputs": [],
   "source": [
    "#при цьому значення атрибуту в класі залишиться незмінним\n",
    "print(Car.color)"
   ]
  },
  {
   "cell_type": "markdown",
   "metadata": {},
   "source": [
    "#### Всі вбудовані типи даних, це класи, які мають характерний набір атрибутів. Для вбудованих типів даних атрибути - це методи, характерні для цих даних."
   ]
  },
  {
   "cell_type": "code",
   "execution_count": null,
   "metadata": {},
   "outputs": [],
   "source": [
    "print(''.istitle()) "
   ]
  },
  {
   "cell_type": "code",
   "execution_count": null,
   "metadata": {},
   "outputs": [],
   "source": [
    "print(''.istitle) #Дослівно - вбудований метод istitle для екземпляра класу str та його адреса"
   ]
  },
  {
   "cell_type": "code",
   "execution_count": null,
   "metadata": {},
   "outputs": [],
   "source": [
    "class Ford(Car): # Спадкування (найпростіший варіант)\n",
    "    pass\n",
    "\n",
    "# нічого не вказували як атрибути, але отримали все, що є в класі-батьку\n",
    "print(Ford.brand)\n",
    "print(Ford.color)"
   ]
  },
  {
   "cell_type": "markdown",
   "metadata": {},
   "source": [
    "Критерії, яким має відповідати мова програмування, та які вказують на те, що ООП реалізовано.\n",
    "\n",
    "1) Абстракція;\n",
    "\n",
    "2) інкапсуляція;\n",
    "\n",
    "3) Спадкування;\n",
    "\n",
    "4) Поліморфізм;\n",
    "\n",
    "5) Композиція."
   ]
  },
  {
   "cell_type": "markdown",
   "metadata": {},
   "source": [
    "#### Абстракція\n",
    "Абстрагування означає виділення значної інформації та видалення з розгляду незначущої. У ООП розглядають лише абстракцію даних (нерідко називаючи її просто «абстракцією»), маючи на увазі набір значних показників об'єкта, доступний іншій програмі.\n",
    "\n",
    "\n",
    "Приклад, для великого типу Ссавці, можна створити абстрактний клас-батько, у якого буде вказано атрибут **раціон харчування новонародженого = молоко матері**\n",
    "\n",
    "\n",
    "Надалі всі класи спадкоємці цього класу, за замовчуванням будуть мати цей атрибут у своєму наборі"
   ]
  },
  {
   "cell_type": "markdown",
   "metadata": {},
   "source": [
    "#### Інкапсуляція\n",
    "Інкапсуляція - можливість опису полів та методів усередині класу. Також до інкапсуляції відносять можливість приховування полів та реалізації методів класу.\n",
    "\n",
    "\n",
    "Керувати телевізором можна через пульт. Після натискання на клавішу збільшення гучності, звук стає гучнішим. Як це відбувається, звичайному користувачеві все одно. Це і є інкапсуляція. Тобто приховування реалізації усередині \"чорної коробки\"."
   ]
  },
  {
   "cell_type": "markdown",
   "metadata": {},
   "source": [
    "#### Спадкування\n",
    "Спадкування - властивість системи, що дозволяє описати новий клас на основі вже існуючого з частковою або повною\n",
    "функціональністю, що запозичується.\n",
    "\n",
    "\n",
    "Клас, від якого відбувається спадкування, називається базовим, батьківським або суперкласом. Новий клас називається нащадком, спадкоємцем або дочірнім класом."
   ]
  },
  {
   "cell_type": "markdown",
   "metadata": {},
   "source": [
    "#### Поліморфізм\n",
    "Поліморфізм підтипів (в ООП званий просто «поліморфізмом») — властивість системи, що дозволяє використовувати об'єкти з однаковим інтерфейсом без інформації про тип та внутрішню структуру об'єкта.\n",
    "\n",
    "\n",
    "Приклад. Використання знака + для різного типу даних призводить до різного результату. Число + число, що дає нам нове число. Список + список, дає як результат новий список. І так далі.\n",
    "Тобто, залежно від того, які типи даних використовуються в дії зі знаком плюс, ми отримуємо різний результат. Це і є поліморфізм - знак дії скрізь той самий, а результат залежить від типу початкових даних."
   ]
  },
  {
   "cell_type": "markdown",
   "metadata": {},
   "source": [
    "#### Композиція\n",
    "Композиція (асоціація, комбінування) - це концепція, яка моделює відносини. Вона дає змогу створювати складні типи, комбінуючи об'єкти інших типів. Це означає, що клас Composite може містити об'єкт іншого класу Component.\n",
    "\n",
    "Класи, що містять об'єкти інших класів, зазвичай називаються композитами (composites), а класи, що використовуються створення більш складних типів, називаються компонентами (components)."
   ]
  },
  {
   "cell_type": "markdown",
   "metadata": {},
   "source": [
    "#### Увага! Класи в Python – це звичайні змінні. Тому клас має бути описаний у коді вище, ніж його перше використання."
   ]
  },
  {
   "cell_type": "markdown",
   "metadata": {},
   "source": [
    "### Екземпляри (об'єкти) класу"
   ]
  },
  {
   "cell_type": "markdown",
   "metadata": {},
   "source": [
    "#### Атрибути класу, можна умовно розділити на поля та методи. Поля – це дані, що описують внутрішній стан екземпляра класу (аналогія – змінні). Методи - це функції, здатні внести зміни у внутрішній стан екземпляра.\n"
   ]
  },
  {
   "cell_type": "code",
   "execution_count": null,
   "metadata": {},
   "outputs": [],
   "source": [
    "class Car:\n",
    "    color = 'red'\n",
    "    engine = 2.0\n",
    "    brand = \"Ford\"\n",
    "\n",
    "# екземпляра класу\n",
    "c1 = Car()"
   ]
  },
  {
   "cell_type": "code",
   "execution_count": null,
   "metadata": {},
   "outputs": [],
   "source": [
    "# У екземпляра класу, ті ж значення атрибутів, що й у класу\n",
    "print(c1.color)\n",
    "print(c1.engine)"
   ]
  },
  {
   "cell_type": "markdown",
   "metadata": {},
   "source": [
    "#### Для того щоб при створенні екземпляра мати можливість встановлювати значення для атрибутів, необхідно використовувати метод ініціалізації"
   ]
  },
  {
   "cell_type": "markdown",
   "metadata": {},
   "source": [
    "##### Усі методи, що починаються і закінчуються двома нижніми підкресленнями називають «магічними» методами"
   ]
  },
  {
   "cell_type": "code",
   "execution_count": null,
   "metadata": {},
   "outputs": [],
   "source": [
    "class Cat:\n",
    "\n",
    "    def __init__(self, name, age, color): # «магічний» метод ініціалізації екземпляра класу\n",
    "        # Поля екземпляра, не класу!!\n",
    "        self.name = name\n",
    "        self.age = age\n",
    "        self.color = color\n",
    "\n",
    "cat = Cat('Barsik', 5, 'black')\n",
    "\n",
    "print(cat)"
   ]
  },
  {
   "cell_type": "code",
   "execution_count": null,
   "metadata": {},
   "outputs": [],
   "source": [
    "# Доступ до атрибутів екземпляра.\n",
    "print(cat.age)\n",
    "print(cat.name)"
   ]
  },
  {
   "cell_type": "code",
   "execution_count": null,
   "metadata": {},
   "outputs": [],
   "source": [
    "# З класу немає доступу до атрибутів екземпляра.\n",
    "print(Cat.age) #error"
   ]
  },
  {
   "cell_type": "code",
   "execution_count": null,
   "metadata": {},
   "outputs": [],
   "source": [
    "class Cat:\n",
    "    ration = 'Milk' # Додамо атрибут класу\n",
    "    \n",
    "    def __init__(self, name, age, color):\n",
    "        self.name = name\n",
    "        self.age = age\n",
    "        self.color = color\n",
    "\n",
    "cat = Cat('Barsik', 5, 'black')"
   ]
  },
  {
   "cell_type": "markdown",
   "metadata": {},
   "source": [
    "##### Доступ до атрибута класу є як із самого класу, так і з екземпляра цього класу."
   ]
  },
  {
   "cell_type": "markdown",
   "metadata": {},
   "source": [
    "print(cat.ration)\n",
    "print(Cat.ration)"
   ]
  },
  {
   "cell_type": "code",
   "execution_count": null,
   "metadata": {},
   "outputs": [],
   "source": [
    "# Кількість екземплярів класу, обмежена лише розміром пам'яті комп'ютера\n",
    "cat2 = Cat('Murchik', 3, 'black')\n",
    "print(cat2.age)"
   ]
  },
  {
   "cell_type": "markdown",
   "metadata": {},
   "source": [
    "#### Розглянемо процес створення екземпляра класу докладніше."
   ]
  },
  {
   "cell_type": "code",
   "execution_count": null,
   "metadata": {
    "scrolled": true
   },
   "outputs": [],
   "source": [
    "class Cat:\n",
    "\n",
    "    def __new__(cls, *args, **kwargs): # метод, який насправді створює екземпляр класу\n",
    "        print(\"Creating Cat instance\")\n",
    "        self = super().__new__(cls) # про функцію super() трохи пізніше\n",
    "        print(self)\n",
    "        return self # instance\n",
    "\n",
    "    def __init__(self, name, age, color): # метод додавання атрибутів у екземпляр класу\n",
    "        print(\"Cat instance fields\")\n",
    "        self.name = name\n",
    "        self.age = age\n",
    "        self.color = color\n",
    "\n",
    "cat = Cat('Barsik', 5, 'black')\n",
    "print(cat.age)"
   ]
  },
  {
   "cell_type": "markdown",
   "metadata": {},
   "source": [
    "##### Метод, які є методом екземпляра класу, повинен отримувати як перший аргумент сам екземпляр.\n",
    "Усталена назва для екземпляра, який передається як перший аргумент у методах, це ***self***. Замість ***self*** може бути будь-яка назва, але в Пайтон-спільноті ця назва стала номінальною, і всі розуміють про що йдеться."
   ]
  },
  {
   "cell_type": "code",
   "execution_count": null,
   "metadata": {},
   "outputs": [],
   "source": [
    "# Додамо метод у екземпляр класу\n",
    "class Cat:\n",
    "\n",
    "    def __init__(self, name, age, color):\n",
    "        self.name = name\n",
    "        self.age = age\n",
    "        self.color = color\n",
    "\n",
    "    def meow(self): # метод екземпляру\n",
    "        print(self)\n",
    "        print(\"Meow meow\")\n",
    "\n",
    "barsik = Cat('Barsik', 5, 'black')\n",
    "barsik.meow  # вбудований метод екземпляра класу Cat"
   ]
  },
  {
   "cell_type": "code",
   "execution_count": null,
   "metadata": {},
   "outputs": [],
   "source": [
    "barsik.meow()"
   ]
  },
  {
   "cell_type": "code",
   "execution_count": null,
   "metadata": {},
   "outputs": [],
   "source": [
    "# Оскільки метод екземпляра вимагає як аргумент сам екземпляр, то буде помилка\n",
    "Cat.meow()"
   ]
  },
  {
   "cell_type": "code",
   "execution_count": null,
   "metadata": {},
   "outputs": [],
   "source": [
    "# Якщо метод передати екземпляр, то помилки нічого очікувати\n",
    "Cat.meow(barsik)"
   ]
  },
  {
   "cell_type": "code",
   "execution_count": null,
   "metadata": {},
   "outputs": [],
   "source": [
    "#  Метод ініціалізації екземпляра не обов'язковий\n",
    "class Cat:\n",
    "\n",
    "#     def __init__(self, name, age, color):\n",
    "#         self.name = name\n",
    "#         self.age = age\n",
    "#         self.color = color\n",
    "\n",
    "    def meow(self):\n",
    "#         print(self.age)\n",
    "        print(self)\n",
    "        print(\"Meow meow\")\n",
    "\n",
    "cat = Cat()\n",
    "cat.meow()"
   ]
  },
  {
   "cell_type": "code",
   "execution_count": null,
   "metadata": {},
   "outputs": [],
   "source": [
    "# Доступ до внутрішнього стану екземпляра всередині методів здійснюється через self\n",
    "class Cat:\n",
    "    # як і у звичайних функціях, у методах можуть бути аргументи за умовчанням\n",
    "    def __init__(self, name, age, color, ration='Meat'):\n",
    "        self.name = name\n",
    "        self.age = age\n",
    "        self.color = color\n",
    "        self.ration = ration\n",
    "\n",
    "    def meow(self):\n",
    "        print(f\"Meow meow {self.name}\")\n",
    "\n",
    "cat = Cat('Barsik', 5, 'black')"
   ]
  },
  {
   "cell_type": "code",
   "execution_count": null,
   "metadata": {},
   "outputs": [],
   "source": [
    "cat.meow() # Cat.meow(cat)"
   ]
  },
  {
   "cell_type": "code",
   "execution_count": null,
   "metadata": {},
   "outputs": [],
   "source": [
    "cat2 = Cat('Murchik', 3, 'white')"
   ]
  },
  {
   "cell_type": "code",
   "execution_count": null,
   "metadata": {
    "scrolled": true
   },
   "outputs": [],
   "source": [
    "cat2.meow()"
   ]
  },
  {
   "cell_type": "code",
   "execution_count": null,
   "metadata": {},
   "outputs": [],
   "source": [
    "cat3 = Cat('Murchik', 3)"
   ]
  },
  {
   "cell_type": "code",
   "execution_count": null,
   "metadata": {},
   "outputs": [],
   "source": [
    "cat3 = Cat('Murchik', 3, 'red', 'fish')"
   ]
  },
  {
   "cell_type": "code",
   "execution_count": null,
   "metadata": {},
   "outputs": [],
   "source": [
    "print(cat3.ration)"
   ]
  },
  {
   "cell_type": "code",
   "execution_count": null,
   "metadata": {},
   "outputs": [],
   "source": [
    "print(cat2.ration)"
   ]
  },
  {
   "cell_type": "code",
   "execution_count": null,
   "metadata": {
    "scrolled": true
   },
   "outputs": [],
   "source": [
    "## Набір методів, які доступні для Кет\n",
    "dir(Cat)\n",
    "## Усі, крім __init__ і meow, визначені в класі object"
   ]
  },
  {
   "cell_type": "markdown",
   "metadata": {},
   "source": [
    "#### Строкове представлення класу"
   ]
  },
  {
   "cell_type": "code",
   "execution_count": null,
   "metadata": {},
   "outputs": [],
   "source": [
    "print(cat) # не дуже інформативно :)"
   ]
  },
  {
   "cell_type": "markdown",
   "metadata": {},
   "source": [
    "`__str__()` - \"магічний\" метод. Його призначення – повернути рядок з описом об'єкта. Саме цей метод викликає `print()`, якщо в нього підставити екземпляр класу."
   ]
  },
  {
   "cell_type": "code",
   "execution_count": null,
   "metadata": {},
   "outputs": [],
   "source": [
    "class Cat:\n",
    "\n",
    "    def __init__(self, name, age, color):\n",
    "        self.name = name\n",
    "        self.age = age\n",
    "        self.color = color\n",
    "\n",
    "    def meow(self):\n",
    "        return \"Meow meow\"\n",
    "\n",
    "    def __str__(self):\n",
    "        # Додамо інформацію, яку вважаємо необхідною\n",
    "        return f\"Cat:  name = {self.name}, age = {self.age}, color = {self.color} {self.meow()}\"\n",
    "\n",
    "cat = Cat('Barsik', 5, 'black')\n",
    "print(cat) # так набагато краще!"
   ]
  },
  {
   "cell_type": "code",
   "execution_count": null,
   "metadata": {},
   "outputs": [],
   "source": [
    "c = str(cat)\n",
    "print(c)"
   ]
  },
  {
   "cell_type": "code",
   "execution_count": null,
   "metadata": {},
   "outputs": [],
   "source": [
    "cat.__str__()"
   ]
  },
  {
   "cell_type": "markdown",
   "metadata": {},
   "source": [
    "### Завдання\n",
    "Створити клас Телефон та клас Склад. У класі Телефон кілька полів, що характеризують телефон. Клас Склад повинен містити кілька методів, що дозволяють керувати наявністю телефонів на складі. На складі повинні зберігатись екземпляри класу Телефон."
   ]
  },
  {
   "cell_type": "code",
   "execution_count": null,
   "metadata": {},
   "outputs": [],
   "source": [
    "class Phone:\n",
    "    def __init__(self, brand, model, price):\n",
    "        self.brand = brand\n",
    "        self.price = price\n",
    "        self.model = model\n",
    "\n",
    "    def __str__(self):\n",
    "        return f'Phone {self.brand} {self.model} {self.price}'\n",
    "\n",
    "\n"
   ]
  },
  {
   "cell_type": "code",
   "execution_count": null,
   "metadata": {},
   "outputs": [],
   "source": [
    "# Створимо кілька екземплярів класу Phone\n",
    "phone1 = Phone('Samsung', 'A52', 7000)\n",
    "print(phone1)\n",
    "phone2 = Phone('Samsung', 'S11', 37000)\n",
    "phone3 = Phone('Samsung', 'A12', 4000)\n",
    "phone4 = Phone('Xiaomi', 'Redmi Note 11 ', 8700)\n",
    "phone5 = Phone('Xiaomi', '12 Lite', 17000)\n",
    "print(phone5)"
   ]
  },
  {
   "cell_type": "markdown",
   "metadata": {},
   "source": [
    "##### Екземпляр класу це об'єкт, що хешується!"
   ]
  },
  {
   "cell_type": "code",
   "execution_count": null,
   "metadata": {},
   "outputs": [],
   "source": [
    "hash(phone1)"
   ]
  },
  {
   "cell_type": "code",
   "execution_count": null,
   "metadata": {},
   "outputs": [],
   "source": [
    "class Warehouse:\n",
    "\n",
    "    def __init__(self, address):\n",
    "        self.address = address\n",
    "        self.storage = {}\n",
    "\n",
    "    def add_to_storage(self, item, value):\n",
    "        \"\"\" Метод додавання товару на склад \"\"\"\n",
    "        self.storage[item] = value\n",
    "\n",
    "    def remove_from_storage(self, item):\n",
    "        \"\"\" Метод видалення товару зі складу \"\"\"\n",
    "        value = self.storage.pop(item, None)\n",
    "        return value\n",
    "\n",
    "    def get_item_value(self, item):\n",
    "        \"\"\" Метод отримання кількості товару на складі \"\"\"\n",
    "        return self.storage.get(item)\n",
    "\n",
    "    def get_total_value(self):\n",
    "        \"\"\" Метод отримання загальної вартості товару на складі \"\"\"\n",
    "        total = 0\n",
    "        for key, cnt in self.storage.items():\n",
    "            total += key.price * cnt\n",
    "        return total\n",
    "\n",
    "    def __str__(self):\n",
    "        \"\"\" Метод виведення інформації про склад \"\"\"\n",
    "        tmp = ''\n",
    "        for item, cnt in self.storage.items():\n",
    "            tmp += f'{str(item)}: {cnt} pcs. \\n'\n",
    "        return f'Warehouse at {self.address} contains:\\n{tmp} '\n"
   ]
  },
  {
   "cell_type": "code",
   "execution_count": null,
   "metadata": {},
   "outputs": [],
   "source": [
    "wh = Warehouse('Kyiv, vul. Viskozna, 135')\n",
    "print(wh.get_total_value()) # На складі нічого немає"
   ]
  },
  {
   "cell_type": "code",
   "execution_count": null,
   "metadata": {},
   "outputs": [],
   "source": [
    "#  Додамо на склад кілька телефонів і перевіримо деякі методи\n",
    "wh.add_to_storage(phone1, 40)\n",
    "wh.add_to_storage(phone2, 23)\n",
    "print(wh.get_total_value())\n",
    "print(wh.get_item_value(phone2))\n"
   ]
  },
  {
   "cell_type": "code",
   "execution_count": null,
   "metadata": {},
   "outputs": [],
   "source": [
    "wh.add_to_storage(phone3, 4)\n",
    "wh.add_to_storage(phone4, 52)\n",
    "wh.add_to_storage(phone5, 22)\n",
    "print(wh.get_total_value())\n",
    "print(wh)"
   ]
  },
  {
   "cell_type": "code",
   "execution_count": null,
   "metadata": {},
   "outputs": [],
   "source": [
    "# Видалимо кілька телефонів і перевіримо інформацію по складу\n",
    "print(wh.remove_from_storage(phone2))\n",
    "print(wh.get_item_value(phone2))\n",
    "print(wh)"
   ]
  },
  {
   "cell_type": "markdown",
   "metadata": {},
   "source": [
    "Можна доповнити склад екземплярами будь-яких класів. Наприклад, створимо клас для ноутбука"
   ]
  },
  {
   "cell_type": "code",
   "execution_count": null,
   "metadata": {},
   "outputs": [],
   "source": [
    "class Laptop:\n",
    "    def __init__(self, brand, model, price):\n",
    "        # Важливо, щоб набір полів був схожим на інші класи, які зберігаються на складі\n",
    "        self.brand = brand\n",
    "        self.price = price\n",
    "        self.model = model\n",
    "\n",
    "    def __str__(self):\n",
    "        return f'Laptop {self.brand} {self.model} {self.price}'\n"
   ]
  },
  {
   "cell_type": "code",
   "execution_count": null,
   "metadata": {},
   "outputs": [],
   "source": [
    "#  Додамо на склад кілька ноутбуків\n",
    "notebook = Laptop('HP', 'ProBook 450', 35000)\n",
    "notebook1 = Laptop('HP', 'Laptop 15s-eq2054ur', 42000)\n",
    "wh.add_to_storage(notebook, 10)\n",
    "wh.add_to_storage(notebook1, 3)\n",
    "print(wh.get_total_value())\n",
    "print(wh)"
   ]
  },
  {
   "cell_type": "markdown",
   "metadata": {},
   "source": [
    "### Методи класу - звичайні та статичні"
   ]
  },
  {
   "cell_type": "markdown",
   "metadata": {},
   "source": [
    "#### Звичайний метод\n",
    "Python — звичайний метод екземпляра (з першим аргументом self ) при виклику через ім'я об'єкта автоматично підставляє посилання на об'єкт як\n",
    "першого параметра. Якщо викликати такий метод через ім'я класу, тоді потрібно вручну підставляти об'єкт цього класу як перший параметр.\n",
    "\n",
    "#### Статичний метод\n",
    "Статичний метод - проста функція без аргументу **self**, вкладена у тіло класу та призначена для роботи з членами класу, а не екземпляром. Цей метод не має доступ до значення полів об'єкта. Може бути викликана через ім'я класу."
   ]
  },
  {
   "cell_type": "code",
   "execution_count": null,
   "metadata": {},
   "outputs": [],
   "source": [
    "class Cat:\n",
    "\n",
    "    def __init__(self, name, age, color):\n",
    "        self.name = name\n",
    "        self.age = age\n",
    "        self.color = color\n",
    "\n",
    "    def meow(self):\n",
    "        print(\"Meow meow\")\n",
    "\n",
    "    def __str__(self):\n",
    "        return f\"Cat [name = {self.name}, age = {self.age}, color = {self.color}]\"\n",
    "\n",
    "    def say_hello(): # метод класу, не екземпляра!\n",
    "        print(\"Hello\")"
   ]
  },
  {
   "cell_type": "code",
   "execution_count": null,
   "metadata": {},
   "outputs": [],
   "source": [
    "Cat.say_hello() # все працює"
   ]
  },
  {
   "cell_type": "markdown",
   "metadata": {
    "scrolled": true
   },
   "source": [
    "##### Коли ми викликаємо метод у екземпляра класу, Пайтон-інтерпретатор, за замовчуванням, передає як перший аргумент у цей метод сам екземпляр."
   ]
  },
  {
   "cell_type": "code",
   "execution_count": null,
   "metadata": {
    "scrolled": true
   },
   "outputs": [],
   "source": [
    "cat = Cat('Barsik', 5, 'black')\n",
    "cat.say_hello() # TypeError Cat.say_hello() takes 0 positional arguments but 1 was given"
   ]
  },
  {
   "cell_type": "markdown",
   "metadata": {},
   "source": [
    "##### Для того, щоб Пайтон-інтерпретатор не передавав у метод екземпляр класу, коли ми викликаємо цей метод у екземпляра, необхідно позначити цей метод статичним. Це можна зробити за допомогою декоратора staticmethod"
   ]
  },
  {
   "cell_type": "code",
   "execution_count": null,
   "metadata": {},
   "outputs": [],
   "source": [
    "class Cat:\n",
    "\n",
    "    def __init__(self, name, age, color):\n",
    "        self.name = name\n",
    "        self.age = age\n",
    "        self.color = color\n",
    "\n",
    "    def meow(self):\n",
    "        print(\"Meow meow\")\n",
    "\n",
    "    def __str__(self):\n",
    "        return f\"Cat [name = {self.name}, age = {self.age}, color = {self.color}]\"\n",
    "\n",
    "    @staticmethod\n",
    "    def say_hello():\n",
    "        print(\"Hello\")"
   ]
  },
  {
   "cell_type": "code",
   "execution_count": null,
   "metadata": {},
   "outputs": [],
   "source": [
    "# Тепер цей метод доступний як із класу, так і з екземпляра цього класу\n",
    "Cat.say_hello()\n",
    "\n",
    "cat = Cat('Barsik', 5, 'black')\n",
    "cat.say_hello()\n"
   ]
  },
  {
   "cell_type": "markdown",
   "metadata": {},
   "source": [
    "##### Що буде, якщо ми додамо і в клас і в екземпляр класу, атрибут з однаковим ім'ям?"
   ]
  },
  {
   "cell_type": "code",
   "execution_count": null,
   "metadata": {},
   "outputs": [],
   "source": [
    "class Cat:\n",
    "    name = 'Mark'\n",
    "    def __init__(self, name, age, color):\n",
    "        self.name = name\n",
    "        self.age = age\n",
    "        self.color = color\n",
    "\n",
    "    def meow(self, tmp):# окрім self, можуть бути інші аргументи\n",
    "        print(f\"Meow meow - {tmp}\")\n",
    "        self.say_hello(self.name)\n",
    "\n",
    "    def __str__(ins):  # Замість self може бути будь-яка інша назва\n",
    "        return f\"Cat [name = {ins.name}, age = {ins.age}, color = {ins.color}]\"\n",
    "\n",
    "    # @staticmethod\n",
    "    def say_hello(name):\n",
    "        print(f\"Hello {name}\")\n",
    "\n",
    "    # Чергове нагадування того, як працює ініціація декоратора\n",
    "    say_hello = staticmethod(say_hello)\n",
    "    \n",
    "cat = Cat('Barsik', 5, 'black')\n",
    "# У екземпляру значення поля name буде відповідати тому, яке було встановлено при ініціалізації\n",
    "print(cat.name)\n",
    "print(Cat.name)"
   ]
  },
  {
   "cell_type": "code",
   "execution_count": null,
   "metadata": {},
   "outputs": [],
   "source": [
    "print(cat)\n",
    "cat.meow('Hi')"
   ]
  },
  {
   "cell_type": "markdown",
   "metadata": {},
   "source": [
    "##### Метод say_hello доступний як з екземпляра, так і з самого класу"
   ]
  },
  {
   "cell_type": "code",
   "execution_count": null,
   "metadata": {},
   "outputs": [],
   "source": [
    "cat.say_hello('Bob')"
   ]
  },
  {
   "cell_type": "code",
   "execution_count": null,
   "metadata": {},
   "outputs": [],
   "source": [
    "Cat.say_hello('Dob')"
   ]
  },
  {
   "cell_type": "code",
   "execution_count": null,
   "metadata": {},
   "outputs": [],
   "source": [
    "cat.say_hello(Cat.name)"
   ]
  },
  {
   "cell_type": "markdown",
   "metadata": {
    "pycharm": {
     "name": "#%% md\n"
    }
   },
   "source": []
  },
  {
   "cell_type": "markdown",
   "metadata": {},
   "source": [
    "### Метод Класу (classmethod)\n",
    "Методи класу - методи яким як перший параметр автоматично передається сам клас об'єкта (примірника). Викликати такі методи можна через ім'я об'єкта (примірника) та через ім'я класу.\n",
    "Створюються такі методи за допомогою вбудованої функції - **classmethod**. Цей же метод можна використовувати як декоратор."
   ]
  },
  {
   "cell_type": "code",
   "execution_count": null,
   "metadata": {
    "pycharm": {
     "name": "#%%\n"
    }
   },
   "outputs": [],
   "source": [
    "class Box:\n",
    "    def __init__(self, x, y, z):\n",
    "        self.x = x\n",
    "        self.y = y\n",
    "        self.z = z\n",
    "\n",
    "    def __str__(self):\n",
    "        return f\"Box [x = {self.x}, y = {self.y}, z = {self.z}]\"\n",
    "\n",
    "    def volume(self): \n",
    "        return self.x * self.y * self.z\n",
    "\n",
    "    @staticmethod\n",
    "    def up(): \n",
    "        print(\"up\")\n",
    "\n",
    "    @classmethod\n",
    "    def print_class_info(cls):  # Як аргумент, виступає сам клас\n",
    "        print(str(cls))"
   ]
  },
  {
   "cell_type": "code",
   "execution_count": null,
   "metadata": {
    "pycharm": {
     "name": "#%%\n"
    }
   },
   "outputs": [],
   "source": [
    "box_1 = Box(1, 2, 3)\n",
    "box_1.print_class_info() # Виклик методу класу через ім'я об'єкта"
   ]
  },
  {
   "cell_type": "code",
   "execution_count": null,
   "metadata": {},
   "outputs": [],
   "source": [
    "Box.print_class_info() # Виклик методу класу через ім'я класу"
   ]
  },
  {
   "cell_type": "code",
   "execution_count": null,
   "metadata": {
    "pycharm": {
     "name": "#%%\n"
    }
   },
   "outputs": [],
   "source": [
    "from datetime import date\n",
    "\n",
    "class Person:\n",
    "    def __init__(self, name, age):\n",
    "        self.name = name\n",
    "        self.age = age\n",
    "\n",
    "    # Дозволяє обчислити дані, і повернути новий екземпляр класу, з цими даними\n",
    "    @classmethod\n",
    "    def from_birth_year(cls, name, year):\n",
    "        return cls(name, date.today().year - year)\n",
    "\n",
    "    # Метод, який не пов'язаний зі змінними ні цього класу, ні його екземплярів\n",
    "    @staticmethod\n",
    "    def is_adult(age):\n",
    "        return age > 18\n"
   ]
  },
  {
   "cell_type": "code",
   "execution_count": null,
   "metadata": {
    "pycharm": {
     "name": "#%%\n"
    }
   },
   "outputs": [],
   "source": [
    "person1 = Person('mayank', 21)\n",
    "person2 = Person.from_birth_year('mayank2', 1996)\n",
    "person3 = person2.from_birth_year('mayank3', 2000)\n",
    "\n",
    "print(person1.age)\n",
    "print( person2.age)\n",
    "print( person3.age)\n"
   ]
  },
  {
   "cell_type": "code",
   "execution_count": null,
   "metadata": {},
   "outputs": [],
   "source": [
    "# можна викликати цей метод як із класу, так і з його екземплярів.\n",
    "# Але дані для нього потрібно передавати явно!\n",
    "print( Person.is_adult(22))\n",
    "print(person1.is_adult(person1.age))"
   ]
  },
  {
   "cell_type": "code",
   "execution_count": null,
   "metadata": {
    "pycharm": {
     "name": "#%%\n"
    }
   },
   "outputs": [],
   "source": [
    "# Як підрахувати кількість створених екземплярів класу?\n",
    "class MyClass:\n",
    "\n",
    "    TOTAL_OBJECTS = 0\n",
    "\n",
    "    def __init__(self):\n",
    "        MyClass.TOTAL_OBJECTS += 1\n",
    "\n",
    "    @classmethod\n",
    "    def total_objects(cls):\n",
    "        print(\"Total objects: \", cls.TOTAL_OBJECTS)\n",
    "\n"
   ]
  },
  {
   "cell_type": "code",
   "execution_count": null,
   "metadata": {},
   "outputs": [],
   "source": [
    "# Створюємо об'єкти\n",
    "my_obj1 = MyClass()\n",
    "my_obj2 = MyClass()\n",
    "my_obj3 = MyClass()\n",
    "# Викликаємо classmethod\n",
    "MyClass.total_objects()"
   ]
  },
  {
   "cell_type": "code",
   "execution_count": null,
   "metadata": {},
   "outputs": [],
   "source": [
    "# Значення атрибута доступне з об'єкта та класу\n",
    "my_obj1.TOTAL_OBJECTS "
   ]
  },
  {
   "cell_type": "code",
   "execution_count": null,
   "metadata": {
    "pycharm": {
     "name": "#%%\n"
    }
   },
   "outputs": [],
   "source": [
    "MyClass.TOTAL_OBJECTS\n"
   ]
  },
  {
   "cell_type": "markdown",
   "metadata": {},
   "source": [
    "### Завдання.\n",
    "Створити два класи – один це автомобіль, другий – гараж. Обов'язкова умова - у гаражі мають бути лише унікальні екземпляри автомобілів.\n"
   ]
  },
  {
   "cell_type": "code",
   "execution_count": null,
   "metadata": {},
   "outputs": [],
   "source": [
    "class Car:\n",
    "\n",
    "    def __init__(self, color, engine, brand, name):\n",
    "        self.color = color\n",
    "        self.engine = engine\n",
    "        self.brand = brand\n",
    "        self.name = name\n",
    "\n",
    "    def __str__(self):\n",
    "        return f'{self.brand} {self.name}'\n",
    "\n",
    "\n",
    "car1 = Car('red', 2.8, \"Ford\", \"Mustang\")\n",
    "car2 = Car('black', 4.2, \"Porsche\", \"911\")\n",
    "car3 = Car('green', 5.0, \"BMW\", \"850\")\n",
    "car4 = Car('red', 2.8, \"Ford\", \"Mustang\")"
   ]
  },
  {
   "cell_type": "code",
   "execution_count": null,
   "metadata": {},
   "outputs": [],
   "source": [
    "class Garage:\n",
    "\n",
    "    def __init__(self, owner):\n",
    "        self.owner = owner\n",
    "        #Оскільки об'єкти, це тип даних, що хешується, то найпростіше реалізувати унікальність через множину\n",
    "        self.car_set = set()  \n",
    "\n",
    "    def add_car(self, car):\n",
    "        \"\"\" метод додавання автомобіля в гараж \"\"\"\n",
    "        self.car_set.add(car)\n",
    "\n",
    "    def __str__(self):\n",
    "        if not self.car_set:\n",
    "            return \"Garage is empty\"\n",
    "        tmp = ''\n",
    "        # Оскільки, елемент гаража, це екземпляр класу, ми можемо формувати інформацію про ньго, передавши його в метод str\n",
    "        for car in self.car_set:\n",
    "            tmp += f\"{str(car)}\\n\" \n",
    "            \n",
    "        return tmp\n",
    "\n",
    "\n",
    "garage = Garage(\"Bob Marley\")\n",
    "print(garage)"
   ]
  },
  {
   "cell_type": "code",
   "execution_count": null,
   "metadata": {},
   "outputs": [],
   "source": [
    "garage.add_car(car1)\n",
    "garage.add_car(car2)\n",
    "print(garage)"
   ]
  },
  {
   "cell_type": "code",
   "execution_count": null,
   "metadata": {},
   "outputs": [],
   "source": [
    "garage.add_car(car3)\n",
    "print(garage)"
   ]
  },
  {
   "cell_type": "markdown",
   "metadata": {},
   "source": [
    "##### Можна скільки завгодно багато разів додавати один і той же екземпляр, в гаражі все одно буде лише один"
   ]
  },
  {
   "cell_type": "code",
   "execution_count": null,
   "metadata": {},
   "outputs": [],
   "source": [
    "garage.add_car(car1)\n",
    "garage.add_car(car1)\n",
    "garage.add_car(car1)\n",
    "print(garage)"
   ]
  },
  {
   "cell_type": "code",
   "execution_count": null,
   "metadata": {},
   "outputs": [],
   "source": [
    "garage.add_car(car4)\n",
    "print(garage)"
   ]
  }
 ],
 "metadata": {
  "kernelspec": {
   "display_name": "Python 3 (ipykernel)",
   "language": "python",
   "name": "python3"
  },
  "language_info": {
   "codemirror_mode": {
    "name": "ipython",
    "version": 3
   },
   "file_extension": ".py",
   "mimetype": "text/x-python",
   "name": "python",
   "nbconvert_exporter": "python",
   "pygments_lexer": "ipython3",
   "version": "3.10.12"
  }
 },
 "nbformat": 4,
 "nbformat_minor": 4
}
