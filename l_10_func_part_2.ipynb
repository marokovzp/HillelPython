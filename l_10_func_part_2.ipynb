{
 "cells": [
  {
   "cell_type": "markdown",
   "metadata": {},
   "source": [
    "## Використання іменованих параметрів"
   ]
  },
  {
   "cell_type": "markdown",
   "metadata": {},
   "source": [
    "### Звичайний виклик. Присвоєння позиційне."
   ]
  },
  {
   "cell_type": "code",
   "execution_count": null,
   "metadata": {},
   "outputs": [],
   "source": [
    "def print_line(w, fill):\n",
    "    for i in range(w):\n",
    "        print(fill, end = \"\")\n",
    "    return\n",
    "\n",
    "print_line(6, \"*\") # w приймає значення 6, а fill значення *"
   ]
  },
  {
   "cell_type": "code",
   "execution_count": null,
   "metadata": {},
   "outputs": [],
   "source": [
    "print_line(\"*\", 6) # Якщо переплутати позиції аргументів, то буде помилка"
   ]
  },
  {
   "cell_type": "markdown",
   "metadata": {},
   "source": [
    "### Іменований виклик. Надання значень за іменами."
   ]
  },
  {
   "cell_type": "code",
   "execution_count": null,
   "metadata": {},
   "outputs": [],
   "source": [
    "print_line(fill=\"+\", w=10)"
   ]
  },
  {
   "cell_type": "markdown",
   "metadata": {},
   "source": [
    "## Функції з параметрами за замовчуванням\n",
    "Іноді виникає потреба у використанні параметра за замовчуванням. Тобто, якщо під час виклику такий параметр не вказується, то береться значення за замовчуванням. Однак якщо під час виклику його значення вказується, то буде використано значення, вказане як параметр."
   ]
  },
  {
   "cell_type": "code",
   "execution_count": null,
   "metadata": {},
   "outputs": [],
   "source": [
    "def draw_rectangle(w, h, fill=\"*\"):\n",
    "    for i in range(w):\n",
    "        for j in range(h):\n",
    "            print(fill, end=\"\")\n",
    "        print()\n",
    "    return\n",
    "\n",
    "draw_rectangle(7, 5) # для fill значення за замовчуванням"
   ]
  },
  {
   "cell_type": "code",
   "execution_count": null,
   "metadata": {},
   "outputs": [],
   "source": [
    "draw_rectangle(7, 5, \"@\") # Явно вказано нове значення для fill"
   ]
  },
  {
   "cell_type": "code",
   "execution_count": null,
   "metadata": {
    "scrolled": true
   },
   "outputs": [],
   "source": [
    "draw_rectangle(7, 5, fill=\"+\") # Можна і так"
   ]
  },
  {
   "cell_type": "markdown",
   "metadata": {},
   "source": [
    "### Тип даних, що змінюється, як значення за замовчуванням"
   ]
  },
  {
   "cell_type": "markdown",
   "metadata": {},
   "source": [
    "#### Якщо для параметра ***b*** не передається список, то має бути використаний новий пустий список"
   ]
  },
  {
   "cell_type": "code",
   "execution_count": null,
   "metadata": {},
   "outputs": [],
   "source": [
    " # Неправильне рішення\n",
    "def some(a, b=[]):\n",
    "    b.append(a)\n",
    "    return b\n",
    "\n",
    "print(some(1)) # все як і очікувалося - один елемент у списку"
   ]
  },
  {
   "cell_type": "code",
   "execution_count": null,
   "metadata": {},
   "outputs": [],
   "source": [
    "print(some(2)) # а тут уже несподіванка"
   ]
  },
  {
   "cell_type": "code",
   "execution_count": null,
   "metadata": {},
   "outputs": [],
   "source": [
    "print(some(3))"
   ]
  },
  {
   "cell_type": "code",
   "execution_count": null,
   "metadata": {},
   "outputs": [],
   "source": [
    "print(some(2, [])) # тут працює правильно"
   ]
  },
  {
   "cell_type": "code",
   "execution_count": null,
   "metadata": {},
   "outputs": [],
   "source": [
    "print(some(4))\n"
   ]
  },
  {
   "cell_type": "markdown",
   "metadata": {},
   "source": [
    "##### Справа в тому, що в момент ініціалізації функції, було створено один порожній список, який підставляється у випадках, коли значення для b не передається. Тобто при виклику функції, без аргументу b, новий порожній список не створюється, а використовується створений при ініціалізації функції."
   ]
  },
  {
   "cell_type": "code",
   "execution_count": null,
   "metadata": {},
   "outputs": [],
   "source": [
    "# Правильне рішення\n",
    "def some(a, b=None):\n",
    "    #Якщо список не було передано, тоді створюємо новий\n",
    "    if b is None:\n",
    "        b = []\n",
    "    b.append(a)\n",
    "    return b"
   ]
  },
  {
   "cell_type": "code",
   "execution_count": null,
   "metadata": {},
   "outputs": [],
   "source": [
    "print(some(1))"
   ]
  },
  {
   "cell_type": "code",
   "execution_count": null,
   "metadata": {},
   "outputs": [],
   "source": [
    "print(some(2))\n"
   ]
  },
  {
   "cell_type": "code",
   "execution_count": null,
   "metadata": {},
   "outputs": [],
   "source": [
    "print(some(2, [4, 6]))"
   ]
  },
  {
   "cell_type": "markdown",
   "metadata": {},
   "source": [
    "### Використання змінної кількості аргументів"
   ]
  },
  {
   "cell_type": "code",
   "execution_count": null,
   "metadata": {},
   "outputs": [],
   "source": [
    "#У функцію print можна передавати будь-яку кількість аргументів\n",
    "print(1, 2) \n"
   ]
  },
  {
   "cell_type": "code",
   "execution_count": null,
   "metadata": {},
   "outputs": [],
   "source": [
    "#print можна навіть викликати і без аргументів\n",
    "print()"
   ]
  },
  {
   "cell_type": "markdown",
   "metadata": {},
   "source": [
    "##### А з функцією **some** такий фокус не проходить"
   ]
  },
  {
   "cell_type": "code",
   "execution_count": null,
   "metadata": {},
   "outputs": [],
   "source": [
    "some()"
   ]
  },
  {
   "cell_type": "code",
   "execution_count": null,
   "metadata": {},
   "outputs": [],
   "source": [
    "some(1, 2, 3,)"
   ]
  },
  {
   "cell_type": "markdown",
   "metadata": {},
   "source": [
    "##### У випадку, коли потрібно написати функцію, яка може приймати заздалегідь невідому кількість аргументів, можна використовувати наступну можливість мови Python - якщо при оголошенні функції як один з аргументів вказати параметр виду ***\\*args*** ,то все параметри, які не потрапляють до іменованих або позиційних, будуть упаковані в кортеж з ім'ям ***args***."
   ]
  },
  {
   "cell_type": "code",
   "execution_count": null,
   "metadata": {},
   "outputs": [],
   "source": [
    "#Кількість студентів, які будуть передані в функцію може бути будь-якою\n",
    "def get_class_list(teacher, *args):\n",
    "    result = {\"teacher\": teacher, \"student_list\":[]}\n",
    "    for student in args:\n",
    "        result.get(\"student_list\").append(student)\n",
    "    return result\n",
    "\n",
    "class_list_1 = get_class_list(\"Petr Ivanovich\", \"Nikolay\", \"Olga\", \"Bogdan\")\n",
    "print(class_list_1)"
   ]
  },
  {
   "cell_type": "code",
   "execution_count": null,
   "metadata": {},
   "outputs": [],
   "source": [
    "def get_class_list(teacher, *args):\n",
    "    print(args)\n",
    "    result = {\"teacher\":teacher,\"student_list\":[]}\n",
    "    for student in args:\n",
    "        result.get(\"student_list\").append(student)\n",
    "    return result\n",
    "\n",
    "class_list_1 = get_class_list(\"Petr Ivanovich\", \"Nikolay\", \"Olga\", \"Bogdan\", 'Vova')"
   ]
  },
  {
   "cell_type": "code",
   "execution_count": null,
   "metadata": {},
   "outputs": [],
   "source": [
    "#І навіть жодного\n",
    "def get_class_list(teacher1, *args):\n",
    "    print(args)\n",
    "    result = {\"teacher\": teacher1, \"student_list\":[]}\n",
    "    for student in args:\n",
    "        result.get(\"student_list\").append(student)\n",
    "    return result\n",
    "\n",
    "class_list_1 = get_class_list( \"Petr Ivanovich\" )\n",
    "print(class_list_1)"
   ]
  },
  {
   "cell_type": "code",
   "execution_count": null,
   "metadata": {
    "scrolled": true
   },
   "outputs": [],
   "source": [
    "# Але при цьому аргумент teacher є обов'язковим!\n",
    "class_list_1 = get_class_list() # error\n",
    "print(class_list_1)"
   ]
  },
  {
   "cell_type": "code",
   "execution_count": null,
   "metadata": {},
   "outputs": [],
   "source": [
    "# Якщо ми залишимо змінну кількість аргументів, тоді teacher можна не передавати\n",
    "def get_class_list(*args):\n",
    "    print(args)\n",
    "    result = {\"teacher\": 'Teacher', \"student_list\": []}\n",
    "    for student in args:\n",
    "        result.get(\"student_list\").append(student)\n",
    "    return result\n",
    "\n",
    "class_list_1 = get_class_list(\"Nikolay\", \"Olga\", \"Bogdan\", 'Vova' )\n",
    "print(class_list_1)"
   ]
  },
  {
   "cell_type": "code",
   "execution_count": null,
   "metadata": {},
   "outputs": [],
   "source": [
    "#Тоді виклик функції не впаде в помилку, якщо аргументів не буде\n",
    "class_list_1 = get_class_list()\n",
    "print(class_list_1)"
   ]
  },
  {
   "cell_type": "code",
   "execution_count": null,
   "metadata": {},
   "outputs": [],
   "source": [
    "# Більше коректний варіант функції, без використання зайвого циклу\n",
    "def get_class_list(teacher, *args):\n",
    "    result = {\"teacher\": teacher, \"student_list\": list(args)}\n",
    "    # for student in args:\n",
    "    #     result.get(\"student_list\").append(student)\n",
    "    return result"
   ]
  },
  {
   "cell_type": "code",
   "execution_count": null,
   "metadata": {},
   "outputs": [],
   "source": [
    "class_list_1 = get_class_list( \"Petr Ivanovich\", \"Nikolay\", \"Olga\", \"Bogdan\", 'Vova')\n",
    "print(class_list_1)"
   ]
  },
  {
   "cell_type": "code",
   "execution_count": null,
   "metadata": {},
   "outputs": [],
   "source": [
    "# Пошук мінімального елемента серед змінної кількості аргументів\n",
    "def get_min(*args):\n",
    "    min_element = args[0] # Помилка, якщо елементів не буде\n",
    "    for element in args:\n",
    "        if element < min_element:\n",
    "            min_element = element\n",
    "    return min_element\n",
    "\n",
    "a = get_min(1, 0, 6, 2, -5, 56, 87, -87)\n",
    "print(a) "
   ]
  },
  {
   "cell_type": "code",
   "execution_count": null,
   "metadata": {
    "scrolled": true
   },
   "outputs": [],
   "source": [
    "a = get_min() # Помилка"
   ]
  },
  {
   "cell_type": "code",
   "execution_count": null,
   "metadata": {},
   "outputs": [],
   "source": [
    "min(()) # Помилка"
   ]
  },
  {
   "cell_type": "code",
   "execution_count": null,
   "metadata": {},
   "outputs": [],
   "source": [
    "# Задамо значення за замовчуванням, щоб уникнути помилки\n",
    "def get_min(*args):\n",
    "    min_element = None\n",
    "    if args:\n",
    "        min_element = args[0]\n",
    "    for element in args:\n",
    "        if element < min_element:\n",
    "            min_element = element\n",
    "    return min_element\n",
    "\n",
    "a = get_min()\n",
    "print(a) # Помилки немає"
   ]
  },
  {
   "cell_type": "code",
   "execution_count": null,
   "metadata": {},
   "outputs": [],
   "source": [
    "a = get_min(1)\n",
    "print(a)"
   ]
  },
  {
   "cell_type": "markdown",
   "metadata": {},
   "source": [
    "### Розпакування"
   ]
  },
  {
   "cell_type": "code",
   "execution_count": null,
   "metadata": {},
   "outputs": [],
   "source": [
    "x = 4\n",
    "y = 5\n",
    "x, y = y, x\n",
    "print(x, y)"
   ]
  },
  {
   "cell_type": "code",
   "execution_count": null,
   "metadata": {},
   "outputs": [],
   "source": [
    "x, y, z = (1, 3, 3.36)\n",
    "print(x, y, z)"
   ]
  },
  {
   "cell_type": "code",
   "execution_count": null,
   "metadata": {},
   "outputs": [],
   "source": [
    "x, y, z = [1, 3, 3.36, 4] # error\n",
    "print(x, y, z)"
   ]
  },
  {
   "cell_type": "code",
   "execution_count": null,
   "metadata": {},
   "outputs": [],
   "source": [
    "x, y, z = [1, 3]"
   ]
  },
  {
   "cell_type": "code",
   "execution_count": null,
   "metadata": {},
   "outputs": [],
   "source": [
    "lst = (0, 6, 2, -5, 0, 56)\n",
    "x, y, *_ = lst\n",
    "print(x, y, _)"
   ]
  },
  {
   "cell_type": "code",
   "execution_count": null,
   "metadata": {},
   "outputs": [],
   "source": [
    "lst = (0, 6, 2, -5)\n",
    "x, *_, y = lst\n",
    "print(x, y, _)"
   ]
  },
  {
   "cell_type": "code",
   "execution_count": null,
   "metadata": {},
   "outputs": [],
   "source": [
    "lst = (0, 6, 2, -5)\n",
    "*_, y = lst\n",
    "print( y, _)"
   ]
  },
  {
   "cell_type": "code",
   "execution_count": null,
   "metadata": {},
   "outputs": [],
   "source": [
    "lst = (0, 6)\n",
    "x, y, *b = lst\n",
    "print(x, y, b)"
   ]
  },
  {
   "cell_type": "code",
   "execution_count": null,
   "metadata": {},
   "outputs": [],
   "source": [
    "lst = (0,) # error\n",
    "x, y, *_ = lst\n",
    "print(x, y, _)"
   ]
  },
  {
   "cell_type": "code",
   "execution_count": null,
   "metadata": {
    "scrolled": true
   },
   "outputs": [],
   "source": [
    "lst = (0, 6, 2, -5, 0, 56)\n",
    "*_, c, *d  = lst # Середина не работает\n",
    "print(_, c)"
   ]
  },
  {
   "cell_type": "markdown",
   "metadata": {},
   "source": [
    "### Використання змінної кількості іменованих аргументів\n",
    "У випадку коли потрібно написати функцію, яка може приймати заздалегідь невідому кількість іменованих аргументів, можна використовувати наступну можливість мови Python - якщо при оголошенні функції в якості одного з аргументів вказати параметр виду **\\**kwargs** то всі параметри, які не потрапляють у позиційні та будуть викликані як іменовані, будуть запаковані у словник з ім'ям **kwargs**."
   ]
  },
  {
   "cell_type": "code",
   "execution_count": null,
   "metadata": {
    "scrolled": true
   },
   "outputs": [],
   "source": [
    "def draw_rectangle(w, h, fill=\"X\"):\n",
    "    for i in range(w):\n",
    "        for j in range(h):\n",
    "            print(fill, end=\"\")\n",
    "        print()\n",
    "    return\n",
    "\n",
    "draw_rectangle(7, 5, '*', sep='++') #Зайвий параметр викликає помилку TypeError:"
   ]
  },
  {
   "cell_type": "markdown",
   "metadata": {},
   "source": [
    "#### Варіант, коли під час роботи функції, всередині її коду йде виклик інший функції, зустрічається досить часто. І іноді буває необхідність передати параметри через першу функцію в другу."
   ]
  },
  {
   "cell_type": "code",
   "execution_count": null,
   "metadata": {
    "scrolled": true
   },
   "outputs": [],
   "source": [
    "#Приклад викликів вкладених функцій\n",
    "def get_b_value(**kwargs):\n",
    "    b = kwargs.get('b', 0)\n",
    "    b += 4\n",
    "    return b\n",
    "\n",
    "def get_h_value(a, **kwargs):\n",
    "    print(kwargs)\n",
    "    b = get_b_value(**kwargs)\n",
    "    return a + b\n",
    "\n",
    "\n",
    "#kwargs необхідно використовувати для того, щоб можна було передати будь-яку кількість параметрів, не викликаючи помилки в основні функції.\n",
    "def draw_rectangle(w, fill=\"X\", **kwargs):\n",
    "    #Головна функція\n",
    "    print(kwargs)\n",
    "    a = kwargs.pop('a', 0)\n",
    "    h = get_h_value(a, **kwargs) #виклик вкладеної функції\n",
    "    for i in range(w):\n",
    "        for j in range(h):\n",
    "            print(fill, end=\"\")\n",
    "        print()\n",
    "    return\n",
    "\n"
   ]
  },
  {
   "cell_type": "code",
   "execution_count": null,
   "metadata": {},
   "outputs": [],
   "source": [
    "draw_rectangle(7, '*', sep='++', a=2, d=5)"
   ]
  },
  {
   "cell_type": "code",
   "execution_count": null,
   "metadata": {},
   "outputs": [],
   "source": [
    "# Приклад функції, яка працює зі змінною кількістю іменованих аргументів.\n",
    "def print_student(**kwargs): # (sep, *args, **kwargs)\n",
    "    print(kwargs)\n",
    "    name = kwargs.get('name')\n",
    "    print(name)\n",
    "    for key in kwargs.keys():\n",
    "        print(key,\" -> \" , kwargs.get(key))\n",
    "\n",
    "print_student(name=\"Alexander\", age=36, specialty=\"Physicist\", last_name=\"Ts\")"
   ]
  },
  {
   "cell_type": "markdown",
   "metadata": {},
   "source": [
    "##### Створення словника за допомогою функції dict, повністю збігається з викликом функції зі змінною кількістю іменованих аргументів."
   ]
  },
  {
   "cell_type": "code",
   "execution_count": null,
   "metadata": {},
   "outputs": [],
   "source": [
    "\n",
    "d = dict(name=\"Alexander\", age=36, specialty=\"Physicist\", last_name=\"Ts\")\n",
    "print(d)"
   ]
  },
  {
   "cell_type": "code",
   "execution_count": null,
   "metadata": {},
   "outputs": [],
   "source": [
    "print_student()"
   ]
  },
  {
   "cell_type": "markdown",
   "metadata": {},
   "source": [
    "### Тонкощі використання аргументів\n",
    "**При виклику функції аргументи повинні вказуватися в наступному порядку:**\n",
    "\n",
    "1) будь-які позиційні аргументи (значення)\n",
    "\n",
    "2) іменовані аргументи (name=value)\n",
    "\n",
    "3) аргументи у формі \\*sequence (\\*args)\n",
    "\n",
    "4) аргументи у формі \\**dict. (\\**kwargs)\n",
    "\n",
    "\n",
    "**При описі функції аргументи повинні вказуватися у такому порядку:**\n",
    "\n",
    "1) будь-які позиційні аргументи (name)\n",
    "\n",
    "2) аргументи зі значеннями за замовчанням (name=value)\n",
    "\n",
    "3) аргументи у формі \\*args\n",
    "\n",
    "4) будь-які імена або пари name аргументів, які передаються лише на ім'я\n",
    "\n",
    "5) аргументи у формі \\**kwargs\n",
    "\n",
    "\n",
    "#### Увага!!! Якщо порушити ці принципи, виклик функції неможливий"
   ]
  },
  {
   "cell_type": "markdown",
   "metadata": {},
   "source": [
    "#### Параметр parametr_1 может быть вызван только по имени, так как все позиционные аргументы будут собраны в arg."
   ]
  },
  {
   "cell_type": "code",
   "execution_count": null,
   "metadata": {},
   "outputs": [],
   "source": [
    "# вимагає виклику функції з явною вказівкою аргументу на ім'я parametr_1\n",
    "def some_function (*args, parametr_1): \n",
    "    return parametr_1\n",
    "\n",
    "print(some_function(1, 2)) # error"
   ]
  },
  {
   "cell_type": "code",
   "execution_count": null,
   "metadata": {},
   "outputs": [],
   "source": [
    "print(some_function(1, 4, parametr_1=2))# все добре"
   ]
  },
  {
   "cell_type": "markdown",
   "metadata": {},
   "source": [
    "### Розпакування кортежу в ряд фактичних параметрів\n",
    "За потреби можна виконати це завдання навпаки. Тобто. розпакувати кортеж, який використовується як фактичного параметра, ряд формальних позиційних параметрів."
   ]
  },
  {
   "cell_type": "code",
   "execution_count": null,
   "metadata": {},
   "outputs": [],
   "source": [
    "def draw_rectangle(w, h, fill):\n",
    "    for i in range(w):\n",
    "        for j in range(h):\n",
    "            print(fill, end=\"\")\n",
    "        print()\n",
    "    return\n"
   ]
  },
  {
   "cell_type": "code",
   "execution_count": null,
   "metadata": {},
   "outputs": [],
   "source": [
    "lst = (7, 5, \"#\") # У кортеж зібрані значення позиційних аргументів для функції\n",
    "draw_rectangle(*lst) # Розпакування"
   ]
  },
  {
   "cell_type": "code",
   "execution_count": null,
   "metadata": {
    "scrolled": true
   },
   "outputs": [],
   "source": [
    "# Буде помилка про брак позиційних аргументів.\n",
    "draw_rectangle(lst)"
   ]
  },
  {
   "cell_type": "code",
   "execution_count": null,
   "metadata": {},
   "outputs": [],
   "source": [
    "draw_rectangle(2, 4, '=') # все добре"
   ]
  },
  {
   "cell_type": "code",
   "execution_count": null,
   "metadata": {
    "scrolled": true
   },
   "outputs": [],
   "source": [
    "# Так теж працює\n",
    "args = 7, 5, \"@\"\n",
    "draw_rectangle(*args)\n",
    "\n",
    "args = [7, 5, \"*\"]\n",
    "draw_rectangle(*args)"
   ]
  },
  {
   "cell_type": "code",
   "execution_count": null,
   "metadata": {},
   "outputs": [],
   "source": [
    "args = [7, 5, \"@\"]  # TypeError\n",
    "draw_rectangle(args) # Буде помилка про брак позиційних аргументів."
   ]
  },
  {
   "cell_type": "markdown",
   "metadata": {},
   "source": [
    "### Розпакування словника в ряд фактичних параметрів\n",
    "При необхідності можна виконати розпакування словника ряд формальних іменованих параметрів."
   ]
  },
  {
   "cell_type": "code",
   "execution_count": null,
   "metadata": {},
   "outputs": [],
   "source": [
    "def draw_rectangle(w, h, fill, **kwargs):\n",
    "    for i in range(w):\n",
    "        for j in range(h):\n",
    "            print(fill, end=\"\")\n",
    "        print()\n",
    "    return\n",
    "\n"
   ]
  },
  {
   "cell_type": "code",
   "execution_count": null,
   "metadata": {},
   "outputs": [],
   "source": [
    "#Набір значень для функції за іменами у вигляді словника\n",
    "dct = {\"fill\": \"#\", \"w\": 5, \"h\": 8}\n",
    "draw_rectangle(**dct)"
   ]
  },
  {
   "cell_type": "markdown",
   "metadata": {},
   "source": [
    "##### За рахунок того, що у формальних параметрах функції використовується kwargs, виклик функції із зайвими параметрами не призведе до помилки"
   ]
  },
  {
   "cell_type": "code",
   "execution_count": null,
   "metadata": {},
   "outputs": [],
   "source": [
    "dct = {\"fill\": \"#\", \"w\": 5, \"h\": 8, 'j': 234}\n",
    "draw_rectangle(**dct)"
   ]
  },
  {
   "cell_type": "markdown",
   "metadata": {},
   "source": [
    "#### Варіант того, як динамічно наповнювати набір значеннями для функції"
   ]
  },
  {
   "cell_type": "code",
   "execution_count": null,
   "metadata": {},
   "outputs": [],
   "source": [
    "lst = ['w', 'h', 'fill']\n",
    "dct = {}\n",
    "for name in lst:\n",
    "    val = input(f'Input {name}: ')\n",
    "    if name in ['w', 'h']:\n",
    "        val = int(val)\n",
    "    dct[name] = val\n",
    "    \n",
    "draw_rectangle(**dct)"
   ]
  },
  {
   "cell_type": "markdown",
   "metadata": {},
   "source": [
    "### Особливості використання функцій\n",
    "Насправді оператор оголошення функції **def** виконує ту ж функцію, що й оголошення змінної. А саме назва функції – це ім'я змінної, а тіло функції – це її значення. Отже, з функціями можна поводитися як із звичайними змінними.\n",
    "\n",
    "Функції Python є повноправними об'єктами. Як і будь-який об'єкт функції можуть:\n",
    "* Бути створені під час виконання\n",
    "\n",
    "* Можуть бути присвоєні змінною\n",
    "\n",
    "* Можуть бути передані інші функції як аргументи\n",
    "\n",
    "* Можуть бути повернені як результат виконання функцією"
   ]
  },
  {
   "cell_type": "code",
   "execution_count": null,
   "metadata": {},
   "outputs": [],
   "source": [
    "def add(x, y):\n",
    "    return x + y\n",
    "\n",
    "print(add(2, 3))\n"
   ]
  },
  {
   "cell_type": "code",
   "execution_count": null,
   "metadata": {},
   "outputs": [],
   "source": [
    "a = add # У такий спосіб можна створити синонім для імені функції\n",
    "print(a(2, 3)) # І потім по цьому синоніму можна викликати функцію на виконання\n"
   ]
  },
  {
   "cell_type": "code",
   "execution_count": null,
   "metadata": {},
   "outputs": [],
   "source": [
    "#Один і той же результат\n",
    "print(add)\n",
    "print(a)"
   ]
  },
  {
   "cell_type": "code",
   "execution_count": null,
   "metadata": {},
   "outputs": [],
   "source": [
    "def mul(x, y):\n",
    "    return x * y\n",
    "\n",
    "def sub(x, y):\n",
    "    return x - y\n",
    "\n",
    "#Створимо список функцій\n",
    "functions = [add, mul, sub]\n",
    "print(functions)"
   ]
  },
  {
   "cell_type": "code",
   "execution_count": null,
   "metadata": {
    "scrolled": true
   },
   "outputs": [],
   "source": [
    "#У циклі будемо викликати кожну функцію на виконання, використовуючи синонім func\n",
    "for func in functions:\n",
    "    print(func(6, 2))\n"
   ]
  },
  {
   "cell_type": "markdown",
   "metadata": {},
   "source": [
    "### Функція як параметр для іншої функції"
   ]
  },
  {
   "cell_type": "code",
   "execution_count": null,
   "metadata": {},
   "outputs": [],
   "source": [
    "def mul(x):\n",
    "    return 2 * x\n",
    "\n",
    "def map_function(number_list, func): # Як другий аргумент, функція приймає іншу функцію\n",
    "    for i in range(len(number_list)):\n",
    "        number_list[i] = func(number_list[i])\n",
    "    return\n",
    "\n"
   ]
  },
  {
   "cell_type": "code",
   "execution_count": null,
   "metadata": {},
   "outputs": [],
   "source": [
    "number_list = [1, 2, 3, 4]\n",
    "map_function(number_list, mul) # Передаємо функцію mul, як параметр для іншої функції\n",
    "print (number_list)"
   ]
  },
  {
   "cell_type": "code",
   "execution_count": null,
   "metadata": {},
   "outputs": [],
   "source": [
    "def add(x):\n",
    "    return x + 2\n",
    "\n",
    "# Не змінюючи нічого у функції map_function, ми можемо вплинути на результат її роботи\n",
    "number_list = [1, 2, 3, 4]\n",
    "map_function(number_list, add)\n",
    "print (number_list)"
   ]
  },
  {
   "cell_type": "code",
   "execution_count": null,
   "metadata": {},
   "outputs": [],
   "source": [
    "# Функція map_function відбирає значення на основі результатів роботи функції func\n",
    "def map_function(_list, func):\n",
    "    tmp = []\n",
    "    for i in _list:\n",
    "        res = func(i)\n",
    "#         if not i % 2:\n",
    "        if res:\n",
    "            tmp.append(i)\n",
    "    return tmp\n",
    "\n",
    "def odd_2(x):\n",
    "    if not x % 2: # x == 0\n",
    "        return True\n",
    "    return False"
   ]
  },
  {
   "cell_type": "code",
   "execution_count": null,
   "metadata": {},
   "outputs": [],
   "source": [
    "number_list = [1, 2, 3, 4]\n",
    "new_lst = map_function(number_list, odd_2)\n",
    "print (new_lst)"
   ]
  },
  {
   "cell_type": "code",
   "execution_count": null,
   "metadata": {},
   "outputs": [],
   "source": [
    "def biggest(i):\n",
    "    if i > 0:\n",
    "        return True\n",
    "    return False"
   ]
  },
  {
   "cell_type": "code",
   "execution_count": null,
   "metadata": {},
   "outputs": [],
   "source": [
    "# Передаючи іншу функцію, можемо вплинути на результат\n",
    "number_list = [1, 2, -3, 4]\n",
    "new_lst = map_function(number_list, biggest)\n",
    "print (new_lst)"
   ]
  },
  {
   "cell_type": "code",
   "execution_count": null,
   "metadata": {},
   "outputs": [],
   "source": [
    "\n",
    "def func (x):\n",
    "    return 2 + x\n",
    "\n",
    "def func(x):\n",
    "    return x * 3\n",
    "\n",
    "print(func(6)) # Якщо створити дві функції з однаковим ім'ям, то \"виживе\" лише та, яка була визначена останньою"
   ]
  },
  {
   "cell_type": "markdown",
   "metadata": {},
   "source": [
    "### Створення функцій під час виконання в Runtime"
   ]
  },
  {
   "cell_type": "code",
   "execution_count": null,
   "metadata": {},
   "outputs": [],
   "source": [
    "choice = int(input(\"Put 1 and create function: \"))\n",
    "\n",
    "if choice == 1:\n",
    "    def factorial2(n):\n",
    "        if n <= 1:\n",
    "            return 1\n",
    "        else:\n",
    "            return n * factorial(n-1)\n",
    "\n",
    "print(type(factorial2)) # NameError if choice != 1 !!!"
   ]
  },
  {
   "cell_type": "markdown",
   "metadata": {},
   "source": [
    "#### У функції, як об'єкта, є кілька корисних атрибутів"
   ]
  },
  {
   "cell_type": "code",
   "execution_count": null,
   "metadata": {},
   "outputs": [],
   "source": [
    "print(biggest.__name__) # Назва функції"
   ]
  },
  {
   "cell_type": "code",
   "execution_count": null,
   "metadata": {},
   "outputs": [],
   "source": [
    "print(biggest.__module__) # Назва модуля, де ця функція визначена"
   ]
  },
  {
   "cell_type": "markdown",
   "metadata": {},
   "source": [
    "##### `__main__` це назва для модуля, який запущений як основний для виконання"
   ]
  },
  {
   "cell_type": "code",
   "execution_count": null,
   "metadata": {},
   "outputs": [],
   "source": [
    "from math import pow\n",
    "print(pow.__module__) # math"
   ]
  },
  {
   "cell_type": "markdown",
   "metadata": {},
   "source": [
    "Функція має ряд атрибутів, властивих всім об'єктам в Python. Щоб отримати список атрибутів функції, слід викликати вбудовану функцію *dir()*."
   ]
  },
  {
   "cell_type": "code",
   "execution_count": null,
   "metadata": {},
   "outputs": [],
   "source": [
    "def calculate_sum(a, b):\n",
    "    return a + b\n",
    "\n",
    "print(dir(calculate_sum))"
   ]
  },
  {
   "cell_type": "markdown",
   "metadata": {},
   "source": [
    "### Документування функцій"
   ]
  },
  {
   "cell_type": "code",
   "execution_count": null,
   "metadata": {},
   "outputs": [],
   "source": [
    "#Інформація про те, що робить функція, необхідно зберігати в потрійних подвійних лапках\n",
    "def calculate_sum(my_list):\n",
    "    \"\"\"\n",
    "    Ця функція розраховує суму всіх елементів послідовності.\n",
    "    \"\"\"\n",
    "    result = my_list[0]\n",
    "    for i in range(1,len(my_list)):\n",
    "        result = result + my_list[i]\n",
    "    return result\n",
    "\n"
   ]
  },
  {
   "cell_type": "markdown",
   "metadata": {},
   "source": [
    "##### Виклик інформації з докстрингу функції"
   ]
  },
  {
   "cell_type": "code",
   "execution_count": null,
   "metadata": {},
   "outputs": [],
   "source": [
    "print(calculate_sum.__doc__)"
   ]
  },
  {
   "cell_type": "code",
   "execution_count": null,
   "metadata": {},
   "outputs": [],
   "source": [
    "help(calculate_sum)"
   ]
  },
  {
   "cell_type": "code",
   "execution_count": null,
   "metadata": {},
   "outputs": [],
   "source": [
    "print(str.__doc__)"
   ]
  },
  {
   "cell_type": "code",
   "execution_count": null,
   "metadata": {},
   "outputs": [],
   "source": [
    "print(str.find.__doc__)"
   ]
  },
  {
   "cell_type": "markdown",
   "metadata": {},
   "source": [
    "### Анотування типів у функціях"
   ]
  },
  {
   "cell_type": "code",
   "execution_count": null,
   "metadata": {},
   "outputs": [],
   "source": [
    "# Тут ми вказали, що функція приймає як аргумент список, а повертає ціле число\n",
    "def calculate_sum(my_list: list) -> int: \n",
    "    \"\"\"\n",
    "    Ця функція розраховує суму всіх елементів послідовності.\n",
    "    \"\"\"\n",
    "    result = my_list[0]\n",
    "    for i in range(1,len(my_list)):\n",
    "        result = result + my_list[i]\n",
    "    return result"
   ]
  },
  {
   "cell_type": "code",
   "execution_count": null,
   "metadata": {},
   "outputs": [],
   "source": [
    "lst = [1, 3, 5]\n",
    "print(calculate_sum(lst))"
   ]
  },
  {
   "cell_type": "code",
   "execution_count": null,
   "metadata": {},
   "outputs": [],
   "source": [
    "# Помилки не буде, якщо замість списку буде передано кортеж\n",
    "tpl = tuple([1, 3, 5])\n",
    "print(calculate_sum(tpl)) # no errors (mypy)"
   ]
  },
  {
   "cell_type": "markdown",
   "metadata": {},
   "source": [
    "#### У стандартному наборі об'єктів недостатньо типів, які потрібні для анатування. Для цього потрібно використовувати модуль typing\n",
    "*from typing import List, Callable*"
   ]
  },
  {
   "cell_type": "markdown",
   "metadata": {
    "pycharm": {
     "name": "#%% md\n"
    }
   },
   "source": [
    "## Рекурсія"
   ]
  },
  {
   "cell_type": "markdown",
   "metadata": {},
   "source": [
    "У програмуванні **рекурсія** — виклик функції (процедури) з неї безпосередньо (проста рекурсія) або через інші функції (складна або непряма рекурсія).\n",
    "\n",
    "Кількість вкладених викликів функції або процедури називається глибиною рекурсії. Структурно рекурсивна функція на верхньому рівні завжди є командою розгалуження (вибір однієї з двох або більше альтернатив залежно від умови (умов), яку в даному випадку доречно назвати «умовою припинення рекурсії»), що має дві або більше альтернативні гілки, з яких хоча б одна є\n",
    "**рекурсивною** і хоча б одна **термінальною**.\n",
    "\n",
    "**Рекурсивна** гілка виконується, коли умова припинення рекурсії є хибною, і містить хоча б один рекурсивний виклик — прямий або опосередкований виклик функцією самої себе.\n",
    "\n",
    "**Термінальна** гілка виконується, коли умова припинення рекурсії є істинною. Вона повертає деяке значення, не виконуючи рекурсивний виклик.\n",
    "\n",
    "Будь-яка задача, яка може бути вирішена за допомогою рекурсивної функції, може бути вирішена за допомогою циклів і навпаки."
   ]
  },
  {
   "cell_type": "code",
   "execution_count": null,
   "metadata": {
    "pycharm": {
     "name": "#%%\n"
    }
   },
   "outputs": [],
   "source": [
    "рекурсивна функція, яка підрахує суму елементів списку без використання циклів\n",
    "def summa (_list, i):\n",
    "    if i == len(_list) - 1:\n",
    "        return _list[i] # Термінальна гілка коли дійдемо до кінця списку\n",
    "\n",
    "    else:\n",
    "        return _list[i] + summa(_list, i+1) # Рекурсивна гілка\n",
    "\n",
    "list_one = [2, 6, 9]\n",
    "\n",
    "print(summa(list_one, 0))\n",
    "\n",
    "# number_list[0] + summa(number_list, 1) +  summa(number_list, 2)"
   ]
  },
  {
   "cell_type": "markdown",
   "metadata": {},
   "source": [
    "#### Числа Фібоначчі - це ряд чисел, в якому кожне наступне число дорівнює сумі двох попередніх: 1, 1, 2, 3, 5, 8, 13"
   ]
  },
  {
   "cell_type": "code",
   "execution_count": null,
   "metadata": {
    "pycharm": {
     "name": "#%%\n"
    }
   },
   "outputs": [],
   "source": [
    "# Рішення за допомогою циклу\n",
    "def fibo(n):\n",
    "    a = 0\n",
    "    b = 1\n",
    "    for i in range(2, n + 1):\n",
    "        a, b = b, a + b\n",
    "    return b\n",
    "\n",
    "print(fibo(10))"
   ]
  },
  {
   "cell_type": "code",
   "execution_count": null,
   "metadata": {
    "pycharm": {
     "name": "#%%\n"
    }
   },
   "outputs": [],
   "source": [
    "#Рішення за допомогою рекурсії\n",
    "def fibonacci(n):\n",
    "#     print(n)\n",
    "    if n in (1, 2):\n",
    "        return 1 # Термінальна гілка\n",
    "    #напрямок руху від більшого до меншого\n",
    "    return fibonacci(n - 1) + fibonacci(n - 2) # Рекурсивна гілка\n",
    "\n",
    "print(fibonacci(10))\n"
   ]
  },
  {
   "cell_type": "markdown",
   "metadata": {
    "pycharm": {
     "name": "#%% md\n"
    }
   },
   "source": [
    "## Анонімні функції в Python\n",
    "У Python анонімні функції реалізовані як **lambda** функцій. Для цього використовується синтаксис виду:\n",
    "\n",
    "*lambda parameter: result*\n",
    "\n",
    "*lambda* - ключове слово\n",
    "\n",
    "*parameter* — параметр функції\n",
    "\n",
    "*result* — значення, що повертається\n",
    "\n",
    "У Python тіло лямбда функції може бути тільки чистим виразом. Тобто, не можна робити присвоєння або використання циклів."
   ]
  },
  {
   "cell_type": "code",
   "execution_count": null,
   "metadata": {
    "pycharm": {
     "name": "#%%\n"
    }
   },
   "outputs": [],
   "source": [
    "def my_filter( _sequence, predicate): # Функція predicate, це функція відбору\n",
    "    result = []\n",
    "    for element in _sequence:\n",
    "        if predicate(element):\n",
    "            # Якщо є результат, поміщаємо елемент у підсумковий список\n",
    "            result.append(element)\n",
    "    return result\n",
    "\n",
    "sequence = [0, 7, 4, 11, -4, 17, 24, 3]\n",
    "\n",
    "b = my_filter(sequence, lambda x: x > 0)\n",
    "print(b)\n"
   ]
  },
  {
   "cell_type": "code",
   "execution_count": null,
   "metadata": {
    "pycharm": {
     "name": "#%%\n"
    }
   },
   "outputs": [],
   "source": [
    "#Відфільтровуємо парні числа\n",
    "c = my_filter(sequence, lambda x: x % 2 == 0)\n",
    "print(c)"
   ]
  },
  {
   "cell_type": "code",
   "execution_count": null,
   "metadata": {
    "pycharm": {
     "name": "#%%\n"
    }
   },
   "outputs": [],
   "source": [
    "#Відфільтровуємо непарні числа\n",
    "c = my_filter(sequence, lambda x: not x % 2 == 0)\n",
    "print(c)"
   ]
  },
  {
   "cell_type": "code",
   "execution_count": null,
   "metadata": {
    "pycharm": {
     "name": "#%%\n"
    }
   },
   "outputs": [],
   "source": [
    "# лямбда функції компілюються як і звичайні функції\n",
    "\n",
    "g = lambda x: x**2 # лямбда функцію можна присвоїти звичайної змінної\n",
    "print(type(g))"
   ]
  },
  {
   "cell_type": "code",
   "execution_count": null,
   "metadata": {
    "pycharm": {
     "name": "#%%\n"
    }
   },
   "outputs": [],
   "source": [
    "print(g(3)) #тоді цю лямбда функцію можна викликати на ім'я цієї змінної\n"
   ]
  },
  {
   "cell_type": "code",
   "execution_count": null,
   "metadata": {
    "pycharm": {
     "name": "#%%\n"
    }
   },
   "outputs": [],
   "source": [
    "#Складніший варіант\n",
    "q = lambda x, y: x**2 + y if y <= 5 else x**3 + y "
   ]
  },
  {
   "cell_type": "code",
   "execution_count": null,
   "metadata": {
    "pycharm": {
     "name": "#%%\n"
    }
   },
   "outputs": [],
   "source": [
    "print(q(3, 5))"
   ]
  },
  {
   "cell_type": "code",
   "execution_count": null,
   "metadata": {
    "pycharm": {
     "name": "#%%\n"
    }
   },
   "outputs": [],
   "source": [
    "print(q(3, 6))\n"
   ]
  },
  {
   "cell_type": "markdown",
   "metadata": {
    "pycharm": {
     "name": "#%% md\n"
    }
   },
   "source": [
    "## map()\n",
    "**map()** — це вбудована функція, яка дозволяє обробляти та перетворювати всі елементи в об'єкті, що ітерується без використання явного циклу for, методу, широко відомого як зіставлення (mapping). map() корисний, коли вам потрібно застосувати функцію перетворення до кожного елемента в колекції або в масиві і перетворити їх на новий масив.\n",
    "\n",
    "**map()** — один із інструментів, що підтримують стиль ***функціонального програмування*** у Python."
   ]
  },
  {
   "cell_type": "markdown",
   "metadata": {},
   "source": [
    "У ***функціональному програмуванні*** обчислення виконуються шляхом об'єднання функцій, які приймають аргументи та повертають конкретне значення (або кілька значень). Ці функції не змінюють свої вхідні аргументи та не змінюють стан програми. Вони просто надають результат\n",
    "цього обчислення. Такі функції зазвичай називають чистими функціями (Pure functions)."
   ]
  },
  {
   "cell_type": "markdown",
   "metadata": {},
   "source": [
    "### Що таке map()\n",
    "\n",
    "**map()** перебирає елементи масиву, що ітерується (або колекції) і повертає новий масив (або об'єкт, що ітерується), який є результатом\n",
    "застосування функції перетворення кожного елемента вихідного ітерабельного масиву.\n",
    "\n",
    "Згідно з документацією, **map()** приймає функцію та ітерацію (або кілька ітерацій) як аргументи і повертає ітератор,\n",
    "який видає перетворені елементи на запит. Сигнатура функції *map* визначається так:\n",
    "\n",
    "`map(function, iterable[, iterable1, iterable2,..., iterableN])`\n",
    "\n",
    "**map()** застосовує функцію до кожного елемента в циклі, що ітерується і повертає новий ітератор, який на запит повертає перетворені\n",
    "елементи. **function** може бути будь-яка функція Python, яка приймає аргументи, що дорівнює кількості ітерацій, які ви передаєте map().\n",
    "\n",
    "***Примітка***. Перший аргумент map() - це об'єкт функція, що означає, що потрібно передати функцію, не викликаючи її. Тобто без круглих дужок"
   ]
  },
  {
   "cell_type": "code",
   "execution_count": null,
   "metadata": {
    "pycharm": {
     "name": "#%%\n"
    }
   },
   "outputs": [],
   "source": [
    "# припустимо, що вам потрібно взяти список числових значень та\n",
    "# перетворити його на список, що містить квадратне значення кожного числа в початковому списку. \n",
    "# У цьому випадку ви можете використати цикл for і написати щось на зразок цього\n",
    "numbers = [1, 2, 3, 4, 5]\n",
    "squared = []\n",
    "\n",
    "for num in numbers:\n",
    "    squared.append(num ** 2)\n",
    "\n",
    "print(squared)"
   ]
  },
  {
   "cell_type": "code",
   "execution_count": null,
   "metadata": {
    "pycharm": {
     "name": "#%%\n"
    }
   },
   "outputs": [],
   "source": [
    "# можете досягти того ж результату без використання явного циклу for, використовуючи map().\n",
    "def square(number):\n",
    "    return number ** 2\n",
    "\n",
    "numbers = [1, 2, 3, 4, 5]\n",
    "squared = map(square, numbers)\n",
    "print(squared) # об'єкт генераторної функції"
   ]
  },
  {
   "cell_type": "code",
   "execution_count": null,
   "metadata": {},
   "outputs": [],
   "source": [
    "print(list(squared)) # Щоб побачити результат, необхідно в явному вигляді розкрити генератор\n"
   ]
  },
  {
   "cell_type": "code",
   "execution_count": null,
   "metadata": {},
   "outputs": [],
   "source": [
    "#теж саме, але за допомогою lambda-функції\n",
    "squared = map(lambda number: number ** 2, numbers)\n",
    "print(list(squared))"
   ]
  },
  {
   "cell_type": "markdown",
   "metadata": {},
   "source": [
    "#### За допомогою циклу **for** вам потрібно зберегти весь список у пам'яті вашої системи. За допомогою **map()** ви отримуєте елементи на запит, і тільки один елемент знаходиться в пам'яті вашої системи в даний момент.\n"
   ]
  },
  {
   "cell_type": "code",
   "execution_count": null,
   "metadata": {
    "pycharm": {
     "name": "#%%\n"
    }
   },
   "outputs": [],
   "source": [
    "# потрібно перетворити всі елементи у списку з рядка на ціле число.\n",
    "str_nums = [\"4\", \"8\", \"6\", \"5\", \"3\", \"2\", \"8\", \"9\", \"2\", \"5\"]\n",
    "int_nums = map(int, str_nums) # map() застосовує int() до кожного значення str_nums."
   ]
  },
  {
   "cell_type": "code",
   "execution_count": null,
   "metadata": {
    "pycharm": {
     "name": "#%%\n"
    }
   },
   "outputs": [],
   "source": [
    "print(list(int_nums))"
   ]
  },
  {
   "cell_type": "code",
   "execution_count": null,
   "metadata": {
    "pycharm": {
     "name": "#%%\n"
    }
   },
   "outputs": [],
   "source": [
    "print(str_nums) # у початковому списку нічого не змінилося\n"
   ]
  },
  {
   "cell_type": "code",
   "execution_count": null,
   "metadata": {},
   "outputs": [],
   "source": [
    "int_nums = map(int, '15689')\n",
    "print(list(int_nums)) # список цілих чисел, з яких складався рядок 15689"
   ]
  },
  {
   "cell_type": "code",
   "execution_count": null,
   "metadata": {
    "pycharm": {
     "name": "#%%\n"
    }
   },
   "outputs": [],
   "source": [
    "numbers = [-2, -1, 0, 1, 2]\n",
    "abs_values = list(map(abs, numbers))"
   ]
  },
  {
   "cell_type": "code",
   "execution_count": null,
   "metadata": {
    "pycharm": {
     "name": "#%%\n"
    }
   },
   "outputs": [],
   "source": [
    "print(list(map(float, numbers))) # значення по модулю"
   ]
  },
  {
   "cell_type": "code",
   "execution_count": null,
   "metadata": {
    "pycharm": {
     "name": "#%%\n"
    },
    "scrolled": true
   },
   "outputs": [],
   "source": [
    "words = [\"Welcome\", \"to\", \"Real\", \"Python\"]\n",
    "print(list(map(len, words))) # Список значень розмірів кожного слова"
   ]
  },
  {
   "cell_type": "code",
   "execution_count": null,
   "metadata": {
    "pycharm": {
     "name": "#%%\n"
    }
   },
   "outputs": [],
   "source": [
    "# реалізувати приклад квадратних значень за допомогою лямбда-функції\n",
    "numbers = [1, 2, 3, 4, 5]\n",
    "squared = map(lambda num: num ** 5, numbers)\n",
    "print(list(squared))"
   ]
  },
  {
   "cell_type": "markdown",
   "metadata": {
    "pycharm": {
     "name": "#%% md\n"
    }
   },
   "source": [
    "#### Обробка множинних ітерацій за допомогою map()"
   ]
  },
  {
   "cell_type": "code",
   "execution_count": null,
   "metadata": {
    "pycharm": {
     "name": "#%%\n"
    }
   },
   "outputs": [],
   "source": [
    "\n",
    "first_it = [1, 2, 3]\n",
    "second_it = [4, 5, 6, 7]\n",
    "print(list(map(pow, first_it, second_it)))\n"
   ]
  },
  {
   "cell_type": "code",
   "execution_count": null,
   "metadata": {
    "pycharm": {
     "name": "#%%\n"
    }
   },
   "outputs": [],
   "source": [
    "# pow() приймає два аргументи, x та y, і повертає x у ступені y.\n",
    "# На першій ітерації x дорівнюватиме 1, а y дорівнюватиме 4 - результат буде 1\n",
    "first_it = [1, 2, 3]\n",
    "second_it = [4, 5, 6, 7]\n",
    "# кількість елементів підсумкового набору буде за найменшим списком\n",
    "print(list(map(pow, second_it, first_it))) \n"
   ]
  },
  {
   "cell_type": "code",
   "execution_count": null,
   "metadata": {
    "pycharm": {
     "name": "#%%\n"
    },
    "scrolled": true
   },
   "outputs": [],
   "source": [
    "print(list(map(lambda x, y: x - y, [9, 4, 2], [1, 3, 5])))\n"
   ]
  },
  {
   "cell_type": "code",
   "execution_count": null,
   "metadata": {
    "pycharm": {
     "name": "#%%\n"
    }
   },
   "outputs": [],
   "source": [
    "print(list(map(lambda x, y, z: x + y + z, [2, 4], [1, 3], [7, 8])))"
   ]
  },
  {
   "cell_type": "markdown",
   "metadata": {
    "pycharm": {
     "name": "#%% md\n"
    }
   },
   "source": [
    "## filter()"
   ]
  },
  {
   "cell_type": "markdown",
   "metadata": {
    "pycharm": {
     "name": "#%% md\n"
    }
   },
   "source": [
    "\n",
    "Іноді потрібно обробити масив і повернути інший масив, який є результатом фільтрації небажаних значень у вхідній ітерації.\n",
    "І тут може підійти filter().\n",
    "**filter()** — це вбудована функція, яка приймає два позиційні аргументи:\n",
    "\n",
    "***function*** буде предикатом або функцією з логічним значенням, функцією, яка повертає True або False відповідно до вхідних даних.\n",
    "\n",
    "***iterable*** буде будь-яким ітерабельним об'єктом Python.\n",
    "\n",
    "**filter()** повертає елементи ітерації, котрим функція повертає True. Якщо ви передасте None у функцію, то filter() буде використовувати\n",
    "функцію ідентифікації. Це означає, що filter() перевіряє значення істинності кожного елемента в ітерації та відфільтровує всі елементи,\n",
    "які є хибними."
   ]
  },
  {
   "cell_type": "code",
   "execution_count": null,
   "metadata": {},
   "outputs": [],
   "source": [
    "print(list(filter(None, [25, 9, 81, -16, 0]))) # Результат фільтрації зі значенням ноне замість функції"
   ]
  },
  {
   "cell_type": "code",
   "execution_count": null,
   "metadata": {
    "pycharm": {
     "name": "#%%\n"
    }
   },
   "outputs": [],
   "source": [
    "# потрібно обчислити квадратний корінь із усіх значень у списку. Оскільки ваш список може містити негативні значення,\n",
    "# Ви отримаєте повідомлення про помилку, тому що квадратний корінь не визначений для негативних чисел\n",
    "\n",
    "import math\n",
    "math.sqrt(-16) # ValueError"
   ]
  },
  {
   "cell_type": "markdown",
   "metadata": {},
   "source": [
    "`is_positive()` - це функція-предикат, яка приймає число як аргументу і повертає **True**, якщо число більше або дорівнює нулю.\n",
    "Ви можете передати `is_positive()` у `filter()`, щоб видалити всі негативні числа. Таким чином, виклик `map()` оброблятиме лише позитивні числа, а `math.sqrt()` не видасть вам **ValueError**."
   ]
  },
  {
   "cell_type": "code",
   "execution_count": null,
   "metadata": {
    "pycharm": {
     "name": "#%%\n"
    }
   },
   "outputs": [],
   "source": [
    "import math\n",
    "def is_positive(num):\n",
    "    return num >= 0\n",
    "\n",
    "def sanitized_sqrt(numbers):\n",
    "    cleaned_iter = map(math.sqrt, filter(is_positive, numbers))\n",
    "    return list(cleaned_iter)\n",
    "\n",
    "sanitized_sqrt([25, 9, 81, -16, 0])"
   ]
  },
  {
   "cell_type": "code",
   "execution_count": 1,
   "metadata": {
    "pycharm": {
     "name": "#%%\n"
    }
   },
   "outputs": [
    {
     "name": "stdout",
     "output_type": "stream",
     "text": [
      "(11, 'j', 1)\n",
      "(12, 'k', 3)\n",
      "(13, 'l', 5)\n"
     ]
    }
   ],
   "source": [
    "# Ще одна вбудована функція - zip\n",
    "for i in zip([11, 12, 13],['j','k','l', 't'], [1, 3, 5]):\n",
    "            print(i)"
   ]
  },
  {
   "cell_type": "markdown",
   "metadata": {},
   "source": [
    "#### Золотошукач"
   ]
  },
  {
   "cell_type": "code",
   "execution_count": 2,
   "metadata": {},
   "outputs": [],
   "source": [
    "hill = [[7],\n",
    "        [5, 8],\n",
    "        [9, 8, 2],\n",
    "        [1, 3, 5, 6],\n",
    "        [6, 2, 4, 4, 5],\n",
    "        [9, 5, 3, 5, 5, 7],\n",
    "        [7, 4, 6, 4, 7, 6, 8]]"
   ]
  },
  {
   "cell_type": "code",
   "execution_count": 3,
   "metadata": {},
   "outputs": [
    {
     "name": "stdout",
     "output_type": "stream",
     "text": [
      "[44]\n",
      "[37, 37]\n",
      "[32, 29, 28]\n",
      "[23, 19, 21, 26]\n",
      "[22, 13, 16, 16, 20]\n",
      "[16, 11, 9, 12, 12, 15]\n",
      "[7, 4, 6, 4, 7, 6, 8]\n"
     ]
    }
   ],
   "source": [
    "\n",
    "def gold(arr):\n",
    "    for i in range(len(arr) - 1, 0, -1):\n",
    "        for y in range(len(arr[i]) - 1, 0, -1):\n",
    "            a = arr[i][y] + arr[i-1][y - 1]\n",
    "            b = arr[i][y - 1] + arr[i-1][y - 1]\n",
    "            arr[i - 1][y - 1] = max(a, b)\n",
    "    for ar in arr:\n",
    "        print(ar)\n",
    "\n",
    "gold(hill)\n"
   ]
  },
  {
   "cell_type": "code",
   "execution_count": null,
   "metadata": {},
   "outputs": [],
   "source": []
  }
 ],
 "metadata": {
  "kernelspec": {
   "display_name": "Python 3 (ipykernel)",
   "language": "python",
   "name": "python3"
  },
  "language_info": {
   "codemirror_mode": {
    "name": "ipython",
    "version": 3
   },
   "file_extension": ".py",
   "mimetype": "text/x-python",
   "name": "python",
   "nbconvert_exporter": "python",
   "pygments_lexer": "ipython3",
   "version": "3.12.4"
  }
 },
 "nbformat": 4,
 "nbformat_minor": 4
}
