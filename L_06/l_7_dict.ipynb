{
 "cells": [
  {
   "cell_type": "markdown",
   "metadata": {},
   "source": [
    "## Словники (dict)"
   ]
  },
  {
   "cell_type": "markdown",
   "metadata": {
    "pycharm": {
     "name": "#%% md\n"
    }
   },
   "source": [
    "Словник – це приклад сховища значень ключів, також відомого як Mapping у Python.\n",
    "Він дозволяє зберігати та витягувати елементи, посилаючись на ключ. Так як словники посилаються на ключ, у них швидко працює пошук, оскільки вони в основному використовуються для посилання на елементи по ключу і вони не сортуються."
   ]
  },
  {
   "cell_type": "markdown",
   "metadata": {},
   "source": [
    "**Створення порожнього словника**"
   ]
  },
  {
   "cell_type": "code",
   "execution_count": 1,
   "metadata": {},
   "outputs": [
    {
     "name": "stdout",
     "output_type": "stream",
     "text": [
      "<class 'dict'>\n",
      "<class 'dict'>\n"
     ]
    }
   ],
   "source": [
    "d1 = dict()\n",
    "print(type(d1))\n",
    "\n",
    "d2 = {}\n",
    "print(type(d2))"
   ]
  },
  {
   "cell_type": "markdown",
   "metadata": {},
   "source": [
    "**Створення словника з початковими значеннями**"
   ]
  },
  {
   "cell_type": "code",
   "execution_count": 2,
   "metadata": {
    "scrolled": true
   },
   "outputs": [
    {
     "name": "stdout",
     "output_type": "stream",
     "text": [
      "{'Ivan': 'manager', 'Mark': 'worker'}\n",
      "{'A1': '123', 'A2': '456'}\n",
      "{0: 'муж', 1: 'жен'}\n",
      "{1: 'one', 5: 'five'}\n"
     ]
    }
   ],
   "source": [
    "d1 = dict(Ivan=\"manager\", Mark=\"worker\")\n",
    "print(d1)\n",
    "\n",
    "d2 = {\"A1\": \"123\", \"A2\": \"456\"}\n",
    "print(d2)\n",
    "\n",
    "gender_dict = {0: 'муж', 1: 'жен'}\n",
    "print(gender_dict)\n",
    "\n",
    "dict_one = {1: \"one\", 5: \"five\"}\n",
    "print(dict_one)"
   ]
  },
  {
   "cell_type": "code",
   "execution_count": null,
   "metadata": {},
   "outputs": [],
   "source": [
    "dct = {1.0: 'One'}\n",
    "print(dct)"
   ]
  },
  {
   "cell_type": "code",
   "execution_count": null,
   "metadata": {},
   "outputs": [],
   "source": [
    "dct[1] = \"hy\" \n",
    "print(dct) # 1.0 і 1 як ключ, мають однакове значення"
   ]
  },
  {
   "cell_type": "code",
   "execution_count": null,
   "metadata": {
    "scrolled": true
   },
   "outputs": [],
   "source": [
    "s1 = dict(1=\"manager\", 0=\"worker\") # SyntaxError функція dict не працює з ключами, які є числами"
   ]
  },
  {
   "cell_type": "markdown",
   "metadata": {},
   "source": [
    "### В якості ключа можуть бути значення тільки типу, що хешується (незмінний тип даних).\n",
    "Хеш (він же хеш-код) — це зазвичай число, яке генерується на підставі вмісту об'єкта за допомогою функції згортки."
   ]
  },
  {
   "cell_type": "code",
   "execution_count": 4,
   "metadata": {},
   "outputs": [
    {
     "name": "stdout",
     "output_type": "stream",
     "text": [
      "10\n",
      "1342391470759067059\n",
      "1046969245407843938\n",
      "7490111571214081513\n",
      "173794974761290439\n"
     ]
    }
   ],
   "source": [
    "print(hash(10)) #Хеш від числа, зазвичай повертає те саме число\n",
    "print(hash('10'))\n",
    "print(hash('Hello world'))\n",
    "print(hash('Hello World'))\n",
    "print(hash((1, 5))) # Хеш для кортежу також доступний"
   ]
  },
  {
   "cell_type": "code",
   "execution_count": null,
   "metadata": {},
   "outputs": [],
   "source": [
    "print(hash([1, 5])) # Хеш недоступний для типу даних, що змінюється"
   ]
  },
  {
   "cell_type": "code",
   "execution_count": 7,
   "metadata": {},
   "outputs": [
    {
     "name": "stdout",
     "output_type": "stream",
     "text": [
      "one\n",
      "456\n"
     ]
    }
   ],
   "source": [
    "# Доступ до значення за ключем\n",
    "a = dict_one[1]\n",
    "print(a)\n",
    "\n",
    "print(d2[\"A2\"])"
   ]
  },
  {
   "cell_type": "code",
   "execution_count": 8,
   "metadata": {},
   "outputs": [
    {
     "ename": "KeyError",
     "evalue": "2",
     "output_type": "error",
     "traceback": [
      "\u001b[1;31m---------------------------------------------------------------------------\u001b[0m",
      "\u001b[1;31mKeyError\u001b[0m                                  Traceback (most recent call last)",
      "Cell \u001b[1;32mIn[8], line 1\u001b[0m\n\u001b[1;32m----> 1\u001b[0m a \u001b[38;5;241m=\u001b[39m \u001b[43mdict_one\u001b[49m\u001b[43m[\u001b[49m\u001b[38;5;241;43m2\u001b[39;49m\u001b[43m]\u001b[49m \u001b[38;5;66;03m# Якщо такого ключа немає, то буде помилка\u001b[39;00m\n",
      "\u001b[1;31mKeyError\u001b[0m: 2"
     ]
    }
   ],
   "source": [
    "a = dict_one[2] # Якщо такого ключа немає, то буде помилка"
   ]
  },
  {
   "cell_type": "markdown",
   "metadata": {},
   "source": [
    "#### Важливою особливістю кортежу є те, що він відноситься до типу даних, що кешується, тобто, на відміну від списку, кортеж може використовуватися як ключі у словнику."
   ]
  },
  {
   "cell_type": "code",
   "execution_count": null,
   "metadata": {},
   "outputs": [],
   "source": [
    "dct = {}\n",
    "dct[(1, 2)] = 'Hello World'\n",
    "dct[('one', 'two')] = 'Python is the best of the best!'\n",
    "print(dct)"
   ]
  },
  {
   "cell_type": "code",
   "execution_count": null,
   "metadata": {},
   "outputs": [],
   "source": [
    "# RGB -> {(255, 255, 255): 'white', (0, 0, 0): 'black'}"
   ]
  },
  {
   "cell_type": "markdown",
   "metadata": {},
   "source": [
    "#### Створення словника, із заздалегідь заданого набору ключ-значення"
   ]
  },
  {
   "cell_type": "code",
   "execution_count": 3,
   "metadata": {},
   "outputs": [
    {
     "name": "stdout",
     "output_type": "stream",
     "text": [
      "{'IBM': 125, 'ACME': 50, 'PHP': 40}\n"
     ]
    }
   ],
   "source": [
    "pairs = [('IBM', 125), ('ACME', 50), ('PHP', 40)]\n",
    "d = dict(pairs)\n",
    "print(d)"
   ]
  },
  {
   "cell_type": "markdown",
   "metadata": {},
   "source": [
    "### Вкладені структури\n",
    "Це коли як значення, використовується також словник"
   ]
  },
  {
   "cell_type": "code",
   "execution_count": 13,
   "metadata": {},
   "outputs": [
    {
     "name": "stdout",
     "output_type": "stream",
     "text": [
      "87\n"
     ]
    }
   ],
   "source": [
    "human = {\"name\": \"Alexander\",\n",
    "        \"lastname\": \"Block\",\n",
    "        \"age\": 36,\n",
    "        \"address\":\n",
    "             {\"street\": \"Lomonosova\",\n",
    "              \"house\": 87,\n",
    "              \"flat\": 705}\n",
    "}\n",
    "\n",
    "house = human[\"address\"][\"house\"]\n",
    "print(house)\n",
    "\n"
   ]
  },
  {
   "cell_type": "code",
   "execution_count": 14,
   "metadata": {},
   "outputs": [
    {
     "name": "stdout",
     "output_type": "stream",
     "text": [
      "{'name': 'Alexander', 'lastname': 'Block', 'age': 36, 'address': {'street': 'Lomonosova', 'house': 87, 'flat': 700}}\n"
     ]
    }
   ],
   "source": [
    "# Міняємо значення для квартири\n",
    "human[\"address\"][\"flat\"] = 700\n",
    "print(human)"
   ]
  },
  {
   "cell_type": "code",
   "execution_count": 15,
   "metadata": {},
   "outputs": [],
   "source": [
    "# Список словників, це можливість обробляти кілька подібних даних\n",
    "a = [\n",
    "    {\"name\": \"Alexander\", \"lastname\": \"Block\", \"age\": 36}, \n",
    "    {\"name\": \"Bob\", \"lastname\": \"Young\",  \"age\": 25}\n",
    "]"
   ]
  },
  {
   "cell_type": "code",
   "execution_count": 16,
   "metadata": {},
   "outputs": [
    {
     "data": {
      "text/plain": [
       "'Bob'"
      ]
     },
     "execution_count": 16,
     "metadata": {},
     "output_type": "execute_result"
    }
   ],
   "source": [
    "a[1]['name']"
   ]
  },
  {
   "cell_type": "markdown",
   "metadata": {},
   "source": [
    "#### Додавання та оновлення елемента"
   ]
  },
  {
   "cell_type": "code",
   "execution_count": null,
   "metadata": {},
   "outputs": [],
   "source": [
    "print(dict_one)\n",
    "dict_one[1] = 'ONE'\n",
    "print(dict_one)\n",
    "\n",
    "dict_one[2] = 'Two'\n",
    "print(dict_one)"
   ]
  },
  {
   "cell_type": "code",
   "execution_count": null,
   "metadata": {},
   "outputs": [],
   "source": [
    "# Видалення елемента за ключом\n",
    "print(d2)\n",
    "del d2[\"A1\"]\n",
    "print(d2)"
   ]
  },
  {
   "cell_type": "markdown",
   "metadata": {},
   "source": [
    "#### Перевірка наявності ключа у словнику"
   ]
  },
  {
   "cell_type": "code",
   "execution_count": null,
   "metadata": {},
   "outputs": [],
   "source": [
    "# На відміну від списку, оператор ін перевіряє наявність ключа, а не значення! Це важливо!\n",
    "print(d1)\n",
    "print(\"Ivan\" in d1)\n",
    "print(\"Iva\" in d1)"
   ]
  },
  {
   "cell_type": "markdown",
   "metadata": {},
   "source": [
    "## Методи словників"
   ]
  },
  {
   "cell_type": "markdown",
   "metadata": {},
   "source": [
    "#### *clear()* - очищує словник."
   ]
  },
  {
   "cell_type": "code",
   "execution_count": 4,
   "metadata": {},
   "outputs": [
    {
     "name": "stdout",
     "output_type": "stream",
     "text": [
      "{'A1': '123', 'A2': '456'}\n",
      "{}\n"
     ]
    }
   ],
   "source": [
    "d2 = {\"A1\":\"123\", \"A2\":\"456\"}\n",
    "print(d2)\n",
    "\n",
    "d2.clear()\n",
    "print( d2)\n",
    "\n",
    "# d2 = {}"
   ]
  },
  {
   "cell_type": "markdown",
   "metadata": {},
   "source": [
    "#### *copy()* - повертає копію словника."
   ]
  },
  {
   "cell_type": "code",
   "execution_count": 5,
   "metadata": {},
   "outputs": [
    {
     "name": "stdout",
     "output_type": "stream",
     "text": [
      "{'A1': '123', 'A2': '456'}\n",
      "{'A1': '123', 'A2': '456'}\n",
      "{'A1': '789', 'A2': '456'}\n"
     ]
    }
   ],
   "source": [
    "d2 = {\"A1\":\"123\", \"A2\":\"456\"}\n",
    "d3 = d2.copy()\n",
    "print(d3)\n",
    "# Якщо значення словника, це незмінний тип даних, то копія не впливатиме на оригінал.\n",
    "d3[\"A1\"] = \"789\"\n",
    "print(d2)\n",
    "print(d3)\n"
   ]
  },
  {
   "cell_type": "code",
   "execution_count": null,
   "metadata": {},
   "outputs": [],
   "source": [
    "# Але проблеми виникають, коли значення - це тип даних, що змінюється\n",
    "d2 = {\"A1\": {1: \"one\", 5: \"five\"}, \"A2\":\"456\"}\n",
    "d3 = d2.copy()\n",
    "print('d2 ->', id(d2))\n",
    "print('d3 ->', id(d3))\n",
    "print(d3)\n"
   ]
  },
  {
   "cell_type": "code",
   "execution_count": null,
   "metadata": {},
   "outputs": [],
   "source": [
    "d3[\"A1\"][1] = \"789\"\n",
    "print('d2 ->', d2)\n",
    "print('d3 ->', d3)\n"
   ]
  },
  {
   "cell_type": "code",
   "execution_count": null,
   "metadata": {},
   "outputs": [],
   "source": [
    "# Обидва елементи різних словників, посилаються на ту саму адресу пам'яті\n",
    "print(id(d2[\"A1\"]) == id(d3[\"A1\"])) "
   ]
  },
  {
   "cell_type": "code",
   "execution_count": null,
   "metadata": {},
   "outputs": [],
   "source": [
    "# Щоб уникнути подібних проблем, потрібно щоб між копіями був повний розрив, у тому числі і по елементах\n",
    "import copy\n",
    "\n",
    "d2 = {\"A1\":{1: \"one\", 5: \"five\"}, \"A2\":\"456\"}\n",
    "d3 = copy.deepcopy(d2)\n",
    "print('d3 ->', d3)\n",
    "\n",
    "d3[\"A1\"][1] = \"789\"\n",
    "print('d2 ->', d2)\n",
    "print('d3 ->', d3)"
   ]
  },
  {
   "cell_type": "code",
   "execution_count": 6,
   "metadata": {},
   "outputs": [
    {
     "name": "stdout",
     "output_type": "stream",
     "text": [
      "False\n"
     ]
    }
   ],
   "source": [
    "print(id(d2[\"A1\"]) == id(d3[\"A1\"]))"
   ]
  },
  {
   "cell_type": "markdown",
   "metadata": {},
   "source": [
    "#### *fromkeys(seq[, value])* - створює словник з ключами seq і значенням value (за замовчуванням None)."
   ]
  },
  {
   "cell_type": "code",
   "execution_count": null,
   "metadata": {},
   "outputs": [],
   "source": [
    "my_new_dict = dict.fromkeys(['one', 'two', 3]) \n",
    "print(my_new_dict) # значення None\n"
   ]
  },
  {
   "cell_type": "code",
   "execution_count": null,
   "metadata": {},
   "outputs": [],
   "source": [
    "my_new_dict = dict.fromkeys(['one', 'two', 3], 10)\n",
    "print(my_new_dict) # значення за замовчуванням 10"
   ]
  },
  {
   "cell_type": "code",
   "execution_count": null,
   "metadata": {},
   "outputs": [],
   "source": [
    "# Небезпечний варіант ініціалізувати всі елементи пустими списками.\n",
    "my_new_dict = dict.fromkeys([1, 2, 3], [])\n",
    "print(my_new_dict)\n"
   ]
  },
  {
   "cell_type": "code",
   "execution_count": null,
   "metadata": {},
   "outputs": [],
   "source": [
    "my_new_dict[1].append('add')\n",
    "print(my_new_dict)"
   ]
  },
  {
   "cell_type": "code",
   "execution_count": null,
   "metadata": {},
   "outputs": [],
   "source": [
    "print('1 ->', id(my_new_dict[1]))\n",
    "print('2 ->', id(my_new_dict[2]))\n",
    "print('3 ->', id(my_new_dict[3]))"
   ]
  },
  {
   "cell_type": "code",
   "execution_count": null,
   "metadata": {},
   "outputs": [],
   "source": [
    "# Правильний варіант, але без fromkeys:\n",
    "my_new_dict = {}\n",
    "for key in [1, 2, 3]:\n",
    "    my_new_dict[key] =  []\n",
    "\n",
    "my_new_dict[1].append('add')\n",
    "print(my_new_dict)\n"
   ]
  },
  {
   "cell_type": "code",
   "execution_count": null,
   "metadata": {
    "scrolled": true
   },
   "outputs": [],
   "source": [
    "# Створення словника за допомогою генераторного виразу\n",
    "my_new_dict = {key: [] for key in [1, 2, 3] }\n",
    "\n",
    "my_new_dict[1].append('added')\n",
    "print(my_new_dict)"
   ]
  },
  {
   "cell_type": "markdown",
   "metadata": {},
   "source": [
    "#### *get(key)* - повертає значення ключа, але якщо його немає, не кидає виняток, а повертає default (за замовчуванням None)."
   ]
  },
  {
   "cell_type": "code",
   "execution_count": 7,
   "metadata": {},
   "outputs": [
    {
     "ename": "KeyError",
     "evalue": "4",
     "output_type": "error",
     "traceback": [
      "\u001b[1;31m---------------------------------------------------------------------------\u001b[0m",
      "\u001b[1;31mKeyError\u001b[0m                                  Traceback (most recent call last)",
      "Cell \u001b[1;32mIn[7], line 2\u001b[0m\n\u001b[0;32m      1\u001b[0m d2 \u001b[38;5;241m=\u001b[39m {\u001b[38;5;124m\"\u001b[39m\u001b[38;5;124mA1\u001b[39m\u001b[38;5;124m\"\u001b[39m:{\u001b[38;5;241m1\u001b[39m: \u001b[38;5;124m\"\u001b[39m\u001b[38;5;124mone\u001b[39m\u001b[38;5;124m\"\u001b[39m, \u001b[38;5;241m5\u001b[39m: \u001b[38;5;124m\"\u001b[39m\u001b[38;5;124mfive\u001b[39m\u001b[38;5;124m\"\u001b[39m}, \u001b[38;5;124m\"\u001b[39m\u001b[38;5;124mA2\u001b[39m\u001b[38;5;124m\"\u001b[39m:\u001b[38;5;124m\"\u001b[39m\u001b[38;5;124m456\u001b[39m\u001b[38;5;124m\"\u001b[39m}\n\u001b[1;32m----> 2\u001b[0m \u001b[43md2\u001b[49m\u001b[43m[\u001b[49m\u001b[38;5;241;43m4\u001b[39;49m\u001b[43m]\u001b[49m \u001b[38;5;66;03m# Помилка, якщо немає такого ключа\u001b[39;00m\n",
      "\u001b[1;31mKeyError\u001b[0m: 4"
     ]
    }
   ],
   "source": [
    "d2 = {\"A1\":{1: \"one\", 5: \"five\"}, \"A2\":\"456\"}\n",
    "d2[4] # Помилка, якщо немає такого ключа"
   ]
  },
  {
   "cell_type": "code",
   "execution_count": null,
   "metadata": {
    "scrolled": true
   },
   "outputs": [],
   "source": [
    "print(d2.get('A2'))\n",
    "\n",
    "print(d2.get(4)) #Помилки немає, для відсутнього ключа\n"
   ]
  },
  {
   "cell_type": "code",
   "execution_count": null,
   "metadata": {
    "scrolled": true
   },
   "outputs": [],
   "source": [
    "print(d2.get('address', {})) # Можна встановити значення за замовчуванням для ключа, який відсутній\n",
    "\n",
    "print(d2)"
   ]
  },
  {
   "cell_type": "code",
   "execution_count": null,
   "metadata": {},
   "outputs": [],
   "source": [
    "# Доступ до елемента вкладеної структури\n",
    "x = d2[\"A1\"][1]\n",
    "print(x)"
   ]
  },
  {
   "cell_type": "code",
   "execution_count": null,
   "metadata": {
    "scrolled": true
   },
   "outputs": [],
   "source": [
    "y = d2.get('A5') # Такого ключа немає, але й помилки немає\n"
   ]
  },
  {
   "cell_type": "code",
   "execution_count": null,
   "metadata": {},
   "outputs": [],
   "source": [
    "z = y[1] #До об'єкта None не можна звертатися за індексом"
   ]
  },
  {
   "cell_type": "code",
   "execution_count": 10,
   "metadata": {},
   "outputs": [
    {
     "ename": "KeyError",
     "evalue": "1",
     "output_type": "error",
     "traceback": [
      "\u001b[1;31m---------------------------------------------------------------------------\u001b[0m",
      "\u001b[1;31mKeyError\u001b[0m                                  Traceback (most recent call last)",
      "Cell \u001b[1;32mIn[10], line 2\u001b[0m\n\u001b[0;32m      1\u001b[0m y \u001b[38;5;241m=\u001b[39m d2\u001b[38;5;241m.\u001b[39mget(\u001b[38;5;124m'\u001b[39m\u001b[38;5;124mA5\u001b[39m\u001b[38;5;124m'\u001b[39m, {}) \u001b[38;5;66;03m# Порожній словник, як значення за замовчуванням\u001b[39;00m\n\u001b[1;32m----> 2\u001b[0m z \u001b[38;5;241m=\u001b[39m \u001b[43my\u001b[49m\u001b[43m[\u001b[49m\u001b[38;5;241;43m1\u001b[39;49m\u001b[43m]\u001b[49m \u001b[38;5;66;03m#У порожньому словнику немає такого ключа\u001b[39;00m\n",
      "\u001b[1;31mKeyError\u001b[0m: 1"
     ]
    }
   ],
   "source": [
    "y = d2.get('A5', {}) # Порожній словник, як значення за замовчуванням\n",
    "z = y[1] #У порожньому словнику немає такого ключа"
   ]
  },
  {
   "cell_type": "markdown",
   "metadata": {},
   "source": [
    "##### За допомогою методу get, ми можемо погасити всі помилки"
   ]
  },
  {
   "cell_type": "code",
   "execution_count": 11,
   "metadata": {
    "scrolled": true
   },
   "outputs": [
    {
     "name": "stdout",
     "output_type": "stream",
     "text": [
      "None\n"
     ]
    }
   ],
   "source": [
    "\n",
    "y = d2.get('A5', {})\n",
    "z = y.get(1)\n",
    "print(z)"
   ]
  },
  {
   "cell_type": "code",
   "execution_count": 12,
   "metadata": {},
   "outputs": [
    {
     "name": "stdout",
     "output_type": "stream",
     "text": [
      "{'A1': {1: 'one', 5: 'five'}, 'A2': '456'}\n"
     ]
    }
   ],
   "source": [
    "print(d2)"
   ]
  },
  {
   "cell_type": "code",
   "execution_count": 13,
   "metadata": {},
   "outputs": [
    {
     "name": "stdout",
     "output_type": "stream",
     "text": [
      "0\n"
     ]
    }
   ],
   "source": [
    "z = d2.get('address', {}).get('home', 0)\n",
    "print(z)"
   ]
  },
  {
   "cell_type": "markdown",
   "metadata": {},
   "source": [
    "**Еквівалент рядка вище**"
   ]
  },
  {
   "cell_type": "code",
   "execution_count": 14,
   "metadata": {},
   "outputs": [
    {
     "name": "stdout",
     "output_type": "stream",
     "text": [
      "0\n"
     ]
    }
   ],
   "source": [
    "if 'address' in d2:\n",
    "    if 'home' in d2['address']:\n",
    "        z = d2[\"address\"]['home']\n",
    "    else:\n",
    "        z = 0\n",
    "else:\n",
    "   z = 0\n",
    "print(z)"
   ]
  },
  {
   "cell_type": "code",
   "execution_count": 15,
   "metadata": {},
   "outputs": [],
   "source": [
    "dct = {2: [1]}\n",
    "if dct.get(4, []):\n",
    "    print('OK')\n",
    "if dct.get(3):\n",
    "    print(3)"
   ]
  },
  {
   "cell_type": "code",
   "execution_count": 16,
   "metadata": {},
   "outputs": [],
   "source": [
    "res = dct.get(3)\n",
    "if res is not None:\n",
    "    pass"
   ]
  },
  {
   "cell_type": "markdown",
   "metadata": {},
   "source": [
    "#### *items()* - повертає пари (ключ, значення)."
   ]
  },
  {
   "cell_type": "code",
   "execution_count": 17,
   "metadata": {},
   "outputs": [
    {
     "name": "stdout",
     "output_type": "stream",
     "text": [
      "dict_items([('name', 'Alexander'), ('lastname', 'Tsin'), ('age', 36), ('group', 'PN121')])\n"
     ]
    }
   ],
   "source": [
    "student = {\"name\": \"Alexander\", \"lastname\": \"Tsin\", \"age\": 36, \"group\": \"PN121\"}\n",
    "print(student.items()) # Результат роботи цього методу схожий на список, але таким не є\n"
   ]
  },
  {
   "cell_type": "code",
   "execution_count": 18,
   "metadata": {
    "scrolled": true
   },
   "outputs": [
    {
     "ename": "TypeError",
     "evalue": "'dict_items' object is not subscriptable",
     "output_type": "error",
     "traceback": [
      "\u001b[1;31m---------------------------------------------------------------------------\u001b[0m",
      "\u001b[1;31mTypeError\u001b[0m                                 Traceback (most recent call last)",
      "Cell \u001b[1;32mIn[18], line 2\u001b[0m\n\u001b[0;32m      1\u001b[0m lst \u001b[38;5;241m=\u001b[39m student\u001b[38;5;241m.\u001b[39mitems()\n\u001b[1;32m----> 2\u001b[0m \u001b[43mlst\u001b[49m\u001b[43m[\u001b[49m\u001b[38;5;241;43m0\u001b[39;49m\u001b[43m]\u001b[49m \u001b[38;5;66;03m# У цього типу даних немає можливості звертатися до елементів за індексом\u001b[39;00m\n",
      "\u001b[1;31mTypeError\u001b[0m: 'dict_items' object is not subscriptable"
     ]
    }
   ],
   "source": [
    "lst = student.items()\n",
    "lst[0] # У цього типу даних немає можливості звертатися до елементів за індексом"
   ]
  },
  {
   "cell_type": "code",
   "execution_count": 19,
   "metadata": {},
   "outputs": [
    {
     "data": {
      "text/plain": [
       "('name', 'Alexander')"
      ]
     },
     "execution_count": 19,
     "metadata": {},
     "output_type": "execute_result"
    }
   ],
   "source": [
    "# Щоб мати змогу працювати з цим об'єктом, як зі списком, його необхідно перетворити до списку у явному вигляді\n",
    "lst = list(student.items())\n",
    "lst[0]"
   ]
  },
  {
   "cell_type": "code",
   "execution_count": 20,
   "metadata": {},
   "outputs": [
    {
     "name": "stdout",
     "output_type": "stream",
     "text": [
      "dict_items([])\n"
     ]
    }
   ],
   "source": [
    "a = student.get('address', {})\n",
    "print(a.items()) # Порожній об'єкт"
   ]
  },
  {
   "cell_type": "code",
   "execution_count": 21,
   "metadata": {
    "scrolled": true
   },
   "outputs": [
    {
     "name": "stdout",
     "output_type": "stream",
     "text": [
      "Key: name, value: Alexander\n",
      "Key: lastname, value: Tsin\n",
      "Key: age, value: 36\n",
      "Key: group, value: PN121\n"
     ]
    }
   ],
   "source": [
    "# Найчастіше, результат цього методу використовується як об'єкт для ітерації в циклі\n",
    "for key, val in student.items(): \n",
    "    print(f'Key: {key}, value: {val}')"
   ]
  },
  {
   "cell_type": "code",
   "execution_count": 22,
   "metadata": {},
   "outputs": [
    {
     "name": "stdout",
     "output_type": "stream",
     "text": [
      "Key: name, value: Alexander\n",
      "Key: lastname, value: Tsin\n",
      "Key: age, value: 36\n",
      "Key: group, value: PN121\n"
     ]
    }
   ],
   "source": [
    "# При кожній ітерації, ми отримуємо кортеж з кількох значень. Тому далі ми працюємо з індексами\n",
    "for pair in student.items(): \n",
    "    print(f'Key: {pair[0]}, value: {pair[1]}')"
   ]
  },
  {
   "cell_type": "markdown",
   "metadata": {},
   "source": [
    "#### *keys()* - повертає ключі у словнику."
   ]
  },
  {
   "cell_type": "code",
   "execution_count": null,
   "metadata": {},
   "outputs": [],
   "source": [
    "# Це теж спископодібний об'єкт\n",
    "print(student.keys())\n"
   ]
  },
  {
   "cell_type": "code",
   "execution_count": null,
   "metadata": {},
   "outputs": [],
   "source": [
    "lst = student.keys()\n",
    "print(lst[0]) # error"
   ]
  },
  {
   "cell_type": "code",
   "execution_count": null,
   "metadata": {},
   "outputs": [],
   "source": [
    "print(list(lst)[0])"
   ]
  },
  {
   "cell_type": "code",
   "execution_count": null,
   "metadata": {},
   "outputs": [],
   "source": [
    "# Коли ми передаємо словник у цикл, то ітерація йде за ключами, а не за значеннями, як це було зі списком\n",
    "for key in student: # student.keys()\n",
    "    print(f'Key: {key}')"
   ]
  },
  {
   "cell_type": "markdown",
   "metadata": {
    "jp-MarkdownHeadingCollapsed": true
   },
   "source": [
    "#### *values()* - повертає набір значень словника."
   ]
  },
  {
   "cell_type": "code",
   "execution_count": null,
   "metadata": {},
   "outputs": [],
   "source": [
    "print(student.values())\n",
    "# Це теж список подібний об'єкт, як і для keys(). Дії аналогічні"
   ]
  },
  {
   "cell_type": "code",
   "execution_count": null,
   "metadata": {},
   "outputs": [],
   "source": [
    "#У такий спосіб можна перевірити наявність елемента серед значень словника\n",
    "print('Alexander' in student.values())"
   ]
  },
  {
   "cell_type": "markdown",
   "metadata": {},
   "source": [
    "#### *pop(key[, default])* - видаляє пару ключ/значення зі словника і повертає значення як результат своєї роботи"
   ]
  },
  {
   "cell_type": "code",
   "execution_count": null,
   "metadata": {},
   "outputs": [],
   "source": [
    "d = {\"A1\":\"123\", \"A2\":\"456\"}\n",
    "a = d.pop(\"A1\")\n",
    "\n",
    "print(d)\n",
    "print(a)"
   ]
  },
  {
   "cell_type": "code",
   "execution_count": null,
   "metadata": {},
   "outputs": [],
   "source": [
    "a = d.pop(\"A1\") # Якщо такого ключа немає, то буде помилка\n"
   ]
  },
  {
   "cell_type": "code",
   "execution_count": null,
   "metadata": {},
   "outputs": [],
   "source": [
    "# Щоб не було помилки для відсутнього ключа, можна вказати значення за замовчуванням\n",
    "a = d.pop(\"A1\", [])\n",
    "print(a)"
   ]
  },
  {
   "cell_type": "code",
   "execution_count": null,
   "metadata": {},
   "outputs": [],
   "source": [
    "#Для методу pop у списку, такої можливості немає\n",
    "[].pop(0, None) # TypeError:"
   ]
  },
  {
   "cell_type": "markdown",
   "metadata": {
    "jp-MarkdownHeadingCollapsed": true
   },
   "source": [
    "#### *popitem()* - видаляє та повертає пару (ключ, значення). Якщо словник порожній, викидає KeyError."
   ]
  },
  {
   "cell_type": "code",
   "execution_count": null,
   "metadata": {},
   "outputs": [],
   "source": [
    "d = {\"A1\":\"123\", \"A2\":\"456\"}\n",
    "k, v = d.popitem()\n",
    "print(k, v)\n",
    "print(d)"
   ]
  },
  {
   "cell_type": "code",
   "execution_count": null,
   "metadata": {
    "pycharm": {
     "name": "#%%\n"
    }
   },
   "outputs": [],
   "source": [
    "\n",
    "k, v = d.popitem()\n",
    "print(d)"
   ]
  },
  {
   "cell_type": "code",
   "execution_count": null,
   "metadata": {
    "scrolled": true
   },
   "outputs": [],
   "source": [
    "k, v = d.popitem() # Помилка KeyError, коли словник вже порожній"
   ]
  },
  {
   "cell_type": "code",
   "execution_count": null,
   "metadata": {},
   "outputs": [],
   "source": [
    "k, v = d.popitem(None) # TypeError: popitem() takes no arguments (1 given)"
   ]
  },
  {
   "cell_type": "markdown",
   "metadata": {
    "jp-MarkdownHeadingCollapsed": true
   },
   "source": [
    "#### *setdefault(key[, default])* - створює у словнику ключ із переданим значенням default (за замовчуванням None), якщо такого ключа у словнику немає. Якщо такий ключ є – нічого не робить."
   ]
  },
  {
   "cell_type": "markdown",
   "metadata": {},
   "source": [
    "**Завдання. Необхідно порахувати кількість повторень кожного числа у списку**"
   ]
  },
  {
   "cell_type": "code",
   "execution_count": null,
   "metadata": {},
   "outputs": [],
   "source": [
    "# Найпростіший, але не оптимальний варіант рішення\n",
    "dict_one = {}\n",
    "lst = [1, 2, 3, 6, 3, 1, 7]\n",
    "for i in lst:\n",
    "    # пробуємо отримати значення для ключа\n",
    "    count = dict_one.get(i) # повертає або число, або None\n",
    "    if count:\n",
    "        # якщо значення є, збільшуємо на 1\n",
    "        dict_one[i] = count + 1\n",
    "    else:\n",
    "        # якщо значення немає, встановлюємо початкове\n",
    "        dict_one[i] = 1\n",
    "#словник, у якому ключами є елементи списку, а значеннями те, скільки разів вони зустрічалися у списку\n",
    "print(dict_one)"
   ]
  },
  {
   "cell_type": "code",
   "execution_count": null,
   "metadata": {},
   "outputs": [],
   "source": [
    "# Більш оптимальний варіант рішення\n",
    "dict_one = {}\n",
    "l = [1, 2, 3, 6, 3, 1, 7]\n",
    "for i in l:\n",
    "    # для заданого ключа, встановлюємо значення 0\n",
    "    dict_one.setdefault(i, 0) # спрацює у разі, якщо такого ключа ще немає\n",
    "    # тепер можемо змінювати значення за ключом, оскільки у словнику він вже точно є\n",
    "    dict_one[i] += 1 # dict_one[i] = dict_one[i] + 1\n",
    "\n",
    "print(dict_one)"
   ]
  },
  {
   "cell_type": "code",
   "execution_count": null,
   "metadata": {},
   "outputs": [],
   "source": [
    "# Пояснення, чому необхідно встановлювати початкові значення у словнику\n",
    "dict_one = {}\n",
    "l = [1, 2, 3, 6, 3, 1, 7]\n",
    "for i in l:\n",
    "    # dict_one.setdefault(i, 0)\n",
    "    dict_one[i] = dict_one[i] + 1 # KeyError\n",
    "\n",
    "print(dict_one)"
   ]
  },
  {
   "cell_type": "code",
   "execution_count": null,
   "metadata": {},
   "outputs": [],
   "source": [
    "# Варіант рішення, з використанням методу get\n",
    "dict_one = {}\n",
    "l = [1, 2, 3, 6, 3, 1, 7]\n",
    "for i in l:\n",
    "    # dict_one.setdefault(i, 0)\n",
    "    dict_one[i] = dict_one.get(i, 0) + 1\n",
    "\n",
    "print(dict_one)"
   ]
  },
  {
   "cell_type": "markdown",
   "metadata": {
    "jp-MarkdownHeadingCollapsed": true
   },
   "source": [
    "#### *update([other])* оновлює словник, додаючи пари (ключ, значення) з other. Існуючі ключі перезаписуються. Цей метод повертає None, тобто він модифікує існуючий словник на місці."
   ]
  },
  {
   "cell_type": "code",
   "execution_count": null,
   "metadata": {},
   "outputs": [],
   "source": [
    "student = {\"name\": \"Alexander\", \"lastname\": \"Ts\", \"age\": 36, \"group\": \"PN121\"}\n",
    "address = {\"address\":\n",
    "             {\"street\": \"Lomonosova\",\n",
    "              \"house\": 87,\n",
    "              \"flat\": 705}\n",
    "          }\n",
    "student.update(address)\n",
    "#У словнику student не було ключа address, а тепер є\n",
    "print(student)"
   ]
  },
  {
   "cell_type": "code",
   "execution_count": null,
   "metadata": {},
   "outputs": [],
   "source": [
    "student = {\"name\": \"Alexander\", \"lastname\": \"Ts\", \"age\": 36, \"group\": \"PN121\"}\n",
    "address = {\"address\":\n",
    "             {\"street\": \"Lomonosova\",\n",
    "              \"house\": 87,\n",
    "              \"flat\": 705}\n",
    "          }\n",
    "student.update(address)\n",
    "#Оновлення вкладеного словника\n",
    "student['address'].update({\"house\": 86, \"flat\": 76})\n",
    "print(student)"
   ]
  },
  {
   "cell_type": "code",
   "execution_count": null,
   "metadata": {},
   "outputs": [],
   "source": [
    "# Значення по існуючим ключам було перезаписано\n",
    "student.update({\"name\": \"Bob\", \"lastname\": \"Nolan\", \"address\": ''})\n",
    "print(student)"
   ]
  },
  {
   "cell_type": "code",
   "execution_count": null,
   "metadata": {
    "pycharm": {
     "name": "#%%\n"
    }
   },
   "outputs": [],
   "source": [
    "# Починаючи з версії 3.5, можна сподіватися на порядок додавання ключів\n",
    "dct = {}\n",
    "dct['a'] = 1\n",
    "dct['b'] = 2\n",
    "dct['c'] = 3\n",
    "dct['d'] = 4\n",
    "for k in dct:\n",
    "    print(k)"
   ]
  },
  {
   "cell_type": "markdown",
   "metadata": {
    "jp-MarkdownHeadingCollapsed": true
   },
   "source": [
    "## OrderedDict\n",
    "#### ще один схожий на словник об'єкт, але він пам'ятає порядок, в якому йому було дано ключі."
   ]
  },
  {
   "cell_type": "markdown",
   "metadata": {
    "pycharm": {
     "name": "#%% md\n"
    }
   },
   "source": [
    "#### Методи в основному як і у звичайного словника, але є кілька особливих"
   ]
  },
  {
   "cell_type": "markdown",
   "metadata": {
    "pycharm": {
     "name": "#%% md\n"
    }
   },
   "source": [
    "**popitem**(last=True) - видаляє останній елемент якщо `last=True`, і перший,\n",
    "якщо `last = False`."
   ]
  },
  {
   "cell_type": "code",
   "execution_count": null,
   "metadata": {
    "pycharm": {
     "name": "#%%\n"
    }
   },
   "outputs": [],
   "source": [
    "from   collections import OrderedDict\n",
    "d = OrderedDict({'apple': 4, 'banana': 3, 'orange': 2, 'pear': 1})\n",
    "print(d)\n",
    "print(len(d)) # виведе: 4\n",
    "# Варіанти створення словника із сортуванням за ключами або значеннями\n",
    "dct = OrderedDict(sorted(d.items(), key=lambda t: t[1]))\n",
    "print(dct)\n",
    "dct = OrderedDict(sorted(d.items(), key=lambda t: t[0]))\n",
    "print(dct)"
   ]
  },
  {
   "cell_type": "code",
   "execution_count": null,
   "metadata": {
    "pycharm": {
     "name": "#%%\n"
    }
   },
   "outputs": [],
   "source": [
    "print(dct.popitem())"
   ]
  },
  {
   "cell_type": "code",
   "execution_count": null,
   "metadata": {
    "pycharm": {
     "name": "#%%\n"
    },
    "scrolled": true
   },
   "outputs": [],
   "source": [
    "print(dct.popitem(last=False))"
   ]
  },
  {
   "cell_type": "code",
   "execution_count": null,
   "metadata": {},
   "outputs": [],
   "source": [
    "print(dct)"
   ]
  },
  {
   "cell_type": "markdown",
   "metadata": {},
   "source": [
    "**move_to_end**(key, last=True) - переміщає ключ у кінець якщо last=True, і початок, якщо last=False."
   ]
  },
  {
   "cell_type": "code",
   "execution_count": null,
   "metadata": {
    "pycharm": {
     "name": "#%%\n"
    },
    "scrolled": true
   },
   "outputs": [],
   "source": [
    "dct['apple'] = 4\n",
    "print(dct)"
   ]
  },
  {
   "cell_type": "code",
   "execution_count": null,
   "metadata": {},
   "outputs": [],
   "source": [
    "dct.move_to_end('banana')\n",
    "# ключ banana став останнім\n",
    "print(dct)"
   ]
  },
  {
   "cell_type": "code",
   "execution_count": null,
   "metadata": {
    "pycharm": {
     "name": "#%%\n"
    }
   },
   "outputs": [],
   "source": [
    "# ключ apple став першим\n",
    "dct.move_to_end('apple', last=False)\n",
    "print(dct)"
   ]
  },
  {
   "cell_type": "markdown",
   "metadata": {},
   "source": [
    "## defaultdict\n",
    "нічим не відрізняється від звичайного словника за винятком того, що за умовчанням завжди викликається функція, що повертає значення"
   ]
  },
  {
   "cell_type": "code",
   "execution_count": null,
   "metadata": {
    "pycharm": {
     "name": "#%%\n"
    }
   },
   "outputs": [],
   "source": [
    "from collections import defaultdict\n",
    "defdict = defaultdict(list)\n",
    "#тепер при додаванні будь-якого ключа до словника, значення цього ключа буде порожній список\n",
    "print(defdict)"
   ]
  },
  {
   "cell_type": "code",
   "execution_count": null,
   "metadata": {},
   "outputs": [],
   "source": [
    "# Отримуємо значення за відсутнім ключем\n",
    "print(defdict[\"d\"]) # виведе: []"
   ]
  },
  {
   "cell_type": "code",
   "execution_count": null,
   "metadata": {
    "pycharm": {
     "name": "#%%\n"
    }
   },
   "outputs": [],
   "source": [
    "# Оскільки ми знаємо, що за будь-яким ключем буде список, ми можемо використовувати методи властиві спискам\n",
    "for i in range(5):\n",
    "    defdict[i].append(i * 5)\n",
    "\n",
    "print(defdict)\n"
   ]
  },
  {
   "cell_type": "code",
   "execution_count": null,
   "metadata": {},
   "outputs": [],
   "source": [
    "#Той самий результат, але з використанням методу setdefault\n",
    "dict_one = {}\n",
    "\n",
    "for i in range(5):\n",
    "    dict_one.setdefault(i, [])\n",
    "    dict_one[i].append(i * 5)\n",
    "print(dict_one)"
   ]
  },
  {
   "cell_type": "code",
   "execution_count": null,
   "metadata": {},
   "outputs": [],
   "source": [
    "# Створюємо defaultdict, який повертає 0 для будь-якого ключа\n",
    "dct = defaultdict(lambda: 0)\n",
    "print(dct[\"d\"]) # виведе: 0"
   ]
  },
  {
   "cell_type": "markdown",
   "metadata": {},
   "source": [
    "## namedtuple\n",
    "Іменований кортеж namedtuple() - це об'єкт, якому характерні всі властивості звичайного кортежу, але при цьому є можливість дати індексам назви"
   ]
  },
  {
   "cell_type": "code",
   "execution_count": null,
   "metadata": {},
   "outputs": [],
   "source": [
    "from collections import namedtuple\n",
    "fields = ('color', 'engine') #Створюємо набір іменованих індексів\n",
    "car = namedtuple('Car', fields) #Створюємо шаблон іменованого кортежу\n",
    "car1 = car('red', 2000) #Створюємо кортеж\n"
   ]
  },
  {
   "cell_type": "code",
   "execution_count": null,
   "metadata": {},
   "outputs": [],
   "source": [
    "# У іменованого кортежу є можливість звертатися до елементів як по індексу, так і по імені цього індексу\n",
    "print(car1[0])\n",
    "print(car1.color)"
   ]
  },
  {
   "cell_type": "code",
   "execution_count": null,
   "metadata": {},
   "outputs": [],
   "source": [
    "car3 = car(engine=5000, color='red')"
   ]
  },
  {
   "cell_type": "code",
   "execution_count": null,
   "metadata": {},
   "outputs": [],
   "source": [
    "print(car3)"
   ]
  },
  {
   "cell_type": "code",
   "execution_count": null,
   "metadata": {},
   "outputs": [],
   "source": [
    "car2 = car('black', 3000)\n",
    "print(car2)"
   ]
  },
  {
   "cell_type": "code",
   "execution_count": null,
   "metadata": {},
   "outputs": [],
   "source": [
    "print(car2.engine)\n",
    "print(car2[1])"
   ]
  },
  {
   "cell_type": "markdown",
   "metadata": {},
   "source": [
    "**Не можна змінювати значення в кортежі**"
   ]
  },
  {
   "cell_type": "code",
   "execution_count": null,
   "metadata": {},
   "outputs": [],
   "source": [
    "car2[1] = 3500  # error"
   ]
  },
  {
   "cell_type": "code",
   "execution_count": null,
   "metadata": {},
   "outputs": [],
   "source": [
    "car1.color = 'blue'  # error"
   ]
  },
  {
   "cell_type": "code",
   "execution_count": null,
   "metadata": {},
   "outputs": [],
   "source": [
    "# Розпакування кортежу\n",
    "color1, engine1 = car1\n",
    "print(color1, engine1)"
   ]
  },
  {
   "cell_type": "code",
   "execution_count": null,
   "metadata": {},
   "outputs": [],
   "source": [
    "# Створення звичайного кортежу, з іменованого\n",
    "print(tuple(car2))"
   ]
  },
  {
   "cell_type": "code",
   "execution_count": null,
   "metadata": {},
   "outputs": [],
   "source": [
    "# Створення словника з іменованого кортежу\n",
    "car1._asdict()"
   ]
  },
  {
   "cell_type": "code",
   "execution_count": null,
   "metadata": {},
   "outputs": [],
   "source": [
    "import json\n",
    "json.dumps(car2._asdict()) # Перетворити на json"
   ]
  }
 ],
 "metadata": {
  "kernelspec": {
   "display_name": "Python 3 (ipykernel)",
   "language": "python",
   "name": "python3"
  },
  "language_info": {
   "codemirror_mode": {
    "name": "ipython",
    "version": 3
   },
   "file_extension": ".py",
   "mimetype": "text/x-python",
   "name": "python",
   "nbconvert_exporter": "python",
   "pygments_lexer": "ipython3",
   "version": "3.12.4"
  }
 },
 "nbformat": 4,
 "nbformat_minor": 4
}
