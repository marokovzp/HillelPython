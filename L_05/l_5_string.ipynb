{
 "cells": [
  {
   "cell_type": "markdown",
   "metadata": {
    "pycharm": {
     "name": "#%% md\n"
    }
   },
   "source": [
    "# Рядки"
   ]
  },
  {
   "cell_type": "markdown",
   "metadata": {
    "pycharm": {
     "name": "#%% md\n"
    }
   },
   "source": [
    "**Рядок** — це послідовність будь-яких символів укладених в лапки. У Python рядки відносяться до незмінного типу даних.\n",
    "Літерали рядків оголошуються як текст, укладений в одинарні, подвійні або потрійні лапки.\n",
    "Як і у разі списків, так і у разі рядків, позиція окремого символу відраховується від початку рядка.\n",
    "Первый символ строки имеет индекс 0. Обращение к отдельному элементу строки имеет такой же синтаксис, как и к элементу\n",
    "списка.\n"
   ]
  },
  {
   "cell_type": "code",
   "execution_count": 66,
   "metadata": {},
   "outputs": [],
   "source": [
    "my_string_1 = 'I like Python'\n",
    "my_string_2 = \"I like Python\"\n",
    "my_string_3 = \"\"\"I like\n",
    "Python\"\"\""
   ]
  },
  {
   "cell_type": "code",
   "execution_count": 67,
   "metadata": {},
   "outputs": [
    {
     "ename": "SyntaxError",
     "evalue": "unterminated string literal (detected at line 1) (3196165011.py, line 1)",
     "output_type": "error",
     "traceback": [
      "\u001b[1;36m  Cell \u001b[1;32mIn[67], line 1\u001b[1;36m\u001b[0m\n\u001b[1;33m    my_string_4 = 'He likes Python\" # SyntaxError рядок повинен починатися і закінчуватися однаковими лапками\u001b[0m\n\u001b[1;37m                  ^\u001b[0m\n\u001b[1;31mSyntaxError\u001b[0m\u001b[1;31m:\u001b[0m unterminated string literal (detected at line 1)\n"
     ]
    }
   ],
   "source": [
    "my_string_4 = 'He likes Python\" # SyntaxError рядок повинен починатися і закінчуватися однаковими лапками\n",
    "print(my_string_4)"
   ]
  },
  {
   "cell_type": "code",
   "execution_count": 68,
   "metadata": {},
   "outputs": [
    {
     "name": "stdout",
     "output_type": "stream",
     "text": [
      "I 'like' Python\n",
      "I \"like\" Python\n",
      "I \"like\" Python\n",
      "Python\n",
      "\"\"is\"\"\n",
      "awesome\n",
      "\n"
     ]
    }
   ],
   "source": [
    "my_string_1 = \"I 'like' Python\" # Якщо потрібні одинарні лапки всередині рядка\n",
    "print(my_string_1)\n",
    "\n",
    "my_string_1 = 'I \"like\" Python' # Якщо потрібні подвійні лапки всередині рядка\n",
    "print(my_string_1)\n",
    "\n",
    "my_string_1 = \"I \\\"like\\\" Python\" # За допомогою слеша, можна екранувати лапки\n",
    "print(my_string_1)\n",
    "# Потрійні подвійні лапки використовуються тоді, коли потрібний текст із перенесенням рядків\n",
    "my_string = \"\"\"Python\n",
    "\"\"is\"\"\n",
    "awesome\n",
    "\"\"\"\n",
    "print(my_string)"
   ]
  },
  {
   "cell_type": "code",
   "execution_count": 69,
   "metadata": {},
   "outputs": [
    {
     "ename": "SyntaxError",
     "evalue": "unterminated string literal (detected at line 1) (2749700382.py, line 1)",
     "output_type": "error",
     "traceback": [
      "\u001b[1;36m  Cell \u001b[1;32mIn[69], line 1\u001b[1;36m\u001b[0m\n\u001b[1;33m    x = 'Hello'World' # SyntaxError\u001b[0m\n\u001b[1;37m                    ^\u001b[0m\n\u001b[1;31mSyntaxError\u001b[0m\u001b[1;31m:\u001b[0m unterminated string literal (detected at line 1)\n"
     ]
    }
   ],
   "source": [
    "x = 'Hello'World' # SyntaxError"
   ]
  },
  {
   "cell_type": "code",
   "execution_count": 70,
   "metadata": {},
   "outputs": [],
   "source": [
    "x = 'Hello\\'World'"
   ]
  },
  {
   "cell_type": "markdown",
   "metadata": {},
   "source": [
    "#### За допомогою функції str можна з будь-якого типу даних створити рядок"
   ]
  },
  {
   "cell_type": "code",
   "execution_count": 71,
   "metadata": {},
   "outputs": [
    {
     "name": "stdout",
     "output_type": "stream",
     "text": [
      "3654\n",
      "<class 'str'>\n"
     ]
    }
   ],
   "source": [
    "digits = str(3654)\n",
    "print(digits) # Виглядає як число, але це рядок\n",
    "print(type(digits))"
   ]
  },
  {
   "cell_type": "code",
   "execution_count": 72,
   "metadata": {},
   "outputs": [
    {
     "name": "stdout",
     "output_type": "stream",
     "text": [
      "<class 'int'>\n"
     ]
    }
   ],
   "source": [
    "# Коли рядок виглядає як ціле число, його можна перетворити саме до цілого числа за допомогою функції int\n",
    "digits = int(digits)  \n",
    "print(type(digits))"
   ]
  },
  {
   "cell_type": "code",
   "execution_count": 73,
   "metadata": {
    "pycharm": {
     "name": "#%%\n"
    },
    "scrolled": true
   },
   "outputs": [
    {
     "name": "stdout",
     "output_type": "stream",
     "text": [
      "['w', 4, 5.6]\n",
      "<class 'str'>\n"
     ]
    }
   ],
   "source": [
    "lst = str(['w', 4, 5.6])\n",
    "print(lst) # Виглядає як список, але це рядок\n",
    "print(type(lst))\n",
    "\n"
   ]
  },
  {
   "cell_type": "code",
   "execution_count": 74,
   "metadata": {},
   "outputs": [
    {
     "ename": "AttributeError",
     "evalue": "'str' object has no attribute 'append'",
     "output_type": "error",
     "traceback": [
      "\u001b[1;31m---------------------------------------------------------------------------\u001b[0m",
      "\u001b[1;31mAttributeError\u001b[0m                            Traceback (most recent call last)",
      "Cell \u001b[1;32mIn[74], line 1\u001b[0m\n\u001b[1;32m----> 1\u001b[0m \u001b[43mlst\u001b[49m\u001b[38;5;241;43m.\u001b[39;49m\u001b[43mappend\u001b[49m(\u001b[38;5;241m2\u001b[39m) \u001b[38;5;66;03m# AttributeError: 'str' object has no attribute 'append'\u001b[39;00m\n",
      "\u001b[1;31mAttributeError\u001b[0m: 'str' object has no attribute 'append'"
     ]
    }
   ],
   "source": [
    "lst.append(2) # AttributeError: 'str' object has no attribute 'append'"
   ]
  },
  {
   "cell_type": "markdown",
   "metadata": {},
   "source": [
    "**Стандартною функцією list, немає можливості з рядка, який виглядає як список, отримати саме список**"
   ]
  },
  {
   "cell_type": "code",
   "execution_count": 75,
   "metadata": {},
   "outputs": [
    {
     "data": {
      "text/plain": [
       "['[', \"'\", 'w', \"'\", ',', ' ', '4', ',', ' ', '5', '.', '6', ']']"
      ]
     },
     "execution_count": 75,
     "metadata": {},
     "output_type": "execute_result"
    }
   ],
   "source": [
    "list(lst)"
   ]
  },
  {
   "cell_type": "code",
   "execution_count": 76,
   "metadata": {},
   "outputs": [
    {
     "name": "stdout",
     "output_type": "stream",
     "text": [
      "Hello \n",
      "world\n",
      "140703448236304\n",
      "2773262045424\n"
     ]
    }
   ],
   "source": [
    "# Рядки, як і будь-який інший тип даних, спочатку зберігаються у пам'яті комп'ютера\n",
    "my_string = \"Hello \\nworld\"\n",
    "print(my_string)\n",
    "my_string = \"Python\"\n",
    "print(id(my_string))\n",
    "my_string = \"JavaScript\"\n",
    "print(id(my_string))"
   ]
  },
  {
   "cell_type": "markdown",
   "metadata": {},
   "source": [
    "## Рядки мають часткову функціональність списків.\n",
    "А саме:\n",
    "\n",
    "1) Як і списки, рядки можна складати.\n",
    "\n",
    "2) Як і списки, рядки можна множити на ціле число.\n",
    "\n",
    "3) Як і у разі списків, доступ до елемента рядка для читання можливий за індексом. Також працюють зрізи."
   ]
  },
  {
   "cell_type": "code",
   "execution_count": 77,
   "metadata": {},
   "outputs": [
    {
     "name": "stdout",
     "output_type": "stream",
     "text": [
      "Python is awesome!\n"
     ]
    }
   ],
   "source": [
    "my_string = \"Python \" + \"is\" + \" awesome!\"\n",
    "print(my_string)"
   ]
  },
  {
   "cell_type": "code",
   "execution_count": 78,
   "metadata": {},
   "outputs": [
    {
     "name": "stdout",
     "output_type": "stream",
     "text": [
      "GoGoGoGoGoGoGoGoGoGo\n"
     ]
    }
   ],
   "source": [
    "my_string = \"Go\" * 10\n",
    "print(my_string)"
   ]
  },
  {
   "cell_type": "code",
   "execution_count": 79,
   "metadata": {},
   "outputs": [
    {
     "name": "stdout",
     "output_type": "stream",
     "text": [
      "-----------------------------------\n"
     ]
    }
   ],
   "source": [
    "\n",
    "print('-' * 35)"
   ]
  },
  {
   "cell_type": "code",
   "execution_count": 80,
   "metadata": {},
   "outputs": [
    {
     "name": "stdout",
     "output_type": "stream",
     "text": [
      "6\n",
      "0\n",
      " \n",
      "1\n"
     ]
    }
   ],
   "source": [
    "# Отримання довжини рядка\n",
    "my_string = \"Python\"\n",
    "print(len(my_string))\n",
    "\n",
    "my_string = \"\"\n",
    "print(len(my_string))\n",
    "my_string = \" \"\n",
    "print(my_string)\n",
    "print(len(my_string))"
   ]
  },
  {
   "cell_type": "code",
   "execution_count": 81,
   "metadata": {},
   "outputs": [
    {
     "name": "stdout",
     "output_type": "stream",
     "text": [
      "1\n"
     ]
    }
   ],
   "source": [
    "print(len('\\n')) # 1 байт"
   ]
  },
  {
   "cell_type": "code",
   "execution_count": 82,
   "metadata": {
    "scrolled": true
   },
   "outputs": [
    {
     "name": "stdout",
     "output_type": "stream",
     "text": [
      "Python \n",
      "<class 'str'>\n",
      "2773300966048\n"
     ]
    }
   ],
   "source": [
    "my_string = \"Python \"\n",
    "print(my_string)\n",
    "print(type(my_string))\n",
    "print(id(my_string))"
   ]
  },
  {
   "cell_type": "code",
   "execution_count": 83,
   "metadata": {},
   "outputs": [
    {
     "name": "stdout",
     "output_type": "stream",
     "text": [
      "140703448236304\n"
     ]
    }
   ],
   "source": [
    "my_string = \"Python\"\n",
    "print(id(my_string))"
   ]
  },
  {
   "cell_type": "code",
   "execution_count": 84,
   "metadata": {},
   "outputs": [
    {
     "data": {
      "text/plain": [
       "False"
      ]
     },
     "execution_count": 84,
     "metadata": {},
     "output_type": "execute_result"
    }
   ],
   "source": [
    "\"Python \" == \"Python\""
   ]
  },
  {
   "cell_type": "code",
   "execution_count": 85,
   "metadata": {
    "pycharm": {
     "name": "#%%\n"
    }
   },
   "outputs": [
    {
     "name": "stdout",
     "output_type": "stream",
     "text": [
      "Python is awesome\n",
      "P\n",
      "y\n",
      "t\n",
      "h\n",
      "o\n",
      "n\n",
      " \n"
     ]
    }
   ],
   "source": [
    "# Доступ до елементів рядка за індексом\n",
    "my_string = \"Python is awesome\"\n",
    "print(my_string)\n",
    "print(my_string[0])\n",
    "print(my_string[1])\n",
    "print(my_string[2])\n",
    "print(my_string[3])\n",
    "print(my_string[4])\n",
    "print(my_string[5])\n",
    "print(my_string[6])"
   ]
  },
  {
   "cell_type": "code",
   "execution_count": 86,
   "metadata": {},
   "outputs": [
    {
     "ename": "IndexError",
     "evalue": "string index out of range",
     "output_type": "error",
     "traceback": [
      "\u001b[1;31m---------------------------------------------------------------------------\u001b[0m",
      "\u001b[1;31mIndexError\u001b[0m                                Traceback (most recent call last)",
      "Cell \u001b[1;32mIn[86], line 1\u001b[0m\n\u001b[1;32m----> 1\u001b[0m \u001b[38;5;28mprint\u001b[39m(\u001b[43mmy_string\u001b[49m\u001b[43m[\u001b[49m\u001b[38;5;241;43m17\u001b[39;49m\u001b[43m]\u001b[49m) \u001b[38;5;66;03m# error\u001b[39;00m\n",
      "\u001b[1;31mIndexError\u001b[0m: string index out of range"
     ]
    }
   ],
   "source": [
    "print(my_string[17]) # error"
   ]
  },
  {
   "cell_type": "code",
   "execution_count": 87,
   "metadata": {
    "pycharm": {
     "name": "#%%\n"
    }
   },
   "outputs": [
    {
     "name": "stdout",
     "output_type": "stream",
     "text": [
      "17\n",
      "e\n",
      "e\n",
      "m\n",
      "o\n",
      "s\n",
      "e\n",
      "w\n"
     ]
    }
   ],
   "source": [
    "# Доступ до елементів рядка за негативним індексом\n",
    "print(len(my_string))\n",
    "print(my_string[len(my_string) - 1])\n",
    "print(my_string[-1])\n",
    "print(my_string[-2])\n",
    "print(my_string[-3])\n",
    "print(my_string[-4])\n",
    "print(my_string[-5])\n",
    "print(my_string[-6])"
   ]
  },
  {
   "cell_type": "code",
   "execution_count": 88,
   "metadata": {
    "pycharm": {
     "name": "#%%\n"
    }
   },
   "outputs": [
    {
     "name": "stdout",
     "output_type": "stream",
     "text": [
      "Python\n",
      "is\n",
      "Python is awesome\n"
     ]
    }
   ],
   "source": [
    "# Зрізи працюють так само як і в списках, тільки в результаті ми отримуємо новий рядок\n",
    "my_string1 = \"Python is awesome\"\n",
    "my_string = my_string1[:6]\n",
    "print(my_string)\n",
    "my_string = my_string1[7:9]\n",
    "print(my_string)\n",
    "print(my_string1[:])"
   ]
  },
  {
   "cell_type": "code",
   "execution_count": 89,
   "metadata": {
    "pycharm": {
     "name": "#%%\n"
    }
   },
   "outputs": [
    {
     "name": "stdout",
     "output_type": "stream",
     "text": [
      "123456789\n",
      "13579\n",
      "987654321\n"
     ]
    }
   ],
   "source": [
    "my_string = \"123456789\"\n",
    "print(my_string)\n",
    "print(my_string[::2])\n",
    "print(my_string[::-1])"
   ]
  },
  {
   "cell_type": "markdown",
   "metadata": {},
   "source": [
    "#### Змінити символ за індексом НЕ МОЖНА! Рядки - незмінний тип"
   ]
  },
  {
   "cell_type": "code",
   "execution_count": 90,
   "metadata": {
    "pycharm": {
     "name": "#%%\n"
    }
   },
   "outputs": [
    {
     "ename": "TypeError",
     "evalue": "'str' object does not support item assignment",
     "output_type": "error",
     "traceback": [
      "\u001b[1;31m---------------------------------------------------------------------------\u001b[0m",
      "\u001b[1;31mTypeError\u001b[0m                                 Traceback (most recent call last)",
      "Cell \u001b[1;32mIn[90], line 1\u001b[0m\n\u001b[1;32m----> 1\u001b[0m \u001b[43mmy_string\u001b[49m\u001b[43m[\u001b[49m\u001b[38;5;241;43m6\u001b[39;49m\u001b[43m]\u001b[49m \u001b[38;5;241m=\u001b[39m \u001b[38;5;124m\"\u001b[39m\u001b[38;5;124mN\u001b[39m\u001b[38;5;124m\"\u001b[39m \u001b[38;5;66;03m# TypeError: 'str' object does not support item assignment\u001b[39;00m\n",
      "\u001b[1;31mTypeError\u001b[0m: 'str' object does not support item assignment"
     ]
    }
   ],
   "source": [
    "my_string[6] = \"N\" # TypeError: 'str' object does not support item assignment"
   ]
  },
  {
   "cell_type": "code",
   "execution_count": 91,
   "metadata": {},
   "outputs": [
    {
     "ename": "SyntaxError",
     "evalue": "invalid syntax (1734502144.py, line 5)",
     "output_type": "error",
     "traceback": [
      "\u001b[1;36m  Cell \u001b[1;32mIn[91], line 5\u001b[1;36m\u001b[0m\n\u001b[1;33m    як зібрати рядок зі списку? Про це буде далі\u001b[0m\n\u001b[1;37m       ^\u001b[0m\n\u001b[1;31mSyntaxError\u001b[0m\u001b[1;31m:\u001b[0m invalid syntax\n"
     ]
    }
   ],
   "source": [
    "# Можна схитрувати - зробити з рядка список і поміняти елемент там\n",
    "lst = list(my_string)\n",
    "lst[6] = \"N\"\n",
    "print(lst)\n",
    "як зібрати рядок зі списку? Про це буде далі "
   ]
  },
  {
   "cell_type": "code",
   "execution_count": 92,
   "metadata": {},
   "outputs": [
    {
     "name": "stdout",
     "output_type": "stream",
     "text": [
      "123456N89\n"
     ]
    }
   ],
   "source": [
    "# Або можна скористатися конкатенацією рядків, розділяючи рядок на потрібні фрагменти\n",
    "\n",
    "my_string = my_string[:6] + 'N' + my_string[7:]\n",
    "print(my_string)"
   ]
  },
  {
   "cell_type": "code",
   "execution_count": 93,
   "metadata": {},
   "outputs": [
    {
     "name": "stdout",
     "output_type": "stream",
     "text": [
      "p\n",
      "y\n",
      "t\n",
      "h\n",
      "o\n",
      "n\n"
     ]
    }
   ],
   "source": [
    "# Прохід по рядку за допомогою циклу for\n",
    "my_string = \"python\"\n",
    "for char in my_string:\n",
    "    print(char)"
   ]
  },
  {
   "cell_type": "code",
   "execution_count": 94,
   "metadata": {
    "scrolled": true
   },
   "outputs": [
    {
     "name": "stdout",
     "output_type": "stream",
     "text": [
      "True\n",
      "True\n"
     ]
    }
   ],
   "source": [
    "# Перевірка наявності підрядка у рядку\n",
    "my_string = \"I like Python\"\n",
    "print(\"lik\" in my_string)\n",
    "print(\"e\" in my_string)"
   ]
  },
  {
   "cell_type": "code",
   "execution_count": 95,
   "metadata": {},
   "outputs": [
    {
     "name": "stdout",
     "output_type": "stream",
     "text": [
      "False\n"
     ]
    }
   ],
   "source": [
    "print(\"liek\" in my_string)"
   ]
  },
  {
   "cell_type": "markdown",
   "metadata": {},
   "source": [
    "## Методи характерні для рядків."
   ]
  },
  {
   "cell_type": "markdown",
   "metadata": {
    "pycharm": {
     "name": "#%% md\n"
    }
   },
   "source": [
    "#### upper() Підвищує регістр символів"
   ]
  },
  {
   "cell_type": "code",
   "execution_count": 96,
   "metadata": {},
   "outputs": [
    {
     "name": "stdout",
     "output_type": "stream",
     "text": [
      "I LIKE PYTHON\n"
     ]
    }
   ],
   "source": [
    "my_string = \"I like Python\"\n",
    "my_string1 = my_string.upper() # Результат зберігаємо в іншій змінній\n",
    "print(my_string1)"
   ]
  },
  {
   "cell_type": "code",
   "execution_count": 97,
   "metadata": {},
   "outputs": [
    {
     "name": "stdout",
     "output_type": "stream",
     "text": [
      "I like Python\n"
     ]
    }
   ],
   "source": [
    "print(my_string) # Початкова змінна залишилася незмінною"
   ]
  },
  {
   "cell_type": "markdown",
   "metadata": {},
   "source": [
    "#### lower() Знижує регістр символів"
   ]
  },
  {
   "cell_type": "code",
   "execution_count": 98,
   "metadata": {
    "pycharm": {
     "name": "#%%\n"
    }
   },
   "outputs": [
    {
     "name": "stdout",
     "output_type": "stream",
     "text": [
      "i like python\n"
     ]
    },
    {
     "data": {
      "text/plain": [
       "' Yes, YES, yes, yEs'"
      ]
     },
     "execution_count": 98,
     "metadata": {},
     "output_type": "execute_result"
    }
   ],
   "source": [
    "my_string = my_string.lower()\n",
    "print(my_string)\n",
    "''' Yes, YES, yes, yEs'''"
   ]
  },
  {
   "cell_type": "code",
   "execution_count": 99,
   "metadata": {},
   "outputs": [
    {
     "data": {
      "text/plain": [
       "True"
      ]
     },
     "execution_count": 99,
     "metadata": {},
     "output_type": "execute_result"
    }
   ],
   "source": [
    "'yES'.lower() == 'yes'"
   ]
  },
  {
   "cell_type": "markdown",
   "metadata": {},
   "source": [
    "#### title() Першу літеру кожного слова переводить у верхній регістр, а решта в нижній"
   ]
  },
  {
   "cell_type": "code",
   "execution_count": 100,
   "metadata": {
    "pycharm": {
     "name": "#%%\n"
    }
   },
   "outputs": [
    {
     "name": "stdout",
     "output_type": "stream",
     "text": [
      "I Like Python\n"
     ]
    }
   ],
   "source": [
    "my_string = my_string.title()\n",
    "print(my_string)"
   ]
  },
  {
   "cell_type": "markdown",
   "metadata": {},
   "source": [
    "#### swapcase() Перекладає символи нижнього регістру у верхній, а верхнього у нижній"
   ]
  },
  {
   "cell_type": "code",
   "execution_count": 101,
   "metadata": {
    "pycharm": {
     "name": "#%%\n"
    }
   },
   "outputs": [
    {
     "name": "stdout",
     "output_type": "stream",
     "text": [
      "i lIKE pYTHON\n"
     ]
    }
   ],
   "source": [
    "my_string = my_string.swapcase()\n",
    "print(my_string)"
   ]
  },
  {
   "cell_type": "markdown",
   "metadata": {},
   "source": [
    "#### ljust(), rjust(), center() Робить довжину рядка не меншого width, за необхідності заповнюючи останні (перші) символи символом fillchar"
   ]
  },
  {
   "cell_type": "code",
   "execution_count": 102,
   "metadata": {
    "scrolled": true
   },
   "outputs": [
    {
     "name": "stdout",
     "output_type": "stream",
     "text": [
      "|i lIKE pYTHON*******|\n",
      "|       i lIKE pYTHON|\n",
      "|---i lIKE pYTHON----|\n"
     ]
    }
   ],
   "source": [
    "print('|', my_string.ljust(20, \"*\"), '|', sep='') # вирівнювання по лівому краю\n",
    "print('|', my_string.rjust(20), '|', sep='') # вирівнювання з правого краю\n",
    "print('|', my_string.center(20, \"-\"), '|', sep='') # вирівнювання по центру"
   ]
  },
  {
   "cell_type": "code",
   "execution_count": 103,
   "metadata": {
    "scrolled": true
   },
   "outputs": [
    {
     "name": "stdout",
     "output_type": "stream",
     "text": [
      "1 2 3\n",
      "123\n"
     ]
    }
   ],
   "source": [
    " # нагадування про атрибут sep\n",
    "print(1,2,3)\n",
    "print(1, 2, 3, sep='')"
   ]
  },
  {
   "cell_type": "markdown",
   "metadata": {},
   "source": [
    "#### replace() замінити в рядку один підрядок на інший"
   ]
  },
  {
   "cell_type": "code",
   "execution_count": 104,
   "metadata": {
    "scrolled": true
   },
   "outputs": [
    {
     "name": "stdout",
     "output_type": "stream",
     "text": [
      "I like PHP, PHP, PHP,\n"
     ]
    }
   ],
   "source": [
    "my_string = \"I like PHP, PHP, PHP,\"\n",
    "print(my_string)"
   ]
  },
  {
   "cell_type": "code",
   "execution_count": 105,
   "metadata": {
    "pycharm": {
     "name": "#%%\n"
    }
   },
   "outputs": [
    {
     "name": "stdout",
     "output_type": "stream",
     "text": [
      "I like Python! Python! Python!\n",
      "I like PHP, PHP, PHP,\n"
     ]
    }
   ],
   "source": [
    "my_string1 = my_string.replace(\"PHP\", \"Python\").replace(',', '!') # можна вказувати кілька методів поспіль\n",
    "print(my_string1)\n",
    "print(my_string) # оригінальний рядок не змінився\n"
   ]
  },
  {
   "cell_type": "code",
   "execution_count": 106,
   "metadata": {},
   "outputs": [
    {
     "name": "stdout",
     "output_type": "stream",
     "text": [
      "I like Python, PHP, PHP,\n"
     ]
    }
   ],
   "source": [
    "my_string = \"I like PHP, PHP, PHP,\"\n",
    "my_string1 = my_string.replace(\"PHP\", \"Python\", 1) # можна замінити не все, а лише певну кількість\n",
    "print(my_string1)"
   ]
  },
  {
   "cell_type": "code",
   "execution_count": 107,
   "metadata": {},
   "outputs": [
    {
     "name": "stdout",
     "output_type": "stream",
     "text": [
      "I like PHP, PHP, PHP,\n"
     ]
    }
   ],
   "source": [
    "my_string1 = my_string.replace('****', '////') # якщо у рядку немає такого символу, то помилки все одно не буде!\n",
    "print(my_string1)\n"
   ]
  },
  {
   "cell_type": "markdown",
   "metadata": {},
   "source": [
    "#### split() розбити рядок на підрядки. В результаті ми отримаємо список\n"
   ]
  },
  {
   "cell_type": "code",
   "execution_count": 108,
   "metadata": {
    "scrolled": true
   },
   "outputs": [
    {
     "name": "stdout",
     "output_type": "stream",
     "text": [
      "I like   Python\n",
      "['I', 'like', 'Python']\n"
     ]
    }
   ],
   "source": [
    "\n",
    "my_string = \"I like   Python\"\n",
    "lst = my_string.split() # за замовчуванням, розбиття відбувається за пробілом та/або перенесенням рядка\n",
    "print(my_string)\n",
    "print(lst)"
   ]
  },
  {
   "cell_type": "code",
   "execution_count": 109,
   "metadata": {},
   "outputs": [
    {
     "name": "stdout",
     "output_type": "stream",
     "text": [
      "['I l', 'ke Python']\n"
     ]
    }
   ],
   "source": [
    "my_string = \"I like Python\"\n",
    "lst = my_string.split('i')\n",
    "print(lst)"
   ]
  },
  {
   "cell_type": "code",
   "execution_count": 110,
   "metadata": {},
   "outputs": [
    {
     "name": "stdout",
     "output_type": "stream",
     "text": [
      "['', ' like Python']\n"
     ]
    }
   ],
   "source": [
    "my_string = \"I like Python\"\n",
    "lst = my_string.split('I')\n",
    "print(lst)"
   ]
  },
  {
   "cell_type": "code",
   "execution_count": 111,
   "metadata": {},
   "outputs": [
    {
     "name": "stdout",
     "output_type": "stream",
     "text": [
      "I like Python\n",
      "['I like Python']\n"
     ]
    }
   ],
   "source": [
    "# Якщо в рядку немає символу, за яким потрібно зробити розбиття, ми все одно отримаємо список, \n",
    "#  і в ньому буде лише один елемент у вигляді початкового рядка.\n",
    "lst = my_string.split('w')\n",
    "print(my_string)\n",
    "print(lst)"
   ]
  },
  {
   "cell_type": "code",
   "execution_count": 112,
   "metadata": {},
   "outputs": [
    {
     "name": "stdout",
     "output_type": "stream",
     "text": [
      "['']\n"
     ]
    }
   ],
   "source": [
    "lst = ''.split('7') # порожній список\n",
    "print(lst)"
   ]
  },
  {
   "cell_type": "code",
   "execution_count": 113,
   "metadata": {
    "pycharm": {
     "name": "#%%\n"
    }
   },
   "outputs": [
    {
     "name": "stdout",
     "output_type": "stream",
     "text": [
      " I like    Python \n",
      "['', 'I', 'like', '', '', '', 'Python', '']\n"
     ]
    }
   ],
   "source": [
    "my_string = \" I like    Python \"\n",
    "lst = my_string.split(' ') # Вказувати прогалину в явному вигляді, не найкраща ідея\n",
    "print(my_string)\n",
    "print(lst)"
   ]
  },
  {
   "cell_type": "code",
   "execution_count": 114,
   "metadata": {},
   "outputs": [
    {
     "name": "stdout",
     "output_type": "stream",
     "text": [
      " I like    Python \n",
      "['I', 'like', 'Python']\n"
     ]
    }
   ],
   "source": [
    "my_string = \" I like    Python \"\n",
    "lst = my_string.split() # not empty elements\n",
    "print(my_string)\n",
    "print(lst)"
   ]
  },
  {
   "cell_type": "code",
   "execution_count": 115,
   "metadata": {},
   "outputs": [
    {
     "name": "stdout",
     "output_type": "stream",
     "text": [
      "['I', 'like', 'Python']\n"
     ]
    }
   ],
   "source": [
    "my_string = \"\"\" I like\n",
    "Python \"\"\"\n",
    "lst = my_string.split() # not empty elements\n",
    "\n",
    "print(lst)"
   ]
  },
  {
   "cell_type": "code",
   "execution_count": 116,
   "metadata": {},
   "outputs": [
    {
     "name": "stdout",
     "output_type": "stream",
     "text": [
      "['I', 'like', 'Python']\n"
     ]
    }
   ],
   "source": [
    "my_string = \" I like \\nPython \"\n",
    "lst = my_string.split()\n",
    "print(lst)"
   ]
  },
  {
   "cell_type": "code",
   "execution_count": 117,
   "metadata": {
    "scrolled": true
   },
   "outputs": [
    {
     "name": "stdout",
     "output_type": "stream",
     "text": [
      "False\n"
     ]
    }
   ],
   "source": [
    "print('lik' in lst) # пошук точно такого ж елемента"
   ]
  },
  {
   "cell_type": "code",
   "execution_count": 118,
   "metadata": {},
   "outputs": [
    {
     "name": "stdout",
     "output_type": "stream",
     "text": [
      "True\n"
     ]
    }
   ],
   "source": [
    "print('lik' in \" I like \\nPython \") # Пошук збігу такої послідовності символів"
   ]
  },
  {
   "cell_type": "markdown",
   "metadata": {},
   "source": [
    "#### join() Повертає рядок, зібраний з елементів зазначеного об'єкта, що підтримує ітерування."
   ]
  },
  {
   "cell_type": "code",
   "execution_count": 119,
   "metadata": {},
   "outputs": [
    {
     "name": "stdout",
     "output_type": "stream",
     "text": [
      "I like Python\n"
     ]
    }
   ],
   "source": [
    "my_lst = ['I', 'like', 'Python']\n",
    "_string = \" \".join(my_lst) # пробіл, як символ для з'єднання елементів зі списку\n",
    "print(_string)\n",
    "\n"
   ]
  },
  {
   "cell_type": "code",
   "execution_count": 120,
   "metadata": {},
   "outputs": [
    {
     "name": "stdout",
     "output_type": "stream",
     "text": [
      "I like Python\n"
     ]
    }
   ],
   "source": [
    "#lst = list(\"I like Python\")\n",
    "my_str = \"I like Python\" # рядок, це також об'єкт, що ітерується.\n",
    "\n",
    "_string = \"\".join(my_str)\n",
    "print(_string)"
   ]
  },
  {
   "cell_type": "code",
   "execution_count": 121,
   "metadata": {
    "scrolled": true
   },
   "outputs": [
    {
     "name": "stdout",
     "output_type": "stream",
     "text": [
      "I- -l-i-k-e- -P-y-t-h-o-n\n"
     ]
    }
   ],
   "source": [
    "string = \"-\".join(_string)\n",
    "print(string)"
   ]
  },
  {
   "cell_type": "markdown",
   "metadata": {},
   "source": [
    "##### символ для з'єднання буде додаватися лише між елементами"
   ]
  },
  {
   "cell_type": "code",
   "execution_count": 122,
   "metadata": {
    "scrolled": true
   },
   "outputs": [
    {
     "name": "stdout",
     "output_type": "stream",
     "text": [
      "t\n",
      "t-t\n"
     ]
    }
   ],
   "source": [
    "string = \"-\".join('t')\n",
    "print(string)\n",
    "string = \"-\".join('tt')\n",
    "print(string)"
   ]
  },
  {
   "cell_type": "code",
   "execution_count": 123,
   "metadata": {},
   "outputs": [
    {
     "name": "stdout",
     "output_type": "stream",
     "text": [
      "123456N89\n"
     ]
    }
   ],
   "source": [
    "# варіант того, як можна зібрати рядок із елементів списку\n",
    "lst = list(\"123456789\")\n",
    "lst[6] = \"N\"\n",
    "print(\"\".join(lst))"
   ]
  },
  {
   "cell_type": "code",
   "execution_count": 124,
   "metadata": {
    "scrolled": true
   },
   "outputs": [
    {
     "name": "stdout",
     "output_type": "stream",
     "text": [
      "I like Python\n",
      "I- -l-i-k-e- -P-y-t-h-o-n\n"
     ]
    }
   ],
   "source": [
    "my_string = \"I \" + \"like\" + \" Python\"\n",
    "print(my_string)\n",
    "\n",
    "my_string = \"-\".join(my_string)\n",
    "print(my_string)"
   ]
  },
  {
   "cell_type": "code",
   "execution_count": 125,
   "metadata": {
    "scrolled": true
   },
   "outputs": [
    {
     "ename": "TypeError",
     "evalue": "sequence item 0: expected str instance, int found",
     "output_type": "error",
     "traceback": [
      "\u001b[1;31m---------------------------------------------------------------------------\u001b[0m",
      "\u001b[1;31mTypeError\u001b[0m                                 Traceback (most recent call last)",
      "Cell \u001b[1;32mIn[125], line 2\u001b[0m\n\u001b[0;32m      1\u001b[0m lst \u001b[38;5;241m=\u001b[39m [\u001b[38;5;241m2\u001b[39m, \u001b[38;5;241m3\u001b[39m, \u001b[38;5;241m5\u001b[39m] \u001b[38;5;66;03m# join працює тільки з типом даних \"рядок\"\u001b[39;00m\n\u001b[1;32m----> 2\u001b[0m \u001b[38;5;28mprint\u001b[39m(\u001b[38;5;124;43m\"\u001b[39;49m\u001b[38;5;124;43m\"\u001b[39;49m\u001b[38;5;241;43m.\u001b[39;49m\u001b[43mjoin\u001b[49m\u001b[43m(\u001b[49m\u001b[43mlst\u001b[49m\u001b[43m)\u001b[49m)\n",
      "\u001b[1;31mTypeError\u001b[0m: sequence item 0: expected str instance, int found"
     ]
    }
   ],
   "source": [
    "lst = [2, 3, 5] # join працює тільки з типом даних \"рядок\"\n",
    "print(\"\".join(lst))"
   ]
  },
  {
   "cell_type": "code",
   "execution_count": 126,
   "metadata": {},
   "outputs": [
    {
     "name": "stdout",
     "output_type": "stream",
     "text": [
      "235\n",
      "<class 'str'>\n"
     ]
    }
   ],
   "source": [
    "x = \"\".join([str(y) for y in lst]) # варіант того, як можна \"на льоту\" перевести число в рядок\n",
    "print(x)\n",
    "print(type(x))"
   ]
  },
  {
   "cell_type": "code",
   "execution_count": 127,
   "metadata": {},
   "outputs": [
    {
     "name": "stdout",
     "output_type": "stream",
     "text": [
      "<class 'int'>\n",
      "235\n"
     ]
    }
   ],
   "source": [
    "x = int(x) # з цифр у списку ми \"склеїли\" число\n",
    "print(type(x))\n",
    "print(x)"
   ]
  },
  {
   "cell_type": "markdown",
   "metadata": {},
   "source": [
    "#### strip() Повертає копію рядка, з обох кінців якого усунуті зазначені символи. За замовчуванням забираються пробіли"
   ]
  },
  {
   "cell_type": "code",
   "execution_count": 128,
   "metadata": {},
   "outputs": [
    {
     "name": "stdout",
     "output_type": "stream",
     "text": [
      "   I like Python!          \n"
     ]
    }
   ],
   "source": [
    "my_string = \"   I like Python!          \"\n",
    "print(my_string)"
   ]
  },
  {
   "cell_type": "code",
   "execution_count": 129,
   "metadata": {},
   "outputs": [
    {
     "name": "stdout",
     "output_type": "stream",
     "text": [
      "I like Python!\n"
     ]
    }
   ],
   "source": [
    "my_string = my_string.strip()\n",
    "print(my_string)"
   ]
  },
  {
   "cell_type": "code",
   "execution_count": 130,
   "metadata": {},
   "outputs": [
    {
     "name": "stdout",
     "output_type": "stream",
     "text": [
      "I like Python\n"
     ]
    }
   ],
   "source": [
    "my_string = my_string.strip(\"!\")\n",
    "print(my_string)"
   ]
  },
  {
   "cell_type": "code",
   "execution_count": 131,
   "metadata": {
    "pycharm": {
     "name": "#%%\n"
    }
   },
   "outputs": [
    {
     "name": "stdout",
     "output_type": "stream",
     "text": [
      "I like Python! \n"
     ]
    }
   ],
   "source": [
    "my_string = \"I like Python! \"\n",
    "my_string = my_string.strip(\"!\") # does not work\n",
    "print(my_string)"
   ]
  },
  {
   "cell_type": "code",
   "execution_count": 132,
   "metadata": {},
   "outputs": [
    {
     "name": "stdout",
     "output_type": "stream",
     "text": [
      "@I like Python!\n",
      "I like Python!\n",
      "I like Python\n"
     ]
    }
   ],
   "source": [
    "my_string = \"@I like Python!\"\n",
    "print(my_string)\n",
    "my_string = my_string.lstrip(\"@\") # lstrip прибирає зліва\n",
    "print(my_string)\n",
    "my_string = my_string.rstrip(\"!\") # rstrip прибирає праворуч\n",
    "print(my_string)"
   ]
  },
  {
   "cell_type": "code",
   "execution_count": 133,
   "metadata": {},
   "outputs": [
    {
     "name": "stdout",
     "output_type": "stream",
     "text": [
      "I lIke Python\n"
     ]
    }
   ],
   "source": [
    "my_string = \"   I like Python!          \"\n",
    "my_string = my_string.strip().strip(\"!\").replace('i', 'I')\n",
    "print(my_string)"
   ]
  },
  {
   "cell_type": "markdown",
   "metadata": {
    "pycharm": {
     "name": "#%% md\n"
    }
   },
   "source": [
    "#### Форматування рядків"
   ]
  },
  {
   "cell_type": "code",
   "execution_count": 134,
   "metadata": {},
   "outputs": [
    {
     "name": "stdout",
     "output_type": "stream",
     "text": [
      "Привіт Алекс!\n"
     ]
    }
   ],
   "source": [
    "my_string = \"Привіт \"\n",
    "name = \"Алекс\"\n",
    "print(my_string + name + '!') # Найпростіший варіант - конкатенація рядків"
   ]
  },
  {
   "cell_type": "code",
   "execution_count": 135,
   "metadata": {
    "scrolled": true
   },
   "outputs": [
    {
     "name": "stdout",
     "output_type": "stream",
     "text": [
      "Привіт Алекс! Алекс ти як?\n"
     ]
    }
   ],
   "source": [
    "name = \"Алекс\"\n",
    "my_string = \"Привіт %s! %s ти як?\"\n",
    "print(my_string % (name, name)) #За допомогою модифікатора %"
   ]
  },
  {
   "cell_type": "code",
   "execution_count": 136,
   "metadata": {
    "pycharm": {
     "name": "#%%\n"
    }
   },
   "outputs": [
    {
     "ename": "TypeError",
     "evalue": "%d format: a real number is required, not str",
     "output_type": "error",
     "traceback": [
      "\u001b[1;31m---------------------------------------------------------------------------\u001b[0m",
      "\u001b[1;31mTypeError\u001b[0m                                 Traceback (most recent call last)",
      "Cell \u001b[1;32mIn[136], line 3\u001b[0m\n\u001b[0;32m      1\u001b[0m age \u001b[38;5;241m=\u001b[39m \u001b[38;5;124m'\u001b[39m\u001b[38;5;124m25\u001b[39m\u001b[38;5;124m'\u001b[39m\n\u001b[0;32m      2\u001b[0m my_string \u001b[38;5;241m=\u001b[39m \u001b[38;5;124m\"\u001b[39m\u001b[38;5;124mПривіт \u001b[39m\u001b[38;5;132;01m%d\u001b[39;00m\u001b[38;5;124m\"\u001b[39m \u001b[38;5;66;03m# TypeError: %d format: a number is required, not str\u001b[39;00m\n\u001b[1;32m----> 3\u001b[0m \u001b[38;5;28mprint\u001b[39m(\u001b[43mmy_string\u001b[49m\u001b[43m \u001b[49m\u001b[38;5;241;43m%\u001b[39;49m\u001b[43m \u001b[49m\u001b[43mage\u001b[49m)\n",
      "\u001b[1;31mTypeError\u001b[0m: %d format: a real number is required, not str"
     ]
    }
   ],
   "source": [
    "age = '25'\n",
    "my_string = \"Привіт %d\" # TypeError: %d format: a number is required, not str\n",
    "print(my_string % age)"
   ]
  },
  {
   "cell_type": "code",
   "execution_count": 137,
   "metadata": {},
   "outputs": [
    {
     "name": "stdout",
     "output_type": "stream",
     "text": [
      "Привіт 25\n"
     ]
    }
   ],
   "source": [
    "age = 25\n",
    "my_string = \"Привіт %s\" \n",
    "print(my_string % age)"
   ]
  },
  {
   "cell_type": "code",
   "execution_count": 138,
   "metadata": {},
   "outputs": [
    {
     "name": "stdout",
     "output_type": "stream",
     "text": [
      "Привіт Ана\n"
     ]
    }
   ],
   "source": [
    "name = \"Ана\"\n",
    "my_string = \"Привіт {}\"\n",
    "\n",
    "print(my_string.format(name)) #За допомогою методу format\n"
   ]
  },
  {
   "cell_type": "code",
   "execution_count": 139,
   "metadata": {},
   "outputs": [
    {
     "name": "stdout",
     "output_type": "stream",
     "text": [
      "Hello, I am Alexander. And my name is Alexander\n"
     ]
    }
   ],
   "source": [
    "tmplt = \"Hello, I am {0}. And my name is {0}\" #У фігурних дужках можна вказувати місце розташування потрібного аргументу\n",
    "text = tmplt.format(\"Alexander\")\n",
    "print(text)"
   ]
  },
  {
   "cell_type": "markdown",
   "metadata": {},
   "source": [
    "##### Якщо нічого не вказано, то аргументи підставляються у відповідність до розташування - для перших дужок відповідає перший аргумент, для других - другий, і т.д. Так зазначаються позиційні аргументи."
   ]
  },
  {
   "cell_type": "code",
   "execution_count": 140,
   "metadata": {},
   "outputs": [
    {
     "name": "stdout",
     "output_type": "stream",
     "text": [
      "Hello, I am Alexander. I am 36 years old\n"
     ]
    }
   ],
   "source": [
    "text = \"Hello, I am {}. I am {} years old\".format(\"Alexander\", 36)\n",
    "print(text)"
   ]
  },
  {
   "cell_type": "code",
   "execution_count": 141,
   "metadata": {
    "scrolled": true
   },
   "outputs": [
    {
     "name": "stdout",
     "output_type": "stream",
     "text": [
      "Hello, I am 36. I am Alexander years old\n"
     ]
    }
   ],
   "source": [
    "text = \"Hello, I am {}. I am {} years old\".format(36, \"Alexander\")\n",
    "print(text)"
   ]
  },
  {
   "cell_type": "markdown",
   "metadata": {},
   "source": [
    "##### У фігурних дужках можна вказати ім'я, яке надалі має бути вказане у методі формат. Так зазначаються іменовані аргументи."
   ]
  },
  {
   "cell_type": "code",
   "execution_count": 142,
   "metadata": {
    "pycharm": {
     "name": "#%%\n"
    }
   },
   "outputs": [
    {
     "name": "stdout",
     "output_type": "stream",
     "text": [
      "Привіт Ана!\n"
     ]
    }
   ],
   "source": [
    "name1 = \"Ана\"\n",
    "tmp = \"Привіт {name}{important}\"\n",
    "my_string = tmp.format(important=\"!\", name=name1)\n",
    "print(my_string)"
   ]
  },
  {
   "cell_type": "code",
   "execution_count": 143,
   "metadata": {},
   "outputs": [
    {
     "ename": "KeyError",
     "evalue": "'name'",
     "output_type": "error",
     "traceback": [
      "\u001b[1;31m---------------------------------------------------------------------------\u001b[0m",
      "\u001b[1;31mKeyError\u001b[0m                                  Traceback (most recent call last)",
      "Cell \u001b[1;32mIn[143], line 4\u001b[0m\n\u001b[0;32m      2\u001b[0m tmp \u001b[38;5;241m=\u001b[39m \u001b[38;5;124m\"\u001b[39m\u001b[38;5;124mПривіт \u001b[39m\u001b[38;5;132;01m{name}\u001b[39;00m\u001b[38;5;132;01m{important}\u001b[39;00m\u001b[38;5;124m\"\u001b[39m\n\u001b[0;32m      3\u001b[0m \u001b[38;5;66;03m# Якщо у фігурних дужках є імена, а методі не вказати іменовані аргументи, буде помилка KeyError \u001b[39;00m\n\u001b[1;32m----> 4\u001b[0m my_string \u001b[38;5;241m=\u001b[39m \u001b[43mtmp\u001b[49m\u001b[38;5;241;43m.\u001b[39;49m\u001b[43mformat\u001b[49m\u001b[43m(\u001b[49m\u001b[43mname1\u001b[49m\u001b[43m,\u001b[49m\u001b[43m \u001b[49m\u001b[38;5;124;43m\"\u001b[39;49m\u001b[38;5;124;43m!\u001b[39;49m\u001b[38;5;124;43m\"\u001b[39;49m\u001b[43m)\u001b[49m\n\u001b[0;32m      5\u001b[0m \u001b[38;5;28mprint\u001b[39m(my_string)\n",
      "\u001b[1;31mKeyError\u001b[0m: 'name'"
     ]
    }
   ],
   "source": [
    "name1 = \"Ана\"\n",
    "tmp = \"Привіт {name}{important}\"\n",
    "# Якщо у фігурних дужках є імена, а методі не вказати іменовані аргументи, буде помилка KeyError \n",
    "my_string = tmp.format(name1, \"!\")\n",
    "print(my_string)"
   ]
  },
  {
   "cell_type": "code",
   "execution_count": 144,
   "metadata": {},
   "outputs": [
    {
     "name": "stdout",
     "output_type": "stream",
     "text": [
      "Hello, I am Alexander. I am 36 years old\n",
      "Hello, I am Alexander. I am 36 years old\n"
     ]
    }
   ],
   "source": [
    "text = \"Hello, I am {name}. I am {age} years old\"\n",
    "#Місце розташування іменованих аргументів, значення не має\n",
    "print(text.format(name=\"Alexander\", age=36))\n",
    "print(text.format(age=36, name=\"Alexander\"))"
   ]
  },
  {
   "cell_type": "code",
   "execution_count": 145,
   "metadata": {},
   "outputs": [],
   "source": [
    "text = \"Hello, I am {1}. I am {0} years old\".format(36, \"Alexander\", 23)"
   ]
  },
  {
   "cell_type": "code",
   "execution_count": 146,
   "metadata": {},
   "outputs": [
    {
     "name": "stdout",
     "output_type": "stream",
     "text": [
      "Hello, I am Alexander. I am 36 years old\n"
     ]
    }
   ],
   "source": [
    "text = \"Hello, I am {name}. I am {age} years old\"\n",
    "# Якщо аргументів буде більше, ніж потрібно, то це ні на що не вплине\n",
    "print(text.format(age=36, name=\"Alexander\", x=10)) "
   ]
  },
  {
   "cell_type": "markdown",
   "metadata": {},
   "source": [
    "#### f-рядки"
   ]
  },
  {
   "cell_type": "code",
   "execution_count": 147,
   "metadata": {
    "pycharm": {
     "name": "#%%\n"
    }
   },
   "outputs": [
    {
     "name": "stdout",
     "output_type": "stream",
     "text": [
      "Привіт Алекс!\n"
     ]
    }
   ],
   "source": [
    "name = \"Алекс\"\n",
    "my_string = f\"Привіт {name}!\"\n",
    "print(my_string)"
   ]
  },
  {
   "cell_type": "code",
   "execution_count": 148,
   "metadata": {},
   "outputs": [
    {
     "ename": "NameError",
     "evalue": "name 'name2' is not defined",
     "output_type": "error",
     "traceback": [
      "\u001b[1;31m---------------------------------------------------------------------------\u001b[0m",
      "\u001b[1;31mNameError\u001b[0m                                 Traceback (most recent call last)",
      "Cell \u001b[1;32mIn[148], line 1\u001b[0m\n\u001b[1;32m----> 1\u001b[0m my_string \u001b[38;5;241m=\u001b[39m \u001b[38;5;124mf\u001b[39m\u001b[38;5;124m\"\u001b[39m\u001b[38;5;124mПривіт \u001b[39m\u001b[38;5;132;01m{\u001b[39;00m\u001b[43mname2\u001b[49m\u001b[38;5;132;01m}\u001b[39;00m\u001b[38;5;124m!\u001b[39m\u001b[38;5;124m\"\u001b[39m\n\u001b[0;32m      2\u001b[0m name2 \u001b[38;5;241m=\u001b[39m \u001b[38;5;124m\"\u001b[39m\u001b[38;5;124mПетро\u001b[39m\u001b[38;5;124m\"\u001b[39m\n\u001b[0;32m      3\u001b[0m \u001b[38;5;28mprint\u001b[39m(my_string)\n",
      "\u001b[1;31mNameError\u001b[0m: name 'name2' is not defined"
     ]
    }
   ],
   "source": [
    "\n",
    "my_string = f\"Привіт {name2}!\"\n",
    "name2 = \"Петро\"\n",
    "print(my_string)"
   ]
  },
  {
   "cell_type": "code",
   "execution_count": 149,
   "metadata": {},
   "outputs": [
    {
     "name": "stdout",
     "output_type": "stream",
     "text": [
      "Привіт АЛЕКС, АнаВлад, влад!\n"
     ]
    }
   ],
   "source": [
    "name_1 = \"Ана\"\n",
    "name_2 = \"Влад\"\n",
    "my_string = f\"Привіт {name.upper()}, {name_1 + name_2}, {name_2.lower()}!\"\n",
    "print(my_string)"
   ]
  },
  {
   "cell_type": "code",
   "execution_count": 150,
   "metadata": {},
   "outputs": [
    {
     "name": "stdout",
     "output_type": "stream",
     "text": [
      "3.141592653589793\n",
      "Pi = 3.1416\n"
     ]
    }
   ],
   "source": [
    "# Приклад використання специфікатора формату для заокруглення речового числа\n",
    "import math\n",
    "print(math.pi)\n",
    "text = \"Pi = {:.4f}\".format(math.pi)\n",
    "print(text)"
   ]
  },
  {
   "cell_type": "markdown",
   "metadata": {},
   "source": [
    "При форматуванні числа в рядок можна встановити паддинг - заповнення нулями до потрібної довжини."
   ]
  },
  {
   "cell_type": "code",
   "execution_count": 151,
   "metadata": {},
   "outputs": [
    {
     "data": {
      "text/plain": [
       "'namefhfhfhfhfh00215'"
      ]
     },
     "execution_count": 151,
     "metadata": {},
     "output_type": "execute_result"
    }
   ],
   "source": [
    "'{}fhfhfhfhfh{:05d}'.format('name', 215)"
   ]
  },
  {
   "cell_type": "markdown",
   "metadata": {},
   "source": [
    "А якщо паддинг теж заданий змінної? У такому разі ми можемо додати форматування цієї змінної всередині першого формату. Порядок змінних слід вказувати в порядку поява дужки, що відкривається."
   ]
  },
  {
   "cell_type": "code",
   "execution_count": 152,
   "metadata": {},
   "outputs": [
    {
     "data": {
      "text/plain": [
       "'some string_v000215'"
      ]
     },
     "execution_count": 152,
     "metadata": {},
     "output_type": "execute_result"
    }
   ],
   "source": [
    "'{}_v{:0{}d}'.format('some string', 215, 6)"
   ]
  },
  {
   "cell_type": "code",
   "execution_count": 153,
   "metadata": {},
   "outputs": [
    {
     "data": {
      "text/plain": [
       "'some string_v00001'"
      ]
     },
     "execution_count": 153,
     "metadata": {},
     "output_type": "execute_result"
    }
   ],
   "source": [
    "# З іменами змінних більш зрозуміло\n",
    "'{name}_v{val:0{dgt}d}'.format(name='some string', val=1, dgt=5)"
   ]
  },
  {
   "cell_type": "code",
   "execution_count": 154,
   "metadata": {},
   "outputs": [
    {
     "name": "stdout",
     "output_type": "stream",
     "text": [
      "The Zen of Python, by Tim Peters\n",
      "\n",
      "Beautiful is better than ugly.\n",
      "Explicit is better than implicit.\n",
      "Simple is better than complex.\n",
      "Complex is better than complicated.\n",
      "Flat is better than nested.\n",
      "Sparse is better than dense.\n",
      "Readability counts.\n",
      "Special cases aren't special enough to break the rules.\n",
      "Although practicality beats purity.\n",
      "Errors should never pass silently.\n",
      "Unless explicitly silenced.\n",
      "In the face of ambiguity, refuse the temptation to guess.\n",
      "There should be one-- and preferably only one --obvious way to do it.\n",
      "Although that way may not be obvious at first unless you're Dutch.\n",
      "Now is better than never.\n",
      "Although never is often better than *right* now.\n",
      "If the implementation is hard to explain, it's a bad idea.\n",
      "If the implementation is easy to explain, it may be a good idea.\n",
      "Namespaces are one honking great idea -- let's do more of those!\n"
     ]
    }
   ],
   "source": [
    "# Філософія Пайтон\n",
    "import this\n"
   ]
  },
  {
   "cell_type": "markdown",
   "metadata": {},
   "source": [
    "#### find() Повертає найменший індекс, за яким виявляється початок зазначеної підрядки у вихідному."
   ]
  },
  {
   "cell_type": "code",
   "execution_count": 208,
   "metadata": {},
   "outputs": [
    {
     "name": "stdout",
     "output_type": "stream",
     "text": [
      "0\n",
      "3\n"
     ]
    }
   ],
   "source": [
    "my_string = \"Beautiful is better than ugly\"\n",
    "ind = my_string.find('e')\n",
    "print(ind)\n",
    "print(my_string.count('e')) # повертає кількість входжень підрядка sub в діапазоні [start, end]\n",
    "\n"
   ]
  },
  {
   "cell_type": "code",
   "execution_count": 156,
   "metadata": {},
   "outputs": [
    {
     "name": "stdout",
     "output_type": "stream",
     "text": [
      "14\n",
      "17\n"
     ]
    }
   ],
   "source": [
    "ind = my_string.find('e', ind + 1) # Пошук індексу наступного елемента\n",
    "print(ind)\n",
    "print(my_string.find('e', ind + 1))"
   ]
  },
  {
   "cell_type": "markdown",
   "metadata": {},
   "source": [
    "##### Якщо елемента більше немає в рядку, то помилки не буде!"
   ]
  },
  {
   "cell_type": "code",
   "execution_count": 157,
   "metadata": {},
   "outputs": [
    {
     "name": "stdout",
     "output_type": "stream",
     "text": [
      "-1\n"
     ]
    }
   ],
   "source": [
    "print(my_string.find('e', 20))"
   ]
  },
  {
   "cell_type": "code",
   "execution_count": 158,
   "metadata": {
    "scrolled": true
   },
   "outputs": [
    {
     "name": "stdout",
     "output_type": "stream",
     "text": [
      "-1\n"
     ]
    }
   ],
   "source": [
    "print(my_string.find('!'))"
   ]
  },
  {
   "cell_type": "code",
   "execution_count": 159,
   "metadata": {},
   "outputs": [
    {
     "name": "stdout",
     "output_type": "stream",
     "text": [
      "0\n"
     ]
    }
   ],
   "source": [
    "print(my_string.find('B'))"
   ]
  },
  {
   "cell_type": "markdown",
   "metadata": {},
   "source": [
    "#### isalpha() перевіряє, чи рядок складається лише з літер."
   ]
  },
  {
   "cell_type": "code",
   "execution_count": 160,
   "metadata": {},
   "outputs": [
    {
     "name": "stdout",
     "output_type": "stream",
     "text": [
      "False\n"
     ]
    }
   ],
   "source": [
    "print(my_string.isalpha()) # False есть пробелы"
   ]
  },
  {
   "cell_type": "code",
   "execution_count": 161,
   "metadata": {},
   "outputs": [
    {
     "name": "stdout",
     "output_type": "stream",
     "text": [
      "True\n"
     ]
    }
   ],
   "source": [
    "my_string = \"Beautiful\"\n",
    "print(my_string.isalpha())"
   ]
  },
  {
   "cell_type": "markdown",
   "metadata": {},
   "source": [
    "#### isdigit() перевіряє, чи рядок складається лише з цифр.\n",
    "#### isalnum() перевіряє, чи рядок складається лише з цифр та з літер."
   ]
  },
  {
   "cell_type": "code",
   "execution_count": 162,
   "metadata": {},
   "outputs": [
    {
     "name": "stdout",
     "output_type": "stream",
     "text": [
      "True\n"
     ]
    }
   ],
   "source": [
    "my_string = '123456'\n",
    "print(my_string.isdigit())\n"
   ]
  },
  {
   "cell_type": "code",
   "execution_count": 163,
   "metadata": {},
   "outputs": [
    {
     "name": "stdout",
     "output_type": "stream",
     "text": [
      "isdigit False\n",
      "isalnum True\n"
     ]
    }
   ],
   "source": [
    "my_string = '123456O' # тут не нуль 0\n",
    "print('isdigit', my_string.isdigit())\n",
    "print('isalnum', my_string.isalnum())"
   ]
  },
  {
   "cell_type": "code",
   "execution_count": 164,
   "metadata": {},
   "outputs": [
    {
     "name": "stdout",
     "output_type": "stream",
     "text": [
      "isalnum False\n"
     ]
    }
   ],
   "source": [
    "my_string = '123456O!'\n",
    "print('isalnum', my_string.isalnum())"
   ]
  },
  {
   "cell_type": "code",
   "execution_count": 165,
   "metadata": {},
   "outputs": [
    {
     "name": "stdout",
     "output_type": "stream",
     "text": [
      "2023\n",
      "4\n"
     ]
    }
   ],
   "source": [
    "# Підрахувати кількість цифр у реченні\n",
    "text = \"Happy new 2023 year\"\n",
    "digit = 0\n",
    "\n",
    "for l in text:\n",
    "    if l.isdigit():\n",
    "        digit += 1\n",
    "        print(l, end='')\n",
    "print()\n",
    "\n",
    "print(digit)"
   ]
  },
  {
   "cell_type": "code",
   "execution_count": 166,
   "metadata": {},
   "outputs": [
    {
     "data": {
      "text/plain": [
       "2"
      ]
     },
     "execution_count": 166,
     "metadata": {},
     "output_type": "execute_result"
    }
   ],
   "source": [
    "text = \"Happy new 2023 year\"\n",
    "text.count('2')"
   ]
  },
  {
   "cell_type": "code",
   "execution_count": 167,
   "metadata": {
    "pycharm": {
     "name": "#%%\n"
    }
   },
   "outputs": [
    {
     "name": "stdout",
     "output_type": "stream",
     "text": [
      "islower False\n",
      "isupper False\n",
      "startswith True\n",
      "endswith True\n"
     ]
    }
   ],
   "source": [
    "my_string = 'Simple is better than complex.'регіст\n",
    "print('islower', my_string.islower()) # Всі літери в нижньому регістрі?\n",
    "print('isupper', my_string.isupper()) # Всі літери у верхньому регістрі?\n",
    "print('startswith', my_string.startswith('Si')) # Починається рядок із потрібних символів?\n",
    "print('endswith', my_string.endswith('ex.')) # Закінчується рядок із потрібними символами?"
   ]
  },
  {
   "cell_type": "code",
   "execution_count": 168,
   "metadata": {},
   "outputs": [
    {
     "name": "stdout",
     "output_type": "stream",
     "text": [
      "True\n"
     ]
    }
   ],
   "source": [
    "my_string = 'better than complex.'\n",
    "print(my_string.islower()) # Всі літери в нижньому регістрі"
   ]
  },
  {
   "cell_type": "code",
   "execution_count": 169,
   "metadata": {
    "pycharm": {
     "name": "#%%\n"
    }
   },
   "outputs": [
    {
     "name": "stdout",
     "output_type": "stream",
     "text": [
      "True\n"
     ]
    }
   ],
   "source": [
    "print('SIMPLE '.isupper()) # Всі літери у верхньому регістрі"
   ]
  },
  {
   "cell_type": "code",
   "execution_count": 170,
   "metadata": {
    "pycharm": {
     "name": "#%%\n"
    }
   },
   "outputs": [
    {
     "name": "stdout",
     "output_type": "stream",
     "text": [
      "True\n"
     ]
    }
   ],
   "source": [
    "my_string = 'Simple'\n",
    "print(my_string.istitle()) # Перший символ у верхньому, а решта у нижньому регістрі?\n"
   ]
  },
  {
   "cell_type": "markdown",
   "metadata": {},
   "source": [
    "#### zfill() заповнює рядки зліва нулями до вказаної ширини."
   ]
  },
  {
   "cell_type": "code",
   "execution_count": 171,
   "metadata": {},
   "outputs": [
    {
     "name": "stdout",
     "output_type": "stream",
     "text": [
      "str.zfill :  000000000000000000000000000023\n"
     ]
    }
   ],
   "source": [
    "string = \"23\"\n",
    "a = string.zfill(30)\n",
    "print (\"str.zfill : \", a)\n"
   ]
  },
  {
   "cell_type": "code",
   "execution_count": 172,
   "metadata": {
    "scrolled": true
   },
   "outputs": [
    {
     "name": "stdout",
     "output_type": "stream",
     "text": [
      "0123456789\n"
     ]
    }
   ],
   "source": [
    "print ('123456789'.zfill(10))"
   ]
  },
  {
   "cell_type": "code",
   "execution_count": 173,
   "metadata": {
    "scrolled": true
   },
   "outputs": [
    {
     "name": "stdout",
     "output_type": "stream",
     "text": [
      "00012345\n"
     ]
    }
   ],
   "source": [
    "print(str(12345).zfill(8))"
   ]
  },
  {
   "cell_type": "code",
   "execution_count": 174,
   "metadata": {},
   "outputs": [
    {
     "name": "stdout",
     "output_type": "stream",
     "text": [
      "112345678912121\n"
     ]
    }
   ],
   "source": [
    "print ('112345678912121'.zfill(10))"
   ]
  },
  {
   "cell_type": "markdown",
   "metadata": {},
   "source": [
    "### Модуль string"
   ]
  },
  {
   "cell_type": "code",
   "execution_count": 175,
   "metadata": {},
   "outputs": [
    {
     "name": "stdout",
     "output_type": "stream",
     "text": [
      "abcdefghijklmnopqrstuvwxyz\n"
     ]
    }
   ],
   "source": [
    "import string\n",
    "print(string.ascii_lowercase)"
   ]
  },
  {
   "cell_type": "code",
   "execution_count": 176,
   "metadata": {},
   "outputs": [
    {
     "name": "stdout",
     "output_type": "stream",
     "text": [
      "ABCDEFGHIJKLMNOPQRSTUVWXYZ\n"
     ]
    }
   ],
   "source": [
    "print(string.ascii_uppercase)"
   ]
  },
  {
   "cell_type": "code",
   "execution_count": 177,
   "metadata": {},
   "outputs": [
    {
     "name": "stdout",
     "output_type": "stream",
     "text": [
      "abcdefghijklmnopqrstuvwxyzABCDEFGHIJKLMNOPQRSTUVWXYZ\n"
     ]
    }
   ],
   "source": [
    "print(string.ascii_letters)"
   ]
  },
  {
   "cell_type": "code",
   "execution_count": 178,
   "metadata": {},
   "outputs": [
    {
     "name": "stdout",
     "output_type": "stream",
     "text": [
      "!\"#$%&'()*+,-./:;<=>?@[\\]^_`{|}~\n"
     ]
    }
   ],
   "source": [
    "print(string.punctuation)"
   ]
  },
  {
   "cell_type": "code",
   "execution_count": 179,
   "metadata": {},
   "outputs": [
    {
     "name": "stdout",
     "output_type": "stream",
     "text": [
      "0123456789\n"
     ]
    }
   ],
   "source": [
    "print(string.digits)"
   ]
  },
  {
   "cell_type": "code",
   "execution_count": 180,
   "metadata": {},
   "outputs": [
    {
     "name": "stdout",
     "output_type": "stream",
     "text": [
      "0123456789abcdefABCDEF\n"
     ]
    }
   ],
   "source": [
    "print(string.hexdigits)"
   ]
  },
  {
   "cell_type": "markdown",
   "metadata": {},
   "source": [
    "## Що таке ASCII або UTF-8 код символу\n",
    "\n",
    "Кожен символ має свій код. Справа в тому, що комп'ютер нічого не знає про символи, які ми використовуємо для письма. І для того, щоб навчити ПК нашим символам, пішли на наступний крок: кожному символу поставили у відповідність цифру, яка є його кодом.\n",
    "Тож з погляду ПК наш текст – це послідовність цифр. Перша така таблиця з відповідністю символу та числа, яке йому відповідає, називалася кодом символів ASCII (American Standard Code for Information Interchange). Однак, з часом, вона була замінена на UTF кодування."
   ]
  },
  {
   "cell_type": "code",
   "execution_count": 181,
   "metadata": {
    "scrolled": true
   },
   "outputs": [
    {
     "name": "stdout",
     "output_type": "stream",
     "text": [
      "46 6c 61 74 20 69 73 20 62 65 74 74 65 72 20 74 68 61 6e 20 6e 65 73 74 65 64 2e "
     ]
    }
   ],
   "source": [
    "text = \"Flat is better than nested.\"\n",
    "# Ось так цей рядок зберігається в пам'яті комп'ютера\n",
    "for letter in text:\n",
    "    print(str(hex(ord(letter)).replace('0x', '')), end =\" \")"
   ]
  },
  {
   "cell_type": "markdown",
   "metadata": {},
   "source": [
    "#### Функція ord повертає десяткове число, яке відповідає переданому символу, згідно з кодуванням UTF-8"
   ]
  },
  {
   "cell_type": "code",
   "execution_count": 182,
   "metadata": {},
   "outputs": [
    {
     "name": "stdout",
     "output_type": "stream",
     "text": [
      "97\n",
      "70\n"
     ]
    }
   ],
   "source": [
    "print(ord('a'))\n",
    "print(ord('F'))"
   ]
  },
  {
   "cell_type": "code",
   "execution_count": 183,
   "metadata": {},
   "outputs": [
    {
     "name": "stdout",
     "output_type": "stream",
     "text": [
      "0x46\n"
     ]
    }
   ],
   "source": [
    "print(hex(70)) # Перетворення десяткового числа, в шістнадцяткове\n"
   ]
  },
  {
   "cell_type": "markdown",
   "metadata": {},
   "source": [
    "##### Зовні, дві літери *І*, нічим одна від одної не відрізняються, але одна з латинської, а інша з кириличної абетки"
   ]
  },
  {
   "cell_type": "code",
   "execution_count": 184,
   "metadata": {},
   "outputs": [
    {
     "name": "stdout",
     "output_type": "stream",
     "text": [
      "73\n",
      "1030\n"
     ]
    }
   ],
   "source": [
    "print(ord('I'))\n",
    "print(ord('І'))"
   ]
  },
  {
   "cell_type": "code",
   "execution_count": 185,
   "metadata": {},
   "outputs": [
    {
     "name": "stdout",
     "output_type": "stream",
     "text": [
      "False\n"
     ]
    }
   ],
   "source": [
    "print('Надія' == 'Надiя')"
   ]
  },
  {
   "cell_type": "code",
   "execution_count": 186,
   "metadata": {},
   "outputs": [
    {
     "name": "stdout",
     "output_type": "stream",
     "text": [
      "1072\n",
      "1103\n",
      "1071\n"
     ]
    }
   ],
   "source": [
    "print(ord('а'))\n",
    "print(ord('я'))\n",
    "print(ord('Я'))"
   ]
  },
  {
   "cell_type": "markdown",
   "metadata": {},
   "source": [
    "#### Функція chr робить зворотне перетворення - вона отримує на вхід десяткове число, а повертає графічний символ відповідно до кодування UTF-8"
   ]
  },
  {
   "cell_type": "code",
   "execution_count": 187,
   "metadata": {},
   "outputs": [
    {
     "name": "stdout",
     "output_type": "stream",
     "text": [
      "А\n",
      "A\n"
     ]
    }
   ],
   "source": [
    "print(chr(1040))\n",
    "print(chr(65))"
   ]
  },
  {
   "cell_type": "markdown",
   "metadata": {},
   "source": [
    "#### Функція eval повертає результат виконання певної дії, записаної як рядок"
   ]
  },
  {
   "cell_type": "code",
   "execution_count": 188,
   "metadata": {},
   "outputs": [
    {
     "name": "stdout",
     "output_type": "stream",
     "text": [
      "124\n"
     ]
    }
   ],
   "source": [
    "print(eval('120 + 4'))"
   ]
  },
  {
   "cell_type": "code",
   "execution_count": 189,
   "metadata": {},
   "outputs": [
    {
     "name": "stdout",
     "output_type": "stream",
     "text": [
      "482.712\n"
     ]
    }
   ],
   "source": [
    "print(eval('120.678 * 4'))"
   ]
  },
  {
   "cell_type": "code",
   "execution_count": 190,
   "metadata": {
    "scrolled": true
   },
   "outputs": [
    {
     "name": "stdout",
     "output_type": "stream",
     "text": [
      "1.5\n"
     ]
    }
   ],
   "source": [
    "form = '({x} + {y})/ {y}'\n",
    "r1 = eval(form.format(x=5, y=10, z=5))\n",
    "print(r1)"
   ]
  },
  {
   "cell_type": "code",
   "execution_count": 191,
   "metadata": {},
   "outputs": [
    {
     "name": "stdout",
     "output_type": "stream",
     "text": [
      "0.015\n"
     ]
    }
   ],
   "source": [
    "form2 = '{r}/100'\n",
    "print(eval(form2.format(x=5, y=10, z=5, r=r1)))"
   ]
  },
  {
   "cell_type": "markdown",
   "metadata": {},
   "source": [
    "#### Функція exec приймає на вхід рядок, який містить команду (набір команд) і виконує її"
   ]
  },
  {
   "cell_type": "code",
   "execution_count": 192,
   "metadata": {},
   "outputs": [
    {
     "name": "stdout",
     "output_type": "stream",
     "text": [
      "OK\n"
     ]
    }
   ],
   "source": [
    "exec('print(\"OK\")') # Будьте обережні при використанні цієї функції"
   ]
  },
  {
   "cell_type": "markdown",
   "metadata": {},
   "source": [
    "#### Ще кілька прикладів форматування"
   ]
  },
  {
   "cell_type": "code",
   "execution_count": 193,
   "metadata": {},
   "outputs": [
    {
     "data": {
      "text/plain": [
       "'X: 3;  Y: 5'"
      ]
     },
     "execution_count": 193,
     "metadata": {},
     "output_type": "execute_result"
    }
   ],
   "source": [
    "coord = [3, 5]\n",
    "'X: {0[0]};  Y: {0[1]}'.format(coord)\n"
   ]
  },
  {
   "cell_type": "code",
   "execution_count": 194,
   "metadata": {},
   "outputs": [
    {
     "name": "stdout",
     "output_type": "stream",
     "text": [
      "X: 3;  Y: 5\n"
     ]
    }
   ],
   "source": [
    "print(f'X: {coord[0]};  Y: {coord[1]}')"
   ]
  },
  {
   "cell_type": "code",
   "execution_count": 195,
   "metadata": {
    "pycharm": {
     "name": "#%%\n"
    }
   },
   "outputs": [
    {
     "name": "stdout",
     "output_type": "stream",
     "text": [
      "WOW       \n",
      "       WOW\n",
      "   WOW    \n",
      "***WOW****\n"
     ]
    }
   ],
   "source": [
    "print('{:<10}'.format('WOW'))\n",
    "print('{:>10}'.format('WOW'))\n",
    "print('{:^10}'.format('WOW'))\n",
    "print('{:*^10}'.format('WOW'))  # use '*' as a fill char\n"
   ]
  },
  {
   "cell_type": "code",
   "execution_count": 196,
   "metadata": {
    "pycharm": {
     "name": "#%%\n"
    }
   },
   "outputs": [
    {
     "name": "stdout",
     "output_type": "stream",
     "text": [
      "|WOW       |\n",
      "|       WOW|\n",
      "|   WOW    |\n",
      "|***WOW****|\n"
     ]
    }
   ],
   "source": [
    "a = 'WOW'\n",
    "print(f'|{a:<10}|')\n",
    "print(f'|{a:>10}|')\n",
    "print(f'|{a:^10}|')\n",
    "print(f'|{a:*^10}|')  # use '*' as a fill char\n"
   ]
  },
  {
   "cell_type": "code",
   "execution_count": 197,
   "metadata": {
    "pycharm": {
     "name": "#%%\n"
    }
   },
   "outputs": [
    {
     "data": {
      "text/plain": [
       "'Correct answers: 88.63636%'"
      ]
     },
     "execution_count": 197,
     "metadata": {},
     "output_type": "execute_result"
    }
   ],
   "source": [
    "points = 19.5\n",
    "total = 22\n",
    "'Correct answers: {:.5%}'.format(points/total)"
   ]
  },
  {
   "cell_type": "markdown",
   "metadata": {},
   "source": [
    "#### Байти"
   ]
  },
  {
   "cell_type": "code",
   "execution_count": 198,
   "metadata": {},
   "outputs": [
    {
     "name": "stdout",
     "output_type": "stream",
     "text": [
      "b'Hello world'\n"
     ]
    }
   ],
   "source": [
    "text = 'Hello world'\n",
    "b_text = text.encode()\n",
    "print(b_text)"
   ]
  },
  {
   "cell_type": "code",
   "execution_count": 199,
   "metadata": {},
   "outputs": [
    {
     "name": "stdout",
     "output_type": "stream",
     "text": [
      "b'\\xd0\\x9f\\xd1\\x80\\xd0\\xb8\\xd0\\xb2\\xd1\\x96\\xd1\\x82, \\xd1\\x81\\xd0\\xb2\\xd1\\x96\\xd1\\x82!'\n"
     ]
    }
   ],
   "source": [
    "text = 'Привіт, світ!'\n",
    "b_text = text.encode('utf8')\n",
    "print(b_text)"
   ]
  },
  {
   "cell_type": "code",
   "execution_count": 200,
   "metadata": {},
   "outputs": [
    {
     "name": "stdout",
     "output_type": "stream",
     "text": [
      "Привіт, світ!\n"
     ]
    }
   ],
   "source": [
    "print(b_text.decode('utf8'))"
   ]
  },
  {
   "cell_type": "code",
   "execution_count": 201,
   "metadata": {},
   "outputs": [
    {
     "name": "stdout",
     "output_type": "stream",
     "text": [
      "РџСЂРёРІС–С‚, СЃРІС–С‚!\n"
     ]
    }
   ],
   "source": [
    "print(b_text.decode('windows-1251'))"
   ]
  },
  {
   "cell_type": "code",
   "execution_count": null,
   "metadata": {},
   "outputs": [],
   "source": []
  },
  {
   "cell_type": "code",
   "execution_count": null,
   "metadata": {},
   "outputs": [],
   "source": []
  },
  {
   "cell_type": "code",
   "execution_count": null,
   "metadata": {},
   "outputs": [],
   "source": []
  },
  {
   "cell_type": "code",
   "execution_count": null,
   "metadata": {},
   "outputs": [],
   "source": []
  },
  {
   "cell_type": "code",
   "execution_count": null,
   "metadata": {},
   "outputs": [],
   "source": []
  },
  {
   "cell_type": "code",
   "execution_count": null,
   "metadata": {},
   "outputs": [],
   "source": []
  },
  {
   "cell_type": "code",
   "execution_count": null,
   "metadata": {},
   "outputs": [],
   "source": []
  },
  {
   "cell_type": "code",
   "execution_count": null,
   "metadata": {},
   "outputs": [],
   "source": []
  }
 ],
 "metadata": {
  "kernelspec": {
   "display_name": "Python 3 (ipykernel)",
   "language": "python",
   "name": "python3"
  },
  "language_info": {
   "codemirror_mode": {
    "name": "ipython",
    "version": 3
   },
   "file_extension": ".py",
   "mimetype": "text/x-python",
   "name": "python",
   "nbconvert_exporter": "python",
   "pygments_lexer": "ipython3",
   "version": "3.12.4"
  }
 },
 "nbformat": 4,
 "nbformat_minor": 4
}
