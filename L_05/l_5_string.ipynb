{
 "cells": [
  {
   "cell_type": "markdown",
   "metadata": {
    "pycharm": {
     "name": "#%% md\n"
    }
   },
   "source": [
    "# Рядки"
   ]
  },
  {
   "cell_type": "markdown",
   "metadata": {
    "pycharm": {
     "name": "#%% md\n"
    }
   },
   "source": [
    "**Рядок** — це послідовність будь-яких символів укладених в лапки. У Python рядки відносяться до незмінного типу даних.\n",
    "Літерали рядків оголошуються як текст, укладений в одинарні, подвійні або потрійні лапки.\n",
    "Як і у разі списків, так і у разі рядків, позиція окремого символу відраховується від початку рядка.\n",
    "Первый символ строки имеет индекс 0. Обращение к отдельному элементу строки имеет такой же синтаксис, как и к элементу\n",
    "списка.\n"
   ]
  },
  {
   "cell_type": "code",
   "execution_count": null,
   "metadata": {},
   "outputs": [],
   "source": [
    "my_string_1 = 'I like Python'\n",
    "my_string_2 = \"I like Python\"\n",
    "my_string_3 = \"\"\"I like\n",
    "Python\"\"\""
   ]
  },
  {
   "cell_type": "code",
   "execution_count": null,
   "metadata": {},
   "outputs": [],
   "source": [
    "my_string_4 = 'He likes Python\" # SyntaxError рядок повинен починатися і закінчуватися однаковими лапками\n",
    "print(my_string_4)"
   ]
  },
  {
   "cell_type": "code",
   "execution_count": null,
   "metadata": {},
   "outputs": [],
   "source": [
    "my_string_1 = \"I 'like' Python\" # Якщо потрібні одинарні лапки всередині рядка\n",
    "print(my_string_1)\n",
    "\n",
    "my_string_1 = 'I \"like\" Python' # Якщо потрібні подвійні лапки всередині рядка\n",
    "print(my_string_1)\n",
    "\n",
    "my_string_1 = \"I \\\"like\\\" Python\" # За допомогою слеша, можна екранувати лапки\n",
    "print(my_string_1)\n",
    "# Потрійні подвійні лапки використовуються тоді, коли потрібний текст із перенесенням рядків\n",
    "my_string = \"\"\"Python\n",
    "\"\"is\"\"\n",
    "awesome\n",
    "\"\"\"\n",
    "print(my_string)"
   ]
  },
  {
   "cell_type": "code",
   "execution_count": null,
   "metadata": {},
   "outputs": [],
   "source": [
    "x = 'Hello'World' # SyntaxError"
   ]
  },
  {
   "cell_type": "code",
   "execution_count": null,
   "metadata": {},
   "outputs": [],
   "source": [
    "x = 'Hello\\'World'"
   ]
  },
  {
   "cell_type": "markdown",
   "metadata": {},
   "source": [
    "#### За допомогою функції str можна з будь-якого типу даних створити рядок"
   ]
  },
  {
   "cell_type": "code",
   "execution_count": null,
   "metadata": {},
   "outputs": [],
   "source": [
    "digits = str(3654)\n",
    "print(digits) # Виглядає як число, але це рядок\n",
    "print(type(digits))"
   ]
  },
  {
   "cell_type": "code",
   "execution_count": null,
   "metadata": {},
   "outputs": [],
   "source": [
    "# Коли рядок виглядає як ціле число, його можна перетворити саме до цілого числа за допомогою функції int\n",
    "digits = int(digits)  \n",
    "print(type(digits))"
   ]
  },
  {
   "cell_type": "code",
   "execution_count": null,
   "metadata": {
    "pycharm": {
     "name": "#%%\n"
    },
    "scrolled": true
   },
   "outputs": [],
   "source": [
    "lst = str(['w', 4, 5.6])\n",
    "print(lst) # Виглядає як список, але це рядок\n",
    "print(type(lst))\n",
    "\n"
   ]
  },
  {
   "cell_type": "code",
   "execution_count": null,
   "metadata": {},
   "outputs": [],
   "source": [
    "lst.append(2) # AttributeError: 'str' object has no attribute 'append'"
   ]
  },
  {
   "cell_type": "markdown",
   "metadata": {},
   "source": [
    "**Стандартною функцією list, немає можливості з рядка, який виглядає як список, отримати саме список**"
   ]
  },
  {
   "cell_type": "code",
   "execution_count": null,
   "metadata": {},
   "outputs": [],
   "source": [
    "list(lst)"
   ]
  },
  {
   "cell_type": "code",
   "execution_count": null,
   "metadata": {},
   "outputs": [],
   "source": [
    "# Рядки, як і будь-який інший тип даних, спочатку зберігаються у пам'яті комп'ютера\n",
    "my_string = \"Hello \\nworld\"\n",
    "print(my_string)\n",
    "my_string = \"Python\"\n",
    "print(id(my_string))\n",
    "my_string = \"JavaScript\"\n",
    "print(id(my_string))"
   ]
  },
  {
   "cell_type": "markdown",
   "metadata": {},
   "source": [
    "## Рядки мають часткову функціональність списків.\n",
    "А саме:\n",
    "\n",
    "1) Як і списки, рядки можна складати.\n",
    "\n",
    "2) Як і списки, рядки можна множити на ціле число.\n",
    "\n",
    "3) Як і у разі списків, доступ до елемента рядка для читання можливий за індексом. Також працюють зрізи."
   ]
  },
  {
   "cell_type": "code",
   "execution_count": null,
   "metadata": {},
   "outputs": [],
   "source": [
    "my_string = \"Python \" + \"is\" + \" awesome!\"\n",
    "print(my_string)"
   ]
  },
  {
   "cell_type": "code",
   "execution_count": null,
   "metadata": {},
   "outputs": [],
   "source": [
    "my_string = \"Go\" * 10\n",
    "print(my_string)"
   ]
  },
  {
   "cell_type": "code",
   "execution_count": null,
   "metadata": {},
   "outputs": [],
   "source": [
    "\n",
    "print('-' * 35)"
   ]
  },
  {
   "cell_type": "code",
   "execution_count": null,
   "metadata": {},
   "outputs": [],
   "source": [
    "# Отримання довжини рядка\n",
    "my_string = \"Python\"\n",
    "print(len(my_string))\n",
    "\n",
    "my_string = \"\"\n",
    "print(len(my_string))\n",
    "my_string = \" \"\n",
    "print(my_string)\n",
    "print(len(my_string))"
   ]
  },
  {
   "cell_type": "code",
   "execution_count": null,
   "metadata": {},
   "outputs": [],
   "source": [
    "print(len('\\n')) # 1 байт"
   ]
  },
  {
   "cell_type": "code",
   "execution_count": null,
   "metadata": {
    "scrolled": true
   },
   "outputs": [],
   "source": [
    "my_string = \"Python \"\n",
    "print(my_string)\n",
    "print(type(my_string))\n",
    "print(id(my_string))"
   ]
  },
  {
   "cell_type": "code",
   "execution_count": null,
   "metadata": {},
   "outputs": [],
   "source": [
    "my_string = \"Python\"\n",
    "print(id(my_string))"
   ]
  },
  {
   "cell_type": "code",
   "execution_count": null,
   "metadata": {},
   "outputs": [],
   "source": [
    "\"Python \" == \"Python\""
   ]
  },
  {
   "cell_type": "code",
   "execution_count": null,
   "metadata": {
    "pycharm": {
     "name": "#%%\n"
    }
   },
   "outputs": [],
   "source": [
    "# Доступ до елементів рядка за індексом\n",
    "my_string = \"Python is awesome\"\n",
    "print(my_string)\n",
    "print(my_string[0])\n",
    "print(my_string[1])\n",
    "print(my_string[2])\n",
    "print(my_string[3])\n",
    "print(my_string[4])\n",
    "print(my_string[5])\n",
    "print(my_string[6])"
   ]
  },
  {
   "cell_type": "code",
   "execution_count": null,
   "metadata": {},
   "outputs": [],
   "source": [
    "print(my_string[17]) # error"
   ]
  },
  {
   "cell_type": "code",
   "execution_count": null,
   "metadata": {
    "pycharm": {
     "name": "#%%\n"
    }
   },
   "outputs": [],
   "source": [
    "# Доступ до елементів рядка за негативним індексом\n",
    "print(len(my_string))\n",
    "print(my_string[len(my_string) - 1])\n",
    "print(my_string[-1])\n",
    "print(my_string[-2])\n",
    "print(my_string[-3])\n",
    "print(my_string[-4])\n",
    "print(my_string[-5])\n",
    "print(my_string[-6])"
   ]
  },
  {
   "cell_type": "code",
   "execution_count": null,
   "metadata": {
    "pycharm": {
     "name": "#%%\n"
    }
   },
   "outputs": [],
   "source": [
    "# Зрізи працюють так само як і в списках, тільки в результаті ми отримуємо новий рядок\n",
    "my_string1 = \"Python is awesome\"\n",
    "my_string = my_string1[:6]\n",
    "print(my_string)\n",
    "my_string = my_string1[7:9]\n",
    "print(my_string)\n",
    "print(my_string1[:])"
   ]
  },
  {
   "cell_type": "code",
   "execution_count": null,
   "metadata": {
    "pycharm": {
     "name": "#%%\n"
    }
   },
   "outputs": [],
   "source": [
    "my_string = \"123456789\"\n",
    "print(my_string)\n",
    "print(my_string[::2])\n",
    "print(my_string[::-1])"
   ]
  },
  {
   "cell_type": "markdown",
   "metadata": {},
   "source": [
    "#### Змінити символ за індексом НЕ МОЖНА! Рядки - незмінний тип"
   ]
  },
  {
   "cell_type": "code",
   "execution_count": null,
   "metadata": {
    "pycharm": {
     "name": "#%%\n"
    }
   },
   "outputs": [],
   "source": [
    "my_string[6] = \"N\" # TypeError: 'str' object does not support item assignment"
   ]
  },
  {
   "cell_type": "code",
   "execution_count": null,
   "metadata": {},
   "outputs": [],
   "source": [
    "# Можна схитрувати - зробити з рядка список і поміняти елемент там\n",
    "lst = list(my_string)\n",
    "lst[6] = \"N\"\n",
    "print(lst)\n",
    "як зібрати рядок зі списку? Про це буде далі "
   ]
  },
  {
   "cell_type": "code",
   "execution_count": null,
   "metadata": {},
   "outputs": [],
   "source": [
    "# Або можна скористатися конкатенацією рядків, розділяючи рядок на потрібні фрагменти\n",
    "\n",
    "my_string = my_string[:6] + 'N' + my_string[7:]\n",
    "print(my_string)"
   ]
  },
  {
   "cell_type": "code",
   "execution_count": null,
   "metadata": {},
   "outputs": [],
   "source": [
    "# Прохід по рядку за допомогою циклу for\n",
    "my_string = \"python\"\n",
    "for char in my_string:\n",
    "    print(char)"
   ]
  },
  {
   "cell_type": "code",
   "execution_count": null,
   "metadata": {
    "scrolled": true
   },
   "outputs": [],
   "source": [
    "# Перевірка наявності підрядка у рядку\n",
    "my_string = \"I like Python\"\n",
    "print(\"lik\" in my_string)\n",
    "print(\"e\" in my_string)"
   ]
  },
  {
   "cell_type": "code",
   "execution_count": null,
   "metadata": {},
   "outputs": [],
   "source": [
    "print(\"liek\" in my_string)"
   ]
  },
  {
   "cell_type": "markdown",
   "metadata": {},
   "source": [
    "## Методи характерні для рядків."
   ]
  },
  {
   "cell_type": "markdown",
   "metadata": {
    "pycharm": {
     "name": "#%% md\n"
    }
   },
   "source": [
    "#### upper() Підвищує регістр символів"
   ]
  },
  {
   "cell_type": "code",
   "execution_count": null,
   "metadata": {},
   "outputs": [],
   "source": [
    "my_string = \"I like Python\"\n",
    "my_string1 = my_string.upper() # Результат зберігаємо в іншій змінній\n",
    "print(my_string1)"
   ]
  },
  {
   "cell_type": "code",
   "execution_count": null,
   "metadata": {},
   "outputs": [],
   "source": [
    "print(my_string) # Початкова змінна залишилася незмінною"
   ]
  },
  {
   "cell_type": "markdown",
   "metadata": {},
   "source": [
    "#### lower() Знижує регістр символів"
   ]
  },
  {
   "cell_type": "code",
   "execution_count": null,
   "metadata": {
    "pycharm": {
     "name": "#%%\n"
    }
   },
   "outputs": [],
   "source": [
    "my_string = my_string.lower()\n",
    "print(my_string)\n",
    "''' Yes, YES, yes, yEs'''"
   ]
  },
  {
   "cell_type": "code",
   "execution_count": null,
   "metadata": {},
   "outputs": [],
   "source": [
    "'yES'.lower() == 'yes'"
   ]
  },
  {
   "cell_type": "markdown",
   "metadata": {},
   "source": [
    "#### title() Першу літеру кожного слова переводить у верхній регістр, а решта в нижній"
   ]
  },
  {
   "cell_type": "code",
   "execution_count": null,
   "metadata": {
    "pycharm": {
     "name": "#%%\n"
    }
   },
   "outputs": [],
   "source": [
    "my_string = my_string.title()\n",
    "print(my_string)"
   ]
  },
  {
   "cell_type": "markdown",
   "metadata": {},
   "source": [
    "#### swapcase() Перекладає символи нижнього регістру у верхній, а верхнього у нижній"
   ]
  },
  {
   "cell_type": "code",
   "execution_count": null,
   "metadata": {
    "pycharm": {
     "name": "#%%\n"
    }
   },
   "outputs": [],
   "source": [
    "my_string = my_string.swapcase()\n",
    "print(my_string)"
   ]
  },
  {
   "cell_type": "markdown",
   "metadata": {},
   "source": [
    "#### ljust(), rjust(), center() Робить довжину рядка не меншого width, за необхідності заповнюючи останні (перші) символи символом fillchar"
   ]
  },
  {
   "cell_type": "code",
   "execution_count": null,
   "metadata": {
    "scrolled": true
   },
   "outputs": [],
   "source": [
    "print('|', my_string.ljust(20, \"*\"), '|', sep='') # вирівнювання по лівому краю\n",
    "print('|', my_string.rjust(20), '|', sep='') # вирівнювання з правого краю\n",
    "print('|', my_string.center(20, \"-\"), '|', sep='') # вирівнювання по центру"
   ]
  },
  {
   "cell_type": "code",
   "execution_count": null,
   "metadata": {
    "scrolled": true
   },
   "outputs": [],
   "source": [
    " # нагадування про атрибут sep\n",
    "print(1,2,3)\n",
    "print(1, 2, 3, sep='')"
   ]
  },
  {
   "cell_type": "markdown",
   "metadata": {},
   "source": [
    "#### replace() замінити в рядку один підрядок на інший"
   ]
  },
  {
   "cell_type": "code",
   "execution_count": null,
   "metadata": {
    "scrolled": true
   },
   "outputs": [],
   "source": [
    "my_string = \"I like PHP, PHP, PHP,\"\n",
    "print(my_string)"
   ]
  },
  {
   "cell_type": "code",
   "execution_count": null,
   "metadata": {
    "pycharm": {
     "name": "#%%\n"
    }
   },
   "outputs": [],
   "source": [
    "my_string1 = my_string.replace(\"PHP\", \"Python\").replace(',', '!') # можна вказувати кілька методів поспіль\n",
    "print(my_string1)\n",
    "print(my_string) # оригінальний рядок не змінився\n"
   ]
  },
  {
   "cell_type": "code",
   "execution_count": null,
   "metadata": {},
   "outputs": [],
   "source": [
    "my_string = \"I like PHP, PHP, PHP,\"\n",
    "my_string1 = my_string.replace(\"PHP\", \"Python\", 1) # можна замінити не все, а лише певну кількість\n",
    "print(my_string1)"
   ]
  },
  {
   "cell_type": "code",
   "execution_count": null,
   "metadata": {},
   "outputs": [],
   "source": [
    "my_string1 = my_string.replace('****', '////') # якщо у рядку немає такого символу, то помилки все одно не буде!\n",
    "print(my_string1)\n"
   ]
  },
  {
   "cell_type": "markdown",
   "metadata": {},
   "source": [
    "#### split() розбити рядок на підрядки. В результаті ми отримаємо список\n"
   ]
  },
  {
   "cell_type": "code",
   "execution_count": null,
   "metadata": {
    "scrolled": true
   },
   "outputs": [],
   "source": [
    "\n",
    "my_string = \"I like   Python\"\n",
    "lst = my_string.split() # за замовчуванням, розбиття відбувається за пробілом та/або перенесенням рядка\n",
    "print(my_string)\n",
    "print(lst)"
   ]
  },
  {
   "cell_type": "code",
   "execution_count": null,
   "metadata": {},
   "outputs": [],
   "source": [
    "my_string = \"I like Python\"\n",
    "lst = my_string.split('i')\n",
    "print(lst)"
   ]
  },
  {
   "cell_type": "code",
   "execution_count": null,
   "metadata": {},
   "outputs": [],
   "source": [
    "my_string = \"I like Python\"\n",
    "lst = my_string.split('I')\n",
    "print(lst)"
   ]
  },
  {
   "cell_type": "code",
   "execution_count": null,
   "metadata": {},
   "outputs": [],
   "source": [
    "# Якщо в рядку немає символу, за яким потрібно зробити розбиття, ми все одно отримаємо список, \n",
    "#  і в ньому буде лише один елемент у вигляді початкового рядка.\n",
    "lst = my_string.split('w')\n",
    "print(my_string)\n",
    "print(lst)"
   ]
  },
  {
   "cell_type": "code",
   "execution_count": null,
   "metadata": {},
   "outputs": [],
   "source": [
    "lst = ''.split('7') # порожній список\n",
    "print(lst)"
   ]
  },
  {
   "cell_type": "code",
   "execution_count": null,
   "metadata": {
    "pycharm": {
     "name": "#%%\n"
    }
   },
   "outputs": [],
   "source": [
    "my_string = \" I like    Python \"\n",
    "lst = my_string.split(' ') # Вказувати прогалину в явному вигляді, не найкраща ідея\n",
    "print(my_string)\n",
    "print(lst)"
   ]
  },
  {
   "cell_type": "code",
   "execution_count": null,
   "metadata": {},
   "outputs": [],
   "source": [
    "my_string = \" I like    Python \"\n",
    "lst = my_string.split() # not empty elements\n",
    "print(my_string)\n",
    "print(lst)"
   ]
  },
  {
   "cell_type": "code",
   "execution_count": null,
   "metadata": {},
   "outputs": [],
   "source": [
    "my_string = \"\"\" I like\n",
    "Python \"\"\"\n",
    "lst = my_string.split() # not empty elements\n",
    "\n",
    "print(lst)"
   ]
  },
  {
   "cell_type": "code",
   "execution_count": null,
   "metadata": {},
   "outputs": [],
   "source": [
    "my_string = \" I like \\nPython \"\n",
    "lst = my_string.split()\n",
    "print(lst)"
   ]
  },
  {
   "cell_type": "code",
   "execution_count": null,
   "metadata": {
    "scrolled": true
   },
   "outputs": [],
   "source": [
    "print('lik' in lst) # пошук точно такого ж елемента"
   ]
  },
  {
   "cell_type": "code",
   "execution_count": null,
   "metadata": {},
   "outputs": [],
   "source": [
    "print('lik' in \" I like \\nPython \") # Пошук збігу такої послідовності символів"
   ]
  },
  {
   "cell_type": "markdown",
   "metadata": {},
   "source": [
    "#### join() Повертає рядок, зібраний з елементів зазначеного об'єкта, що підтримує ітерування."
   ]
  },
  {
   "cell_type": "code",
   "execution_count": null,
   "metadata": {},
   "outputs": [],
   "source": [
    "my_lst = ['I', 'like', 'Python']\n",
    "_string = \" \".join(my_lst) # пробіл, як символ для з'єднання елементів зі списку\n",
    "print(_string)\n",
    "\n"
   ]
  },
  {
   "cell_type": "code",
   "execution_count": null,
   "metadata": {},
   "outputs": [],
   "source": [
    "#lst = list(\"I like Python\")\n",
    "my_str = \"I like Python\" # рядок, це також об'єкт, що ітерується.\n",
    "\n",
    "_string = \"\".join(my_str)\n",
    "print(_string)"
   ]
  },
  {
   "cell_type": "code",
   "execution_count": null,
   "metadata": {
    "scrolled": true
   },
   "outputs": [],
   "source": [
    "string = \"-\".join(_string)\n",
    "print(string)"
   ]
  },
  {
   "cell_type": "markdown",
   "metadata": {},
   "source": [
    "##### символ для з'єднання буде додаватися лише між елементами"
   ]
  },
  {
   "cell_type": "code",
   "execution_count": null,
   "metadata": {
    "scrolled": true
   },
   "outputs": [],
   "source": [
    "string = \"-\".join('t')\n",
    "print(string)\n",
    "string = \"-\".join('tt')\n",
    "print(string)"
   ]
  },
  {
   "cell_type": "code",
   "execution_count": null,
   "metadata": {},
   "outputs": [],
   "source": [
    "# варіант того, як можна зібрати рядок із елементів списку\n",
    "lst = list(\"123456789\")\n",
    "lst[6] = \"N\"\n",
    "print(\"\".join(lst))"
   ]
  },
  {
   "cell_type": "code",
   "execution_count": null,
   "metadata": {
    "scrolled": true
   },
   "outputs": [],
   "source": [
    "my_string = \"I \" + \"like\" + \" Python\"\n",
    "print(my_string)\n",
    "\n",
    "my_string = \"-\".join(my_string)\n",
    "print(my_string)"
   ]
  },
  {
   "cell_type": "code",
   "execution_count": null,
   "metadata": {
    "scrolled": true
   },
   "outputs": [],
   "source": [
    "lst = [2, 3, 5] # join працює тільки з типом даних \"рядок\"\n",
    "print(\"\".join(lst))"
   ]
  },
  {
   "cell_type": "code",
   "execution_count": null,
   "metadata": {},
   "outputs": [],
   "source": [
    "x = \"\".join([str(y) for y in lst]) # варіант того, як можна \"на льоту\" перевести число в рядок\n",
    "print(x)\n",
    "print(type(x))"
   ]
  },
  {
   "cell_type": "code",
   "execution_count": null,
   "metadata": {},
   "outputs": [],
   "source": [
    "x = int(x) # з цифр у списку ми \"склеїли\" число\n",
    "print(type(x))\n",
    "print(x)"
   ]
  },
  {
   "cell_type": "markdown",
   "metadata": {},
   "source": [
    "#### strip() Повертає копію рядка, з обох кінців якого усунуті зазначені символи. За замовчуванням забираються пробіли"
   ]
  },
  {
   "cell_type": "code",
   "execution_count": null,
   "metadata": {},
   "outputs": [],
   "source": [
    "my_string = \"   I like Python!          \"\n",
    "print(my_string)"
   ]
  },
  {
   "cell_type": "code",
   "execution_count": null,
   "metadata": {},
   "outputs": [],
   "source": [
    "my_string = my_string.strip()\n",
    "print(my_string)"
   ]
  },
  {
   "cell_type": "code",
   "execution_count": null,
   "metadata": {},
   "outputs": [],
   "source": [
    "my_string = my_string.strip(\"!\")\n",
    "print(my_string)"
   ]
  },
  {
   "cell_type": "code",
   "execution_count": null,
   "metadata": {
    "pycharm": {
     "name": "#%%\n"
    }
   },
   "outputs": [],
   "source": [
    "my_string = \"I like Python! \"\n",
    "my_string = my_string.strip(\"!\") # does not work\n",
    "print(my_string)"
   ]
  },
  {
   "cell_type": "code",
   "execution_count": null,
   "metadata": {},
   "outputs": [],
   "source": [
    "my_string = \"@I like Python!\"\n",
    "print(my_string)\n",
    "my_string = my_string.lstrip(\"@\") # lstrip прибирає зліва\n",
    "print(my_string)\n",
    "my_string = my_string.rstrip(\"!\") # rstrip прибирає праворуч\n",
    "print(my_string)"
   ]
  },
  {
   "cell_type": "code",
   "execution_count": null,
   "metadata": {},
   "outputs": [],
   "source": [
    "my_string = \"   I like Python!          \"\n",
    "my_string = my_string.strip().strip(\"!\").replace('i', 'I')\n",
    "print(my_string)"
   ]
  },
  {
   "cell_type": "markdown",
   "metadata": {
    "pycharm": {
     "name": "#%% md\n"
    }
   },
   "source": [
    "#### Форматування рядків"
   ]
  },
  {
   "cell_type": "code",
   "execution_count": null,
   "metadata": {},
   "outputs": [],
   "source": [
    "my_string = \"Привіт \"\n",
    "name = \"Алекс\"\n",
    "print(my_string + name + '!') # Найпростіший варіант - конкатенація рядків"
   ]
  },
  {
   "cell_type": "code",
   "execution_count": null,
   "metadata": {
    "scrolled": true
   },
   "outputs": [],
   "source": [
    "name = \"Алекс\"\n",
    "my_string = \"Привіт %s! %s ти як?\"\n",
    "print(my_string % (name, name)) #За допомогою модифікатора %"
   ]
  },
  {
   "cell_type": "code",
   "execution_count": null,
   "metadata": {
    "pycharm": {
     "name": "#%%\n"
    }
   },
   "outputs": [],
   "source": [
    "age = '25'\n",
    "my_string = \"Привіт %d\" # TypeError: %d format: a number is required, not str\n",
    "print(my_string % age)"
   ]
  },
  {
   "cell_type": "code",
   "execution_count": null,
   "metadata": {},
   "outputs": [],
   "source": [
    "age = 25\n",
    "my_string = \"Привіт %s\" \n",
    "print(my_string % age)"
   ]
  },
  {
   "cell_type": "code",
   "execution_count": null,
   "metadata": {},
   "outputs": [],
   "source": [
    "name = \"Ана\"\n",
    "my_string = \"Привіт {}\"\n",
    "\n",
    "print(my_string.format(name)) #За допомогою методу format\n"
   ]
  },
  {
   "cell_type": "code",
   "execution_count": null,
   "metadata": {},
   "outputs": [],
   "source": [
    "tmplt = \"Hello, I am {0}. And my name is {0}\" #У фігурних дужках можна вказувати місце розташування потрібного аргументу\n",
    "text = tmplt.format(\"Alexander\")\n",
    "print(text)"
   ]
  },
  {
   "cell_type": "markdown",
   "metadata": {},
   "source": [
    "##### Якщо нічого не вказано, то аргументи підставляються у відповідність до розташування - для перших дужок відповідає перший аргумент, для других - другий, і т.д. Так зазначаються позиційні аргументи."
   ]
  },
  {
   "cell_type": "code",
   "execution_count": null,
   "metadata": {},
   "outputs": [],
   "source": [
    "text = \"Hello, I am {}. I am {} years old\".format(\"Alexander\", 36)\n",
    "print(text)"
   ]
  },
  {
   "cell_type": "code",
   "execution_count": null,
   "metadata": {
    "scrolled": true
   },
   "outputs": [],
   "source": [
    "text = \"Hello, I am {}. I am {} years old\".format(36, \"Alexander\")\n",
    "print(text)"
   ]
  },
  {
   "cell_type": "markdown",
   "metadata": {},
   "source": [
    "##### У фігурних дужках можна вказати ім'я, яке надалі має бути вказане у методі формат. Так зазначаються іменовані аргументи."
   ]
  },
  {
   "cell_type": "code",
   "execution_count": null,
   "metadata": {
    "pycharm": {
     "name": "#%%\n"
    }
   },
   "outputs": [],
   "source": [
    "name1 = \"Ана\"\n",
    "tmp = \"Привіт {name}{important}\"\n",
    "my_string = tmp.format(important=\"!\", name=name1)\n",
    "print(my_string)"
   ]
  },
  {
   "cell_type": "code",
   "execution_count": null,
   "metadata": {},
   "outputs": [],
   "source": [
    "name1 = \"Ана\"\n",
    "tmp = \"Привіт {name}{important}\"\n",
    "# Якщо у фігурних дужках є імена, а методі не вказати іменовані аргументи, буде помилка KeyError \n",
    "my_string = tmp.format(name1, \"!\")\n",
    "print(my_string)"
   ]
  },
  {
   "cell_type": "code",
   "execution_count": null,
   "metadata": {},
   "outputs": [],
   "source": [
    "text = \"Hello, I am {name}. I am {age} years old\"\n",
    "#Місце розташування іменованих аргументів, значення не має\n",
    "print(text.format(name=\"Alexander\", age=36))\n",
    "print(text.format(age=36, name=\"Alexander\"))"
   ]
  },
  {
   "cell_type": "code",
   "execution_count": null,
   "metadata": {},
   "outputs": [],
   "source": [
    "text = \"Hello, I am {1}. I am {0} years old\".format(36, \"Alexander\", 23)"
   ]
  },
  {
   "cell_type": "code",
   "execution_count": null,
   "metadata": {},
   "outputs": [],
   "source": [
    "text = \"Hello, I am {name}. I am {age} years old\"\n",
    "# Якщо аргументів буде більше, ніж потрібно, то це ні на що не вплине\n",
    "print(text.format(age=36, name=\"Alexander\", x=10)) "
   ]
  },
  {
   "cell_type": "markdown",
   "metadata": {},
   "source": [
    "#### f-рядки"
   ]
  },
  {
   "cell_type": "code",
   "execution_count": null,
   "metadata": {
    "pycharm": {
     "name": "#%%\n"
    }
   },
   "outputs": [],
   "source": [
    "name = \"Алекс\"\n",
    "my_string = f\"Привіт {name}!\"\n",
    "print(my_string)"
   ]
  },
  {
   "cell_type": "code",
   "execution_count": null,
   "metadata": {},
   "outputs": [],
   "source": [
    "\n",
    "my_string = f\"Привіт {name2}!\"\n",
    "name2 = \"Петро\"\n",
    "print(my_string)"
   ]
  },
  {
   "cell_type": "code",
   "execution_count": null,
   "metadata": {},
   "outputs": [],
   "source": [
    "name_1 = \"Ана\"\n",
    "name_2 = \"Влад\"\n",
    "my_string = f\"Привіт {name.upper()}, {name_1 + name_2}, {name_2.lower()}!\"\n",
    "print(my_string)"
   ]
  },
  {
   "cell_type": "code",
   "execution_count": null,
   "metadata": {},
   "outputs": [],
   "source": [
    "# Приклад використання специфікатора формату для заокруглення речового числа\n",
    "import math\n",
    "print(math.pi)\n",
    "text = \"Pi = {:.4f}\".format(math.pi)\n",
    "print(text)"
   ]
  },
  {
   "cell_type": "markdown",
   "metadata": {},
   "source": [
    "При форматуванні числа в рядок можна встановити паддинг - заповнення нулями до потрібної довжини."
   ]
  },
  {
   "cell_type": "code",
   "execution_count": null,
   "metadata": {},
   "outputs": [],
   "source": [
    "'{}fhfhfhfhfh{:05d}'.format('name', 215)"
   ]
  },
  {
   "cell_type": "markdown",
   "metadata": {},
   "source": [
    "А якщо паддинг теж заданий змінної? У такому разі ми можемо додати форматування цієї змінної всередині першого формату. Порядок змінних слід вказувати в порядку поява дужки, що відкривається."
   ]
  },
  {
   "cell_type": "code",
   "execution_count": null,
   "metadata": {},
   "outputs": [],
   "source": [
    "'{}_v{:0{}d}'.format('some string', 215, 6)"
   ]
  },
  {
   "cell_type": "code",
   "execution_count": null,
   "metadata": {},
   "outputs": [],
   "source": [
    "# З іменами змінних більш зрозуміло\n",
    "'{name}_v{val:0{dgt}d}'.format(name='some string', val=1, dgt=5)"
   ]
  },
  {
   "cell_type": "code",
   "execution_count": null,
   "metadata": {},
   "outputs": [],
   "source": [
    "# Філософія Пайтон\n",
    "import this\n"
   ]
  },
  {
   "cell_type": "markdown",
   "metadata": {},
   "source": [
    "#### find() Повертає найменший індекс, за яким виявляється початок зазначеної підрядки у вихідному."
   ]
  },
  {
   "cell_type": "code",
   "execution_count": null,
   "metadata": {},
   "outputs": [],
   "source": [
    "my_string = \"Beautiful is better than ugly\"\n",
    "ind = my_string.find('e')\n",
    "print(ind)\n",
    "print(my_string.count('e')) # повертає кількість входжень підрядка sub в діапазоні [start, end]\n",
    "\n"
   ]
  },
  {
   "cell_type": "code",
   "execution_count": null,
   "metadata": {},
   "outputs": [],
   "source": [
    "ind = my_string.find('e', ind + 1) # Пошук індексу наступного елемента\n",
    "print(ind)\n",
    "print(my_string.find('e', ind + 1))"
   ]
  },
  {
   "cell_type": "markdown",
   "metadata": {},
   "source": [
    "##### Якщо елемента більше немає в рядку, то помилки не буде!"
   ]
  },
  {
   "cell_type": "code",
   "execution_count": null,
   "metadata": {},
   "outputs": [],
   "source": [
    "print(my_string.find('e', 20))"
   ]
  },
  {
   "cell_type": "code",
   "execution_count": null,
   "metadata": {
    "scrolled": true
   },
   "outputs": [],
   "source": [
    "print(my_string.find('!'))"
   ]
  },
  {
   "cell_type": "code",
   "execution_count": null,
   "metadata": {},
   "outputs": [],
   "source": [
    "print(my_string.find('B'))"
   ]
  },
  {
   "cell_type": "markdown",
   "metadata": {},
   "source": [
    "#### isalpha() перевіряє, чи рядок складається лише з літер."
   ]
  },
  {
   "cell_type": "code",
   "execution_count": null,
   "metadata": {},
   "outputs": [],
   "source": [
    "print(my_string.isalpha()) # False есть пробелы"
   ]
  },
  {
   "cell_type": "code",
   "execution_count": null,
   "metadata": {},
   "outputs": [],
   "source": [
    "my_string = \"Beautiful\"\n",
    "print(my_string.isalpha())"
   ]
  },
  {
   "cell_type": "markdown",
   "metadata": {},
   "source": [
    "#### isdigit() перевіряє, чи рядок складається лише з цифр.\n",
    "#### isalnum() перевіряє, чи рядок складається лише з цифр та з літер."
   ]
  },
  {
   "cell_type": "code",
   "execution_count": null,
   "metadata": {},
   "outputs": [],
   "source": [
    "my_string = '123456'\n",
    "print(my_string.isdigit())\n"
   ]
  },
  {
   "cell_type": "code",
   "execution_count": null,
   "metadata": {},
   "outputs": [],
   "source": [
    "my_string = '123456O' # тут не нуль 0\n",
    "print('isdigit', my_string.isdigit())\n",
    "print('isalnum', my_string.isalnum())"
   ]
  },
  {
   "cell_type": "code",
   "execution_count": null,
   "metadata": {},
   "outputs": [],
   "source": [
    "my_string = '123456O!'\n",
    "print('isalnum', my_string.isalnum())"
   ]
  },
  {
   "cell_type": "code",
   "execution_count": null,
   "metadata": {},
   "outputs": [],
   "source": [
    "# Підрахувати кількість цифр у реченні\n",
    "text = \"Happy new 2023 year\"\n",
    "digit = 0\n",
    "\n",
    "for l in text:\n",
    "    if l.isdigit():\n",
    "        digit += 1\n",
    "        print(l, end='')\n",
    "print()\n",
    "\n",
    "print(digit)"
   ]
  },
  {
   "cell_type": "code",
   "execution_count": null,
   "metadata": {},
   "outputs": [],
   "source": [
    "text = \"Happy new 2023 year\"\n",
    "text.count('2')"
   ]
  },
  {
   "cell_type": "code",
   "execution_count": null,
   "metadata": {
    "pycharm": {
     "name": "#%%\n"
    }
   },
   "outputs": [],
   "source": [
    "my_string = 'Simple is better than complex.'\n",
    "print('islower', my_string.islower()) # Всі літери в нижньому регістрі?\n",
    "print('isupper', my_string.isupper()) # Всі літери у верхньому регістрі?\n",
    "print('startswith', my_string.startswith('Si')) # Починається рядок із потрібних символів?\n",
    "print('endswith', my_string.endswith('ex.')) # Закінчується рядок із потрібними символами?"
   ]
  },
  {
   "cell_type": "code",
   "execution_count": null,
   "metadata": {},
   "outputs": [],
   "source": [
    "my_string = 'better than complex.'\n",
    "print(my_string.islower()) # Всі літери в нижньому регістрі"
   ]
  },
  {
   "cell_type": "code",
   "execution_count": null,
   "metadata": {
    "pycharm": {
     "name": "#%%\n"
    }
   },
   "outputs": [],
   "source": [
    "print('SIMPLE '.isupper()) # Всі літери у верхньому регістрі"
   ]
  },
  {
   "cell_type": "code",
   "execution_count": null,
   "metadata": {
    "pycharm": {
     "name": "#%%\n"
    }
   },
   "outputs": [],
   "source": [
    "my_string = 'Simple'\n",
    "print(my_string.istitle()) # Перший символ у верхньому, а решта у нижньому регістрі?\n"
   ]
  },
  {
   "cell_type": "markdown",
   "metadata": {},
   "source": [
    "#### zfill() заповнює рядки зліва нулями до вказаної ширини."
   ]
  },
  {
   "cell_type": "code",
   "execution_count": null,
   "metadata": {},
   "outputs": [],
   "source": [
    "string = \"23\"\n",
    "a = string.zfill(30)\n",
    "print (\"str.zfill : \", a)\n"
   ]
  },
  {
   "cell_type": "code",
   "execution_count": null,
   "metadata": {
    "scrolled": true
   },
   "outputs": [],
   "source": [
    "print ('123456789'.zfill(10))"
   ]
  },
  {
   "cell_type": "code",
   "execution_count": null,
   "metadata": {
    "scrolled": true
   },
   "outputs": [],
   "source": [
    "print(str(12345).zfill(8))"
   ]
  },
  {
   "cell_type": "code",
   "execution_count": null,
   "metadata": {},
   "outputs": [],
   "source": [
    "print ('112345678912121'.zfill(10))"
   ]
  },
  {
   "cell_type": "markdown",
   "metadata": {},
   "source": [
    "### Модуль string"
   ]
  },
  {
   "cell_type": "code",
   "execution_count": null,
   "metadata": {},
   "outputs": [],
   "source": [
    "import string\n",
    "print(string.ascii_lowercase)"
   ]
  },
  {
   "cell_type": "code",
   "execution_count": null,
   "metadata": {},
   "outputs": [],
   "source": [
    "print(string.ascii_uppercase)"
   ]
  },
  {
   "cell_type": "code",
   "execution_count": null,
   "metadata": {},
   "outputs": [],
   "source": [
    "print(string.ascii_letters)"
   ]
  },
  {
   "cell_type": "code",
   "execution_count": null,
   "metadata": {},
   "outputs": [],
   "source": [
    "print(string.punctuation)"
   ]
  },
  {
   "cell_type": "code",
   "execution_count": null,
   "metadata": {},
   "outputs": [],
   "source": [
    "print(string.digits)"
   ]
  },
  {
   "cell_type": "code",
   "execution_count": null,
   "metadata": {},
   "outputs": [],
   "source": [
    "print(string.hexdigits)"
   ]
  },
  {
   "cell_type": "markdown",
   "metadata": {},
   "source": [
    "## Що таке ASCII або UTF-8 код символу\n",
    "\n",
    "Кожен символ має свій код. Справа в тому, що комп'ютер нічого не знає про символи, які ми використовуємо для письма. І для того, щоб навчити ПК нашим символам, пішли на наступний крок: кожному символу поставили у відповідність цифру, яка є його кодом.\n",
    "Тож з погляду ПК наш текст – це послідовність цифр. Перша така таблиця з відповідністю символу та числа, яке йому відповідає, називалася кодом символів ASCII (American Standard Code for Information Interchange). Однак, з часом, вона була замінена на UTF кодування."
   ]
  },
  {
   "cell_type": "code",
   "execution_count": null,
   "metadata": {
    "scrolled": true
   },
   "outputs": [],
   "source": [
    "text = \"Flat is better than nested.\"\n",
    "# Ось так цей рядок зберігається в пам'яті комп'ютера\n",
    "for letter in text:\n",
    "    print(str(hex(ord(letter)).replace('0x', '')), end =\" \")"
   ]
  },
  {
   "cell_type": "markdown",
   "metadata": {},
   "source": [
    "#### Функція ord повертає десяткове число, яке відповідає переданому символу, згідно з кодуванням UTF-8"
   ]
  },
  {
   "cell_type": "code",
   "execution_count": null,
   "metadata": {},
   "outputs": [],
   "source": [
    "print(ord('a'))\n",
    "print(ord('F'))"
   ]
  },
  {
   "cell_type": "code",
   "execution_count": null,
   "metadata": {},
   "outputs": [],
   "source": [
    "print(hex(70)) # Перетворення десяткового числа, в шістнадцяткове\n"
   ]
  },
  {
   "cell_type": "markdown",
   "metadata": {},
   "source": [
    "##### Зовні, дві літери *І*, нічим одна від одної не відрізняються, але одна з латинської, а інша з кириличної абетки"
   ]
  },
  {
   "cell_type": "code",
   "execution_count": null,
   "metadata": {},
   "outputs": [],
   "source": [
    "print(ord('I'))\n",
    "print(ord('І'))"
   ]
  },
  {
   "cell_type": "code",
   "execution_count": null,
   "metadata": {},
   "outputs": [],
   "source": [
    "print('Надія' == 'Надiя')"
   ]
  },
  {
   "cell_type": "code",
   "execution_count": null,
   "metadata": {},
   "outputs": [],
   "source": [
    "print(ord('а'))\n",
    "print(ord('я'))\n",
    "print(ord('Я'))"
   ]
  },
  {
   "cell_type": "markdown",
   "metadata": {},
   "source": [
    "#### Функція chr робить зворотне перетворення - вона отримує на вхід десяткове число, а повертає графічний символ відповідно до кодування UTF-8"
   ]
  },
  {
   "cell_type": "code",
   "execution_count": null,
   "metadata": {},
   "outputs": [],
   "source": [
    "print(chr(1040))\n",
    "print(chr(65))"
   ]
  },
  {
   "cell_type": "markdown",
   "metadata": {},
   "source": [
    "#### Функція eval повертає результат виконання певної дії, записаної як рядок"
   ]
  },
  {
   "cell_type": "code",
   "execution_count": null,
   "metadata": {},
   "outputs": [],
   "source": [
    "print(eval('120 + 4'))"
   ]
  },
  {
   "cell_type": "code",
   "execution_count": null,
   "metadata": {},
   "outputs": [],
   "source": [
    "print(eval('120.678 * 4'))"
   ]
  },
  {
   "cell_type": "code",
   "execution_count": null,
   "metadata": {
    "scrolled": true
   },
   "outputs": [],
   "source": [
    "form = '({x} + {y})/ {y}'\n",
    "r1 = eval(form.format(x=5, y=10, z=5))\n",
    "print(r1)"
   ]
  },
  {
   "cell_type": "code",
   "execution_count": null,
   "metadata": {},
   "outputs": [],
   "source": [
    "form2 = '{r}/100'\n",
    "print(eval(form2.format(x=5, y=10, z=5, r=r1)))"
   ]
  },
  {
   "cell_type": "markdown",
   "metadata": {},
   "source": [
    "#### Функція exec приймає на вхід рядок, який містить команду (набір команд) і виконує її"
   ]
  },
  {
   "cell_type": "code",
   "execution_count": null,
   "metadata": {},
   "outputs": [],
   "source": [
    "exec('print(\"OK\")') # Будьте обережні при використанні цієї функції"
   ]
  },
  {
   "cell_type": "markdown",
   "metadata": {},
   "source": [
    "#### Ще кілька прикладів форматування"
   ]
  },
  {
   "cell_type": "code",
   "execution_count": null,
   "metadata": {},
   "outputs": [],
   "source": [
    "coord = [3, 5]\n",
    "'X: {0[0]};  Y: {0[1]}'.format(coord)\n"
   ]
  },
  {
   "cell_type": "code",
   "execution_count": null,
   "metadata": {},
   "outputs": [],
   "source": [
    "print(f'X: {coord[0]};  Y: {coord[1]}')"
   ]
  },
  {
   "cell_type": "code",
   "execution_count": null,
   "metadata": {
    "pycharm": {
     "name": "#%%\n"
    }
   },
   "outputs": [],
   "source": [
    "print('{:<10}'.format('WOW'))\n",
    "print('{:>10}'.format('WOW'))\n",
    "print('{:^10}'.format('WOW'))\n",
    "print('{:*^10}'.format('WOW'))  # use '*' as a fill char\n"
   ]
  },
  {
   "cell_type": "code",
   "execution_count": null,
   "metadata": {
    "pycharm": {
     "name": "#%%\n"
    }
   },
   "outputs": [],
   "source": [
    "a = 'WOW'\n",
    "print(f'|{a:<10}|')\n",
    "print(f'|{a:>10}|')\n",
    "print(f'|{a:^10}|')\n",
    "print(f'|{a:*^10}|')  # use '*' as a fill char\n"
   ]
  },
  {
   "cell_type": "code",
   "execution_count": null,
   "metadata": {
    "pycharm": {
     "name": "#%%\n"
    }
   },
   "outputs": [],
   "source": [
    "points = 19.5\n",
    "total = 22\n",
    "'Correct answers: {:.5%}'.format(points/total)"
   ]
  },
  {
   "cell_type": "markdown",
   "metadata": {},
   "source": [
    "#### Байти"
   ]
  },
  {
   "cell_type": "code",
   "execution_count": null,
   "metadata": {},
   "outputs": [],
   "source": [
    "text = 'Hello world'\n",
    "b_text = text.encode()\n",
    "print(b_text)"
   ]
  },
  {
   "cell_type": "code",
   "execution_count": null,
   "metadata": {},
   "outputs": [],
   "source": [
    "text = 'Привіт, світ!'\n",
    "b_text = text.encode('utf8')\n",
    "print(b_text)"
   ]
  },
  {
   "cell_type": "code",
   "execution_count": null,
   "metadata": {},
   "outputs": [],
   "source": [
    "print(b_text.decode('utf8'))"
   ]
  },
  {
   "cell_type": "code",
   "execution_count": null,
   "metadata": {},
   "outputs": [],
   "source": [
    "print(b_text.decode('windows-1251'))"
   ]
  }
 ],
 "metadata": {
  "kernelspec": {
   "display_name": "Python 3 (ipykernel)",
   "language": "python",
   "name": "python3"
  },
  "language_info": {
   "codemirror_mode": {
    "name": "ipython",
    "version": 3
   },
   "file_extension": ".py",
   "mimetype": "text/x-python",
   "name": "python",
   "nbconvert_exporter": "python",
   "pygments_lexer": "ipython3",
   "version": "3.10.12"
  }
 },
 "nbformat": 4,
 "nbformat_minor": 4
}
